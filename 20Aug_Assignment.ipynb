{
 "cells": [
  {
   "cell_type": "markdown",
   "id": "2d686f71-a0a7-4249-854b-2835a4f387b1",
   "metadata": {},
   "source": [
    "TOPIC: String Based Assignment Problem"
   ]
  },
  {
   "cell_type": "markdown",
   "id": "c7d6f228-9288-4e84-8aa4-775ee06c37bf",
   "metadata": {},
   "source": [
    "1. Write a program to reverse a string."
   ]
  },
  {
   "cell_type": "code",
   "execution_count": 22,
   "id": "08bf0553-7aa3-4375-aa52-e50eb6dd23ec",
   "metadata": {},
   "outputs": [
    {
     "name": "stdin",
     "output_type": "stream",
     "text": [
      "Enter a string: 10\n"
     ]
    }
   ],
   "source": [
    "s1 = input(\"Enter a string:\")"
   ]
  },
  {
   "cell_type": "code",
   "execution_count": 23,
   "id": "827767cf-d162-40ec-9e5f-f9e574788933",
   "metadata": {},
   "outputs": [
    {
     "data": {
      "text/plain": [
       "'01'"
      ]
     },
     "execution_count": 23,
     "metadata": {},
     "output_type": "execute_result"
    }
   ],
   "source": [
    "s2=s1[-1::-1]\n",
    "s2"
   ]
  },
  {
   "cell_type": "markdown",
   "id": "0f944782-6b2f-4625-90a5-45c19a8d0257",
   "metadata": {},
   "source": [
    "2. Check if a string is a palindrome."
   ]
  },
  {
   "cell_type": "code",
   "execution_count": 9,
   "id": "c1926776-14c4-4b95-bce3-61ecb25bb1b5",
   "metadata": {},
   "outputs": [
    {
     "name": "stdin",
     "output_type": "stream",
     "text": [
      "Enter a string: 12345652\n"
     ]
    }
   ],
   "source": [
    "s3=input(\"Enter a string:\")"
   ]
  },
  {
   "cell_type": "code",
   "execution_count": 10,
   "id": "4623f6ac-3ef0-4bdf-915f-73e3064e59ea",
   "metadata": {},
   "outputs": [
    {
     "name": "stdout",
     "output_type": "stream",
     "text": [
      "Not a pallindrome\n"
     ]
    }
   ],
   "source": [
    "if (s3[-1::-1]==s3):\n",
    "    print(\"it is a pallindrome\")\n",
    "else: print(\"Not a pallindrome\")"
   ]
  },
  {
   "cell_type": "markdown",
   "id": "4e87cd3e-3442-4cbf-b022-0178ad5b2c6a",
   "metadata": {},
   "source": [
    "3. Convert a string to uppercase."
   ]
  },
  {
   "cell_type": "code",
   "execution_count": 11,
   "id": "409ab725-1d17-49eb-b417-3922a75e84b3",
   "metadata": {},
   "outputs": [
    {
     "name": "stdin",
     "output_type": "stream",
     "text": [
      "Enter a string: my name is khan\n"
     ]
    }
   ],
   "source": [
    "s4 = input(\"Enter a string:\")"
   ]
  },
  {
   "cell_type": "code",
   "execution_count": 12,
   "id": "598045bf-6d37-4326-9c0e-f4444aee5b69",
   "metadata": {},
   "outputs": [
    {
     "data": {
      "text/plain": [
       "'MY NAME IS KHAN'"
      ]
     },
     "execution_count": 12,
     "metadata": {},
     "output_type": "execute_result"
    }
   ],
   "source": [
    "s5=s4.upper()\n",
    "s5"
   ]
  },
  {
   "cell_type": "markdown",
   "id": "967f89f0-cf7e-4c14-a573-595220210e95",
   "metadata": {},
   "source": [
    "4. Convert a string to lowercase."
   ]
  },
  {
   "cell_type": "code",
   "execution_count": 13,
   "id": "9b7e89b3-e2a3-4441-9d0d-a9231e655049",
   "metadata": {},
   "outputs": [
    {
     "name": "stdin",
     "output_type": "stream",
     "text": [
      "Enter a string: MY NAME IS KHAN\n"
     ]
    }
   ],
   "source": [
    "s6 = input(\"Enter a string:\")"
   ]
  },
  {
   "cell_type": "code",
   "execution_count": 14,
   "id": "121de89f-a211-4f83-9241-77b241884d91",
   "metadata": {},
   "outputs": [
    {
     "data": {
      "text/plain": [
       "'my name is khan'"
      ]
     },
     "execution_count": 14,
     "metadata": {},
     "output_type": "execute_result"
    }
   ],
   "source": [
    "s7=s6.lower()\n",
    "s7"
   ]
  },
  {
   "cell_type": "markdown",
   "id": "ec9cea71-81e5-4cd7-839c-70944fda0604",
   "metadata": {},
   "source": [
    "5. Count the number of vowels in a string."
   ]
  },
  {
   "cell_type": "markdown",
   "id": "a3e9d753-69e4-4f1d-9641-3ef323a7c410",
   "metadata": {},
   "source": [
    "6. Count the number of consonants in a string.( Both 5 and 6 solve together)"
   ]
  },
  {
   "cell_type": "code",
   "execution_count": 20,
   "id": "ab482d2c-c4a2-4fbc-baee-85c5f39a0741",
   "metadata": {},
   "outputs": [
    {
     "name": "stdin",
     "output_type": "stream",
     "text": [
      "Enter a string: this is the best keyboard\n"
     ]
    }
   ],
   "source": [
    "s8 = input(\"Enter a string:\")"
   ]
  },
  {
   "cell_type": "code",
   "execution_count": 21,
   "id": "ce7ca2a0-01fb-441c-b985-94b5bedd828e",
   "metadata": {},
   "outputs": [
    {
     "name": "stdout",
     "output_type": "stream",
     "text": [
      "Number of vowels are:\n",
      "7\n",
      "Number of consonants are:\n",
      "18\n"
     ]
    }
   ],
   "source": [
    "vowels = 0\n",
    "consonants=0\n",
    "for i in s8 :\n",
    "    if(i=='a' or i=='e' or i=='i' or i=='o' or i=='u' or i=='A' or i=='E' or i=='I' or i=='O' or i=='U'):\n",
    "        vowels+=1\n",
    "    else:\n",
    "        consonants+=1\n",
    "print(\"Number of vowels are:\")\n",
    "print(vowels)\n",
    "print(\"Number of consonants are:\")\n",
    "print(consonants)"
   ]
  },
  {
   "cell_type": "markdown",
   "id": "533f180f-e91d-42ae-9746-2c6ba4838b1c",
   "metadata": {},
   "source": [
    "7. Remove all whitespaces from a string."
   ]
  },
  {
   "cell_type": "code",
   "execution_count": 22,
   "id": "c3d329ca-ee9c-4ea2-b138-4f3b11bd00be",
   "metadata": {},
   "outputs": [
    {
     "name": "stdin",
     "output_type": "stream",
     "text": [
      "Enter a string: my name is new tata motors\n"
     ]
    }
   ],
   "source": [
    "s9=input(\"Enter a string:\")"
   ]
  },
  {
   "cell_type": "code",
   "execution_count": 25,
   "id": "ab5d23c5-dd1f-40fe-b68a-7833b15b6846",
   "metadata": {},
   "outputs": [
    {
     "data": {
      "text/plain": [
       "'mynameisnewtatamotors'"
      ]
     },
     "execution_count": 25,
     "metadata": {},
     "output_type": "execute_result"
    }
   ],
   "source": [
    "s10= s9.replace(' ','')\n",
    "s10"
   ]
  },
  {
   "cell_type": "markdown",
   "id": "edf9474c-cd81-4d0b-8faf-9d064329562f",
   "metadata": {},
   "source": [
    "8. Find the length of a string without using the `len()` function."
   ]
  },
  {
   "cell_type": "code",
   "execution_count": 26,
   "id": "c64829df-3c5a-4d6e-a39f-15aa47aadb1d",
   "metadata": {},
   "outputs": [
    {
     "name": "stdin",
     "output_type": "stream",
     "text": [
      "Enter a string: i am taking course from pwskills\n"
     ]
    }
   ],
   "source": [
    "s11=input(\"Enter a string:\")"
   ]
  },
  {
   "cell_type": "code",
   "execution_count": 29,
   "id": "c3f58e79-6359-47ba-96f9-453e3872a615",
   "metadata": {},
   "outputs": [
    {
     "name": "stdout",
     "output_type": "stream",
     "text": [
      "32\n"
     ]
    }
   ],
   "source": [
    "count =0\n",
    "for i in s11:\n",
    "    count+=1\n",
    "print(count)"
   ]
  },
  {
   "cell_type": "markdown",
   "id": "4a64e9f5-b3e3-4a5d-9b55-35edc6ee7452",
   "metadata": {},
   "source": [
    "9. Check if a string contains a specific word."
   ]
  },
  {
   "cell_type": "code",
   "execution_count": 30,
   "id": "ce149937-451d-4a8b-b1ce-af807f6571e4",
   "metadata": {},
   "outputs": [
    {
     "name": "stdin",
     "output_type": "stream",
     "text": [
      "Enter a string: technologies\n"
     ]
    }
   ],
   "source": [
    "s12=input(\"Enter a string:\")"
   ]
  },
  {
   "cell_type": "code",
   "execution_count": 34,
   "id": "432b63b7-cf1e-468e-9c7a-11308682a2e8",
   "metadata": {},
   "outputs": [
    {
     "name": "stdin",
     "output_type": "stream",
     "text": [
      "Enter a word to check: no\n"
     ]
    }
   ],
   "source": [
    "word = input(\"Enter a word to check:\")"
   ]
  },
  {
   "cell_type": "code",
   "execution_count": 35,
   "id": "eea98717-fde1-4a41-84c0-f16114a036eb",
   "metadata": {},
   "outputs": [
    {
     "name": "stdout",
     "output_type": "stream",
     "text": [
      "Word is present\n"
     ]
    }
   ],
   "source": [
    "if word in s12: print(\"Word is present\")\n",
    "else: print(\"Not present\")"
   ]
  },
  {
   "cell_type": "markdown",
   "id": "e6351d2d-d903-4671-b3d3-8a3478d76525",
   "metadata": {},
   "source": [
    "10. Replace a word in a string with another word."
   ]
  },
  {
   "cell_type": "code",
   "execution_count": 36,
   "id": "d226a0c9-6c67-44f4-a069-b4b603bd6464",
   "metadata": {},
   "outputs": [
    {
     "name": "stdin",
     "output_type": "stream",
     "text": [
      "Enter a string: technologies\n",
      "Enter a word to be replaced: o\n",
      "Enter a word to be replaced with a\n"
     ]
    }
   ],
   "source": [
    "s13=input(\"Enter a string:\")\n",
    "word_replace =input(\"Enter a word to be replaced:\")\n",
    "word_replace_with= input(\"Enter a word to be replaced with\")"
   ]
  },
  {
   "cell_type": "code",
   "execution_count": 38,
   "id": "513a5388-864b-40fb-8e1d-9baabc6f6aba",
   "metadata": {},
   "outputs": [
    {
     "data": {
      "text/plain": [
       "'technalagies'"
      ]
     },
     "execution_count": 38,
     "metadata": {},
     "output_type": "execute_result"
    }
   ],
   "source": [
    "s14= s13.replace(word_replace,word_replace_with)\n",
    "s14"
   ]
  },
  {
   "cell_type": "markdown",
   "id": "31e4cef1-94c9-47a5-bdb5-aa63b54b72f0",
   "metadata": {},
   "source": [
    "11.Count the occurrences of a word in a string."
   ]
  },
  {
   "cell_type": "code",
   "execution_count": 40,
   "id": "23e41ce7-75a7-4d53-bd75-76d18fece53a",
   "metadata": {},
   "outputs": [
    {
     "name": "stdin",
     "output_type": "stream",
     "text": [
      "Enter a string: my name is mayank\n",
      "Enter word whose occurence to be counted: a\n"
     ]
    }
   ],
   "source": [
    "s14=input(\"Enter a string:\")\n",
    "word_occ= input(\"Enter word whose occurence to be counted:\")"
   ]
  },
  {
   "cell_type": "code",
   "execution_count": 43,
   "id": "ba9d2807-7fe3-4d36-b390-9b105ca0eff7",
   "metadata": {},
   "outputs": [
    {
     "name": "stdout",
     "output_type": "stream",
     "text": [
      "Number of times word occured:3\n"
     ]
    }
   ],
   "source": [
    "print(\"Number of times word occured:\" + str(s14.count(word_occ)))"
   ]
  },
  {
   "cell_type": "markdown",
   "id": "625720d5-221b-47e6-b786-2c5bbf2ccff6",
   "metadata": {},
   "source": [
    "12. Find the first occurrence of a word in a string."
   ]
  },
  {
   "cell_type": "code",
   "execution_count": 8,
   "id": "bbbfa586-6370-43bd-b2da-d9e88fdfcd5b",
   "metadata": {},
   "outputs": [
    {
     "name": "stdin",
     "output_type": "stream",
     "text": [
      "Enter a string: newyork\n",
      "Enter word: z\n"
     ]
    }
   ],
   "source": [
    "s15=input(\"Enter a string:\")\n",
    "word_1occ= input(\"Enter word:\")"
   ]
  },
  {
   "cell_type": "code",
   "execution_count": 11,
   "id": "c21f888a-e77f-4bea-ad27-530a5d1c74a1",
   "metadata": {},
   "outputs": [
    {
     "name": "stdout",
     "output_type": "stream",
     "text": [
      "Word not present\n"
     ]
    }
   ],
   "source": [
    "if word_1occ in s15:\n",
    "    print(\"Word present at location: \"+ str(s15.index(word_1occ)))\n",
    "else:\n",
    "    print(\"Word not present\")"
   ]
  },
  {
   "cell_type": "markdown",
   "id": "4e04c1d1-663f-4fb4-9816-eeabc4d2f24a",
   "metadata": {},
   "source": [
    "13. Find the last occurrence of a word in a string."
   ]
  },
  {
   "cell_type": "code",
   "execution_count": 13,
   "id": "b2edc268-cbf6-48d7-96ea-af955bb601ea",
   "metadata": {},
   "outputs": [
    {
     "name": "stdin",
     "output_type": "stream",
     "text": [
      "Enter a string: telephonic conversations\n",
      "Enter word: n\n"
     ]
    }
   ],
   "source": [
    "s16=input(\"Enter a string:\")\n",
    "word_2occ= input(\"Enter word:\")"
   ]
  },
  {
   "cell_type": "code",
   "execution_count": 15,
   "id": "0acb112f-e781-4672-9bfa-846d4165dee7",
   "metadata": {},
   "outputs": [
    {
     "name": "stdout",
     "output_type": "stream",
     "text": [
      "Word's last location: 22\n"
     ]
    }
   ],
   "source": [
    "if word_2occ in s15:\n",
    "    print(\"Word's last location: \"+ str(s16.rfind(word_2occ)))\n",
    "else:\n",
    "    print(\"Word not present\")"
   ]
  },
  {
   "cell_type": "markdown",
   "id": "60c24a8c-e1a8-4f1e-9029-365499d16296",
   "metadata": {},
   "source": [
    "14. Split a string into a list of words."
   ]
  },
  {
   "cell_type": "code",
   "execution_count": 29,
   "id": "e12641a1-baf2-4c7e-9e8a-1c7da432d8e1",
   "metadata": {},
   "outputs": [
    {
     "name": "stdin",
     "output_type": "stream",
     "text": [
      "Enter a string: telephone\n"
     ]
    }
   ],
   "source": [
    "s17=input(\"Enter a string:\")"
   ]
  },
  {
   "cell_type": "code",
   "execution_count": 32,
   "id": "f83910ce-838e-4ff5-a04e-9f26bacf7a40",
   "metadata": {},
   "outputs": [
    {
     "data": {
      "text/plain": [
       "['t', 'e', 'l', 'e', 'p', 'h', 'o', 'n', 'e']"
      ]
     },
     "execution_count": 32,
     "metadata": {},
     "output_type": "execute_result"
    }
   ],
   "source": [
    "l1=list(s17)\n",
    "l1"
   ]
  },
  {
   "cell_type": "markdown",
   "id": "20abd3a5-64c2-407d-9519-a26b7b8721d4",
   "metadata": {},
   "source": [
    "15. Join a list of words into a string."
   ]
  },
  {
   "cell_type": "code",
   "execution_count": 19,
   "id": "0c42b473-3a95-4801-9ff8-5a6578fefc8d",
   "metadata": {},
   "outputs": [],
   "source": [
    "l2 =['t','w','i','l','i','g','h','t']"
   ]
  },
  {
   "cell_type": "code",
   "execution_count": 20,
   "id": "14c2559b-1557-45ca-8445-bbd24d6b987c",
   "metadata": {},
   "outputs": [
    {
     "data": {
      "text/plain": [
       "['t', 'w', 'i', 'l', 'i', 'g', 'h', 't']"
      ]
     },
     "execution_count": 20,
     "metadata": {},
     "output_type": "execute_result"
    }
   ],
   "source": [
    "l2"
   ]
  },
  {
   "cell_type": "code",
   "execution_count": 28,
   "id": "0d17db78-ca83-4d8c-8edf-af295c446ae8",
   "metadata": {},
   "outputs": [
    {
     "data": {
      "text/plain": [
       "'twilight'"
      ]
     },
     "execution_count": 28,
     "metadata": {},
     "output_type": "execute_result"
    }
   ],
   "source": [
    "''.join(l2)"
   ]
  },
  {
   "cell_type": "markdown",
   "id": "10937e93-8290-4e36-9e28-145cbfca729e",
   "metadata": {},
   "source": [
    "16. Convert a string where words are separated by spaces to one where words\n",
    "are separated by underscores."
   ]
  },
  {
   "cell_type": "code",
   "execution_count": 33,
   "id": "603fa090-4bde-41f8-9227-d4073912e08b",
   "metadata": {},
   "outputs": [
    {
     "name": "stdin",
     "output_type": "stream",
     "text": [
      "Enter a string: this is a sentence\n"
     ]
    }
   ],
   "source": [
    "s18=input(\"Enter a string:\")"
   ]
  },
  {
   "cell_type": "code",
   "execution_count": 34,
   "id": "fec99494-cfb4-4813-948c-539ad759ce0f",
   "metadata": {},
   "outputs": [
    {
     "data": {
      "text/plain": [
       "'this_is_a_sentence'"
      ]
     },
     "execution_count": 34,
     "metadata": {},
     "output_type": "execute_result"
    }
   ],
   "source": [
    "s18= s18.replace(' ','_')\n",
    "s18"
   ]
  },
  {
   "cell_type": "markdown",
   "id": "3037953d-69ba-4bbe-b856-0d8e0709f28e",
   "metadata": {},
   "source": [
    "17. Check if a string starts with a specific word or phrase."
   ]
  },
  {
   "cell_type": "code",
   "execution_count": 3,
   "id": "d6ef3faa-dc11-4743-bb57-d3305f88f884",
   "metadata": {},
   "outputs": [
    {
     "name": "stdin",
     "output_type": "stream",
     "text": [
      "Enter a string: my name is khan\n",
      "Enter word: zom\n"
     ]
    }
   ],
   "source": [
    "s18=input(\"Enter a string:\")\n",
    "start_word= input(\"Enter word:\")"
   ]
  },
  {
   "cell_type": "code",
   "execution_count": 4,
   "id": "0ee75868-fff4-4147-be2c-83d31873dcda",
   "metadata": {},
   "outputs": [
    {
     "name": "stdout",
     "output_type": "stream",
     "text": [
      "Word does not start with prefix,\n"
     ]
    }
   ],
   "source": [
    "if s18.startswith(start_word):\n",
    "    print(\"Word starts with prefix\")\n",
    "else :\n",
    "    print(\"Word does not start with prefix\")"
   ]
  },
  {
   "cell_type": "markdown",
   "id": "c887cfe0-899c-477e-80b3-a9f073f558c3",
   "metadata": {},
   "source": [
    "18. Check if a string ends with a specific word or phrase."
   ]
  },
  {
   "cell_type": "code",
   "execution_count": 5,
   "id": "e2e324e3-1fb4-4921-bf28-601d08b5ac7e",
   "metadata": {},
   "outputs": [
    {
     "name": "stdin",
     "output_type": "stream",
     "text": [
      "Enter a string: my name is mayank\n",
      "Enter word: k\n"
     ]
    }
   ],
   "source": [
    "s19=input(\"Enter a string:\")\n",
    "end_word= input(\"Enter word:\")"
   ]
  },
  {
   "cell_type": "code",
   "execution_count": 6,
   "id": "e7530966-0634-49c5-9c1b-351655ddc97e",
   "metadata": {},
   "outputs": [
    {
     "name": "stdout",
     "output_type": "stream",
     "text": [
      "Word end with suffix\n"
     ]
    }
   ],
   "source": [
    "if s19.endswith(end_word):\n",
    "    print(\"Word end with suffix\")\n",
    "else:\n",
    "    print(\"Word does not end with suffix\")"
   ]
  },
  {
   "cell_type": "markdown",
   "id": "36703bd1-fd46-4e6d-a0b1-ac67b12541cd",
   "metadata": {},
   "source": [
    "19. Convert a string to title case"
   ]
  },
  {
   "cell_type": "code",
   "execution_count": 7,
   "id": "21317386-d9b0-408e-8539-6d7456e633ad",
   "metadata": {},
   "outputs": [
    {
     "name": "stdin",
     "output_type": "stream",
     "text": [
      "enter a string: this is pwskills lab\n"
     ]
    }
   ],
   "source": [
    "s20 = input(\"enter a string:\")"
   ]
  },
  {
   "cell_type": "code",
   "execution_count": 8,
   "id": "2b736182-6765-4867-98fa-8b4e721e8b79",
   "metadata": {},
   "outputs": [
    {
     "data": {
      "text/plain": [
       "'This Is Pwskills Lab'"
      ]
     },
     "execution_count": 8,
     "metadata": {},
     "output_type": "execute_result"
    }
   ],
   "source": [
    "s20=s20.title()\n",
    "s20"
   ]
  },
  {
   "cell_type": "markdown",
   "id": "34218c9f-a2ce-4e64-b94e-da8381470dc3",
   "metadata": {},
   "source": [
    "20. Find the longest word in a string."
   ]
  },
  {
   "cell_type": "code",
   "execution_count": 9,
   "id": "6394cef2-36cf-454b-853e-c2045e6942f5",
   "metadata": {},
   "outputs": [
    {
     "name": "stdin",
     "output_type": "stream",
     "text": [
      "Enter a sentence: this is a telephonic conversation\n"
     ]
    }
   ],
   "source": [
    "sentence = input(\"Enter a sentence:\")"
   ]
  },
  {
   "cell_type": "code",
   "execution_count": 20,
   "id": "7cd1cd90-4875-4827-a34f-684e3d9eb07d",
   "metadata": {},
   "outputs": [
    {
     "name": "stdout",
     "output_type": "stream",
     "text": [
      "Longest Word is :conversation\n"
     ]
    }
   ],
   "source": [
    "max_length= 0\n",
    "longest_word = \"\"\n",
    "words = sentence.split()\n",
    "\n",
    "for word in words:\n",
    "    if len(word)>max_length:\n",
    "        max_length = len(word)\n",
    "        longest_word = word\n",
    "print(\"Longest Word is :\"+ longest_word)"
   ]
  },
  {
   "cell_type": "markdown",
   "id": "8b6f529c-e4e0-4bce-aba2-cf3787dfdb6e",
   "metadata": {},
   "source": [
    "21. Find the shortest word in a string."
   ]
  },
  {
   "cell_type": "code",
   "execution_count": 19,
   "id": "a0e02d95-c59c-4580-9c92-f4edae1f4731",
   "metadata": {},
   "outputs": [
    {
     "name": "stdin",
     "output_type": "stream",
     "text": [
      "Enter a sentence: this is a telephonic conversation\n"
     ]
    }
   ],
   "source": [
    "enter_string = input(\"Enter a sentence:\")"
   ]
  },
  {
   "cell_type": "code",
   "execution_count": 21,
   "id": "7ea418cd-7b3f-4b27-b8e8-bc55b9eae78f",
   "metadata": {},
   "outputs": [
    {
     "name": "stdout",
     "output_type": "stream",
     "text": [
      "shortest word is :a\n"
     ]
    }
   ],
   "source": [
    "min_length = float('inf')\n",
    "shortest_word = None\n",
    "sht =enter_string.split()\n",
    "for word in sht:\n",
    "    if len(word)< min_length:\n",
    "        min_length = len(word)\n",
    "        shortest_word = word\n",
    "print(\"shortest word is :\"+ shortest_word)\n",
    "\n",
    "            "
   ]
  },
  {
   "cell_type": "markdown",
   "id": "9da3a9a9-55a1-4df5-98fb-f346dec7d93e",
   "metadata": {},
   "source": [
    "22.Reverse the order of words in a string."
   ]
  },
  {
   "cell_type": "code",
   "execution_count": 36,
   "id": "95de7b52-ed3f-4fba-9dc5-48c5eee64add",
   "metadata": {},
   "outputs": [
    {
     "name": "stdin",
     "output_type": "stream",
     "text": [
      "Enter a statement: my name is khan\n"
     ]
    }
   ],
   "source": [
    "new_23 = input(\"Enter a statement:\")"
   ]
  },
  {
   "cell_type": "code",
   "execution_count": 44,
   "id": "d7186281-90f5-4c1e-b2c9-84691b892b82",
   "metadata": {},
   "outputs": [
    {
     "name": "stdout",
     "output_type": "stream",
     "text": [
      "Reverse sentence is:khan is name my\n"
     ]
    }
   ],
   "source": [
    "words=new_23.split()\n",
    "reverse = ' '.join(reversed(words))\n",
    "print(\"Reverse sentence is:\" + reverse)"
   ]
  },
  {
   "cell_type": "markdown",
   "id": "efec0b61-446f-4fff-9bab-e90292892ad2",
   "metadata": {},
   "source": [
    "23. Check if a string is alphanumeric."
   ]
  },
  {
   "cell_type": "code",
   "execution_count": 45,
   "id": "f0a44e09-cf02-4ff0-9b16-b96f2a119835",
   "metadata": {},
   "outputs": [
    {
     "name": "stdin",
     "output_type": "stream",
     "text": [
      "Enter a statement: alphanumeric124\n"
     ]
    }
   ],
   "source": [
    "new_24 = input(\"Enter a statement:\")"
   ]
  },
  {
   "cell_type": "code",
   "execution_count": 47,
   "id": "352db2ef-49b6-4879-8c5d-5ab348fd31a3",
   "metadata": {},
   "outputs": [
    {
     "name": "stdout",
     "output_type": "stream",
     "text": [
      "String is alpha numeric\n"
     ]
    }
   ],
   "source": [
    "if new_24.isalnum():\n",
    "    print(\"String is alpha numeric\")\n",
    "else:\n",
    "    print(\"Not alphanumeric\")"
   ]
  },
  {
   "cell_type": "markdown",
   "id": "6b1c526b-d65b-44ab-a21e-1f728c85bcfc",
   "metadata": {},
   "source": [
    "24. Extract all digits from a string."
   ]
  },
  {
   "cell_type": "code",
   "execution_count": 59,
   "id": "8f84f3db-a8e9-4d08-b7b7-90147505bbc9",
   "metadata": {},
   "outputs": [
    {
     "name": "stdout",
     "output_type": "stream",
     "text": [
      "Extracted Digits are:12365\n"
     ]
    }
   ],
   "source": [
    "def extractedDigits(text):\n",
    "    digits=\"\"\n",
    "    for char in text :\n",
    "        if char.isdigit():\n",
    "            digits+=char\n",
    "    return digits\n",
    "\n",
    "string24 = \"mYnameis123whoserollnois65\"\n",
    "Extracted_Digits = extractedDigits(string24)\n",
    "print(\"Extracted Digits are:\"+Extracted_Digits)"
   ]
  },
  {
   "cell_type": "markdown",
   "id": "622bfbc7-b40e-44b9-9658-a9508dc1509c",
   "metadata": {},
   "source": [
    "25. Extract all alphabets from a string."
   ]
  },
  {
   "cell_type": "code",
   "execution_count": 62,
   "id": "f95f0409-44c9-44b5-aa42-381488a559d8",
   "metadata": {},
   "outputs": [
    {
     "name": "stdout",
     "output_type": "stream",
     "text": [
      "Extracted Alphabets are: thisisofmykingdoms\n"
     ]
    }
   ],
   "source": [
    "def extractAlpha(text):\n",
    "    alpha=\"\"\n",
    "    for i in text:\n",
    "        if i.isalpha():\n",
    "            alpha+=i\n",
    "    return alpha\n",
    "\n",
    "string25= \"this is 24 of my 47 kingdoms\"\n",
    "Extracted_Alpha = extractAlpha(string25)\n",
    "print(\"Extracted Alphabets are: \"+ Extracted_Alpha)"
   ]
  },
  {
   "cell_type": "markdown",
   "id": "a88dbcd4-4df3-44d3-b74c-b97effc6f7b8",
   "metadata": {},
   "source": [
    "26. Count the number of uppercase letters in a string."
   ]
  },
  {
   "cell_type": "code",
   "execution_count": 64,
   "id": "d970e9ce-87ca-4e38-b2bb-20ad55c0c685",
   "metadata": {},
   "outputs": [
    {
     "name": "stdout",
     "output_type": "stream",
     "text": [
      "Number of upper case letters :5\n"
     ]
    }
   ],
   "source": [
    "def countUpper(text):\n",
    "    count=0\n",
    "    for i in text:\n",
    "        if i.isupper():\n",
    "            count+=1\n",
    "    return count\n",
    "s26 = \"ThisisNEwIndiA\"\n",
    "count_upper= countUpper(s26)\n",
    "print(\"Number of upper case letters :\"+ str(count_upper))"
   ]
  },
  {
   "cell_type": "markdown",
   "id": "2876c62f-a2db-4f0a-bade-875526da0162",
   "metadata": {},
   "source": [
    "27.Count the number of lowercase letters in a string."
   ]
  },
  {
   "cell_type": "code",
   "execution_count": 66,
   "id": "098f9db0-3204-4a84-bda7-6880103f1a9b",
   "metadata": {},
   "outputs": [
    {
     "name": "stdout",
     "output_type": "stream",
     "text": [
      "Number of Lower case letters :9\n"
     ]
    }
   ],
   "source": [
    "def countLower(text):\n",
    "    count=0\n",
    "    for i in text:\n",
    "        if i.islower():\n",
    "            count+=1\n",
    "    return count\n",
    "s27 = \"ThisisNEwIndiA\"\n",
    "count_lower= countLower(s27)\n",
    "print(\"Number of Lower case letters :\"+ str(count_lower))"
   ]
  },
  {
   "cell_type": "markdown",
   "id": "1e98a939-27ae-41f6-9fe7-2b5be40f59a1",
   "metadata": {},
   "source": [
    "28. Swap the case of each character in a string."
   ]
  },
  {
   "cell_type": "code",
   "execution_count": 68,
   "id": "1f11ac35-2d91-475b-b2a2-92802dabdbef",
   "metadata": {},
   "outputs": [
    {
     "name": "stdout",
     "output_type": "stream",
     "text": [
      "Case swapped Text :mY nAME IS kHAN\n"
     ]
    }
   ],
   "source": [
    "def Swap_char(text):\n",
    "    swap_txt=\"\"\n",
    "    for i in text:\n",
    "        if i.isupper():\n",
    "            i=i.lower()\n",
    "            swap_txt+=i\n",
    "        else:\n",
    "            i=i.upper()\n",
    "            swap_txt+=i\n",
    "    return swap_txt\n",
    "\n",
    "s28=\"My Name is Khan\"\n",
    "Swapped_Text = Swap_char(s28)\n",
    "print(\"Case swapped Text :\"+ Swapped_Text)"
   ]
  },
  {
   "cell_type": "markdown",
   "id": "8e04231f-23d5-4520-b1ae-0a393d31137a",
   "metadata": {},
   "source": [
    "29. Remove a specific word from a string."
   ]
  },
  {
   "cell_type": "code",
   "execution_count": 72,
   "id": "3992d350-8c8d-4662-ac0f-c06521d23d0d",
   "metadata": {},
   "outputs": [
    {
     "name": "stdout",
     "output_type": "stream",
     "text": [
      "This the world of programming\n"
     ]
    }
   ],
   "source": [
    "def Word_remover(input_str29, word29):\n",
    "    words = input_str29.split()\n",
    "    filtered_words = [ word for word in words if word != word29]\n",
    "    modified_string = ' '.join(filtered_words)\n",
    "    return modified_string\n",
    "\n",
    "input_str29=\" This is the world of programming \"\n",
    "word29= \"is\"\n",
    "result = Word_remover(input_str29,word29)\n",
    "print(result) #copied"
   ]
  },
  {
   "cell_type": "markdown",
   "id": "c8dcce8a-53c1-4578-993b-5283169b9538",
   "metadata": {},
   "source": [
    "30. Check if a string is a valid email address."
   ]
  },
  {
   "cell_type": "code",
   "execution_count": 79,
   "id": "620b1a9b-e4ce-4d9f-831b-9379f5c8f2bf",
   "metadata": {},
   "outputs": [
    {
     "name": "stdout",
     "output_type": "stream",
     "text": [
      "True\n",
      "False\n"
     ]
    }
   ],
   "source": [
    "import re\n",
    "\n",
    "def email_validator(email):\n",
    "    pattern= r'^[\\w\\.-]+@[\\w\\.-]+\\.\\w+$'\n",
    "    if re.match(pattern,email):\n",
    "        return True\n",
    "    else: \n",
    "        return False\n",
    "\n",
    "email1= \"mayank312@gmail.com\"\n",
    "email2=\"mayankr312-dnakndajd\"\n",
    "result1= email_validator(email1)\n",
    "result2=email_validator(email2)\n",
    "print(result1)\n",
    "print(result2) #copied"
   ]
  },
  {
   "cell_type": "markdown",
   "id": "36806de5-0730-444a-8643-4d9ae15f3e41",
   "metadata": {},
   "source": [
    "31. Extract the username from an email address string."
   ]
  },
  {
   "cell_type": "code",
   "execution_count": 80,
   "id": "14b388c7-ce7f-41b6-b96f-cf6cfe5f62ac",
   "metadata": {},
   "outputs": [
    {
     "name": "stdout",
     "output_type": "stream",
     "text": [
      "mayank312\n"
     ]
    }
   ],
   "source": [
    "def extract_username(email):\n",
    "    username= email.split('@')[0]\n",
    "    return username\n",
    "email=\"mayank312@gmail.com\"\n",
    "result= extract_username(email)\n",
    "print(result)"
   ]
  },
  {
   "cell_type": "markdown",
   "id": "1933c47b-5992-4fad-aa04-d77fc9a7936f",
   "metadata": {},
   "source": [
    "32. Extract the domain name from an email address string."
   ]
  },
  {
   "cell_type": "code",
   "execution_count": 81,
   "id": "35bf6b50-53eb-4025-a89c-cdf535a0331f",
   "metadata": {
    "tags": []
   },
   "outputs": [
    {
     "name": "stdout",
     "output_type": "stream",
     "text": [
      "hotmail.com\n"
     ]
    }
   ],
   "source": [
    "def extract_domain(email):\n",
    "    domain= email.split('@')[1]\n",
    "    return domain\n",
    "email=\"kumarmayank312@hotmail.com\"\n",
    "result = extract_domain(email)\n",
    "print(result)"
   ]
  },
  {
   "cell_type": "markdown",
   "id": "6a7674d5-1d48-4e03-b51b-b620b1c6202c",
   "metadata": {},
   "source": [
    "33. Replace multiple spaces in a string with a single space."
   ]
  },
  {
   "cell_type": "code",
   "execution_count": 86,
   "id": "2f7b7639-3376-4565-b197-4390d6999cbd",
   "metadata": {},
   "outputs": [
    {
     "name": "stdout",
     "output_type": "stream",
     "text": [
      "MY hello world is Good\n"
     ]
    }
   ],
   "source": [
    "def replace_multi(text):\n",
    "    new_singleSpace = ' '.join(text.split())\n",
    "    return new_singleSpace\n",
    "\n",
    "s33=\"MY   hello     world is     Good\"\n",
    "result = replace_multi(s33)\n",
    "print(result)"
   ]
  },
  {
   "cell_type": "markdown",
   "id": "ffc33e02-3c80-49cd-8c6c-f3447758a655",
   "metadata": {},
   "source": [
    "34. Check if a string is a valid URL."
   ]
  },
  {
   "cell_type": "code",
   "execution_count": 5,
   "id": "d8a64b8e-4fd0-4bc6-88fe-3bbc2bdcddc1",
   "metadata": {},
   "outputs": [
    {
     "name": "stdout",
     "output_type": "stream",
     "text": [
      "True\n",
      "False\n"
     ]
    }
   ],
   "source": [
    "from urllib.parse import urlparse\n",
    "\n",
    "def is_valid_url(url):\n",
    "    try:\n",
    "        result = urlparse(url)\n",
    "        return all([result.scheme, result.netloc])\n",
    "    except ValueError:\n",
    "        return False\n",
    "url1 = \"https://www.example.com\"\n",
    "url2 = \"invalid-url\"\n",
    "result1 = is_valid_url(url1)\n",
    "result2 = is_valid_url(url2)\n",
    "print(result1)  # Should print True\n",
    "print(result2)  # Should print False"
   ]
  },
  {
   "cell_type": "markdown",
   "id": "fafec08f-1372-453f-b8c7-ea0592d60574",
   "metadata": {},
   "source": [
    "35. Extract the protocol (http or https) from a URL string."
   ]
  },
  {
   "cell_type": "code",
   "execution_count": 6,
   "id": "7096508c-4241-4148-abda-afbe27ad7a22",
   "metadata": {},
   "outputs": [
    {
     "name": "stdout",
     "output_type": "stream",
     "text": [
      "Protocol 1 :https\n",
      "Protocol 2 :http\n",
      "Protocol 3 :ftp\n"
     ]
    }
   ],
   "source": [
    "def extract_protocol(url):\n",
    "    protocol_end = url.find(\"://\")\n",
    "    if protocol_end != -1:\n",
    "        protocol = url[:protocol_end]\n",
    "        return protocol\n",
    "    else:\n",
    "        return None\n",
    "url1 = \"https://www.example.com\"\n",
    "url2 = \"http://google.com\"\n",
    "url3 = \"ftp://ftp.example.com\"\n",
    "\n",
    "protocol_1 = extract_protocol(url1)\n",
    "protocol_2 = extract_protocol(url2)\n",
    "protocol_3 = extract_protocol(url3)\n",
    "\n",
    "print(\"Protocol 1 :\" + protocol_1)\n",
    "print(\"Protocol 2 :\" + protocol_2)\n",
    "print(\"Protocol 3 :\" + protocol_3)\n"
   ]
  },
  {
   "cell_type": "markdown",
   "id": "5a10d5d1-46bb-4aa5-a9b5-7a923506a599",
   "metadata": {},
   "source": [
    "36. Find the frequency of each character in a string."
   ]
  },
  {
   "cell_type": "code",
   "execution_count": 10,
   "id": "afa3dcbb-6139-46e0-b677-4b18493c57e4",
   "metadata": {},
   "outputs": [
    {
     "name": "stdout",
     "output_type": "stream",
     "text": [
      "Character : 'M', Frequency : 1\n",
      "Character : 'a', Frequency : 2\n",
      "Character : 'y', Frequency : 1\n",
      "Character : 'n', Frequency : 1\n",
      "Character : 'k', Frequency : 1\n"
     ]
    }
   ],
   "source": [
    "def char_frequency(input_string):\n",
    "    char_count={}\n",
    "    for i in input_string:\n",
    "        if i in char_count:\n",
    "            char_count[i]+=1\n",
    "        else:\n",
    "            char_count[i] =1\n",
    "    return char_count\n",
    "\n",
    "input_str36 = \"Mayank\"\n",
    "counting = char_frequency(input_str36)\n",
    "\n",
    "for char, freq in counting.items():\n",
    "    print(f\"Character : '{char}', Frequency : {freq}\") "
   ]
  },
  {
   "cell_type": "markdown",
   "id": "fd2d32f1-09ca-48e4-820b-e2e2044aefa6",
   "metadata": {},
   "source": [
    "37. Remove all punctuation from a string."
   ]
  },
  {
   "cell_type": "code",
   "execution_count": 18,
   "id": "d6115ea2-2c6f-4a06-8261-52ee3d9efdd5",
   "metadata": {},
   "outputs": [
    {
     "name": "stdout",
     "output_type": "stream",
     "text": [
      "Original string: Hello, world! How's it going?\n",
      "Cleaned string: Hello world Hows it going\n"
     ]
    }
   ],
   "source": [
    "import string\n",
    "\n",
    "def remove_punctuation(input_string):\n",
    "    # Create a translation table to remove punctuation\n",
    "    translator = str.maketrans(\"\", \"\", string.punctuation)\n",
    "\n",
    "    # Use the translation table to remove punctuation from the input string\n",
    "    clean_string = input_string.translate(translator)\n",
    "\n",
    "    return clean_string\n",
    "\n",
    "# Example string with punctuation\n",
    "input_str = \"Hello, world! How's it going?\"\n",
    "\n",
    "# Remove punctuation\n",
    "cleaned_str = remove_punctuation(input_str)\n",
    "\n",
    "# Print the cleaned string\n",
    "print(\"Original string:\", input_str)\n",
    "print(\"Cleaned string:\", cleaned_str)"
   ]
  },
  {
   "cell_type": "markdown",
   "id": "8fa3a963-18b5-427f-bb38-84179334807a",
   "metadata": {},
   "source": [
    "38. Check if a string contains only digits."
   ]
  },
  {
   "cell_type": "code",
   "execution_count": 20,
   "id": "6a242e15-ffd0-4ace-bb15-76fa6081a2b9",
   "metadata": {},
   "outputs": [
    {
     "name": "stdout",
     "output_type": "stream",
     "text": [
      " ' my name is ' contains only digits : False\n",
      " ' 1234563' contains only digits : False\n",
      " 'my sid 835031' contains only digits : False\n"
     ]
    }
   ],
   "source": [
    "def check_if_digit(input_String):\n",
    "    return input_String.isdigit()\n",
    "\n",
    "String381= \" my name is \"\n",
    "String382 = \" 1234563\"\n",
    "String383 = \"my sid 835031\"\n",
    "\n",
    "result1= check_if_digit(String381)\n",
    "result2= check_if_digit(String382)\n",
    "result3= check_if_digit(String383)\n",
    "\n",
    "\n",
    "print(f\" '{String381}' contains only digits :\", result1)\n",
    "print(f\" '{String382}' contains only digits :\", result2)\n",
    "print(f\" '{String383}' contains only digits :\", result3)"
   ]
  },
  {
   "cell_type": "markdown",
   "id": "d0ae6e27-9f6a-49a0-baac-a2c5041cf4c2",
   "metadata": {},
   "source": [
    "39. Check if a string contains only alphabets."
   ]
  },
  {
   "cell_type": "code",
   "execution_count": 24,
   "id": "cb7cdbf1-a7a8-47b0-9a3c-33057739fc0f",
   "metadata": {},
   "outputs": [
    {
     "name": "stdout",
     "output_type": "stream",
     "text": [
      "'Hello' contains only alphabets: True\n",
      "'Hello123' contains only alphabets: False\n",
      "'12345' contains only alphabets: False\n"
     ]
    }
   ],
   "source": [
    "def check_alpha(input_string):\n",
    "    return input_string.isalpha()\n",
    "\n",
    "# Example strings\n",
    "string1 = \"Hello\"\n",
    "string2 = \"Hello123\"\n",
    "string3 = \"12345\"\n",
    "\n",
    "# Check if strings contain only alphabets\n",
    "result1 = check_alpha(string1)\n",
    "result2 = check_alpha(string2)\n",
    "result3 = check_alpha(string3)\n",
    "\n",
    "# Print the results\n",
    "print(f\"'{string1}' contains only alphabets:\", result1)\n",
    "print(f\"'{string2}' contains only alphabets:\", result2)\n",
    "print(f\"'{string3}' contains only alphabets:\", result3)"
   ]
  },
  {
   "cell_type": "markdown",
   "id": "30158333-ee68-425a-b400-7ca9ff14d89a",
   "metadata": {},
   "source": [
    "40. Convert a string to a list of characters."
   ]
  },
  {
   "cell_type": "code",
   "execution_count": 30,
   "id": "9d0289a3-28b2-4f0d-a405-9ae9bb176833",
   "metadata": {},
   "outputs": [
    {
     "name": "stdout",
     "output_type": "stream",
     "text": [
      "String as list : ['H', 'e', 'l', 'l', 'o', ' ', 'W', 'o', 'r', 'l', 'd', ' ', '!']\n"
     ]
    }
   ],
   "source": [
    "def conver_str(inp_Str40):\n",
    "    list_ret = list(inp_Str40)\n",
    "    return list_ret\n",
    "\n",
    "input_Str40 = \"Hello World !\"\n",
    "str_to_list = conver_str(input_Str40)\n",
    "\n",
    "print(\"String as list :\",str_to_list)"
   ]
  },
  {
   "cell_type": "markdown",
   "id": "c4bf769d-fab6-41f0-8fd5-07cd068403bf",
   "metadata": {},
   "source": [
    "41. Check if two strings are anagrams."
   ]
  },
  {
   "cell_type": "code",
   "execution_count": 6,
   "id": "a9e8682f-add1-447d-8482-79afa044b4e0",
   "metadata": {},
   "outputs": [
    {
     "name": "stdout",
     "output_type": "stream",
     "text": [
      "'listen' and 'silent'are anagrams : True\n",
      "'my name is khan' and 'Hello world'are anagrams : False\n"
     ]
    }
   ],
   "source": [
    "def if_anagram(str_401,str_402):\n",
    "    str_401 = str_401.replace(\" \",\"\",).lower()\n",
    "    str_402 = str_402.replace(\" \",\"\",).lower()\n",
    "    \n",
    "    return sorted(str_401)== sorted(str_402)\n",
    "\n",
    "str1= \"listen\"\n",
    "str2=\"silent\"\n",
    "str3 =\"my name is khan\"\n",
    "str4 =\"Hello world\"\n",
    "\n",
    "result_1= if_anagram(str1,str2)\n",
    "result_2= if_anagram(str3,str4)\n",
    "\n",
    "print(f\"'{str1}' and '{str2}'are anagrams :\" ,result_1)\n",
    "print(f\"'{str3}' and '{str4}'are anagrams :\" ,result_2)"
   ]
  },
  {
   "cell_type": "markdown",
   "id": "a334d9f3-db4c-4f78-80d4-0467c7543ecf",
   "metadata": {},
   "source": [
    "42. Encode a string using a Caesar cipher."
   ]
  },
  {
   "cell_type": "code",
   "execution_count": 18,
   "id": "5545955e-6bf6-4646-b062-a2656b42f668",
   "metadata": {},
   "outputs": [
    {
     "name": "stdout",
     "output_type": "stream",
     "text": [
      "Encoded text is :  jb qdph lv pdbdqn 312\n"
     ]
    }
   ],
   "source": [
    "def caesar_cipher(text,shift):\n",
    "    encoded_text=\"\"\n",
    "    for char in text:\n",
    "        if char.isalpha():\n",
    "            encoded_char = chr((ord(char)+shift-ord('a')) % 26 + ord('a'))\n",
    "        else:\n",
    "            encoded_char = char\n",
    "        encoded_text+=encoded_char\n",
    "    return encoded_text\n",
    "\n",
    "input_text42= \" My name is mayank 312\"\n",
    "shift = 3\n",
    "\n",
    "encoded_stat= caesar_cipher(input_text42,shift)\n",
    "print(\"Encoded text is :\",encoded_stat)"
   ]
  },
  {
   "cell_type": "markdown",
   "id": "0d2c19b5-24a8-4e8b-9511-926580ef5045",
   "metadata": {},
   "source": [
    "43. Decode a Caesar cipher encoded string.\n",
    "    \n"
   ]
  },
  {
   "cell_type": "code",
   "execution_count": 19,
   "id": "fc4b5aea-5256-4b5c-937a-f207e5a78eee",
   "metadata": {},
   "outputs": [
    {
     "name": "stdout",
     "output_type": "stream",
     "text": [
      "Decoded text is: me tgsk oy sgegtq 312\n"
     ]
    }
   ],
   "source": [
    "def caesar_decoder(text,shift):\n",
    "    decoded_text=\"\"\n",
    "    for char in text:\n",
    "        if char.isalpha():\n",
    "            decoded_char=chr((ord(char)+shift-ord('a'))%26+ord('a'))\n",
    "        else:\n",
    "            decoded_char = char\n",
    "        decoded_text+=decoded_char\n",
    "    return decoded_text\n",
    "\n",
    "input_text43=\"jb qdph lv pdbdqn 312\"\n",
    "shift = 3\n",
    "decoded_Stat= caesar_decoder(input_text43,shift)\n",
    "print(\"Decoded text is:\", decoded_Stat)"
   ]
  },
  {
   "cell_type": "markdown",
   "id": "43b01cf6-e978-46db-9e03-2c4e0305938b",
   "metadata": {},
   "source": [
    "44. Find the most frequent word in a string."
   ]
  },
  {
   "cell_type": "code",
   "execution_count": 9,
   "id": "1d44d96b-a070-4218-8b4b-249f0d327202",
   "metadata": {},
   "outputs": [
    {
     "name": "stdout",
     "output_type": "stream",
     "text": [
      "Most frequent word: hello\n"
     ]
    }
   ],
   "source": [
    "import re\n",
    "from collections import Counter\n",
    "\n",
    "def most_frequent(input_string):\n",
    "    new_string= re.sub(r'[^\\w\\s]','',input_string).lower()\n",
    "    words = new_string.split()\n",
    "    word_counter = Counter(words)\n",
    "    most_common_word = word_counter.most_common(1)[0][0]\n",
    "    \n",
    "    return most_common_word\n",
    "\n",
    "input_str44 = \"Hello world, hello there! How's the world?\"\n",
    "most_common = most_frequent(input_str44)\n",
    "\n",
    "print(\"Most frequent word:\", most_common)"
   ]
  },
  {
   "cell_type": "markdown",
   "id": "6eb45415-58af-4670-ac56-fcd3441a8de3",
   "metadata": {},
   "source": [
    "45. Find all unique words in a string."
   ]
  },
  {
   "cell_type": "code",
   "execution_count": 10,
   "id": "9d998e35-4b25-4e3b-b950-7093dc07bf4d",
   "metadata": {},
   "outputs": [
    {
     "name": "stdout",
     "output_type": "stream",
     "text": [
      "Unique words are : {'the', 'there', 'hows', 'hello', 'world'}\n"
     ]
    }
   ],
   "source": [
    "import re\n",
    "\n",
    "def unique_words(input_string):\n",
    "    new_string=re.sub(r'[^\\w\\s]','',input_string).lower()\n",
    "    words = set(new_string.split())\n",
    "    \n",
    "    return words\n",
    "\n",
    "input_str45 =\"Hello world, hello there! How's the world?\"\n",
    "unique_set = unique_words(input_str45)\n",
    "print(\"Unique words are :\", unique_set)"
   ]
  },
  {
   "cell_type": "markdown",
   "id": "b025c8d3-109d-4bce-959a-09913038154f",
   "metadata": {},
   "source": [
    "46. Count the number of syllables in a string."
   ]
  },
  {
   "cell_type": "code",
   "execution_count": 13,
   "id": "da7e996a-a773-41ae-a3a6-583df382dfe0",
   "metadata": {},
   "outputs": [
    {
     "name": "stdout",
     "output_type": "stream",
     "text": [
      "'Telecommunications' has 7 syllables.\n",
      "'Mango' has 2 syllables.\n",
      "'syllable' has 3 syllables.\n"
     ]
    }
   ],
   "source": [
    "import re\n",
    "\n",
    "def num_syllables(text):\n",
    "    vowel_groups = re.findall(r'[aeiouy]+',text, re.IGNORECASE)\n",
    "    \n",
    "    return len(vowel_groups)\n",
    "\n",
    "# Example words\n",
    "word1 = \"Telecommunications\"\n",
    "word2 = \"Mango\"\n",
    "word3 = \"syllable\"\n",
    "\n",
    "# Count syllables\n",
    "syllables1 = num_syllables(word1)\n",
    "syllables2 = num_syllables(word2)\n",
    "syllables3 = num_syllables(word3)\n",
    "\n",
    "# Print the results\n",
    "print(f\"'{word1}' has {syllables1} syllables.\")\n",
    "print(f\"'{word2}' has {syllables2} syllables.\")\n",
    "print(f\"'{word3}' has {syllables3} syllables.\")"
   ]
  },
  {
   "cell_type": "markdown",
   "id": "a161112b-0dcc-45d5-b4e9-c2590c98e02e",
   "metadata": {},
   "source": [
    "47. Check if a string contains any special characters."
   ]
  },
  {
   "cell_type": "code",
   "execution_count": 19,
   "id": "67078092-8a60-4a0b-91d2-c60dce339fb0",
   "metadata": {},
   "outputs": [
    {
     "name": "stdout",
     "output_type": "stream",
     "text": [
      "' Hello ! Good Morning ' contains special characters: True\n",
      "'Hello Good Morning' contains special characters: False\n",
      "' Hello @$%#(@ Good Morning' contains special characters: True\n"
     ]
    }
   ],
   "source": [
    "import re\n",
    "\n",
    "def check_special(text):\n",
    "    pattern = re.compile(r'[!@#$%^&*()_+{}\\[\\]:;<>,.?~\\\\/]')\n",
    "    match = pattern.search(text)\n",
    "    return bool(match)\n",
    "\n",
    "String47_1 = \" Hello ! Good Morning \"\n",
    "String47_2= \"Hello Good Morning\"\n",
    "String47_3 = \" Hello @$%#(@ Good Morning\" \n",
    "\n",
    "result1 = check_special(String47_1)\n",
    "result2 = check_special(String47_2)\n",
    "result3 = check_special(String47_3)\n",
    "\n",
    "print(f\"'{String47_1}' contains special characters:\", result1)\n",
    "print(f\"'{String47_2}' contains special characters:\", result2)\n",
    "print(f\"'{String47_3}' contains special characters:\", result3)"
   ]
  },
  {
   "cell_type": "markdown",
   "id": "cdea2a33-0304-4654-9843-95bbc85c7a55",
   "metadata": {},
   "source": [
    "48. Remove the nth word from a string."
   ]
  },
  {
   "cell_type": "code",
   "execution_count": 21,
   "id": "bc537275-409b-4b59-8cf4-1441d365a17e",
   "metadata": {},
   "outputs": [
    {
     "name": "stdout",
     "output_type": "stream",
     "text": [
      "Original string: This is an example sentence to test the function.\n",
      "Modified String: This is an sentence to test the function.\n",
      "Removed_word: example\n"
     ]
    }
   ],
   "source": [
    "def remove_nth_word(text,n):\n",
    "    words = text.split()\n",
    "    if n>=1 and n<=len(words):\n",
    "        removed_word= words.pop(n-1)\n",
    "        \n",
    "        modified_string=' '.join(words)\n",
    "        return modified_string,removed_word\n",
    "    else:\n",
    "        return None, None\n",
    "input_str48=\"This is an example sentence to test the function.\"\n",
    "n= 4\n",
    "new_str, removed_key = remove_nth_word(input_str48,n)\n",
    "print(\"Original string:\",input_str48)\n",
    "\n",
    "if new_str is not None:\n",
    "    print(\"Modified String:\",new_str)\n",
    "    print(\"Removed_word:\",removed_key)\n",
    "else:\n",
    "    print(\"Invalid value of n\")\n"
   ]
  },
  {
   "cell_type": "markdown",
   "id": "ab32352a-668c-4cb7-93da-8edcde1ac50f",
   "metadata": {},
   "source": [
    "49. Insert a word at the nth position in a string."
   ]
  },
  {
   "cell_type": "code",
   "execution_count": 28,
   "id": "87dfa31f-36ef-426b-a325-ad662e222130",
   "metadata": {},
   "outputs": [
    {
     "name": "stdout",
     "output_type": "stream",
     "text": [
      "New string is: This is an example sentence to test the function\n"
     ]
    }
   ],
   "source": [
    "def insertion_nth(text,word,n):\n",
    "    words49= text.split(' ')\n",
    "    if n>=1 and n<=len(text):\n",
    "        words49.insert(n-1,word)\n",
    "        new_String=' '.join(words49)\n",
    "        \n",
    "        return new_String\n",
    "    else:\n",
    "        return None\n",
    "input_Str49 =\"This is an sentence to test the function\"\n",
    "word49= \"example\"\n",
    "n49=4\n",
    "new_str49 = insertion_nth(input_Str49,word49,n49)\n",
    "\n",
    "print(\"New string is:\", new_str49)"
   ]
  },
  {
   "cell_type": "markdown",
   "id": "373df970-b154-423b-b8cf-eb219732cafc",
   "metadata": {},
   "source": [
    "50. Convert a CSV string to a list of lists."
   ]
  },
  {
   "cell_type": "code",
   "execution_count": 30,
   "id": "cb4aec6b-31c1-42d3-b8bd-800bbe55e1ae",
   "metadata": {},
   "outputs": [
    {
     "name": "stdout",
     "output_type": "stream",
     "text": [
      "['Name', ' Age', ' Country']\n",
      "['John', ' 25', ' USA']\n",
      "['Alice', ' 30', ' Canada']\n",
      "['Bob', ' 22', ' UK']\n"
     ]
    }
   ],
   "source": [
    "def csv_to_lists(csv_string):\n",
    "    lines = csv_string.split('\\n')\n",
    "    result =[]\n",
    "    for line in lines:\n",
    "        fields = line.split(',')\n",
    "        result.append(fields)\n",
    "    return result\n",
    "\n",
    "csv_data = \"Name, Age, Country\\nJohn, 25, USA\\nAlice, 30, Canada\\nBob, 22, UK\"\n",
    "list_of_lists = csv_to_lists(csv_data)\n",
    "for row in list_of_lists:\n",
    "    print(row)"
   ]
  },
  {
   "cell_type": "markdown",
   "id": "8c60b747-6db6-462e-ae30-dd129751c472",
   "metadata": {},
   "source": [
    "List Based Practice Problem :"
   ]
  },
  {
   "cell_type": "markdown",
   "id": "acd86530-299b-4f0c-b0ee-535f65dd383d",
   "metadata": {},
   "source": [
    "1. Create a list with integers from 1 to 10."
   ]
  },
  {
   "cell_type": "code",
   "execution_count": 34,
   "id": "f07b76de-a526-47db-8b0f-8a1e68819f3c",
   "metadata": {},
   "outputs": [
    {
     "name": "stdout",
     "output_type": "stream",
     "text": [
      "[0, 1, 2, 3, 4, 5, 6, 7, 8, 9, 10]\n"
     ]
    }
   ],
   "source": [
    "list1=[i for i in range(0,11)]\n",
    "print(list1)"
   ]
  },
  {
   "cell_type": "markdown",
   "id": "2a8cb145-b731-47d1-bf8c-d4729fac45a0",
   "metadata": {},
   "source": [
    "2. Find the length of a list without using the `len()` function."
   ]
  },
  {
   "cell_type": "code",
   "execution_count": 35,
   "id": "7abd2ce0-6475-4355-b047-50207b12fc62",
   "metadata": {},
   "outputs": [
    {
     "name": "stdout",
     "output_type": "stream",
     "text": [
      "Length of list: 5\n"
     ]
    }
   ],
   "source": [
    "def length_of_lists(input_list):\n",
    "    count = 0\n",
    "    for i in input_list:\n",
    "        count+=1\n",
    "    return count\n",
    "\n",
    "my_list = [10,14,434,5454,'swim']\n",
    "length_2= length_of_lists(my_list)\n",
    "print(\"Length of list:\",length_2)\n"
   ]
  },
  {
   "cell_type": "markdown",
   "id": "0ae0cb74-8a9a-4ca1-b20f-1837bd958f59",
   "metadata": {},
   "source": [
    "3. Append an element to the end of a list."
   ]
  },
  {
   "cell_type": "code",
   "execution_count": 1,
   "id": "bb65ebef-a035-4f6d-8a13-0ac5229ab9d2",
   "metadata": {},
   "outputs": [
    {
     "name": "stdout",
     "output_type": "stream",
     "text": [
      "[10, 20, 30, 40, 50, 60]\n"
     ]
    }
   ],
   "source": [
    "my_list3 = [10,20,30,40,50]\n",
    "new3 = 60\n",
    "my_list3.append(new3)\n",
    "\n",
    "print(my_list3)"
   ]
  },
  {
   "cell_type": "markdown",
   "id": "37941d81-2dc1-43bd-9cc2-e21ee1ff4fd9",
   "metadata": {},
   "source": [
    "4. Insert an element at a specific index in a list."
   ]
  },
  {
   "cell_type": "code",
   "execution_count": 3,
   "id": "55190c98-9284-4cca-88f0-6d3029e50d3a",
   "metadata": {},
   "outputs": [
    {
     "name": "stdout",
     "output_type": "stream",
     "text": [
      "[10, 20, 30, 40, 50, 60, 90]\n"
     ]
    }
   ],
   "source": [
    "my_list4 = [10,20,40,50,60,90]\n",
    "index_4 = 2\n",
    "element_4 = 30\n",
    "my_list4.insert(index_4, element_4)\n",
    "print(my_list4)"
   ]
  },
  {
   "cell_type": "markdown",
   "id": "e5527fa9-d729-4d5d-91bf-a74507f7c6eb",
   "metadata": {},
   "source": [
    "5. Remove an element from a list by its value."
   ]
  },
  {
   "cell_type": "code",
   "execution_count": 11,
   "id": "cf7a5718-3a5a-4f24-8822-6ef9b42483bd",
   "metadata": {},
   "outputs": [
    {
     "name": "stdout",
     "output_type": "stream",
     "text": [
      "[10, 20, 40, 50, 60]\n"
     ]
    }
   ],
   "source": [
    "my_list5 = [10,20,30,40,50,60]\n",
    "element5_remov = 30\n",
    "\n",
    "if element5_remov in my_list5:\n",
    "    my_list5.remove(element5_remov)\n",
    "    print(my_list5)\n",
    "else:\n",
    "    print(\"element not in list\")"
   ]
  },
  {
   "cell_type": "markdown",
   "id": "3c911672-6d38-4c5a-b354-9091b527fa1b",
   "metadata": {},
   "source": [
    "6. Remove an element from a list by its index."
   ]
  },
  {
   "cell_type": "code",
   "execution_count": 12,
   "id": "7bf891fc-4183-4e07-9bac-65ba296e5796",
   "metadata": {},
   "outputs": [
    {
     "name": "stdout",
     "output_type": "stream",
     "text": [
      "Updated list [10, 20, 40, 50, 60]\n",
      "removed element 30\n"
     ]
    }
   ],
   "source": [
    "my_list6 =[10,20,30,40,50,60]\n",
    "index6 = 2\n",
    "element6 = my_list6.pop(index6)\n",
    "\n",
    "print(\"Updated list\", my_list6)\n",
    "print(\"removed element\", element6)"
   ]
  },
  {
   "cell_type": "markdown",
   "id": "d4079d36-939b-4ea5-bebf-bbde5a24d4fb",
   "metadata": {},
   "source": [
    "7. Check if an element exists in a list."
   ]
  },
  {
   "cell_type": "code",
   "execution_count": 14,
   "id": "a4281088-84dd-45a8-965e-a4a4b38fd39e",
   "metadata": {},
   "outputs": [
    {
     "name": "stdout",
     "output_type": "stream",
     "text": [
      "20 exists in the list\n"
     ]
    }
   ],
   "source": [
    "my_list7 = [10,20,30,40,50,60,70]\n",
    "element7= 20\n",
    "\n",
    "if element7 in my_list7:\n",
    "    print(f'{element7} exists in the list')\n",
    "else:\n",
    "    print(f'{element7} not exists in the list')"
   ]
  },
  {
   "cell_type": "markdown",
   "id": "ed06c1ff-261a-4633-8a3d-cec27e9e1d70",
   "metadata": {},
   "source": [
    "8. Find the index of the first occurrence of an element in a list."
   ]
  },
  {
   "cell_type": "code",
   "execution_count": 3,
   "id": "b81a4631-9bd9-4a87-ac09-0f39fea13994",
   "metadata": {},
   "outputs": [
    {
     "name": "stdout",
     "output_type": "stream",
     "text": [
      "Index of 60 is 5\n"
     ]
    }
   ],
   "source": [
    "my_list8 = [10,20,30,40,50,60,70]\n",
    "element_8= 60\n",
    "\n",
    "index8 = my_list8.index(element_8)\n",
    "print(f\"Index of {element_8} is {index8}\")"
   ]
  },
  {
   "cell_type": "markdown",
   "id": "d5bc4da0-07aa-4eed-b6e1-fde2ff5575d9",
   "metadata": {},
   "source": [
    "9. Count the occurrences of an element in a list."
   ]
  },
  {
   "cell_type": "code",
   "execution_count": null,
   "id": "742aba1b-f9d8-4d75-b586-187075a9f65e",
   "metadata": {},
   "outputs": [
    {
     "name": "stdout",
     "output_type": "stream",
     "text": [
      "Number of times 10 occuresd is : 3\n"
     ]
    }
   ],
   "source": [
    "my_list9 = [10,20,30,40,50,60,70,10,30,10]\n",
    "element_9= 10\n",
    "\n",
    "count9= my_list9.count(10)\n",
    "print(f\"Number of times {element_9} occuresd is : {count9}\")"
   ]
  },
  {
   "cell_type": "markdown",
   "id": "f975e33b-5695-4eb7-b761-b054614c8a76",
   "metadata": {},
   "source": [
    "10. Reverse the order of elements in a list."
   ]
  },
  {
   "cell_type": "code",
   "execution_count": 12,
   "id": "d3324d61-10ed-4b25-94d5-551b14d86523",
   "metadata": {},
   "outputs": [
    {
     "name": "stdout",
     "output_type": "stream",
     "text": [
      "Reversed list [10, 30, 10, 70, 60, 50, 40, 30, 20, 10]\n"
     ]
    }
   ],
   "source": [
    "my_list10 = [10,20,30,40,50,60,70,10,30,10]\n",
    "my_list10.reverse()\n",
    "\n",
    "print(\"Reversed list\",my_list10)"
   ]
  },
  {
   "cell_type": "markdown",
   "id": "d5ddbb01-7ad3-47a4-bc41-2187112ed729",
   "metadata": {},
   "source": [
    "11. Sort a list in ascending order."
   ]
  },
  {
   "cell_type": "code",
   "execution_count": 16,
   "id": "83a0dd86-d8a5-4bbf-b92d-59c23956ef03",
   "metadata": {},
   "outputs": [
    {
     "name": "stdout",
     "output_type": "stream",
     "text": [
      "Sorted list: [10, 10, 10, 20, 30, 30, 40, 50, 60, 70]\n"
     ]
    }
   ],
   "source": [
    "my_list11 = [10,20,30,40,50,60,70,10,30,10]\n",
    "my_list11.sort()\n",
    "print(\"Sorted list:\",my_list11)"
   ]
  },
  {
   "cell_type": "markdown",
   "id": "4a1b8f38-51a4-4ae0-b3a0-34919ad7716f",
   "metadata": {},
   "source": [
    "12. Sort a list in descending order."
   ]
  },
  {
   "cell_type": "code",
   "execution_count": 17,
   "id": "a1c2ad5b-ea6e-4a2d-bf9b-89aa5a9ba850",
   "metadata": {},
   "outputs": [
    {
     "name": "stdout",
     "output_type": "stream",
     "text": [
      "Sorted list: [70, 60, 50, 40, 30, 30, 20, 10, 10, 10]\n"
     ]
    }
   ],
   "source": [
    "my_list12 = [10,20,30,40,50,60,70,10,30,10]\n",
    "my_list12.sort(reverse = True)\n",
    "print(\"Sorted list:\",my_list12)"
   ]
  },
  {
   "cell_type": "markdown",
   "id": "f6fb3f71-f823-4109-b0f1-f746ac2d9e05",
   "metadata": {},
   "source": [
    "13. Create a list of even numbers from 1 to 20."
   ]
  },
  {
   "cell_type": "code",
   "execution_count": 20,
   "id": "a4c84df0-8f9a-4388-9de7-c27b3d2aa702",
   "metadata": {},
   "outputs": [
    {
     "name": "stdout",
     "output_type": "stream",
     "text": [
      "list is  [2, 4, 6, 8, 10, 12, 14, 16, 18, 20]\n"
     ]
    }
   ],
   "source": [
    "list13=[]\n",
    "for i in range(1,21):\n",
    "    if i %2==0:\n",
    "        list13.append(i)\n",
    "\n",
    "print(\"list is \",list13)\n",
    "    "
   ]
  },
  {
   "cell_type": "markdown",
   "id": "bec1c3b9-189b-4026-80d2-58422dc13245",
   "metadata": {},
   "source": [
    "14. Create a list of odd numbers from 1 to 20."
   ]
  },
  {
   "cell_type": "code",
   "execution_count": 22,
   "id": "9bfacb61-89f1-4d41-95b0-907d16d14fcd",
   "metadata": {},
   "outputs": [
    {
     "name": "stdout",
     "output_type": "stream",
     "text": [
      "list is  [1, 3, 5, 7, 9, 11, 13, 15, 17, 19]\n"
     ]
    }
   ],
   "source": [
    "list14=[]\n",
    "for i in range(1,21):\n",
    "    if i %2!=0:\n",
    "        list14.append(i)\n",
    "\n",
    "print(\"list is \",list14)"
   ]
  },
  {
   "cell_type": "markdown",
   "id": "5caafc4b-efaf-44c0-af94-6d84aeab66a2",
   "metadata": {},
   "source": [
    "15. Find the sum of all elements in a list."
   ]
  },
  {
   "cell_type": "code",
   "execution_count": 25,
   "id": "57c6f9b2-c2c8-470a-9098-2201798f050b",
   "metadata": {},
   "outputs": [
    {
     "name": "stdout",
     "output_type": "stream",
     "text": [
      "Sum of list 110\n"
     ]
    }
   ],
   "source": [
    "my_list15 = [2, 4, 6, 8, 10, 12, 14, 16, 18, 20]\n",
    "Sum_list15 = sum(my_list15)\n",
    "\n",
    "print(\"Sum of list\", Sum_list15)"
   ]
  },
  {
   "cell_type": "markdown",
   "id": "bafa4fe8-6251-4598-8eb3-48a7b8a1f994",
   "metadata": {},
   "source": [
    "16. Find the maximum value in a list."
   ]
  },
  {
   "cell_type": "code",
   "execution_count": 27,
   "id": "8ffee289-6e45-4936-afaf-14671a3c06b9",
   "metadata": {},
   "outputs": [
    {
     "name": "stdout",
     "output_type": "stream",
     "text": [
      "Maximum value in list: 20\n"
     ]
    }
   ],
   "source": [
    "my_list16 = [2, 4, 6, 8, 10, 12, 14, 16, 18, 20]\n",
    "Maximum_val = max(my_list15)\n",
    "print(\"Maximum value in list:\", Maximum_val)"
   ]
  },
  {
   "cell_type": "markdown",
   "id": "0ff631c9-44de-4b33-98cc-69781aaff5b8",
   "metadata": {},
   "source": [
    "17. Find the minimum value in a list."
   ]
  },
  {
   "cell_type": "code",
   "execution_count": 29,
   "id": "63b97805-4f39-4218-bae7-c8e8f9bd76d7",
   "metadata": {},
   "outputs": [
    {
     "name": "stdout",
     "output_type": "stream",
     "text": [
      "Minimum value in list: 2\n"
     ]
    }
   ],
   "source": [
    "my_list17 = [2, 4, 6, 8, 10, 12, 14, 16, 18, 20]\n",
    "Minimum_val = min(my_list15)\n",
    "print(\"Minimum value in list:\", Minimum_val)"
   ]
  },
  {
   "cell_type": "markdown",
   "id": "46800677-a3a8-41c2-81d8-c09efa8bdf0a",
   "metadata": {},
   "source": [
    "18. Create a list of squares of numbers from 1 to 10."
   ]
  },
  {
   "cell_type": "code",
   "execution_count": 30,
   "id": "150e3dd1-7c31-4c26-8f30-db5b8b3f9b5f",
   "metadata": {},
   "outputs": [
    {
     "name": "stdout",
     "output_type": "stream",
     "text": [
      "List of Squares: [1, 4, 9, 16, 25, 36, 49, 64, 81, 100]\n"
     ]
    }
   ],
   "source": [
    "list18=[]\n",
    "for i in range(1,11):\n",
    "    list18.append(i*i)\n",
    "\n",
    "print(\"List of Squares:\",list18)\n",
    "    "
   ]
  },
  {
   "cell_type": "markdown",
   "id": "21a909ac-0229-436f-9962-8ff5b7c137e9",
   "metadata": {},
   "source": [
    "19. Create a list of random numbers."
   ]
  },
  {
   "cell_type": "code",
   "execution_count": 32,
   "id": "1449ed97-5a0f-4a98-acb9-7b21b2f5985a",
   "metadata": {},
   "outputs": [
    {
     "name": "stdout",
     "output_type": "stream",
     "text": [
      "[49, 12, 41, 73, 45, 25, 54, 76, 90, 86]\n"
     ]
    }
   ],
   "source": [
    "import random\n",
    "list19=[]\n",
    "n19 =10\n",
    "for i in range(n19):\n",
    "    list19.append(random.randint(1,100))\n",
    "print(list19)"
   ]
  },
  {
   "cell_type": "markdown",
   "id": "833b6755-f325-4dfc-a8dd-683fbfc90234",
   "metadata": {},
   "source": [
    "20. Remove duplicates from a list."
   ]
  },
  {
   "cell_type": "code",
   "execution_count": 33,
   "id": "9469ef80-ffa5-4a3d-961e-bb230900a0c9",
   "metadata": {},
   "outputs": [
    {
     "data": {
      "text/plain": [
       "[100, 40, 10, 50, 20, 90, 30]"
      ]
     },
     "execution_count": 33,
     "metadata": {},
     "output_type": "execute_result"
    }
   ],
   "source": [
    "my_list20=[10,20,30,40,50,10,20,90,100]\n",
    "unique_list = list(set(my_list20))\n",
    "unique_list"
   ]
  },
  {
   "cell_type": "markdown",
   "id": "2edf671e-6148-4f2b-8ecb-5090180b0d59",
   "metadata": {},
   "source": [
    "21. Find the common elements between two lists."
   ]
  },
  {
   "cell_type": "code",
   "execution_count": 36,
   "id": "5f4da6de-36c9-4c73-868b-b391dae6ff89",
   "metadata": {},
   "outputs": [
    {
     "name": "stdout",
     "output_type": "stream",
     "text": [
      "Common Elements are: [10, 20, 30]\n"
     ]
    }
   ],
   "source": [
    "a21=[10,20,30,40,50]\n",
    "b21=[10,20,30,70,80]\n",
    "\n",
    "def common(a21,b21): \n",
    "    c21 = [value for value in a21 if value in b21] \n",
    "    return c21\n",
    "d21=common(a21,b21)\n",
    "print(\"Common Elements are:\",d21)"
   ]
  },
  {
   "cell_type": "markdown",
   "id": "f96eda04-db62-4f85-852f-a6ac905a7ca2",
   "metadata": {},
   "source": [
    "22. Find the difference between two lists."
   ]
  },
  {
   "cell_type": "code",
   "execution_count": 38,
   "id": "6017ae4f-eaf1-4549-8ad2-14371380cbae",
   "metadata": {},
   "outputs": [
    {
     "name": "stdout",
     "output_type": "stream",
     "text": [
      "Difference between lists: [50, 40]\n"
     ]
    }
   ],
   "source": [
    "a22=[10,20,30,40,50]\n",
    "b22=[10,20,30,70,80]\n",
    "diff = list(set(a22).difference(b22))\n",
    "print(\"Difference between lists:\", diff)"
   ]
  },
  {
   "cell_type": "markdown",
   "id": "df8782d3-4382-4145-85c3-d933c6d8689f",
   "metadata": {},
   "source": [
    "23. Merge two lists."
   ]
  },
  {
   "cell_type": "code",
   "execution_count": 39,
   "id": "8279a2c0-c241-4ca7-ae70-564eca892625",
   "metadata": {},
   "outputs": [
    {
     "name": "stdout",
     "output_type": "stream",
     "text": [
      "Merged list: [10, 20, 30, 40, 50, 60]\n"
     ]
    }
   ],
   "source": [
    "a23 =[10,20,30]\n",
    "b23=[40,50,60]\n",
    "\n",
    "new_list23 = a23+b23\n",
    "print(\"Merged list:\",new_list23)"
   ]
  },
  {
   "cell_type": "markdown",
   "id": "1589a27c-8701-4e1a-b528-e7feec95a32a",
   "metadata": {},
   "source": [
    "24. Multiply all elements in a list by 2."
   ]
  },
  {
   "cell_type": "code",
   "execution_count": 42,
   "id": "232d6103-e39c-4396-9b76-cd2646b44ca2",
   "metadata": {},
   "outputs": [
    {
     "name": "stdout",
     "output_type": "stream",
     "text": [
      "New list: [20, 40, 60, 80, 100]\n"
     ]
    }
   ],
   "source": [
    "a24=[10,20,30,40,50]\n",
    "new24=[]\n",
    "\n",
    "for i in a24:\n",
    "    new24.append(i*2)\n",
    "print(\"New list:\",new24)"
   ]
  },
  {
   "cell_type": "markdown",
   "id": "78c7abb0-93cd-4eda-9da4-c38c3f521c28",
   "metadata": {},
   "source": [
    "25. Filter out all even numbers from a list."
   ]
  },
  {
   "cell_type": "code",
   "execution_count": 45,
   "id": "c542a641-595c-494f-a6a6-844cafa77aa3",
   "metadata": {},
   "outputs": [
    {
     "name": "stdout",
     "output_type": "stream",
     "text": [
      "Filtered list: [11, 14, 15, 3, 5]\n"
     ]
    }
   ],
   "source": [
    "a25=[10,11,12,14,15,3,4,5]\n",
    "for i in a25:\n",
    "    if i%2==0:\n",
    "        a25.remove(i)\n",
    "print(\"Filtered list:\",a25)"
   ]
  },
  {
   "cell_type": "markdown",
   "id": "7fb05b76-55d2-4bee-9e6b-950243512e12",
   "metadata": {},
   "source": [
    "26. Convert a list of strings to a list of integers."
   ]
  },
  {
   "cell_type": "code",
   "execution_count": 5,
   "id": "4a2eed12-8297-4432-9287-146f1af42819",
   "metadata": {},
   "outputs": [
    {
     "name": "stdout",
     "output_type": "stream",
     "text": [
      "[10, 20, 30, 40]\n"
     ]
    },
    {
     "data": {
      "text/plain": [
       "int"
      ]
     },
     "execution_count": 5,
     "metadata": {},
     "output_type": "execute_result"
    }
   ],
   "source": [
    "a26 = [ '10','20', '30','40']\n",
    "b26 =[]\n",
    "for i in a26:\n",
    "    b26.append(int(i))\n",
    "    \n",
    "print(b26)\n",
    "    \n",
    "type(b26[0])"
   ]
  },
  {
   "cell_type": "markdown",
   "id": "7acc2468-b248-43ef-b594-5a11b185e8bd",
   "metadata": {},
   "source": [
    "27. Convert a list of integers to a list of strings."
   ]
  },
  {
   "cell_type": "code",
   "execution_count": 7,
   "id": "4a254733-ebb6-426c-b5a0-cf046aff8d0d",
   "metadata": {},
   "outputs": [
    {
     "data": {
      "text/plain": [
       "str"
      ]
     },
     "execution_count": 7,
     "metadata": {},
     "output_type": "execute_result"
    }
   ],
   "source": [
    "a27=[10,20,30,40]\n",
    "b27 = [str(x) for x in a27]\n",
    "\n",
    "type(b27[0])"
   ]
  },
  {
   "cell_type": "markdown",
   "id": "853549ab-5c24-4115-82c3-6e6547da2765",
   "metadata": {},
   "source": [
    "28. Flatten a nested list."
   ]
  },
  {
   "cell_type": "code",
   "execution_count": 15,
   "id": "decdfd4f-5a7d-4fbd-84ee-07625d761b75",
   "metadata": {},
   "outputs": [
    {
     "name": "stdout",
     "output_type": "stream",
     "text": [
      "Flattened list: [1, 2, 3, 4, 5, 6, 7, 8, 9]\n"
     ]
    }
   ],
   "source": [
    "\n",
    "nested_list = [[1, 2, 3], [4, 5], [6, 7, 8, 9]]\n",
    "\n",
    "def flatten_list(nested):\n",
    "    flattened = []\n",
    "    for sublist in nested:\n",
    "        if isinstance(sublist, list):\n",
    "            flattened.extend(flatten_list(sublist))\n",
    "        else:\n",
    "            flattened.append(sublist)\n",
    "    return flattened\n",
    "\n",
    "# Flatten the nested list\n",
    "flattened_list = flatten_list(nested_list)\n",
    "\n",
    "# Print the flattened list\n",
    "print(\"Flattened list:\", flattened_list)"
   ]
  },
  {
   "cell_type": "markdown",
   "id": "1ae9703c-a837-41df-a091-e496b40dafb0",
   "metadata": {},
   "source": [
    "29. Create a list of the first 10 Fibonacci numbers."
   ]
  },
  {
   "cell_type": "code",
   "execution_count": 16,
   "id": "6b022747-0a0f-4515-98c5-fca4b3219108",
   "metadata": {},
   "outputs": [
    {
     "name": "stdout",
     "output_type": "stream",
     "text": [
      "[0, 1, 1, 2, 3, 5, 8, 13, 21, 34]\n"
     ]
    }
   ],
   "source": [
    "def fibonacci_gen(n):\n",
    "    list29=[0,1]\n",
    "    for i in range(2,n):\n",
    "        next_element = list29[i-2]+ list29[i-1]\n",
    "        list29.append(next_element)\n",
    "    return list29\n",
    "\n",
    "fibonacci_numbers = fibonacci_gen(10)\n",
    "print(fibonacci_numbers)"
   ]
  },
  {
   "cell_type": "markdown",
   "id": "da454cd9-c0cb-4f92-a258-25b903c283f2",
   "metadata": {},
   "source": [
    "30. Check if a list is sorted."
   ]
  },
  {
   "cell_type": "code",
   "execution_count": 25,
   "id": "687157c5-a267-4018-bb6b-fa49bc1c9410",
   "metadata": {},
   "outputs": [
    {
     "name": "stdout",
     "output_type": "stream",
     "text": [
      "The list is sorted in ascending order.\n"
     ]
    }
   ],
   "source": [
    "# Function to check if a list is sorted in ascending order\n",
    "def is_sorted_ascending(lst):\n",
    "    for i in range(1, len(lst)):\n",
    "        if lst[i] < lst[i - 1]:\n",
    "            return False\n",
    "    return True\n",
    "\n",
    "# Example list\n",
    "ascending_list = [10, 20, 30, 40, 50]\n",
    "\n",
    "# Check if the list is sorted in ascending order\n",
    "if is_sorted_ascending(ascending_list):\n",
    "    print(\"The list is sorted in ascending order.\")\n",
    "else:\n",
    "    print(\"The list is not sorted in ascending order.\")"
   ]
  },
  {
   "cell_type": "markdown",
   "id": "ba888666-d5f4-46ec-bf01-4e6a07a7b91e",
   "metadata": {},
   "source": [
    "31. Rotate a list to the left by `n` positions."
   ]
  },
  {
   "cell_type": "code",
   "execution_count": 29,
   "id": "92e2575a-1cf8-427a-8b7b-1c7b8b02ba35",
   "metadata": {},
   "outputs": [
    {
     "name": "stdout",
     "output_type": "stream",
     "text": [
      "New_rotated_list: [60, 70, 10, 20, 30, 40, 50]\n"
     ]
    }
   ],
   "source": [
    "list31=[10,20,30,40,50,60,70]\n",
    "n31 = 5\n",
    "\n",
    "def rotate(lst,n):\n",
    "    n= n%len(lst)\n",
    "    rotated = lst[n:]+lst[:n]\n",
    "    return rotated\n",
    "\n",
    "rotated_list = rotate(list31,n31)\n",
    "print(\"New_rotated_list:\",rotated_list)"
   ]
  },
  {
   "cell_type": "markdown",
   "id": "e167d98f-5976-4b12-9c3b-e54f62f9bd4d",
   "metadata": {},
   "source": [
    "32. Rotate a list to the right by `n` positions."
   ]
  },
  {
   "cell_type": "code",
   "execution_count": 31,
   "id": "2d958c48-e84e-4ec8-afa1-75f437c853dc",
   "metadata": {},
   "outputs": [
    {
     "name": "stdout",
     "output_type": "stream",
     "text": [
      "New_rotated_list: [60, 70, 10, 20, 30, 40, 50]\n"
     ]
    }
   ],
   "source": [
    "list32=[10,20,30,40,50,60,70]\n",
    "n32 = 2\n",
    "\n",
    "def rotate(lst,n):\n",
    "    n= n%len(lst)\n",
    "    rotated = lst[-n:]+lst[:-n]\n",
    "    return rotated\n",
    "\n",
    "rotated_list = rotate(list32,n32)\n",
    "print(\"New_rotated_list:\",rotated_list)"
   ]
  },
  {
   "cell_type": "markdown",
   "id": "ba8e0a2d-3dff-4ce3-b535-b738cd2ad451",
   "metadata": {},
   "source": [
    "33. Create a list of prime numbers up to 50."
   ]
  },
  {
   "cell_type": "code",
   "execution_count": 9,
   "id": "d241bc34-22e1-4c2e-b7bd-22b4a8394fe7",
   "metadata": {},
   "outputs": [
    {
     "name": "stdout",
     "output_type": "stream",
     "text": [
      "List of prime numbers [2, 3, 5, 7, 11, 13, 17, 19, 23, 29, 31, 37, 41, 43, 47]\n"
     ]
    }
   ],
   "source": [
    "def is_prime(x):\n",
    "    if x<=1:\n",
    "        return False\n",
    "    if x<=3:\n",
    "        return True\n",
    "    if x%2==0 or x%3==0:\n",
    "        return False\n",
    "    i=5\n",
    "    while i*i<=x:\n",
    "        if x%i==0 or x%(i+2)==0:\n",
    "            return False\n",
    "        i=i+6\n",
    "    return True\n",
    "\n",
    "prime_num33 = [x for x in range(2,51) if is_prime(x)]\n",
    "print(\"List of prime numbers\",prime_num33)"
   ]
  },
  {
   "cell_type": "markdown",
   "id": "c9a61acf-89c3-4864-9317-6e198b1e2edc",
   "metadata": {},
   "source": [
    "34. Split a list into chunks of size `n`."
   ]
  },
  {
   "cell_type": "code",
   "execution_count": 11,
   "id": "fc5c09ac-d9f8-4944-b365-60b6c106cd79",
   "metadata": {},
   "outputs": [
    {
     "name": "stdout",
     "output_type": "stream",
     "text": [
      "[10, 11]\n",
      "[12, 13]\n",
      "[14, 15]\n",
      "[16, 17]\n"
     ]
    }
   ],
   "source": [
    "my_list24 = [10,11,12,13,14,15,16,17]\n",
    "chunk_size= 2\n",
    "\n",
    "for i in range(0,len(my_list24), chunk_size):\n",
    "    x=i\n",
    "    print(my_list24[x:x+chunk_size])\n",
    "\n",
    "    \n"
   ]
  },
  {
   "cell_type": "markdown",
   "id": "94750f00-a24d-43c0-b008-2ab76984120c",
   "metadata": {},
   "source": [
    "35. Find the second largest number in a list."
   ]
  },
  {
   "cell_type": "code",
   "execution_count": 22,
   "id": "668ff472-fc8e-454d-acf1-5d9c6fc38f79",
   "metadata": {},
   "outputs": [
    {
     "name": "stdout",
     "output_type": "stream",
     "text": [
      "Second largest element: 16\n"
     ]
    }
   ],
   "source": [
    "my_list35 = [10,11,12,13,14,15,16,17]\n",
    "\n",
    "sorted_list35= sorted(my_list35)\n",
    "sorted_list35\n",
    "\n",
    "if len(sorted_list35)>=2:\n",
    "    second_largest=sorted_list35[-2]\n",
    "    print(\"Second largest element:\",second_largest)\n",
    "else:\n",
    "    print(\"List does not contain enough elements\")"
   ]
  },
  {
   "cell_type": "markdown",
   "id": "cca4c27a-719f-435e-9663-ce880e17b713",
   "metadata": {},
   "source": [
    "36. Replace every element in a list with its square."
   ]
  },
  {
   "cell_type": "code",
   "execution_count": 26,
   "id": "0a0fa178-17dc-4b52-a951-c856b4a1dd05",
   "metadata": {},
   "outputs": [
    {
     "name": "stdout",
     "output_type": "stream",
     "text": [
      "Squared_list: [1, 4, 9, 16, 25]\n"
     ]
    }
   ],
   "source": [
    "my_list36 = [1,2,3,4,5]\n",
    "\n",
    "squared_list36=[x**2 for x in my_list36]\n",
    "\n",
    "print(\"Squared_list:\",squared_list36)"
   ]
  },
  {
   "cell_type": "markdown",
   "id": "9a414f87-32d9-407e-a7da-57b64a20eb77",
   "metadata": {},
   "source": [
    "37. Convert a list to a dictionary where list elements become keys and their\n",
    "indices become values."
   ]
  },
  {
   "cell_type": "code",
   "execution_count": 28,
   "id": "6c773019-be05-4f3b-865a-8f9f62266879",
   "metadata": {},
   "outputs": [
    {
     "name": "stdout",
     "output_type": "stream",
     "text": [
      "Converted Dictionary {10: 0, 20: 1, 30: 2, 40: 3, 50: 4}\n"
     ]
    }
   ],
   "source": [
    "list37=[10,20,30,40,50]\n",
    "my_list37 = {element:index for index,element in enumerate(list37)}\n",
    "\n",
    "print(\"Converted Dictionary\",my_list37)"
   ]
  },
  {
   "cell_type": "markdown",
   "id": "8bbae8f4-e8a2-4952-bdee-a56642dd1849",
   "metadata": {},
   "source": [
    "38. Shuffle the elements of a list randomly."
   ]
  },
  {
   "cell_type": "code",
   "execution_count": 31,
   "id": "c6af32df-edf7-4892-b9c5-6ba3646595c9",
   "metadata": {},
   "outputs": [
    {
     "name": "stdout",
     "output_type": "stream",
     "text": [
      "Shuffled list ['me', 20, 50, 'like', 10]\n"
     ]
    }
   ],
   "source": [
    "import random\n",
    "my_list38= [10,20,50,'like','me']\n",
    "\n",
    "random.shuffle(my_list38)\n",
    "print(\"Shuffled list\", my_list38)"
   ]
  },
  {
   "cell_type": "markdown",
   "id": "59a337e2-8cd5-492a-b7b5-180bfc3c5505",
   "metadata": {},
   "source": [
    "39. Create a list of the first 10 factorial numbers."
   ]
  },
  {
   "cell_type": "code",
   "execution_count": 32,
   "id": "1c8df517-baef-4ecd-b85e-2cbf9cc6028c",
   "metadata": {},
   "outputs": [
    {
     "name": "stdout",
     "output_type": "stream",
     "text": [
      "List of all factorials [1, 1, 2, 6, 24, 120, 720, 5040, 40320, 362880]\n"
     ]
    }
   ],
   "source": [
    "def factorial_num(n):\n",
    "    if n==0 or n==1:\n",
    "        return 1\n",
    "    else:\n",
    "        return n*factorial_num(n-1)\n",
    "\n",
    "factorial_list=[factorial_num(x) for x in range(10)]\n",
    "print(\"List of all factorials\", factorial_list)"
   ]
  },
  {
   "cell_type": "markdown",
   "id": "0451f19e-ac62-4048-ba8f-211bc25974e4",
   "metadata": {},
   "source": [
    "40. Check if two lists have at least one element in common."
   ]
  },
  {
   "cell_type": "code",
   "execution_count": 35,
   "id": "20045350-a6ec-4dab-8d73-b2479e4517e0",
   "metadata": {},
   "outputs": [
    {
     "name": "stdout",
     "output_type": "stream",
     "text": [
      "The lists have no common element\n"
     ]
    }
   ],
   "source": [
    "list_401=[10,20,50,40,90]\n",
    "list_402=[200,100,70,80,900]\n",
    "\n",
    "def common_ele(list1,list2):\n",
    "    for i in list1:\n",
    "        if i in list2:\n",
    "            return True\n",
    "    return False\n",
    "\n",
    "if common_ele(list_401,list_402):\n",
    "    print(\"The lists have atleast one common element\")\n",
    "else:\n",
    "    print(\"The lists have no common element\")"
   ]
  },
  {
   "cell_type": "markdown",
   "id": "3d1d3022-af22-4fa0-ac9b-e1db2ea6376f",
   "metadata": {},
   "source": [
    "41. Remove all elements from a list."
   ]
  },
  {
   "cell_type": "code",
   "execution_count": 37,
   "id": "c546f201-a310-457a-be7e-94df93da7039",
   "metadata": {},
   "outputs": [
    {
     "name": "stdout",
     "output_type": "stream",
     "text": [
      "empty_list: []\n"
     ]
    }
   ],
   "source": [
    "my_list41=[10,11,12,13]\n",
    "my_list41.clear()\n",
    "print(\"empty_list:\",my_list41)"
   ]
  },
  {
   "cell_type": "markdown",
   "id": "03f08337-6219-4c2f-a590-170317fee3d1",
   "metadata": {},
   "source": [
    "42. Replace negative numbers in a list with 0."
   ]
  },
  {
   "cell_type": "code",
   "execution_count": 41,
   "id": "83034fd8-a7e0-4204-b0a0-dff50cda48c4",
   "metadata": {},
   "outputs": [
    {
     "name": "stdout",
     "output_type": "stream",
     "text": [
      "Revamp_list: [10, 20, 0, 0, 40]\n"
     ]
    }
   ],
   "source": [
    "my_list42=[10,20,-3,-20,40]\n",
    "for i in range(len(my_list42)):\n",
    "    if my_list42[i]<0:\n",
    "        my_list42[i]=0\n",
    "\n",
    "print(\"Revamp_list:\",my_list42)\n",
    "            "
   ]
  },
  {
   "cell_type": "markdown",
   "id": "45311c02-b9fb-46a4-b8c9-684441f1c4c5",
   "metadata": {},
   "source": [
    "43. Convert a string into a list of words."
   ]
  },
  {
   "cell_type": "code",
   "execution_count": 42,
   "id": "ed558da8-510e-410d-bf68-73400c9028de",
   "metadata": {},
   "outputs": [
    {
     "data": {
      "text/plain": [
       "['My', 'name', 'is', 'Kumar', 'Mayank']"
      ]
     },
     "execution_count": 42,
     "metadata": {},
     "output_type": "execute_result"
    }
   ],
   "source": [
    "my_string43 = \" My name is Kumar Mayank\"\n",
    "\n",
    "new_list43 = my_string43.split()\n",
    "\n",
    "new_list43"
   ]
  },
  {
   "cell_type": "markdown",
   "id": "98444c5f-23ee-4790-a48c-5cdf9c4c657c",
   "metadata": {},
   "source": [
    "44. Convert a list of words into a string."
   ]
  },
  {
   "cell_type": "code",
   "execution_count": 45,
   "id": "80c4c6fe-8bd0-47f1-95b4-f1e0bc59eb8c",
   "metadata": {},
   "outputs": [
    {
     "data": {
      "text/plain": [
       "'My name is Kumar Mayank'"
      ]
     },
     "execution_count": 45,
     "metadata": {},
     "output_type": "execute_result"
    }
   ],
   "source": [
    "list44 = ['My', 'name', 'is', 'Kumar', 'Mayank']\n",
    "string44= \" \".join(list44)\n",
    "\n",
    "string44"
   ]
  },
  {
   "cell_type": "markdown",
   "id": "ccd89603-d13a-476f-aa37-b76dc28a0875",
   "metadata": {},
   "source": [
    "45. Create a list of the first `n` powers of 2."
   ]
  },
  {
   "cell_type": "code",
   "execution_count": 48,
   "id": "93bd0765-e9df-4251-b636-75dfcfe8ba15",
   "metadata": {},
   "outputs": [
    {
     "name": "stdout",
     "output_type": "stream",
     "text": [
      "[1, 2, 4, 8, 16, 32, 64, 128, 256, 512, 1024, 2048, 4096, 8192, 16384]\n"
     ]
    }
   ],
   "source": [
    "n= 15\n",
    "\n",
    "list45= [2**i for i in range(n)]\n",
    "\n",
    "print(list45)"
   ]
  },
  {
   "cell_type": "markdown",
   "id": "4313f5be-c055-431a-b3b4-c4d8b4e04b80",
   "metadata": {},
   "source": [
    "46. Find the longest string in a list of strings."
   ]
  },
  {
   "cell_type": "code",
   "execution_count": 53,
   "id": "7bbcceec-dbc6-4b18-b8b9-2485957ae95f",
   "metadata": {},
   "outputs": [
    {
     "name": "stdout",
     "output_type": "stream",
     "text": [
      "Longest string is: Mayank\n"
     ]
    }
   ],
   "source": [
    "list46=['My', 'name', 'is', 'Kumar', 'Mayank']\n",
    "longest_Str= \"\"\n",
    "\n",
    "for i in list46:\n",
    "    if len(i)>len(longest_Str):\n",
    "        longest_Str = i\n",
    "        \n",
    "print(\"Longest string is:\", longest_Str)"
   ]
  },
  {
   "cell_type": "markdown",
   "id": "ec44c234-c602-46c6-8ae3-05dfcc42cada",
   "metadata": {},
   "source": [
    "47. Find the shortest string in a list of strings."
   ]
  },
  {
   "cell_type": "code",
   "execution_count": 57,
   "id": "edc5da69-13d5-43d3-babf-6bce51f73c9e",
   "metadata": {},
   "outputs": [
    {
     "name": "stdout",
     "output_type": "stream",
     "text": [
      "shortest string is: i\n"
     ]
    }
   ],
   "source": [
    "list47=['My', 'name', 'i', 'Kumar', 'Mayank']\n",
    "shortest_str= list47[0]\n",
    "\n",
    "for i in list47:\n",
    "    if len(i)<len(shortest_str):\n",
    "        shortest_str = i\n",
    "        \n",
    "print(\"shortest string is:\", shortest_str)"
   ]
  },
  {
   "cell_type": "markdown",
   "id": "a72e8d84-9d7d-4831-bdbf-5c9b8276bdd6",
   "metadata": {},
   "source": [
    "48. Create a list of the first `n` triangular numbers."
   ]
  },
  {
   "cell_type": "code",
   "execution_count": 62,
   "id": "b73a9dd6-9613-4988-b8be-3832f72b46f1",
   "metadata": {},
   "outputs": [
    {
     "name": "stdout",
     "output_type": "stream",
     "text": [
      "List of first 10 triangular numbers: [1, 3, 6, 10, 15, 21, 28, 36, 45, 55]\n"
     ]
    }
   ],
   "source": [
    "def triang_num(n):\n",
    "    return [i*(i+1)//2 for i in range(1,n+1)]\n",
    "\n",
    "n=10\n",
    "\n",
    "triangular_list48= triang_num(n)\n",
    "print(\"List of first\",n,\"triangular numbers:\",triangular_list48)\n",
    "    "
   ]
  },
  {
   "cell_type": "markdown",
   "id": "4854f409-cdc4-4044-bf47-3c4ac06b6874",
   "metadata": {},
   "source": [
    "49. Check if a list contains another list as a subsequence."
   ]
  },
  {
   "cell_type": "code",
   "execution_count": 67,
   "id": "1edc54b3-9cbb-4946-ae77-df9102e165ba",
   "metadata": {},
   "outputs": [
    {
     "name": "stdout",
     "output_type": "stream",
     "text": [
      "Subsequence is in main list\n"
     ]
    }
   ],
   "source": [
    "def if_subseq(main,subseq):\n",
    "    subseq_index = 0\n",
    "    for element in main:\n",
    "        if element == subseq[subseq_index]:\n",
    "            subseq_index+=1\n",
    "            if subseq_index == len(subseq):\n",
    "                return True\n",
    "    return False\n",
    "\n",
    "main_list=[1,2,3,4,5,6,7,8]\n",
    "subseq=[2,3,4]\n",
    "\n",
    "if if_subseq(main_list,subseq):\n",
    "    print(\"Subsequence is in main list\")\n",
    "else:\n",
    "    print(\"Subsequence is not in main list\")\n",
    "    "
   ]
  },
  {
   "cell_type": "markdown",
   "id": "5e4ca293-935f-4909-afe2-1f173ed88954",
   "metadata": {},
   "source": [
    "50. Swap two elements in a list by their indices."
   ]
  },
  {
   "cell_type": "code",
   "execution_count": 69,
   "id": "c2585514-cdac-4a2f-bdf1-c7f2c3b0c4b6",
   "metadata": {},
   "outputs": [
    {
     "data": {
      "text/plain": [
       "[20, 30, 70, 50, 60, 40]"
      ]
     },
     "execution_count": 69,
     "metadata": {},
     "output_type": "execute_result"
    }
   ],
   "source": [
    "list50=[20,30,40,50,60,70]\n",
    "index1=2\n",
    "index2=5\n",
    "\n",
    "temp= list50[index1]\n",
    "list50[index1]=list50[index2]\n",
    "list50[index2]=temp\n",
    "\n",
    "list50"
   ]
  },
  {
   "cell_type": "markdown",
   "id": "c2fef252-8c61-499f-9755-88d5b3f2f522",
   "metadata": {},
   "source": [
    "Tuple Based Practice Problem :"
   ]
  },
  {
   "cell_type": "markdown",
   "id": "f7c3085e-a7bc-40a2-9d9a-8826da9dd289",
   "metadata": {},
   "source": [
    "1. Create a tuple with integers from 1 to 5."
   ]
  },
  {
   "cell_type": "code",
   "execution_count": 75,
   "id": "780965aa-bfe9-4421-a2e4-f8bf48101e6a",
   "metadata": {},
   "outputs": [
    {
     "name": "stdout",
     "output_type": "stream",
     "text": [
      "(1, 2, 3, 4, 5)\n"
     ]
    },
    {
     "data": {
      "text/plain": [
       "tuple"
      ]
     },
     "execution_count": 75,
     "metadata": {},
     "output_type": "execute_result"
    }
   ],
   "source": [
    "a1 = (1,2,3,4,5)\n",
    "print(a1)\n",
    "type(a1)"
   ]
  },
  {
   "cell_type": "markdown",
   "id": "4cd165a4-687b-479a-8573-041960d5b745",
   "metadata": {},
   "source": [
    "2. Access the third element of a tuple."
   ]
  },
  {
   "cell_type": "code",
   "execution_count": 76,
   "id": "d274be22-fc04-4e87-9dfa-c3f7ae88cd56",
   "metadata": {},
   "outputs": [
    {
     "name": "stdout",
     "output_type": "stream",
     "text": [
      "third element of tuple is: 3\n"
     ]
    }
   ],
   "source": [
    "a2= (1,2,3,4,5)\n",
    "Third_element= a2[2]\n",
    "\n",
    "print(\"third element of tuple is:\",Third_element)\n"
   ]
  },
  {
   "cell_type": "markdown",
   "id": "54b146f6-281a-42ec-8741-a9e3969c3550",
   "metadata": {},
   "source": [
    "3. Find the length of a tuple without using the `len()` function."
   ]
  },
  {
   "cell_type": "code",
   "execution_count": 78,
   "id": "1b43d078-f6b2-47a1-9a9a-c8e7ae540ee2",
   "metadata": {},
   "outputs": [
    {
     "name": "stdout",
     "output_type": "stream",
     "text": [
      "length is: 5\n"
     ]
    }
   ],
   "source": [
    "a3= (1,2,3,4,5)\n",
    "count3=0\n",
    "\n",
    "for i in a3:\n",
    "    count3+=1\n",
    "print(\"length is:\",count3)"
   ]
  },
  {
   "cell_type": "markdown",
   "id": "26490e79-3d7a-47fe-9204-5edc205bed9a",
   "metadata": {},
   "source": [
    "4. Count the occurrences of an element in a tuple."
   ]
  },
  {
   "cell_type": "code",
   "execution_count": 84,
   "id": "679dfd0f-e7ff-4e10-80e0-2df7ca003c31",
   "metadata": {},
   "outputs": [
    {
     "name": "stdout",
     "output_type": "stream",
     "text": [
      "Number of occurence of the element is: 3\n"
     ]
    }
   ],
   "source": [
    "a4= (1,2,5,3,4,5,6,5)\n",
    "element=5\n",
    "count4=0\n",
    "\n",
    "for i in a4:\n",
    "    if i == element:\n",
    "        count4+=1\n",
    "print(\"Number of occurence of the element is:\",count4)"
   ]
  },
  {
   "cell_type": "markdown",
   "id": "5cf6b3ec-d3e1-4ce8-b874-3d94810801e3",
   "metadata": {},
   "source": [
    "5. Find the index of the first occurrence of an element in a tuple."
   ]
  },
  {
   "cell_type": "code",
   "execution_count": 3,
   "id": "669b9ade-f136-4088-8bbf-a71469000c6f",
   "metadata": {},
   "outputs": [
    {
     "name": "stdout",
     "output_type": "stream",
     "text": [
      "The first occurence of 30 is at index 2\n"
     ]
    }
   ],
   "source": [
    "my_tup5=(10,20,30,40,50)\n",
    "elem5= 30\n",
    "\n",
    "\n",
    "index=-1\n",
    "\n",
    "for i,item in enumerate(my_tup5):\n",
    "    if item== elem5:\n",
    "        index= i\n",
    "        break\n",
    "        \n",
    "if index !=-1:\n",
    "    print(f\"The first occurence of {elem5} is at index {index}\")\n",
    "else:\n",
    "    print(\" Element not in the list\")"
   ]
  },
  {
   "cell_type": "markdown",
   "id": "508b521e-9d51-419f-86d6-a7632da1fa57",
   "metadata": {},
   "source": [
    "6. Check if an element exists in a tuple."
   ]
  },
  {
   "cell_type": "code",
   "execution_count": 9,
   "id": "ae63cfc4-6c8c-49c5-aae6-15bd91741e63",
   "metadata": {},
   "outputs": [
    {
     "name": "stdout",
     "output_type": "stream",
     "text": [
      "element not in list\n"
     ]
    }
   ],
   "source": [
    "my_tup6=(10,20,30,40,50)\n",
    "elem6= 100\n",
    "\n",
    "\n",
    "if elem6 in my_tup6:\n",
    "    print(\"element exists in tuple\")\n",
    "else:\n",
    "    print(\"element not in list\")"
   ]
  },
  {
   "cell_type": "markdown",
   "id": "84b29800-2996-471d-9a8c-fc8d2d0ea4a4",
   "metadata": {},
   "source": [
    "7. Convert a tuple to a list."
   ]
  },
  {
   "cell_type": "code",
   "execution_count": 11,
   "id": "45dc60bf-2ca5-486c-ae0b-5df84d1c94a6",
   "metadata": {},
   "outputs": [
    {
     "name": "stdout",
     "output_type": "stream",
     "text": [
      "List form is : [10, 20, 30, 40, 50]\n"
     ]
    }
   ],
   "source": [
    "my_tup7=(10,20,30,40,50)\n",
    "neew7 = list(my_tup7)\n",
    "print(\"List form is :\", neew7)"
   ]
  },
  {
   "cell_type": "markdown",
   "id": "d11fe46d-d7d7-4190-8155-d59cf0a4ac09",
   "metadata": {},
   "source": [
    "8. Convert a list to a tuple."
   ]
  },
  {
   "cell_type": "code",
   "execution_count": 13,
   "id": "d03a0deb-61eb-47bb-88d1-5cf4b817c668",
   "metadata": {},
   "outputs": [
    {
     "data": {
      "text/plain": [
       "(10, 20, 30, 40, 50)"
      ]
     },
     "execution_count": 13,
     "metadata": {},
     "output_type": "execute_result"
    }
   ],
   "source": [
    "new_8=[10, 20, 30, 40, 50]\n",
    "tup8= tuple(new_8)\n",
    "tup8"
   ]
  },
  {
   "cell_type": "markdown",
   "id": "df943623-bf97-4ebc-b21e-56c6aba38744",
   "metadata": {},
   "source": [
    "9. Unpack the elements of a tuple into variables."
   ]
  },
  {
   "cell_type": "code",
   "execution_count": 15,
   "id": "ee94f52f-9f30-4083-a68e-e6a89469e183",
   "metadata": {},
   "outputs": [
    {
     "name": "stdout",
     "output_type": "stream",
     "text": [
      "Variable 1: 10\n",
      "Variable 2: 20\n",
      "Variable 3: 30\n",
      "Variable 4: 40\n",
      "Variable 5: 50\n"
     ]
    }
   ],
   "source": [
    "my_tup9=(10,20,30,40,50)\n",
    "\n",
    "var1,var2,var3,var4,var5= my_tup9\n",
    "\n",
    "print(\"Variable 1:\",var1)\n",
    "print(\"Variable 2:\",var2)\n",
    "print(\"Variable 3:\",var3)\n",
    "print(\"Variable 4:\",var4)\n",
    "print(\"Variable 5:\",var5)"
   ]
  },
  {
   "cell_type": "markdown",
   "id": "a731edb0-7a7d-4cab-aa51-22a5b70d0f1d",
   "metadata": {},
   "source": [
    "10. Create a tuple of even numbers from 1 to 10."
   ]
  },
  {
   "cell_type": "code",
   "execution_count": 17,
   "id": "dc3a116f-c8b1-4518-a207-d3e1371baa82",
   "metadata": {},
   "outputs": [
    {
     "name": "stdout",
     "output_type": "stream",
     "text": [
      "(2, 4, 6, 8, 10)\n"
     ]
    }
   ],
   "source": [
    "list10=[ x for x in range(1,11) if x%2==0]\n",
    "\n",
    "my_tup10= tuple(list10)\n",
    "print(my_tup10)  "
   ]
  },
  {
   "cell_type": "markdown",
   "id": "60028d36-ae0b-4a84-99ce-e432c2f8e1d7",
   "metadata": {},
   "source": [
    "11. Create a tuple of odd numbers from 1 to 10."
   ]
  },
  {
   "cell_type": "code",
   "execution_count": 18,
   "id": "37b47c8c-e2e3-47ef-86e8-66b5d57ea10c",
   "metadata": {},
   "outputs": [
    {
     "name": "stdout",
     "output_type": "stream",
     "text": [
      "(1, 3, 5, 7, 9)\n"
     ]
    }
   ],
   "source": [
    "list11=[ x for x in range(1,11) if x%2!=0]\n",
    "\n",
    "my_tup11= tuple(list11)\n",
    "print(my_tup11)"
   ]
  },
  {
   "cell_type": "markdown",
   "id": "23fb60eb-9571-4835-8e2e-6f1d2296c3aa",
   "metadata": {},
   "source": [
    "12. Concatenate two tuples."
   ]
  },
  {
   "cell_type": "code",
   "execution_count": 19,
   "id": "52b84639-462d-4996-8976-c708fbf3eb5c",
   "metadata": {},
   "outputs": [
    {
     "name": "stdout",
     "output_type": "stream",
     "text": [
      "Concatenated tuple: (1, 2, 3, 4, 5, 6, 7, 8)\n"
     ]
    }
   ],
   "source": [
    "tup1_12=(1,2,3,4)\n",
    "tup2_12=(5,6,7,8)\n",
    "\n",
    "conc_tup = tup1_12+tup2_12\n",
    "print(\"Concatenated tuple:\", conc_tup)"
   ]
  },
  {
   "cell_type": "markdown",
   "id": "ed6375c5-9dc4-43d5-a347-d93672dc48f9",
   "metadata": {},
   "source": [
    "13. Repeat a tuple three times."
   ]
  },
  {
   "cell_type": "code",
   "execution_count": 21,
   "id": "a0ad5237-ec56-41ed-8a9e-95df07475081",
   "metadata": {},
   "outputs": [
    {
     "name": "stdout",
     "output_type": "stream",
     "text": [
      "Repeated tuple (1, 2, 3, 4, 1, 2, 3, 4, 1, 2, 3, 4)\n"
     ]
    }
   ],
   "source": [
    "tup3=(1,2,3,4)\n",
    "repeated_tup = tup3 *3\n",
    "print(\"Repeated tuple\", repeated_tup)"
   ]
  },
  {
   "cell_type": "markdown",
   "id": "166007ea-77e0-4a2e-94e7-ebd7435759bc",
   "metadata": {},
   "source": [
    "14. Check if a tuple is empty."
   ]
  },
  {
   "cell_type": "code",
   "execution_count": 24,
   "id": "643029d0-7051-407f-8d77-625b54c16e9c",
   "metadata": {},
   "outputs": [
    {
     "name": "stdout",
     "output_type": "stream",
     "text": [
      "The empty_tuple is empty.\n",
      "The non_empty_tuple is not empty.\n"
     ]
    }
   ],
   "source": [
    "\n",
    "empty_tuple = ()\n",
    "non_empty_tuple = (1, 2, 3)\n",
    "\n",
    "if not empty_tuple:\n",
    "    print(\"The empty_tuple is empty.\")\n",
    "else:\n",
    "    print(\"The empty_tuple is not empty.\")\n",
    "\n",
    "if not non_empty_tuple:\n",
    "    print(\"The non_empty_tuple is empty.\")\n",
    "else:\n",
    "    print(\"The non_empty_tuple is not empty.\")"
   ]
  },
  {
   "cell_type": "markdown",
   "id": "cea4ff8e-beab-40d5-9f0c-326e4dfd6add",
   "metadata": {},
   "source": [
    "15. Create a nested tuple."
   ]
  },
  {
   "cell_type": "code",
   "execution_count": 26,
   "id": "8e70b09c-66b0-41e1-96fe-a151d6c6bf95",
   "metadata": {},
   "outputs": [
    {
     "name": "stdout",
     "output_type": "stream",
     "text": [
      "((1, 2, 3), (45, 54, 64), ('my', 'kumar', 'mayank'))\n"
     ]
    }
   ],
   "source": [
    "nested_15 =((1,2,3),(45,54,64),('my','kumar','mayank'))\n",
    "print(nested_15)"
   ]
  },
  {
   "cell_type": "markdown",
   "id": "cc0faa5e-70b6-4f5c-8660-a3c608a51f77",
   "metadata": {},
   "source": [
    "16. Access the first element of a nested tuple."
   ]
  },
  {
   "cell_type": "code",
   "execution_count": 33,
   "id": "9394860e-d491-4bc0-81df-bab25fe10f3e",
   "metadata": {},
   "outputs": [
    {
     "name": "stdout",
     "output_type": "stream",
     "text": [
      "First element (1, 2, 3)\n"
     ]
    }
   ],
   "source": [
    "nested_16 =((1,2,3),(45,54,64),('my','kumar','mayank'))\n",
    "print(\"First element\",nested_16[0])"
   ]
  },
  {
   "cell_type": "markdown",
   "id": "4fbd0c8f-1309-445f-95f9-a66c9aafe92d",
   "metadata": {},
   "source": [
    "17. Create a tuple with a single element."
   ]
  },
  {
   "cell_type": "code",
   "execution_count": 34,
   "id": "b9abd24e-d955-406c-b13d-b09870e7a382",
   "metadata": {},
   "outputs": [
    {
     "data": {
      "text/plain": [
       "(1,)"
      ]
     },
     "execution_count": 34,
     "metadata": {},
     "output_type": "execute_result"
    }
   ],
   "source": [
    "my_tup17=(1,)\n",
    "my_tup17"
   ]
  },
  {
   "cell_type": "markdown",
   "id": "b9eb96c2-ceee-4ddc-ae8c-b07d0934f2ac",
   "metadata": {},
   "source": [
    "18. Compare two tuples."
   ]
  },
  {
   "cell_type": "code",
   "execution_count": 37,
   "id": "6c85238e-47bd-4138-950b-b7c56b151d5a",
   "metadata": {},
   "outputs": [
    {
     "name": "stdout",
     "output_type": "stream",
     "text": [
      "my_tup181==my_tup182 False\n",
      "my_tup181!=my_tup182 True\n",
      "my_tup181<my_tup182 True\n",
      "my_tup181<=my_tup182 True\n",
      "my_tup181>my_tup182 False\n",
      "my_tup181>=my_tup182 False\n"
     ]
    }
   ],
   "source": [
    "my_tup181=(10,11,12,13,14)\n",
    "my_tup182=(15,16,17,18,19)\n",
    "print(\"my_tup181==my_tup182\", my_tup181==my_tup182)\n",
    "print(\"my_tup181!=my_tup182\", my_tup181!=my_tup182)\n",
    "print(\"my_tup181<my_tup182\", my_tup181<my_tup182)\n",
    "print(\"my_tup181<=my_tup182\", my_tup181<=my_tup182)\n",
    "print(\"my_tup181>my_tup182\", my_tup181>my_tup182)\n",
    "print(\"my_tup181>=my_tup182\", my_tup181>=my_tup182)"
   ]
  },
  {
   "cell_type": "markdown",
   "id": "caa5398a-8126-4eda-a4ca-e4d3ccddcdad",
   "metadata": {},
   "source": [
    "19. Delete a tuple."
   ]
  },
  {
   "cell_type": "code",
   "execution_count": 40,
   "id": "e5e480bb-e15c-4ec4-85f7-406fcbb0824e",
   "metadata": {},
   "outputs": [
    {
     "ename": "NameError",
     "evalue": "name 'my_tup19' is not defined",
     "output_type": "error",
     "traceback": [
      "\u001b[0;31m---------------------------------------------------------------------------\u001b[0m",
      "\u001b[0;31mNameError\u001b[0m                                 Traceback (most recent call last)",
      "Cell \u001b[0;32mIn[40], line 3\u001b[0m\n\u001b[1;32m      1\u001b[0m my_tup19\u001b[38;5;241m=\u001b[39m(\u001b[38;5;241m10\u001b[39m,\u001b[38;5;241m11\u001b[39m,\u001b[38;5;241m12\u001b[39m,\u001b[38;5;241m13\u001b[39m,\u001b[38;5;241m14\u001b[39m)\n\u001b[1;32m      2\u001b[0m \u001b[38;5;28;01mdel\u001b[39;00m my_tup19\n\u001b[0;32m----> 3\u001b[0m \u001b[43mmy_tup19\u001b[49m\n",
      "\u001b[0;31mNameError\u001b[0m: name 'my_tup19' is not defined"
     ]
    }
   ],
   "source": [
    "my_tup19=(10,11,12,13,14)\n",
    "del my_tup19\n",
    "my_tup19"
   ]
  },
  {
   "cell_type": "markdown",
   "id": "dc8cbb4d-443d-4186-a640-ca56cd5804f8",
   "metadata": {},
   "source": [
    "20. Slice a tuple."
   ]
  },
  {
   "cell_type": "code",
   "execution_count": 43,
   "id": "ec4b15ca-ad87-4b52-9eb2-3eba5ece32c4",
   "metadata": {},
   "outputs": [
    {
     "data": {
      "text/plain": [
       "(10, 11, 12)"
      ]
     },
     "execution_count": 43,
     "metadata": {},
     "output_type": "execute_result"
    }
   ],
   "source": [
    "my_tup20=(10,11,12,13,14)\n",
    "new20 = my_tup20[:3]\n",
    "new20"
   ]
  },
  {
   "cell_type": "markdown",
   "id": "06de3958-7f83-4678-be2c-6e0fe90f6db3",
   "metadata": {},
   "source": [
    "21. Find the maximum value in a tuple."
   ]
  },
  {
   "cell_type": "code",
   "execution_count": 45,
   "id": "8933c49a-9097-489a-a6b3-d2588cf71ce3",
   "metadata": {},
   "outputs": [
    {
     "name": "stdout",
     "output_type": "stream",
     "text": [
      "Maximum element: 33\n"
     ]
    }
   ],
   "source": [
    "my_tup21=(10,11,12,33,14,15,16)\n",
    "maximum_ele = max(my_tup21)\n",
    "print(\"Maximum element:\",maximum_ele)"
   ]
  },
  {
   "cell_type": "markdown",
   "id": "ebf067c1-5eea-4465-868c-735a35c041be",
   "metadata": {},
   "source": [
    "22. Find the minimum value in a tuple"
   ]
  },
  {
   "cell_type": "code",
   "execution_count": 46,
   "id": "8104efc4-b732-4fd4-937c-c60672d8cf36",
   "metadata": {},
   "outputs": [
    {
     "name": "stdout",
     "output_type": "stream",
     "text": [
      "Minimum element: 2\n"
     ]
    }
   ],
   "source": [
    "my_tup22=(10,11,2,33,14,15,16)\n",
    "min_ele22=min(my_tup22)\n",
    "print(\"Minimum element:\",min_ele22)"
   ]
  },
  {
   "cell_type": "markdown",
   "id": "7d8ea5d4-2604-4a24-99b2-03bf63b65085",
   "metadata": {},
   "source": [
    "23. Convert a string to a tuple of characters."
   ]
  },
  {
   "cell_type": "code",
   "execution_count": 47,
   "id": "0cbb8dd6-1abd-4ffe-9e66-cfc69a756134",
   "metadata": {},
   "outputs": [
    {
     "name": "stdout",
     "output_type": "stream",
     "text": [
      "Tuple of characters: ('H', 'e', 'l', 'l', 'o', ',', ' ', 'W', 'o', 'r', 'l', 'd', '!')\n"
     ]
    }
   ],
   "source": [
    "my_string = \"Hello, World!\"\n",
    "tuple_of_characters = tuple(my_string)\n",
    "print(\"Tuple of characters:\", tuple_of_characters)"
   ]
  },
  {
   "cell_type": "markdown",
   "id": "5789d0f6-c0a4-44bc-92ce-1a886e01d981",
   "metadata": {},
   "source": [
    "24. Convert a tuple of characters to a string."
   ]
  },
  {
   "cell_type": "code",
   "execution_count": 49,
   "id": "627f7d1f-070a-4b4a-9f0b-f0193c3950a1",
   "metadata": {},
   "outputs": [
    {
     "name": "stdout",
     "output_type": "stream",
     "text": [
      "String is: Hello, World!\n"
     ]
    }
   ],
   "source": [
    "Tup_conver24=('H', 'e', 'l', 'l', 'o', ',', ' ', 'W', 'o', 'r', 'l', 'd', '!')\n",
    "string_tup=''.join(Tup_conver24)\n",
    "print(\"String is:\", string_tup)"
   ]
  },
  {
   "cell_type": "markdown",
   "id": "3e3ba2c2-efe7-402a-9b1f-d9ef8bbba865",
   "metadata": {},
   "source": [
    "25. Create a tuple from multiple data types."
   ]
  },
  {
   "cell_type": "code",
   "execution_count": 52,
   "id": "1f210348-cbe3-4dc5-a253-13bab73f54b9",
   "metadata": {},
   "outputs": [
    {
     "data": {
      "text/plain": [
       "(1, 'mike', 2.35, True)"
      ]
     },
     "execution_count": 52,
     "metadata": {},
     "output_type": "execute_result"
    }
   ],
   "source": [
    "tup25=(1,'mike',2.35, True)\n",
    "tup25"
   ]
  },
  {
   "cell_type": "markdown",
   "id": "d3e29126-ccd0-4b77-b43b-b63776fd7131",
   "metadata": {},
   "source": [
    "26. Check if two tuples are identical."
   ]
  },
  {
   "cell_type": "code",
   "execution_count": 1,
   "id": "13351d98-8711-40c5-9a6f-90cb6227a56d",
   "metadata": {},
   "outputs": [
    {
     "name": "stdout",
     "output_type": "stream",
     "text": [
      "True\n",
      "False\n"
     ]
    }
   ],
   "source": [
    "my_tup261=(10,11,2,33,14,15,16)\n",
    "my_tup262=(10,11,2,33,14,15,16)\n",
    "my_tup263=(10,11,2,3,14,15,16)\n",
    "\n",
    "identical_1 = (my_tup261 == my_tup262)\n",
    "identical_2 = (my_tup262 == my_tup263)\n",
    "\n",
    "print(identical_1)\n",
    "print(identical_2)"
   ]
  },
  {
   "cell_type": "markdown",
   "id": "17b0fadf-03db-448e-b078-100d907a4843",
   "metadata": {},
   "source": [
    "27. Sort the elements of a tuple."
   ]
  },
  {
   "cell_type": "code",
   "execution_count": 3,
   "id": "f375cce0-6155-4836-994a-543bbd14c288",
   "metadata": {},
   "outputs": [
    {
     "name": "stdout",
     "output_type": "stream",
     "text": [
      "Sored tuple: (2, 10, 11, 14, 15, 16, 33)\n"
     ]
    }
   ],
   "source": [
    "my_tup27=(10,11,2,33,14,15,16)\n",
    "\n",
    "tup_sort = tuple(sorted(my_tup27))\n",
    "print(\"Sored tuple:\", tup_sort)"
   ]
  },
  {
   "cell_type": "markdown",
   "id": "b7cf47ed-a422-4305-ba1b-33827da30b73",
   "metadata": {},
   "source": [
    "28. Convert a tuple of integers to a tuple of strings."
   ]
  },
  {
   "cell_type": "code",
   "execution_count": 13,
   "id": "e21ec150-7b9c-45cd-9eaa-1217f1613699",
   "metadata": {},
   "outputs": [
    {
     "name": "stdout",
     "output_type": "stream",
     "text": [
      "('10', '11', '2', '33', '14', '15', '16')\n"
     ]
    }
   ],
   "source": [
    "my_tup27=(10,11,2,33,14,15,16)\n",
    "new_tup27 = tuple(str(i) for i in my_tup27)\n",
    "print(new_tup27)"
   ]
  },
  {
   "cell_type": "markdown",
   "id": "4720f3e1-0689-4d6c-a64a-94b5ee9c21ae",
   "metadata": {},
   "source": [
    "29. Convert a tuple of strings to a tuple of integers."
   ]
  },
  {
   "cell_type": "code",
   "execution_count": 14,
   "id": "43818a0a-e06c-4be8-ad64-df7bd1f5eb3c",
   "metadata": {},
   "outputs": [
    {
     "name": "stdout",
     "output_type": "stream",
     "text": [
      "(10, 20, 30, 40)\n"
     ]
    }
   ],
   "source": [
    "my_tup28=('10','20','30','40')\n",
    "new_tup28 = tuple(int(i) for i in my_tup28)\n",
    "print(new_tup28)"
   ]
  },
  {
   "cell_type": "markdown",
   "id": "3d5704d7-c8b3-44f7-8368-c3dff5189a8d",
   "metadata": {},
   "source": [
    "30. Merge two tuples."
   ]
  },
  {
   "cell_type": "code",
   "execution_count": 15,
   "id": "5ebd6c39-0976-451d-ab11-f078360b62a9",
   "metadata": {},
   "outputs": [
    {
     "name": "stdout",
     "output_type": "stream",
     "text": [
      "Merged Tuples: (10, 11, 2, 33, 14, 15, 16, 17, 18, 19, 20, 21)\n"
     ]
    }
   ],
   "source": [
    "my_tup30=(10,11,2,33,14,15,16)\n",
    "my_tup31=(17,18,19,20,21)\n",
    "\n",
    "merge_tup = my_tup30 + my_tup31\n",
    "\n",
    "print(\"Merged Tuples:\",merge_tup)"
   ]
  },
  {
   "cell_type": "markdown",
   "id": "c9e77a3b-0f24-4386-9808-9e1c740e1bec",
   "metadata": {},
   "source": [
    "31. Flatten a nested tuple."
   ]
  },
  {
   "cell_type": "code",
   "execution_count": 17,
   "id": "290b5654-ccc9-45c7-a982-286677da9fc0",
   "metadata": {},
   "outputs": [
    {
     "name": "stdout",
     "output_type": "stream",
     "text": [
      "Flattend tuple: (1, 2, 3, 4, 5, 6, 7, 8, 9)\n"
     ]
    }
   ],
   "source": [
    "def flatten_tup(nested_tuple):\n",
    "    flattened=[]\n",
    "    for item in nested_tuple:\n",
    "        if isinstance(item,tuple):\n",
    "            flattened.extend(flatten_tup(item))\n",
    "        else:\n",
    "            flattened.append(item)\n",
    "    return flattened\n",
    "\n",
    "my_tup31=(1,(2,3,4),(5,6),(7,8,9))\n",
    "new_tup31 = tuple(flatten_tup(my_tup31))\n",
    "\n",
    "print(\"Flattend tuple:\", new_tup31)"
   ]
  },
  {
   "cell_type": "markdown",
   "id": "8f1f7288-a398-4a36-92de-5db395c75f53",
   "metadata": {},
   "source": [
    "32. Create a tuple of the first 5 prime numbers."
   ]
  },
  {
   "cell_type": "code",
   "execution_count": 18,
   "id": "ef175980-3750-421c-9863-b211eefc8efa",
   "metadata": {},
   "outputs": [
    {
     "name": "stdout",
     "output_type": "stream",
     "text": [
      "Tuple of first 5 prime numbers: (2, 3, 5, 7, 11)\n"
     ]
    }
   ],
   "source": [
    "def is_prime(num):\n",
    "    if num<=1:\n",
    "        return False\n",
    "    for i in range(2, int((num**0.5)+1)):\n",
    "        if num%i==0:\n",
    "            return False\n",
    "    return True\n",
    "\n",
    "prime_numlist=[x for x in range(0,50) if is_prime(x)][:5]\n",
    "\n",
    "prime_tup= tuple(prime_numlist)\n",
    "\n",
    "print(\"Tuple of first 5 prime numbers:\",prime_tup)"
   ]
  },
  {
   "cell_type": "markdown",
   "id": "aa9d7a4a-0d89-4c47-8b7f-f02b02eceeef",
   "metadata": {},
   "source": [
    "33. Check if a tuple is a palindrome."
   ]
  },
  {
   "cell_type": "code",
   "execution_count": 22,
   "id": "f6f82352-1103-4f1e-b283-65aadd2f0114",
   "metadata": {},
   "outputs": [
    {
     "name": "stdout",
     "output_type": "stream",
     "text": [
      "It is pallindrome\n"
     ]
    }
   ],
   "source": [
    "my_tup33 =(1, 2, 3, 4,3,2,1)\n",
    "\n",
    "if my_tup33 == my_tup33[-1::-1]:\n",
    "    print(\"It is pallindrome\")\n",
    "else:\n",
    "    (\"Not a pallindrome\")"
   ]
  },
  {
   "cell_type": "markdown",
   "id": "1de302c0-d97a-4271-a437-0af52245c00f",
   "metadata": {},
   "source": [
    "34. Create a tuple of squares of numbers from 1 to 5."
   ]
  },
  {
   "cell_type": "code",
   "execution_count": 24,
   "id": "f1ec4280-f7fc-4c0c-9e3b-d73d7ed92839",
   "metadata": {},
   "outputs": [
    {
     "name": "stdout",
     "output_type": "stream",
     "text": [
      "tuple of squares: (1, 4, 9, 16, 25)\n"
     ]
    }
   ],
   "source": [
    "tup_34 = tuple([x**2 for x in range(1,6)])\n",
    "print(\"tuple of squares:\",tup_34)"
   ]
  },
  {
   "cell_type": "markdown",
   "id": "bd99908f-8c11-4910-bb67-44d41fef8fb2",
   "metadata": {},
   "source": [
    "35. Filter out all even numbers from a tuple."
   ]
  },
  {
   "cell_type": "code",
   "execution_count": 25,
   "id": "c5c744a3-ff10-4ce2-8d9e-0020bff46964",
   "metadata": {},
   "outputs": [
    {
     "name": "stdout",
     "output_type": "stream",
     "text": [
      "Filtered list : (1, 3, 3, 1)\n"
     ]
    }
   ],
   "source": [
    "my_tup35 =(1, 2, 3, 4, 3, 2, 1)\n",
    "\n",
    "new_list = tuple([i for i in my_tup35 if i%2!=0])\n",
    "\n",
    "print(\"Filtered list :\", new_list)\n",
    "            "
   ]
  },
  {
   "cell_type": "markdown",
   "id": "4ae2407b-470a-459d-b478-d4bcab46caae",
   "metadata": {},
   "source": [
    "36. Multiply all elements in a tuple by 2."
   ]
  },
  {
   "cell_type": "code",
   "execution_count": 27,
   "id": "87a6c190-3afe-444d-acb2-ce4b97c85d1a",
   "metadata": {},
   "outputs": [
    {
     "name": "stdout",
     "output_type": "stream",
     "text": [
      "New list multiplied by 2 is : (2, 4, 6, 8, 6, 4, 2)\n"
     ]
    }
   ],
   "source": [
    "my_tup36 =(1, 2, 3, 4, 3, 2, 1)\n",
    "\n",
    "new_tup36 =tuple([x*2 for x in my_tup36])\n",
    "print(\"New list multiplied by 2 is :\",new_tup36)"
   ]
  },
  {
   "cell_type": "markdown",
   "id": "72f7d4c6-d010-48c6-a2ee-db60fa4c7e8f",
   "metadata": {},
   "source": [
    "37. Create a tuple of random numbers."
   ]
  },
  {
   "cell_type": "code",
   "execution_count": 28,
   "id": "a27788e0-6be6-4ca8-be9b-b356bd718759",
   "metadata": {},
   "outputs": [
    {
     "name": "stdout",
     "output_type": "stream",
     "text": [
      "(57, 98, 31, 11, 69, 25, 92, 31, 32, 66)\n"
     ]
    }
   ],
   "source": [
    "import random\n",
    "\n",
    "random_tup37 = tuple(random.randint(1,100) for i in range(10))\n",
    "\n",
    "print(random_tup37)"
   ]
  },
  {
   "cell_type": "markdown",
   "id": "634914d8-0d51-4c62-ace1-8928474596db",
   "metadata": {},
   "source": [
    "38. Check if a tuple is sorted."
   ]
  },
  {
   "cell_type": "code",
   "execution_count": 29,
   "id": "d6bebdec-2bbd-49f0-ace9-3cbe245ba269",
   "metadata": {},
   "outputs": [
    {
     "name": "stdout",
     "output_type": "stream",
     "text": [
      "Is tuple1 sorted: False\n",
      "Is tuple2 sorted: True\n"
     ]
    }
   ],
   "source": [
    "def sorted_tup(tupl):\n",
    "    for i in range(len(tupl)-1):\n",
    "        if tupl[i]> tupl[i+1]:\n",
    "            return False\n",
    "    return True\n",
    "\n",
    "tuple1= (10,30,40,20,100)\n",
    "tuple2= (1,2,3,4,5)\n",
    "\n",
    "a38 = sorted_tup(tuple1)\n",
    "b38 = sorted_tup(tuple2)\n",
    "\n",
    "print(\"Is tuple1 sorted:\", a38)\n",
    "print(\"Is tuple2 sorted:\", b38)\n"
   ]
  },
  {
   "cell_type": "markdown",
   "id": "093475bb-986f-478a-8a54-58d93323124a",
   "metadata": {},
   "source": [
    "39. Rotate a tuple to the left by `n` positions."
   ]
  },
  {
   "cell_type": "code",
   "execution_count": 30,
   "id": "f1f67432-f87b-49ee-8881-3f2f77154395",
   "metadata": {},
   "outputs": [
    {
     "name": "stdout",
     "output_type": "stream",
     "text": [
      "Rotated tuple: (5, 6, 7, 2, 3, 4)\n"
     ]
    }
   ],
   "source": [
    "def rotate_left(tupl,n):\n",
    "    n = n % len(tupl)\n",
    "    rotated_tuple= tupl[n:]+tupl[:n]\n",
    "    return rotated_tuple\n",
    "\n",
    "my_tuple =( 2,3,4,5,6,7)\n",
    "n = 3\n",
    "\n",
    "new_tup39 = rotate_left(my_tuple,n)\n",
    "print(\"Rotated tuple:\", new_tup39)\n",
    "    \n",
    "    "
   ]
  },
  {
   "cell_type": "markdown",
   "id": "13736be1-a29b-439a-995e-54c1983df01f",
   "metadata": {},
   "source": [
    "40. Rotate a tuple to the right by `n` positions."
   ]
  },
  {
   "cell_type": "code",
   "execution_count": 31,
   "id": "8c901e2e-eaf7-46b9-b2ba-24abf89d7132",
   "metadata": {},
   "outputs": [
    {
     "name": "stdout",
     "output_type": "stream",
     "text": [
      "Rotated tuple towards right: (5, 6, 7, 2, 3, 4)\n"
     ]
    }
   ],
   "source": [
    "def rotate_right(tupl,n):\n",
    "    n = n % len(tupl)\n",
    "    rotated_tuple= tupl[-n:]+tupl[:-n]\n",
    "    return rotated_tuple\n",
    "\n",
    "my_tuple40 =( 2,3,4,5,6,7)\n",
    "n = 3\n",
    "\n",
    "new_tup40 = rotate_right(my_tuple,n)\n",
    "print(\"Rotated tuple towards right:\", new_tup39)\n",
    "    "
   ]
  },
  {
   "cell_type": "markdown",
   "id": "c6b60193-7206-41dc-aecd-97b764f138f6",
   "metadata": {},
   "source": [
    "41. Create a tuple of the first 5 Fibonacci numbers."
   ]
  },
  {
   "cell_type": "code",
   "execution_count": 33,
   "id": "cf44448b-399c-4c38-b110-436afa85ea1f",
   "metadata": {},
   "outputs": [
    {
     "name": "stdout",
     "output_type": "stream",
     "text": [
      "First 5 fibonacci numbers are: (0, 1, 1, 2, 3)\n"
     ]
    }
   ],
   "source": [
    "def fibonacci_tup(n):\n",
    "    fibon = [0,1]\n",
    "    while len(fibon)<n:\n",
    "        new_num = fibon[-1]+fibon[-2]\n",
    "        fibon.append(new_num)\n",
    "    return tuple(fibon)\n",
    "\n",
    "Fibonnac = fibonacci_tup(5)\n",
    "print(\"First 5 fibonacci numbers are:\", Fibonnac)"
   ]
  },
  {
   "cell_type": "markdown",
   "id": "2c571ed3-6ee1-4469-8cc8-79eee99d4c22",
   "metadata": {},
   "source": [
    "42. Create a tuple from user input."
   ]
  },
  {
   "cell_type": "code",
   "execution_count": 35,
   "id": "7f12476c-5145-412e-947e-1ec251309d22",
   "metadata": {},
   "outputs": [
    {
     "name": "stdin",
     "output_type": "stream",
     "text": [
      "Enter elements separated by commas:  my,name,is,kumar\n"
     ]
    },
    {
     "name": "stdout",
     "output_type": "stream",
     "text": [
      "User input tuple: ('my', 'name', 'is', 'kumar')\n"
     ]
    }
   ],
   "source": [
    "\n",
    "input_str = input(\"Enter elements separated by commas: \")\n",
    "\n",
    "\n",
    "input_list = input_str.split(',')\n",
    "\n",
    "user_tuple = tuple(input_list)\n",
    "print(\"User input tuple:\", user_tuple)"
   ]
  },
  {
   "cell_type": "markdown",
   "id": "80c91470-03c4-49fb-bd0f-b627b95ca05b",
   "metadata": {},
   "source": [
    "43. Swap two elements in a tuple."
   ]
  },
  {
   "cell_type": "code",
   "execution_count": 38,
   "id": "15fe99c2-ef2d-432e-869e-f88591826894",
   "metadata": {},
   "outputs": [
    {
     "name": "stdout",
     "output_type": "stream",
     "text": [
      "Swapped tuple: (1, 2, 5, 4, 3, 6)\n"
     ]
    }
   ],
   "source": [
    "my_tup43 = (1,2,3,4,5,6)\n",
    "index1= 2\n",
    "index2= 4\n",
    "new43 =list(my_tup43)\n",
    "temp = new43[index1]\n",
    "new43[index1]=new43[index2]\n",
    "new43[index2]= temp\n",
    "\n",
    "print(\"Swapped tuple:\",tuple(new43))"
   ]
  },
  {
   "cell_type": "markdown",
   "id": "8ad2aeb8-529f-4720-ba1d-404ce537abbd",
   "metadata": {},
   "source": [
    "44. Reverse the elements of a tuple."
   ]
  },
  {
   "cell_type": "code",
   "execution_count": 39,
   "id": "323ce3e5-91c3-4e4d-8be2-8aecca9f17e7",
   "metadata": {},
   "outputs": [
    {
     "name": "stdout",
     "output_type": "stream",
     "text": [
      "Reversed Tuple: (6, 5, 4, 3, 2, 1)\n"
     ]
    }
   ],
   "source": [
    "my_tup44 = (1,2,3,4,5,6)\n",
    "\n",
    "reversed_tup44 = my_tup44[-1::-1]\n",
    "\n",
    "print(\"Reversed Tuple:\", reversed_tup44)"
   ]
  },
  {
   "cell_type": "markdown",
   "id": "30cf4ca0-8ee8-40ad-a98f-3224c1d29ad3",
   "metadata": {},
   "source": [
    "45. Create a tuple of the first `n` powers of 2."
   ]
  },
  {
   "cell_type": "code",
   "execution_count": 44,
   "id": "b85347ad-e98c-4d77-b58b-3ad758c965b2",
   "metadata": {},
   "outputs": [
    {
     "name": "stdin",
     "output_type": "stream",
     "text": [
      "Enter value of n in integer 10\n"
     ]
    },
    {
     "data": {
      "text/plain": [
       "(1, 2, 4, 8, 16, 32, 64, 128, 256, 512)"
      ]
     },
     "execution_count": 44,
     "metadata": {},
     "output_type": "execute_result"
    }
   ],
   "source": [
    "n=input(\"Enter value of n in integer\")\n",
    "\n",
    "tup_45 = tuple([2**i for i in range(int(n))])\n",
    "tup_45"
   ]
  },
  {
   "cell_type": "markdown",
   "id": "a066b765-31f7-4c6a-a08c-150a4f24e862",
   "metadata": {},
   "source": [
    "46. Find the longest string in a tuple of strings."
   ]
  },
  {
   "cell_type": "code",
   "execution_count": 47,
   "id": "798e7173-4c9c-4590-b28d-f2adbf7fe0c0",
   "metadata": {},
   "outputs": [
    {
     "name": "stdout",
     "output_type": "stream",
     "text": [
      "Longest string is : mayank\n"
     ]
    }
   ],
   "source": [
    "tup46 =('my','name','is','mayank')\n",
    "longest_str=''\n",
    "\n",
    "for i in tup46:\n",
    "    if len(i)>len(longest_str):\n",
    "        longest_str=i\n",
    "\n",
    "print(\"Longest string is :\", longest_str)"
   ]
  },
  {
   "cell_type": "code",
   "execution_count": 49,
   "id": "4ce51da3-0d4e-4e26-9f29-fbcad276b16b",
   "metadata": {},
   "outputs": [
    {
     "name": "stdout",
     "output_type": "stream",
     "text": [
      "Longest string: mayank\n"
     ]
    }
   ],
   "source": [
    "tup461 =('my','name','is','mayank')\n",
    "\n",
    "longest_str2 = max(tup461,key = len)\n",
    "\n",
    "print(\"Longest string:\", longest_str2)"
   ]
  },
  {
   "cell_type": "markdown",
   "id": "1262aabe-a0b7-4277-90bd-33a26b168c13",
   "metadata": {},
   "source": [
    "47. Find the shortest string in a tuple of strings./"
   ]
  },
  {
   "cell_type": "code",
   "execution_count": 51,
   "id": "fe6ffee7-8b34-431a-aada-13c470ce3c1a",
   "metadata": {},
   "outputs": [
    {
     "name": "stdout",
     "output_type": "stream",
     "text": [
      "Shortest string: i\n"
     ]
    }
   ],
   "source": [
    "tup47 =('my','name','i','mayank')\n",
    "\n",
    "shortest_str2 = min(tup47,key = len)\n",
    "\n",
    "print(\"Shortest string:\", shortest_str2)"
   ]
  },
  {
   "cell_type": "markdown",
   "id": "1297777f-872b-4ae8-a8fa-564e87fc5301",
   "metadata": {},
   "source": [
    "48. Create a tuple of the first `n` triangular numbers."
   ]
  },
  {
   "cell_type": "code",
   "execution_count": 52,
   "id": "2f176a4f-af6e-4cc7-bc19-7726c4433338",
   "metadata": {},
   "outputs": [
    {
     "name": "stdout",
     "output_type": "stream",
     "text": [
      "Triangular numbers are: (1.0, 3.0, 6.0, 10.0, 15.0)\n"
     ]
    }
   ],
   "source": [
    "n =5 \n",
    "\n",
    "tup48 = tuple([i*(i+1)/2 for i in range(1,n+1)])\n",
    "print(\"Triangular numbers are:\",tup48)\n"
   ]
  },
  {
   "cell_type": "markdown",
   "id": "5e14d56f-2b7a-4a88-b5dc-6a7f58a07854",
   "metadata": {},
   "source": [
    "49. Check if a tuple contains another tuple as a subsequence."
   ]
  },
  {
   "cell_type": "code",
   "execution_count": 53,
   "id": "e7d88285-7479-426c-afa8-9b428cd84250",
   "metadata": {},
   "outputs": [
    {
     "name": "stdout",
     "output_type": "stream",
     "text": [
      "Main tuple contains subsequence tuple: True\n"
     ]
    }
   ],
   "source": [
    "def check_subseq(main, sub):\n",
    "    sub_length = len(sub)\n",
    "    for i in range(len(main)-sub_length+1):\n",
    "        if main[i:i+sub_length] == sub:\n",
    "            return True\n",
    "    return False\n",
    "\n",
    "main_tup49=(1,2,3,4,5,6,7,8)\n",
    "sub49=(3,4,5)\n",
    "\n",
    "contain_subseq = check_subseq(main_tup49,sub49)\n",
    "print(\"Main tuple contains subsequence tuple:\",contain_subseq)\n",
    "    "
   ]
  },
  {
   "cell_type": "markdown",
   "id": "5863e33a-a67d-41e9-ae34-cd20dd68bbd7",
   "metadata": {},
   "source": [
    "50. Create a tuple of alternating 1s and 0s of length `n`."
   ]
  },
  {
   "cell_type": "code",
   "execution_count": 54,
   "id": "f2de6c19-bc59-48d8-ad6c-a8a2c8faf422",
   "metadata": {},
   "outputs": [
    {
     "name": "stdin",
     "output_type": "stream",
     "text": [
      "enter value of n 10\n"
     ]
    },
    {
     "name": "stdout",
     "output_type": "stream",
     "text": [
      "Alternating tuple upto length 10 is: (0, 1, 0, 1, 0, 1, 0, 1, 0, 1)\n"
     ]
    }
   ],
   "source": [
    "n = int(input(\"enter value of n\"))\n",
    "\n",
    "tup50= tuple(i%2 for i in range(n))\n",
    "print(\"Alternating tuple upto length\",n,\"is:\",tup50)\n"
   ]
  },
  {
   "cell_type": "markdown",
   "id": "6f0958ef-ac0a-4045-a518-76cb7881cc54",
   "metadata": {},
   "source": [
    "Set Based Practice Problem :"
   ]
  },
  {
   "cell_type": "markdown",
   "id": "fc2c75e0-1000-4e9d-bcd8-7ba8f3bb72ae",
   "metadata": {},
   "source": [
    "1. Create a set with integers from 1 to 5."
   ]
  },
  {
   "cell_type": "code",
   "execution_count": 6,
   "id": "36ef0d36-f83d-4a2f-874d-020bbf739a98",
   "metadata": {},
   "outputs": [
    {
     "data": {
      "text/plain": [
       "{1, 2, 3, 4, 5}"
      ]
     },
     "execution_count": 6,
     "metadata": {},
     "output_type": "execute_result"
    }
   ],
   "source": [
    "my_set1 =set()\n",
    "my_set1.add(1)\n",
    "my_set1.add(2)\n",
    "my_set1.add(3)\n",
    "my_set1.add(4)\n",
    "my_set1.add(5)\n",
    "\n",
    "my_set1"
   ]
  },
  {
   "cell_type": "markdown",
   "id": "5ade9b18-4b6f-419f-9295-d9cb653b8213",
   "metadata": {},
   "source": [
    "2. Add an element to a set."
   ]
  },
  {
   "cell_type": "markdown",
   "id": "297b9d52-b375-4428-a848-672282592afb",
   "metadata": {},
   "source": [
    "my_set2 ={1, 2, 3, 4, 5}\n",
    "elem2 = 6\n",
    "\n",
    "my_set2.add(elem2)\n",
    "print(my_set2)"
   ]
  },
  {
   "cell_type": "markdown",
   "id": "be5f0610-93aa-4607-8d2d-ece099ff597a",
   "metadata": {},
   "source": [
    "3. Remove an element from a set."
   ]
  },
  {
   "cell_type": "code",
   "execution_count": 14,
   "id": "de022bb9-3681-459e-8ec3-ef34b11a00eb",
   "metadata": {},
   "outputs": [
    {
     "data": {
      "text/plain": [
       "{1, 2, 3, 4, 6}"
      ]
     },
     "execution_count": 14,
     "metadata": {},
     "output_type": "execute_result"
    }
   ],
   "source": [
    "set3 ={1, 2, 3, 4, 5, 6}\n",
    "\n",
    "set3.remove(5)\n",
    "set3"
   ]
  },
  {
   "cell_type": "markdown",
   "id": "cf8c6f7b-0191-47a7-8c79-fea15094748e",
   "metadata": {},
   "source": [
    "4. Check if an element exists in a set."
   ]
  },
  {
   "cell_type": "code",
   "execution_count": 18,
   "id": "19567e97-bc53-4a38-b97d-bfc7b23c310e",
   "metadata": {},
   "outputs": [
    {
     "name": "stdout",
     "output_type": "stream",
     "text": [
      "Element exists in set\n"
     ]
    }
   ],
   "source": [
    "set4 ={1, 2, 3, 4, 5, 6}\n",
    "ele_to_chck =4\n",
    "\n",
    "if ele_to_chck in set4:\n",
    "    print(\"Element exists in set\")\n",
    "else:\n",
    "    print(\"Element does not exists in set\")"
   ]
  },
  {
   "cell_type": "markdown",
   "id": "59374a8a-7d4b-4531-b891-d415942a7e99",
   "metadata": {},
   "source": [
    "5. Find the length of a set without using the `len()` function."
   ]
  },
  {
   "cell_type": "code",
   "execution_count": 19,
   "id": "54aa9073-e325-4223-b70b-5ac9737d4cfe",
   "metadata": {},
   "outputs": [
    {
     "name": "stdout",
     "output_type": "stream",
     "text": [
      "Length of set:  6\n"
     ]
    }
   ],
   "source": [
    "set5 ={1, 2, 3, 4, 5, 6}\n",
    "count=0\n",
    "\n",
    "for i in set5:\n",
    "    count+=1\n",
    "print(\"Length of set: \",count)"
   ]
  },
  {
   "cell_type": "markdown",
   "id": "ea0c3f32-7392-47dd-b493-eb169182f3a3",
   "metadata": {},
   "source": [
    "6. Clear all elements from a set."
   ]
  },
  {
   "cell_type": "code",
   "execution_count": 21,
   "id": "b12cc99e-f60e-41e7-869c-247b05f8b57c",
   "metadata": {},
   "outputs": [
    {
     "data": {
      "text/plain": [
       "set()"
      ]
     },
     "execution_count": 21,
     "metadata": {},
     "output_type": "execute_result"
    }
   ],
   "source": [
    "set6 ={1, 2, 3, 4, 5, 6}\n",
    "set6.clear()\n",
    "set6"
   ]
  },
  {
   "cell_type": "markdown",
   "id": "7b6ff5f9-2ac6-45b1-81a8-5f721758c2f7",
   "metadata": {},
   "source": [
    "7. Create a set of even numbers from 1 to 10."
   ]
  },
  {
   "cell_type": "code",
   "execution_count": 28,
   "id": "96d15507-8053-40f3-a8fd-213bdf432d40",
   "metadata": {},
   "outputs": [
    {
     "name": "stdout",
     "output_type": "stream",
     "text": [
      "Set of even numbers: {2, 4, 6, 8, 10}\n"
     ]
    }
   ],
   "source": [
    "even_num_set= set()\n",
    "\n",
    "for i in range(1,11):\n",
    "    if i%2==0:\n",
    "        even_num_set.add(i)\n",
    "\n",
    "print(\"Set of even numbers:\",even_num_set)\n"
   ]
  },
  {
   "cell_type": "markdown",
   "id": "fd16b2d3-88a7-4a8a-b26b-cdbfd28b89de",
   "metadata": {},
   "source": [
    "8. Create a set of odd numbers from 1 to 10."
   ]
  },
  {
   "cell_type": "code",
   "execution_count": 29,
   "id": "9772abe1-081d-4eae-beaa-69b62c49d830",
   "metadata": {},
   "outputs": [
    {
     "name": "stdout",
     "output_type": "stream",
     "text": [
      "Set of odd numbers: {1, 3, 5, 7, 9}\n"
     ]
    }
   ],
   "source": [
    "odd_num_set= set()\n",
    "for i in range(1,10):\n",
    "    if i%2!=0:\n",
    "        odd_num_set.add(i)\n",
    "        \n",
    "print(\"Set of odd numbers:\",odd_num_set)"
   ]
  },
  {
   "cell_type": "markdown",
   "id": "19079ca5-59ed-49ec-b179-3a96c2b7d91b",
   "metadata": {},
   "source": [
    "9. Find the union of two sets."
   ]
  },
  {
   "cell_type": "code",
   "execution_count": 30,
   "id": "6e44b112-0df3-40c7-a52a-ec53cc2dee59",
   "metadata": {},
   "outputs": [
    {
     "name": "stdout",
     "output_type": "stream",
     "text": [
      "Set 1 : {1, 2, 3, 4, 5, 6}\n",
      "Set 2: {4, 5, 6, 7, 8, 9}\n",
      "Union of set1 and set2 {1, 2, 3, 4, 5, 6, 7, 8, 9}\n"
     ]
    }
   ],
   "source": [
    "set91= {1,2,3,4,5,6}\n",
    "set92= {4,5,6,7,8,9}\n",
    "\n",
    "union_result = set91.union(set92)\n",
    "\n",
    "print(\"Set 1 :\",set91)\n",
    "print(\"Set 2:\",set92)\n",
    "print(\"Union of set1 and set2\",union_result)\n"
   ]
  },
  {
   "cell_type": "markdown",
   "id": "df64af36-3d88-4cab-becf-adb4407e447c",
   "metadata": {},
   "source": [
    "10. Find the intersection of two sets."
   ]
  },
  {
   "cell_type": "code",
   "execution_count": 32,
   "id": "8d5a84e2-358c-4b6c-b101-3c8e627cbcbb",
   "metadata": {},
   "outputs": [
    {
     "name": "stdout",
     "output_type": "stream",
     "text": [
      "Set 1 : {1, 2, 3, 4, 5, 6}\n",
      "Set 2: {4, 5, 6, 7, 8, 9}\n",
      "Union of set1 and set2 {4, 5, 6}\n"
     ]
    }
   ],
   "source": [
    "set101= {1,2,3,4,5,6}\n",
    "set102= {4,5,6,7,8,9}\n",
    "intersection_Result= set101.intersection(set102)\n",
    "\n",
    "print(\"Set 1 :\",set101)\n",
    "print(\"Set 2:\",set102)\n",
    "print(\"Union of set1 and set2\",intersection_Result)"
   ]
  },
  {
   "cell_type": "markdown",
   "id": "9eef7b35-582c-4cbf-b24c-5b671fc298fa",
   "metadata": {},
   "source": [
    "11. Find the difference between two sets."
   ]
  },
  {
   "cell_type": "code",
   "execution_count": 34,
   "id": "4e35631a-d020-4a76-9d74-aae44f3190cc",
   "metadata": {},
   "outputs": [
    {
     "name": "stdout",
     "output_type": "stream",
     "text": [
      "Set 1 : {1, 2, 3, 4, 5, 6}\n",
      "Set 2: {4, 5, 6, 7, 8, 9}\n",
      "Union of set1 and set2 {1, 2, 3}\n"
     ]
    }
   ],
   "source": [
    "set111= {1,2,3,4,5,6}\n",
    "set112= {4,5,6,7,8,9}\n",
    "\n",
    "Difference_btw_set = set111.difference(set112)\n",
    "\n",
    "print(\"Set 1 :\",set111)\n",
    "print(\"Set 2:\",set112)\n",
    "print(\"Union of set1 and set2\",Difference_btw_set)"
   ]
  },
  {
   "cell_type": "markdown",
   "id": "0694dd3e-6c2c-4729-acc6-37dd97d4ebfb",
   "metadata": {},
   "source": [
    "12. Check if a set is a subset of another set."
   ]
  },
  {
   "cell_type": "code",
   "execution_count": 36,
   "id": "d469500c-13db-4eaf-a5a3-39ce9de21531",
   "metadata": {},
   "outputs": [
    {
     "name": "stdout",
     "output_type": "stream",
     "text": [
      "It is not a subset\n"
     ]
    }
   ],
   "source": [
    "set121= {1,2,3,4,5,6}\n",
    "set122= {7,8,9}\n",
    "\n",
    "if set122.issubset(set121):\n",
    "    print(\"IT is a subset\")\n",
    "else:\n",
    "    print(\"It is not a subset\")"
   ]
  },
  {
   "cell_type": "markdown",
   "id": "47f45766-6a4e-467d-a6e8-b5696965c41d",
   "metadata": {},
   "source": [
    "13. Check if a set is a superset of another set."
   ]
  },
  {
   "cell_type": "code",
   "execution_count": 37,
   "id": "6455fd25-7077-428a-86f1-66a35551175e",
   "metadata": {},
   "outputs": [
    {
     "name": "stdout",
     "output_type": "stream",
     "text": [
      "it is a super set:\n"
     ]
    }
   ],
   "source": [
    "set131= {1,2,3,4,5,6}\n",
    "set132= {4,5}\n",
    "\n",
    "if set131.issuperset(set132):\n",
    "    print(\"it is a super set\")\n",
    "else:\n",
    "    print(\"It is not a super set\")"
   ]
  },
  {
   "cell_type": "markdown",
   "id": "7f147256-b45e-4f4c-b0dc-56c264a5044d",
   "metadata": {},
   "source": [
    "14. Create a set from a list."
   ]
  },
  {
   "cell_type": "code",
   "execution_count": 39,
   "id": "8f05d0a3-f8d6-4462-afe2-76fc568c127f",
   "metadata": {},
   "outputs": [
    {
     "name": "stdout",
     "output_type": "stream",
     "text": [
      "original list: [13, 15, 15, 16, 17]\n",
      "Set from list: {16, 17, 13, 15}\n"
     ]
    }
   ],
   "source": [
    "my_list14= [13,15,15,16,17]\n",
    "\n",
    "new_Set14 =set(my_list14)\n",
    "print(\"original list:\",my_list14)\n",
    "print(\"Set from list:\",new_Set14)"
   ]
  },
  {
   "cell_type": "markdown",
   "id": "bfc6e407-be4e-4bbd-aa74-64cf1a2eb1b5",
   "metadata": {},
   "source": [
    "15. Convert a set to a list."
   ]
  },
  {
   "cell_type": "code",
   "execution_count": 40,
   "id": "e0591409-e472-43ee-9428-bb926417338e",
   "metadata": {},
   "outputs": [
    {
     "name": "stdout",
     "output_type": "stream",
     "text": [
      "Original set {1, 2, 3, 67, 5, 9, 78}\n",
      "new list: [1, 2, 3, 67, 5, 9, 78]\n"
     ]
    }
   ],
   "source": [
    "my_set15={1,2,3,5,67,78,9}\n",
    "my_list15= list(my_set15)\n",
    "\n",
    "print(\"Original set\",my_set15)\n",
    "print(\"new list:\",my_list15)"
   ]
  },
  {
   "cell_type": "markdown",
   "id": "237050b8-8be6-4a0d-ab76-299e5b88a567",
   "metadata": {},
   "source": [
    "16. Remove a random element from a set."
   ]
  },
  {
   "cell_type": "code",
   "execution_count": 41,
   "id": "dece80ae-d633-47f6-8720-d0e5cb79640f",
   "metadata": {},
   "outputs": [
    {
     "name": "stdout",
     "output_type": "stream",
     "text": [
      "New list {1, 2, 4, 5, 6}\n"
     ]
    }
   ],
   "source": [
    "import random\n",
    "my_set16= {1,2,3,4,5,6}\n",
    "\n",
    "random_element = random.choice(list(my_set16))\n",
    "\n",
    "my_set16.remove(random_element)\n",
    "\n",
    "print(\"New list\", my_set16)"
   ]
  },
  {
   "cell_type": "markdown",
   "id": "b2f7ac23-1394-4d9c-93e5-bfcdeeddbfa5",
   "metadata": {},
   "source": [
    "17. Pop an element from a set."
   ]
  },
  {
   "cell_type": "code",
   "execution_count": 42,
   "id": "8c1e4327-744a-45c2-b656-7ca813c7c4ed",
   "metadata": {},
   "outputs": [
    {
     "name": "stdout",
     "output_type": "stream",
     "text": [
      "Popped element: 1\n",
      "Set after popping of element: {2, 3, 4, 5, 6}\n"
     ]
    }
   ],
   "source": [
    "my_set17= {1,2,3,4,5,6}\n",
    "popped_element=my_set17.pop()\n",
    "print(\"Popped element:\", popped_element)\n",
    "print(\"Set after popping of element:\",my_set17)"
   ]
  },
  {
   "cell_type": "markdown",
   "id": "a5d9a9b3-4f50-4fe5-ab0d-e8d69e0f812b",
   "metadata": {},
   "source": [
    "18. Check if two sets have no elements in common."
   ]
  },
  {
   "cell_type": "code",
   "execution_count": 45,
   "id": "63eb0719-2536-49eb-bfa6-d1b29fa4bc3c",
   "metadata": {},
   "outputs": [
    {
     "name": "stdout",
     "output_type": "stream",
     "text": [
      "Have no elements in common\n"
     ]
    }
   ],
   "source": [
    "set181={1,2,3,4}\n",
    "set182={5,6,7,8}\n",
    "\n",
    "common_ele = set181.intersection(set182)\n",
    "\n",
    "if not common_ele:\n",
    "    print(\"Have no elements in common\")\n",
    "else:\n",
    "    print(\"have elements in common\")"
   ]
  },
  {
   "cell_type": "markdown",
   "id": "2d122c66-34a7-4a54-ba3c-c317ee2ac478",
   "metadata": {},
   "source": [
    "19. Find the symmetric difference between two sets."
   ]
  },
  {
   "cell_type": "code",
   "execution_count": 46,
   "id": "c24b3217-b231-40ac-afcf-c93ed9b84fcc",
   "metadata": {},
   "outputs": [
    {
     "name": "stdout",
     "output_type": "stream",
     "text": [
      "Symmetric difference: {1, 2, 3, 4, 6, 7, 8, 9}\n"
     ]
    }
   ],
   "source": [
    "set191={1,2,3,4,5}\n",
    "set192={5,6,7,8,9}\n",
    "\n",
    "symm_diff = set191^set192\n",
    "\n",
    "print(\"Symmetric difference:\",symm_diff)\n"
   ]
  },
  {
   "cell_type": "markdown",
   "id": "5052060b-8482-4635-b632-d379a0d9723a",
   "metadata": {},
   "source": [
    "20. Update a set with elements from another set."
   ]
  },
  {
   "cell_type": "code",
   "execution_count": 49,
   "id": "09bffea7-1089-4c3b-ae6f-53d578221faf",
   "metadata": {},
   "outputs": [
    {
     "name": "stdout",
     "output_type": "stream",
     "text": [
      "New updated set with elements of both set: {1, 2, 3, 4, 5, 6, 7, 8, 9}\n"
     ]
    }
   ],
   "source": [
    "set201={1,2,3,4,5}\n",
    "set202={5,6,7,8,9}\n",
    "\n",
    "set201.update(set202)\n",
    "print(\"New updated set with elements of both set:\",set201)"
   ]
  },
  {
   "cell_type": "markdown",
   "id": "f73eb3f9-e63f-41c8-91bc-bb0c8c920aa9",
   "metadata": {},
   "source": [
    "21. Create a set of the first 5 prime numbers."
   ]
  },
  {
   "cell_type": "code",
   "execution_count": 1,
   "id": "e08c316d-e315-4d47-b51e-1589498da78b",
   "metadata": {},
   "outputs": [
    {
     "name": "stdout",
     "output_type": "stream",
     "text": [
      "Set of the first 5 prime numbers: {2, 3, 5, 7, 11}\n"
     ]
    }
   ],
   "source": [
    "\n",
    "def is_prime(num):\n",
    "    if num <= 1:\n",
    "        return False\n",
    "    for i in range(2, int(num ** 0.5) + 1):\n",
    "        if num % i == 0:\n",
    "            return False\n",
    "    return True\n",
    "\n",
    "prime_set = set()\n",
    "\n",
    "\n",
    "num = 2\n",
    "\n",
    "# Loop until we have found the first 5 prime numbers\n",
    "while len(prime_set) < 5:\n",
    "    # Check if the current number is prime using the is_prime function\n",
    "    if is_prime(num):\n",
    "        # If the number is prime, add it to the prime_set\n",
    "        prime_set.add(num)\n",
    "\n",
    "    # Move on to the next number for the next iteration\n",
    "    num += 1\n",
    "\n",
    "# Print the set of prime numbers\n",
    "print(\"Set of the first 5 prime numbers:\", prime_set)"
   ]
  },
  {
   "cell_type": "markdown",
   "id": "15e43f95-911b-44ac-a17b-16739a5ef65e",
   "metadata": {},
   "source": [
    "22. Check if two sets are identical."
   ]
  },
  {
   "cell_type": "code",
   "execution_count": 2,
   "id": "ca9ff67c-223f-49a4-bd15-c61ee29e5cee",
   "metadata": {},
   "outputs": [
    {
     "name": "stdout",
     "output_type": "stream",
     "text": [
      "Sets s221 and s222 are identical\n"
     ]
    }
   ],
   "source": [
    "s221={1,2,3,4,5}\n",
    "s222= {1,2,3,4,5}\n",
    "\n",
    "if s221==s222:\n",
    "    print(\"Sets s221 and s222 are identical\")\n",
    "else:\n",
    "    print(\"Sets s221 and s222 are not identical\")"
   ]
  },
  {
   "cell_type": "markdown",
   "id": "8ab97faa-4d73-4bbe-b0b8-c16d5dbb9023",
   "metadata": {},
   "source": [
    "23. Create a frozen set."
   ]
  },
  {
   "cell_type": "code",
   "execution_count": 3,
   "id": "5d10d479-40ef-4b3c-8c01-9d5fdaeae44f",
   "metadata": {},
   "outputs": [
    {
     "name": "stdout",
     "output_type": "stream",
     "text": [
      "Frozen Set is frozenset({4, 5, 6, 7, 8})\n"
     ]
    }
   ],
   "source": [
    "elements23 = [4,5,6,7,8]\n",
    "my_frozen_Set23 = frozenset(elements23)\n",
    "\n",
    "print(\"Frozen Set is\", my_frozen_Set23)\n",
    "\n"
   ]
  },
  {
   "cell_type": "markdown",
   "id": "a428f394-d19b-4aad-b7d9-4226722409ab",
   "metadata": {},
   "source": [
    "24. Check if a set is disjoint with another set."
   ]
  },
  {
   "cell_type": "code",
   "execution_count": 6,
   "id": "527ec433-5c22-4846-a9ba-f51116a58f84",
   "metadata": {},
   "outputs": [
    {
     "name": "stdout",
     "output_type": "stream",
     "text": [
      "Disjoint status: True\n"
     ]
    }
   ],
   "source": [
    "set241 = {1,2,3,4,5}\n",
    "set242 = {6,7,8,9,10}\n",
    "\n",
    "disjoint_Stat = set241.isdisjoint(set242)\n",
    "\n",
    "print(\"Disjoint status:\", disjoint_Stat)"
   ]
  },
  {
   "cell_type": "markdown",
   "id": "8b667134-ca56-49bd-8634-4499bc1b13c8",
   "metadata": {},
   "source": [
    "25. Create a set of squares of numbers from 1 to 5."
   ]
  },
  {
   "cell_type": "code",
   "execution_count": 8,
   "id": "2b752971-6869-4042-a512-dea13e75992f",
   "metadata": {},
   "outputs": [
    {
     "name": "stdout",
     "output_type": "stream",
     "text": [
      "Set of squares from 1 to 5 : {1, 4, 9, 16, 25}\n"
     ]
    }
   ],
   "source": [
    "set_Square = set()\n",
    "\n",
    "for i in range(1,6):\n",
    "    set_Square.add(i*i)\n",
    "    \n",
    "print(\"Set of squares from 1 to 5 :\",set_Square)"
   ]
  },
  {
   "cell_type": "markdown",
   "id": "17dc42aa-6c5a-4e2f-a5c2-9e5103f2525a",
   "metadata": {},
   "source": [
    "26. Filter out all even numbers from a set."
   ]
  },
  {
   "cell_type": "code",
   "execution_count": 9,
   "id": "eb980111-f26b-4b09-96c4-445ef0ed91e7",
   "metadata": {},
   "outputs": [
    {
     "name": "stdout",
     "output_type": "stream",
     "text": [
      "Filtered set without even numbers: {17, 19, 13}\n"
     ]
    }
   ],
   "source": [
    "set26= {12,14,13,17,19,22,24}\n",
    "even_no_set =set()\n",
    "\n",
    "for i in set26:\n",
    "    if i%2!=0:\n",
    "        even_no_set.add(i)\n",
    "        \n",
    "print(\"Filtered set without even numbers:\",even_no_set)\n"
   ]
  },
  {
   "cell_type": "markdown",
   "id": "fb02a42c-38bd-4ff0-8215-8f13cbf4d897",
   "metadata": {},
   "source": [
    "27. Multiply all elements in a set by 2."
   ]
  },
  {
   "cell_type": "code",
   "execution_count": 10,
   "id": "a04ffa76-92db-4f40-9035-ad85ccee69e4",
   "metadata": {},
   "outputs": [
    {
     "name": "stdout",
     "output_type": "stream",
     "text": [
      "New set is: {34, 38, 44, 48, 24, 26, 28}\n"
     ]
    }
   ],
   "source": [
    "set27= {12,14,13,17,19,22,24}\n",
    "new_set27= set()\n",
    "\n",
    "for i in set27:\n",
    "    new_set27.add(i*2)\n",
    "print(\"New set is:\",new_set27)"
   ]
  },
  {
   "cell_type": "markdown",
   "id": "3ff5af3b-9fc2-45c4-bda5-3b648c3ac4fa",
   "metadata": {},
   "source": [
    "28. Create a set of random numbers."
   ]
  },
  {
   "cell_type": "code",
   "execution_count": 12,
   "id": "d832decd-a42b-4f2d-aef2-10bf18315362",
   "metadata": {},
   "outputs": [
    {
     "name": "stdout",
     "output_type": "stream",
     "text": [
      "Generated set of Random Numbers {64, 97, 4, 56, 26}\n"
     ]
    }
   ],
   "source": [
    "import random\n",
    "\n",
    "num_Rand7= 5\n",
    "\n",
    "random_Set28= set()\n",
    "\n",
    "for i in range(num_Rand7):\n",
    "    i = random.randint(1,100)\n",
    "    random_Set28.add(i)\n",
    "    \n",
    "print(\"Generated set of Random Numbers\",random_Set28)"
   ]
  },
  {
   "cell_type": "markdown",
   "id": "a552dc19-1ac3-43a1-9a94-c88c6aea9efc",
   "metadata": {},
   "source": [
    "29. Check if a set is empty."
   ]
  },
  {
   "cell_type": "code",
   "execution_count": 13,
   "id": "d318655a-1ec5-4084-86f0-d5a34c75eb49",
   "metadata": {},
   "outputs": [
    {
     "name": "stdout",
     "output_type": "stream",
     "text": [
      "The set is empty.\n"
     ]
    }
   ],
   "source": [
    "my_set = set()\n",
    "\n",
    "if not my_set:\n",
    "    print(\"The set is empty.\")\n",
    "else:\n",
    "    print(\"The set is not empty.\")"
   ]
  },
  {
   "cell_type": "markdown",
   "id": "ad9bf563-d563-4744-b16e-383dc3fb8c1a",
   "metadata": {},
   "source": [
    "30. Create a nested set (hint: use frozenset)."
   ]
  },
  {
   "cell_type": "code",
   "execution_count": 14,
   "id": "463b18d7-9153-4895-a95f-b8308451ec36",
   "metadata": {},
   "outputs": [
    {
     "name": "stdout",
     "output_type": "stream",
     "text": [
      "Nested Set: {frozenset({1, 2, 3, 4, 5}), frozenset({6, 7, 8, 9, 10})}\n"
     ]
    }
   ],
   "source": [
    "set1 = {1, 2, 3, 4, 5}\n",
    "set2 = {6, 7, 8, 9, 10}\n",
    "\n",
    "frozen_set1 = frozenset(set1)\n",
    "frozen_set2 = frozenset(set2)\n",
    "\n",
    "nested_set = {frozen_set1, frozen_set2}\n",
    "\n",
    "print(\"Nested Set:\", nested_set)"
   ]
  },
  {
   "cell_type": "markdown",
   "id": "8f48ffcb-b328-46c7-9efd-ae07e730bb55",
   "metadata": {},
   "source": [
    "31. Remove an element from a set using the discard method."
   ]
  },
  {
   "cell_type": "code",
   "execution_count": 17,
   "id": "94b853ac-859b-489b-9166-4e3707bf262a",
   "metadata": {},
   "outputs": [
    {
     "data": {
      "text/plain": [
       "{1, 2, 3, 5}"
      ]
     },
     "execution_count": 17,
     "metadata": {},
     "output_type": "execute_result"
    }
   ],
   "source": [
    "set1 = {1, 2, 3, 4, 5}\n",
    "elem_to_be_Removed = 4\n",
    "\n",
    "set1.discard(elem_to_be_Removed)\n",
    "set1"
   ]
  },
  {
   "cell_type": "markdown",
   "id": "948ba37c-1e3e-4aab-be50-2f35c7f7e55a",
   "metadata": {},
   "source": [
    "32. Compare two sets."
   ]
  },
  {
   "cell_type": "code",
   "execution_count": 19,
   "id": "ee74dc8d-c9f5-4ca7-a51a-ac47066b8ff6",
   "metadata": {},
   "outputs": [
    {
     "name": "stdout",
     "output_type": "stream",
     "text": [
      "Set 1 {1, 2, 3, 4, 5}\n",
      "Set 2  {4, 5, 6, 7, 8}\n",
      "Is set 1 is subset of set 2: False\n",
      "Is set 1 is superset of set 2: False\n",
      "intersection of set1 and set2: {4, 5}\n",
      "Union of set 1 and set 2: {1, 2, 3, 4, 5, 6, 7, 8}\n",
      "Elements in set 1 but not in set 2: {1, 2, 3}\n",
      "Elements in set 2 but not in set 1: {8, 6, 7}\n"
     ]
    }
   ],
   "source": [
    "set311 = {1, 2, 3, 4, 5}\n",
    "set312 = {6, 7, 8,4,5}\n",
    "\n",
    "is_subset = set311.issubset(set312)\n",
    "is_superset = set311.issuperset(set312)\n",
    "intersection = set311.intersection(set312)\n",
    "union = set311.union(set312)\n",
    "difference1 = set311.difference(set312)\n",
    "difference2 = set312.difference(set311)\n",
    "\n",
    "print(\"Set 1\",set311)\n",
    "print(\"Set 2 \", set312)\n",
    "print(\"Is set 1 is subset of set 2:\",is_subset)\n",
    "print(\"Is set 1 is superset of set 2:\",is_superset)\n",
    "print(\"intersection of set1 and set2:\",intersection)\n",
    "print(\"Union of set 1 and set 2:\",union)\n",
    "print(\"Elements in set 1 but not in set 2:\",difference1)\n",
    "print(\"Elements in set 2 but not in set 1:\",difference2)"
   ]
  },
  {
   "cell_type": "markdown",
   "id": "b9305975-812a-469a-be15-6cdad2c0c267",
   "metadata": {},
   "source": [
    "33. Create a set from a string."
   ]
  },
  {
   "cell_type": "code",
   "execution_count": 20,
   "id": "70785821-e549-40ce-b8c7-d3cc8df44341",
   "metadata": {},
   "outputs": [
    {
     "name": "stdout",
     "output_type": "stream",
     "text": [
      "New set33 {'l', ' ', 'd', 'H', 'W', 'o', 'e', 'r'}\n"
     ]
    }
   ],
   "source": [
    "input_str33=\"Hello World\"\n",
    "\n",
    "set_33 = set(input_str33)\n",
    "print(\"New set33\",set_33)"
   ]
  },
  {
   "cell_type": "markdown",
   "id": "7461b126-9729-49ac-b4e9-66351e2e233d",
   "metadata": {},
   "source": [
    "34. Convert a set of strings to a set of integers."
   ]
  },
  {
   "cell_type": "code",
   "execution_count": 22,
   "id": "99976ebb-8822-49d6-8078-bbe534339a5f",
   "metadata": {},
   "outputs": [
    {
     "name": "stdout",
     "output_type": "stream",
     "text": [
      "Original set: {'123', '456', '789'}\n",
      "Integer set: {456, 123, 789}\n"
     ]
    }
   ],
   "source": [
    "string_set34 = {\"123\", \"456\", \"789\"}\n",
    "integer_set = set()\n",
    "\n",
    "for string in string_set34:\n",
    "    integer_value = int(string)\n",
    "    integer_set.add(integer_value)\n",
    "    \n",
    "print(\"Original set:\",string_set34)\n",
    "print(\"Integer set:\", integer_set)"
   ]
  },
  {
   "cell_type": "markdown",
   "id": "f42375f7-8be3-48c2-86de-902f9ab8a8f8",
   "metadata": {},
   "source": [
    "35. Convert a set of integers to a set of strings."
   ]
  },
  {
   "cell_type": "code",
   "execution_count": 23,
   "id": "4f362ffb-b19b-458a-9344-21956733b4f4",
   "metadata": {},
   "outputs": [
    {
     "name": "stdout",
     "output_type": "stream",
     "text": [
      "Original set: {456, 123, 789}\n",
      "String set: {'123', '456', '789'}\n"
     ]
    }
   ],
   "source": [
    "integer_set = {456, 123, 789}\n",
    "string_set35 = set()\n",
    "\n",
    "for i in integer_set:\n",
    "    string_val = str(i)\n",
    "    string_set35.add(string_val)\n",
    "    \n",
    "print(\"Original set:\", integer_set)\n",
    "print(\"String set:\", string_set35)\n"
   ]
  },
  {
   "cell_type": "markdown",
   "id": "9db3021b-dc29-421f-a7f5-cf74d078b181",
   "metadata": {},
   "source": [
    "36. Create a set from a tuple."
   ]
  },
  {
   "cell_type": "code",
   "execution_count": 24,
   "id": "ad674a3d-196d-49b8-bb8f-d60c2bf472da",
   "metadata": {},
   "outputs": [
    {
     "name": "stdout",
     "output_type": "stream",
     "text": [
      "Orginal tuple: (1, 2, 3, 4, 6)\n",
      "Set of tuple: {1, 2, 3, 4, 6}\n"
     ]
    }
   ],
   "source": [
    "tup36=(1,2,3,4,6)\n",
    "new_set36 = set(tup36)\n",
    "\n",
    "print(\"Orginal tuple:\",tup36)\n",
    "print(\"Set of tuple:\",new_set36)"
   ]
  },
  {
   "cell_type": "markdown",
   "id": "79009a49-eec1-4bef-aab9-132655c9d078",
   "metadata": {},
   "source": [
    "37. Convert a set to a tuple."
   ]
  },
  {
   "cell_type": "code",
   "execution_count": 25,
   "id": "4307f153-1a2a-4997-b82d-a879ec3cce60",
   "metadata": {},
   "outputs": [
    {
     "name": "stdout",
     "output_type": "stream",
     "text": [
      "Original set: {1, 2, 3, 4, 6}\n",
      "New tuple: (1, 2, 3, 4, 6)\n"
     ]
    }
   ],
   "source": [
    "Set37= {1, 2, 3, 4, 6}\n",
    "new_tup37= tuple(Set37)\n",
    "\n",
    "print(\"Original set:\",Set37)\n",
    "print(\"New tuple:\", new_tup37)"
   ]
  },
  {
   "cell_type": "markdown",
   "id": "360a377d-b991-43e9-a705-af1bb55e9ad1",
   "metadata": {},
   "source": [
    "38. Find the maximum value in a set."
   ]
  },
  {
   "cell_type": "code",
   "execution_count": 31,
   "id": "70a18f8e-c285-4822-96b3-97530e734651",
   "metadata": {},
   "outputs": [
    {
     "name": "stdout",
     "output_type": "stream",
     "text": [
      "Maximum value in given set: 31\n"
     ]
    }
   ],
   "source": [
    "Set38= {1, 2, 31, 4, 6}\n",
    "\n",
    "max_val38 = 0\n",
    "\n",
    "for i in Set38:\n",
    "    if i>max_val38:\n",
    "        max_val38=i\n",
    "\n",
    "print(\"Maximum value in given set:\",max_val38)"
   ]
  },
  {
   "cell_type": "markdown",
   "id": "c00468dc-1366-4750-affa-9f82a834d660",
   "metadata": {},
   "source": [
    "39. Find the minimum value in a set."
   ]
  },
  {
   "cell_type": "code",
   "execution_count": 38,
   "id": "5680ac41-d7a3-45f6-bdfa-42fb988e0c02",
   "metadata": {},
   "outputs": [
    {
     "name": "stdout",
     "output_type": "stream",
     "text": [
      "Minimum value in given set: -25\n"
     ]
    }
   ],
   "source": [
    "set39= {45, 2, 31,-25, 4, 6,1}\n",
    "min_val39= None\n",
    "\n",
    "for num in set39:\n",
    "    if min_val39 is None or num < min_val39:\n",
    "        min_val39=num\n",
    "print(\"Minimum value in given set:\", min_val39)"
   ]
  },
  {
   "cell_type": "markdown",
   "id": "cab0ba2e-a484-41e9-95ad-ed5ae3541f5a",
   "metadata": {},
   "source": [
    "40. Create a set from user input."
   ]
  },
  {
   "cell_type": "code",
   "execution_count": 40,
   "id": "55e4647c-5a68-44d9-b855-59c6af8a6b01",
   "metadata": {},
   "outputs": [
    {
     "name": "stdout",
     "output_type": "stream",
     "text": [
      "enter elements for the set and type 'done' to finish it:\n"
     ]
    },
    {
     "name": "stdin",
     "output_type": "stream",
     "text": [
      ">  mayank\n",
      ">  name\n",
      ">  is\n",
      ">  kumar\n",
      ">  done\n"
     ]
    },
    {
     "name": "stdout",
     "output_type": "stream",
     "text": [
      "Final set: {'kumar', 'mayank', 'is', 'name'}\n"
     ]
    }
   ],
   "source": [
    "user_set= set()\n",
    "\n",
    "print(\"enter elements for the set and type 'done' to finish it:\")\n",
    "\n",
    "while True:\n",
    "    user_input = input(\"> \")\n",
    "    if user_input.lower()=='done':\n",
    "        break\n",
    "    user_set.add(user_input)\n",
    "\n",
    "print(\"Final set:\",user_set)"
   ]
  },
  {
   "cell_type": "markdown",
   "id": "12e69eda-673c-4373-8cbd-f383f05e9148",
   "metadata": {},
   "source": [
    "41. Check if the intersection of two sets is empty."
   ]
  },
  {
   "cell_type": "code",
   "execution_count": 41,
   "id": "e97181e6-d447-4bc0-9cc9-2ee212a9d6c4",
   "metadata": {},
   "outputs": [
    {
     "name": "stdout",
     "output_type": "stream",
     "text": [
      "The intersection of two sets is empty\n"
     ]
    }
   ],
   "source": [
    "set411={1,2,3,4,5}\n",
    "set412={6,7,8,9,10}\n",
    "\n",
    "intersection= set411.intersection(set412)\n",
    "\n",
    "if not intersection:\n",
    "    print(\"The intersection of two sets is empty\")\n",
    "else:\n",
    "    print(\"The intersection of two sets is not empty\")"
   ]
  },
  {
   "cell_type": "markdown",
   "id": "aa0fa7cf-eab7-4199-88e1-add13c04c1a6",
   "metadata": {},
   "source": [
    "42. Create a set of the first 5 Fibonacci numbers."
   ]
  },
  {
   "cell_type": "code",
   "execution_count": 42,
   "id": "007c9d91-83bc-42d7-a7b2-0370bd2cc0eb",
   "metadata": {},
   "outputs": [
    {
     "name": "stdout",
     "output_type": "stream",
     "text": [
      "Set of first 5 Fibonacci numbers: {0, 1, 2, 3, 4, 5}\n"
     ]
    }
   ],
   "source": [
    "fibonacci_Set= set()\n",
    "a,b=0,1\n",
    "\n",
    "for i in range(6):\n",
    "    fibonacci_Set.add(i)\n",
    "    a,b= b,a+b\n",
    "\n",
    "print(\"Set of first 5 Fibonacci numbers:\", fibonacci_Set)"
   ]
  },
  {
   "cell_type": "markdown",
   "id": "e2b3f984-6606-4790-9446-80432c5f20e7",
   "metadata": {},
   "source": [
    "43. Remove duplicates from a list using sets."
   ]
  },
  {
   "cell_type": "code",
   "execution_count": 44,
   "id": "85ecfad8-ae61-4c04-82b0-e4438ccd0def",
   "metadata": {},
   "outputs": [
    {
     "name": "stdout",
     "output_type": "stream",
     "text": [
      "unique list: [11, 12, 13, 15, 16, 17, 19]\n"
     ]
    }
   ],
   "source": [
    "list43 = [11,12,13,11,15,17,16,19,12]\n",
    "\n",
    "set43= set(list43)\n",
    "unique_list43= list(set43)\n",
    "\n",
    "print(\"unique list:\", unique_list43)"
   ]
  },
  {
   "cell_type": "markdown",
   "id": "9d535308-80c9-4e75-81a9-78b5809761cf",
   "metadata": {},
   "source": [
    "44. Check if two sets have the same elements, regardless of their count."
   ]
  },
  {
   "cell_type": "code",
   "execution_count": 48,
   "id": "4e63c001-9fcb-48b3-8272-b491fb710501",
   "metadata": {},
   "outputs": [
    {
     "name": "stdout",
     "output_type": "stream",
     "text": [
      "Sets have same elements\n"
     ]
    }
   ],
   "source": [
    "def if_same_ele(set1,set2):\n",
    "    sorted1= sorted(list(set1))\n",
    "    sorted2= sorted(list(set2))\n",
    "    \n",
    "    return sorted1==sorted2\n",
    "    \n",
    "set_441 ={1,2,3,4,5}\n",
    "set_442 ={1,1,2,2,3,3,4,4,5,5}\n",
    "    \n",
    "result= if_same_ele(set_441,set_442)\n",
    "\n",
    "if result:\n",
    "    print(\"Sets have same elements\")\n",
    "else:\n",
    "    print(\"Set have different elements\")"
   ]
  },
  {
   "cell_type": "markdown",
   "id": "bc707bb7-7ec2-4912-b00a-bd7511b7078d",
   "metadata": {},
   "source": [
    "45. Create a set of the first `n` powers of 2."
   ]
  },
  {
   "cell_type": "code",
   "execution_count": 54,
   "id": "8b25555b-ba5d-4551-aa17-54e1193b6245",
   "metadata": {},
   "outputs": [
    {
     "name": "stdin",
     "output_type": "stream",
     "text": [
      "enter value of n: 5\n"
     ]
    },
    {
     "name": "stdout",
     "output_type": "stream",
     "text": [
      "First  5 powers of 2 are: {1, 2, 4, 8, 16}\n"
     ]
    }
   ],
   "source": [
    "n = input(\"enter value of n:\")\n",
    "\n",
    "set_45 = set()\n",
    "\n",
    "for i in range(int(n)):\n",
    "    set_45.add(2**i)\n",
    "    \n",
    "print(\"First \",n,\"powers of 2 are:\", set_45)"
   ]
  },
  {
   "cell_type": "markdown",
   "id": "cc2eda3d-cb02-4dc5-83b1-5fc24528f7d2",
   "metadata": {},
   "source": [
    "46. Find the common elements between a set and a list."
   ]
  },
  {
   "cell_type": "code",
   "execution_count": 59,
   "id": "3e22d334-6ac1-4c48-a4da-1bb6baede13a",
   "metadata": {},
   "outputs": [
    {
     "name": "stdout",
     "output_type": "stream",
     "text": [
      "common elements: [4, 5, 6]\n"
     ]
    }
   ],
   "source": [
    "my_set45={1,2,3,4,5,6}\n",
    "my_list45=[4,5,6,12,18]\n",
    "\n",
    "list_to_set45= set(my_list45)\n",
    "\n",
    "common_ele=[]\n",
    "\n",
    "for elem in my_set45:\n",
    "    if elem in list_to_set45:\n",
    "        common_ele.append(elem)\n",
    "        \n",
    "print(\"common elements:\",common_ele)\n",
    "        \n"
   ]
  },
  {
   "cell_type": "markdown",
   "id": "f7bf4da5-fd1a-41d2-887e-5d173637d5aa",
   "metadata": {},
   "source": [
    "47. Create a set of the first `n` triangular numbers."
   ]
  },
  {
   "cell_type": "code",
   "execution_count": 57,
   "id": "f8f6009d-3885-409a-a48e-61f783906073",
   "metadata": {},
   "outputs": [
    {
     "name": "stdin",
     "output_type": "stream",
     "text": [
      "enter the value of n: 5\n"
     ]
    },
    {
     "name": "stdout",
     "output_type": "stream",
     "text": [
      "The set of first  5 triangular numbers is: {1, 3, 6, 10, 15}\n"
     ]
    }
   ],
   "source": [
    "def generator_triangular(n):\n",
    "    triangular_numbers = set()\n",
    "    for i in range(1,n+1):\n",
    "        number= int(i*(i+1)/2)\n",
    "        triangular_numbers.add(number)\n",
    "    return triangular_numbers\n",
    "\n",
    "n = int(input(\"enter the value of n:\"))\n",
    "\n",
    "set47= generator_triangular(n)\n",
    "print(\"The set of first \",n,\"triangular numbers is:\",set47)\n"
   ]
  },
  {
   "cell_type": "markdown",
   "id": "386beeea-9221-4afc-bb43-d7fc87a87331",
   "metadata": {},
   "source": [
    "48. Check if a set contains another set as a subset."
   ]
  },
  {
   "cell_type": "code",
   "execution_count": 61,
   "id": "d1a83aa0-96a7-41f7-ad75-cd212f09c22e",
   "metadata": {},
   "outputs": [
    {
     "name": "stdout",
     "output_type": "stream",
     "text": [
      "Set 482 is subset of Set 481\n"
     ]
    }
   ],
   "source": [
    "set481= {11,12,13,14,15}\n",
    "set482={11,12}\n",
    "\n",
    "is_subset = set482.issubset(set481)\n",
    "if is_subset:\n",
    "    print(\"Set 482 is subset of Set 481\")\n",
    "else:\n",
    "    print(\"Set 482 is not a subset of Set 481\")\n"
   ]
  },
  {
   "cell_type": "markdown",
   "id": "d221014c-2456-4165-95be-744f298f043f",
   "metadata": {},
   "source": [
    "49. Create a set of alternating 1s and 0s of length `n`."
   ]
  },
  {
   "cell_type": "code",
   "execution_count": 62,
   "id": "8e88e10c-e688-4621-9afe-29cd9f37272b",
   "metadata": {},
   "outputs": [
    {
     "name": "stdin",
     "output_type": "stream",
     "text": [
      "Enter the value of n 10\n"
     ]
    },
    {
     "name": "stdout",
     "output_type": "stream",
     "text": [
      "Final Alternate Set is: {0, 1}\n"
     ]
    }
   ],
   "source": [
    "n = int(input(\"Enter the value of n\"))\n",
    "\n",
    "def create_alt_Set(n):\n",
    "    alternate_Set = set()\n",
    "    for i in range(int(n)):\n",
    "        if i%2==0:\n",
    "            alternate_Set.add(1)\n",
    "        else:\n",
    "            alternate_Set.add(0)\n",
    "    return alternate_Set\n",
    "\n",
    "Final_set = create_alt_Set(n)\n",
    "print(\"Final Alternate Set is:\",Final_set)"
   ]
  },
  {
   "cell_type": "markdown",
   "id": "bc8bce39-aa90-45b6-a067-d8d654c4f37d",
   "metadata": {},
   "source": [
    "50. Merge multiple sets into one."
   ]
  },
  {
   "cell_type": "code",
   "execution_count": 65,
   "id": "d81f8348-381a-49b2-a6ab-f67fe34701e6",
   "metadata": {},
   "outputs": [
    {
     "name": "stdout",
     "output_type": "stream",
     "text": [
      "Merged set : {1, 2, 3, 4, 5, 6, 7, 8, 9}\n"
     ]
    }
   ],
   "source": [
    "set501 ={1,2,3}\n",
    "set502 ={4,5,6}\n",
    "set503={7,8,9}\n",
    "\n",
    "new_Set50= set501.union(set502,set503)\n",
    "\n",
    "\n",
    "print(\"Merged set :\",new_Set50)"
   ]
  },
  {
   "cell_type": "code",
   "execution_count": null,
   "id": "c43cb888-70a9-4c01-923b-885e9f2816b9",
   "metadata": {},
   "outputs": [],
   "source": [
    "}"
   ]
  }
 ],
 "metadata": {
  "kernelspec": {
   "display_name": "Python 3 (ipykernel)",
   "language": "python",
   "name": "python3"
  },
  "language_info": {
   "codemirror_mode": {
    "name": "ipython",
    "version": 3
   },
   "file_extension": ".py",
   "mimetype": "text/x-python",
   "name": "python",
   "nbconvert_exporter": "python",
   "pygments_lexer": "ipython3",
   "version": "3.10.8"
  }
 },
 "nbformat": 4,
 "nbformat_minor": 5
}
