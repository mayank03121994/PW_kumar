{
 "cells": [
  {
   "cell_type": "markdown",
   "id": "ee78988c-3416-49eb-9635-99915058ddf6",
   "metadata": {},
   "source": [
    "Python Basic Variables"
   ]
  },
  {
   "cell_type": "markdown",
   "id": "041e16b3-a9a3-47f7-9abc-50db6aee7a70",
   "metadata": {},
   "source": [
    "1. Declare two variables, `x` and `y`, and assign them integer values. Swap the\n",
    "values of these variables without using any temporary variable."
   ]
  },
  {
   "cell_type": "code",
   "execution_count": 7,
   "id": "21a60536-4e86-4e27-9ecd-5bc5698306d3",
   "metadata": {},
   "outputs": [],
   "source": [
    "#integer variables declared\n",
    "x,y=45,34"
   ]
  },
  {
   "cell_type": "code",
   "execution_count": 8,
   "id": "73b8a2ad-6a94-4699-9dcc-cb0a25ce8300",
   "metadata": {},
   "outputs": [],
   "source": [
    "x=x+y\n",
    "y=x-y\n",
    "x=x-y"
   ]
  },
  {
   "cell_type": "code",
   "execution_count": 9,
   "id": "aca5ebb2-7cdf-4684-9ba9-4ef75da8c374",
   "metadata": {},
   "outputs": [
    {
     "data": {
      "text/plain": [
       "34"
      ]
     },
     "execution_count": 9,
     "metadata": {},
     "output_type": "execute_result"
    }
   ],
   "source": [
    "x"
   ]
  },
  {
   "cell_type": "code",
   "execution_count": 10,
   "id": "326b724d-e5d7-4d5d-8427-a49584eb491d",
   "metadata": {},
   "outputs": [
    {
     "data": {
      "text/plain": [
       "45"
      ]
     },
     "execution_count": 10,
     "metadata": {},
     "output_type": "execute_result"
    }
   ],
   "source": [
    "y"
   ]
  },
  {
   "cell_type": "markdown",
   "id": "32e04ada-0002-462c-b169-3b123bc574a3",
   "metadata": {},
   "source": [
    "2.Create a program that calculates the area of a rectangle. Take the length and\n",
    "width as inputs from the user and store them in variables. Calculate and\n",
    "display the area."
   ]
  },
  {
   "cell_type": "code",
   "execution_count": 11,
   "id": "ab18745e-3807-4385-b7e2-3b2466848f66",
   "metadata": {},
   "outputs": [
    {
     "name": "stdin",
     "output_type": "stream",
     "text": [
      " 24\n"
     ]
    }
   ],
   "source": [
    "#Enter length\n",
    "l = float(input())"
   ]
  },
  {
   "cell_type": "code",
   "execution_count": 12,
   "id": "af040fcc-784a-4da5-a6e0-d732663b1fc7",
   "metadata": {},
   "outputs": [
    {
     "name": "stdin",
     "output_type": "stream",
     "text": [
      " 10\n"
     ]
    }
   ],
   "source": [
    "#Enter breadth\n",
    "b= float(input())"
   ]
  },
  {
   "cell_type": "code",
   "execution_count": 13,
   "id": "346ade91-7607-4801-bb9b-77336ef1d6ee",
   "metadata": {},
   "outputs": [
    {
     "data": {
      "text/plain": [
       "240.0"
      ]
     },
     "execution_count": 13,
     "metadata": {},
     "output_type": "execute_result"
    }
   ],
   "source": [
    "Area_of_Rectangle = l * b\n",
    "Area_of_Rectangle"
   ]
  },
  {
   "cell_type": "markdown",
   "id": "aa808782-937e-4fd4-bedd-059485d2b066",
   "metadata": {},
   "source": [
    "3. Write a Python program that converts temperatures from Celsius to\n",
    "Fahrenheit. Take the temperature in Celsius as input, store it in a variable,\n",
    "convert it to Fahrenheit, and display the result."
   ]
  },
  {
   "cell_type": "code",
   "execution_count": 14,
   "id": "548d3f29-d3bd-439f-853b-4f4e4e35041a",
   "metadata": {},
   "outputs": [
    {
     "name": "stdin",
     "output_type": "stream",
     "text": [
      " 109\n"
     ]
    }
   ],
   "source": [
    "temp_cel= float(input())"
   ]
  },
  {
   "cell_type": "code",
   "execution_count": 15,
   "id": "c3c5d012-59d0-4518-ba2f-e63d425277a9",
   "metadata": {},
   "outputs": [
    {
     "data": {
      "text/plain": [
       "228.2"
      ]
     },
     "execution_count": 15,
     "metadata": {},
     "output_type": "execute_result"
    }
   ],
   "source": [
    "temp_farh = (temp_cel*9/5)+32\n",
    "temp_farh"
   ]
  },
  {
   "cell_type": "markdown",
   "id": "0822cff3-142e-41b4-ae0b-caedbfef38a0",
   "metadata": {},
   "source": [
    "String Based Questions"
   ]
  },
  {
   "cell_type": "markdown",
   "id": "2bab9cef-186d-4950-9053-b15fee216ff2",
   "metadata": {},
   "source": [
    "1. Write a Python program that takes a string as input and prints the length of\n",
    "the string."
   ]
  },
  {
   "cell_type": "code",
   "execution_count": 23,
   "id": "d6a1801d-60d3-42aa-ac1a-980764b4d151",
   "metadata": {},
   "outputs": [
    {
     "name": "stdin",
     "output_type": "stream",
     "text": [
      " hello my name is mayank\n"
     ]
    }
   ],
   "source": [
    "#Enter inpur string\n",
    "stat =input()"
   ]
  },
  {
   "cell_type": "code",
   "execution_count": 24,
   "id": "a06f7673-0ef1-4381-b08c-aaec2468667a",
   "metadata": {},
   "outputs": [
    {
     "data": {
      "text/plain": [
       "'hello my name is mayank'"
      ]
     },
     "execution_count": 24,
     "metadata": {},
     "output_type": "execute_result"
    }
   ],
   "source": [
    "stat"
   ]
  },
  {
   "cell_type": "code",
   "execution_count": 25,
   "id": "9f702745-cd87-4422-8cb9-9bf7ce7ef1b5",
   "metadata": {},
   "outputs": [
    {
     "name": "stdout",
     "output_type": "stream",
     "text": [
      "23\n"
     ]
    }
   ],
   "source": [
    "print(len(stat))"
   ]
  },
  {
   "cell_type": "markdown",
   "id": "be0c4991-295b-4f6d-9e1f-537f707ebb4a",
   "metadata": {},
   "source": [
    "2. Create a program that takes a sentence from the user and counts the number\n",
    "of vowels (a, e, i, o, u) in the string."
   ]
  },
  {
   "cell_type": "code",
   "execution_count": 27,
   "id": "48762aee-a8e0-470e-9d09-e53c80fb3a2b",
   "metadata": {},
   "outputs": [
    {
     "name": "stdin",
     "output_type": "stream",
     "text": [
      " This is my first assignment\n"
     ]
    }
   ],
   "source": [
    "#Enter the sentence\n",
    "stat2 = input()"
   ]
  },
  {
   "cell_type": "code",
   "execution_count": 34,
   "id": "c1ffbe44-bc44-4568-a0bd-53e240837295",
   "metadata": {},
   "outputs": [
    {
     "name": "stdout",
     "output_type": "stream",
     "text": [
      "Number of vowels are:\n",
      "6\n"
     ]
    }
   ],
   "source": [
    "vowels = 0\n",
    "for i in stat2 :\n",
    "    if(i=='a' or i=='e' or i=='i' or i=='o' or i=='u' or i=='A' or i=='E' or i=='I' or i=='O' or i=='U'):\n",
    "        vowels+=1\n",
    "print(\"Number of vowels are:\")\n",
    "print(vowels)"
   ]
  },
  {
   "cell_type": "markdown",
   "id": "84328b00-a4e6-4a94-af4e-d20a2dfd6f4a",
   "metadata": {},
   "source": [
    "3.Given a string, reverse the order of characters using string slicing and print\n",
    "the reversed string."
   ]
  },
  {
   "cell_type": "code",
   "execution_count": 36,
   "id": "303d8c67-6795-4dcc-a65c-423c3f31b14d",
   "metadata": {},
   "outputs": [
    {
     "name": "stdin",
     "output_type": "stream",
     "text": [
      " my name is khan\n"
     ]
    }
   ],
   "source": [
    "#Enter a statement\n",
    "stat3 = input()"
   ]
  },
  {
   "cell_type": "code",
   "execution_count": 38,
   "id": "b1f49266-4cef-41fb-abc3-e2c3c3c48224",
   "metadata": {},
   "outputs": [
    {
     "name": "stdout",
     "output_type": "stream",
     "text": [
      "nahk si eman ym\n"
     ]
    }
   ],
   "source": [
    "print(stat3[-1::-1])"
   ]
  },
  {
   "cell_type": "markdown",
   "id": "cbfb73d8-7570-424b-b439-73c1800838e5",
   "metadata": {},
   "source": [
    "4. Write a program that takes a string as input and checks if it is a palindrome\n",
    "(reads the same forwards and backwards)."
   ]
  },
  {
   "cell_type": "code",
   "execution_count": 48,
   "id": "e98d7c36-a99c-41a1-98e4-52c04f9c1f79",
   "metadata": {},
   "outputs": [
    {
     "name": "stdin",
     "output_type": "stream",
     "text": [
      " aibohphobia\n"
     ]
    }
   ],
   "source": [
    "stat4= input()"
   ]
  },
  {
   "cell_type": "code",
   "execution_count": 49,
   "id": "38a4c0e5-b870-48e9-ad09-1280dd2b91ad",
   "metadata": {},
   "outputs": [
    {
     "name": "stdout",
     "output_type": "stream",
     "text": [
      "it is pallindrome\n"
     ]
    }
   ],
   "source": [
    "if (stat4 == stat4[-1::-1]):\n",
    "    print('it is pallindrome')\n",
    "else: \n",
    "    print('it is not pallindrome')\n",
    "    "
   ]
  },
  {
   "cell_type": "markdown",
   "id": "1ee01f55-1cb1-4166-8c6d-0adee980abb1",
   "metadata": {},
   "source": [
    "5. Create a program that takes a string as input and removes all the spaces from\n",
    "it. Print the modified string without spaces."
   ]
  },
  {
   "cell_type": "code",
   "execution_count": 50,
   "id": "8af97e44-8218-4bf8-9fcd-59768261fc3b",
   "metadata": {},
   "outputs": [
    {
     "name": "stdin",
     "output_type": "stream",
     "text": [
      " Final question of the assignment\n"
     ]
    }
   ],
   "source": [
    "stat5= input()"
   ]
  },
  {
   "cell_type": "code",
   "execution_count": 53,
   "id": "a3a8b3dc-ae80-4b73-bfb8-fa4e009dcfad",
   "metadata": {},
   "outputs": [],
   "source": [
    "stat5= stat5.replace(' ','')"
   ]
  },
  {
   "cell_type": "code",
   "execution_count": 54,
   "id": "f19c9bc6-f0aa-438a-a6bc-9b9ca70f9d35",
   "metadata": {},
   "outputs": [
    {
     "name": "stdout",
     "output_type": "stream",
     "text": [
      "Finalquestionoftheassignment\n"
     ]
    }
   ],
   "source": [
    "print(stat5)"
   ]
  },
  {
   "cell_type": "code",
   "execution_count": null,
   "id": "0eb1c652-31dc-4acf-aa5c-a212b3e6f022",
   "metadata": {},
   "outputs": [],
   "source": []
  }
 ],
 "metadata": {
  "kernelspec": {
   "display_name": "Python 3 (ipykernel)",
   "language": "python",
   "name": "python3"
  },
  "language_info": {
   "codemirror_mode": {
    "name": "ipython",
    "version": 3
   },
   "file_extension": ".py",
   "mimetype": "text/x-python",
   "name": "python",
   "nbconvert_exporter": "python",
   "pygments_lexer": "ipython3",
   "version": "3.10.8"
  }
 },
 "nbformat": 4,
 "nbformat_minor": 5
}
