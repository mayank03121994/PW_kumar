{
 "cells": [
  {
   "cell_type": "markdown",
   "id": "5a3d98b2-dd9c-4ca4-9946-01bc59babaca",
   "metadata": {},
   "source": [
    "For Loop :-\n",
    "\n",
    "1.\tWrite a Python program to print numbers from 1 to 10 using a for loop.\n"
   ]
  },
  {
   "cell_type": "code",
   "execution_count": 1,
   "id": "6ce054ed-600a-4011-8828-c49eda9e34d3",
   "metadata": {},
   "outputs": [
    {
     "name": "stdout",
     "output_type": "stream",
     "text": [
      "1 2 3 4 5 6 7 8 9 10 "
     ]
    }
   ],
   "source": [
    "for i in range(1,11):\n",
    "    print(i,end=' ')"
   ]
  },
  {
   "cell_type": "markdown",
   "id": "306e9f62-30c9-4668-9065-991fab48df62",
   "metadata": {},
   "source": [
    "2.\tExplain the difference between a for loop and a while loop in Python."
   ]
  },
  {
   "cell_type": "markdown",
   "id": "e0b3931b-948d-4fa4-abc4-78ef425d2aa9",
   "metadata": {},
   "source": [
    "In for loop first initialization happens then we execute the loops while in while loop we first test the condition\n",
    "then execute the block of code."
   ]
  },
  {
   "cell_type": "markdown",
   "id": "17ea279c-3235-469e-b9d0-5b21f7be7848",
   "metadata": {},
   "source": [
    "3.\tWrite a Python program to calculate the sum of all numbers from 1 to 100 using a for loop."
   ]
  },
  {
   "cell_type": "code",
   "execution_count": 2,
   "id": "f6e42df6-b398-4f09-9aea-dd37d610243a",
   "metadata": {},
   "outputs": [
    {
     "name": "stdout",
     "output_type": "stream",
     "text": [
      "Sum of numbers from 1 to 100 is 5050\n"
     ]
    }
   ],
   "source": [
    "sum_3=0\n",
    "for i in range(1,101):\n",
    "    sum_3+=i\n",
    "print(\"Sum of numbers from 1 to 100 is\", sum_3)"
   ]
  },
  {
   "cell_type": "markdown",
   "id": "52992206-1761-44e0-8b01-dafc387d0d61",
   "metadata": {},
   "source": [
    "4.\tHow do you iterate through a list using a for loop in Python?"
   ]
  },
  {
   "cell_type": "code",
   "execution_count": 3,
   "id": "a5cb743c-8bcc-4c32-9415-f73df58b17c5",
   "metadata": {},
   "outputs": [
    {
     "name": "stdout",
     "output_type": "stream",
     "text": [
      "1 3 4 5 6 "
     ]
    }
   ],
   "source": [
    "list4=[1,3,4,5,6]\n",
    "\n",
    "for i in list4:\n",
    "    print(i,end=' ')"
   ]
  },
  {
   "cell_type": "code",
   "execution_count": 4,
   "id": "540ba471-259b-4a8a-a727-edc5a372a701",
   "metadata": {},
   "outputs": [
    {
     "name": "stdout",
     "output_type": "stream",
     "text": [
      "1 3 4 5 6 "
     ]
    }
   ],
   "source": [
    "for i in range(len(list4)):\n",
    "    print(list4[i],end=' ')"
   ]
  },
  {
   "cell_type": "markdown",
   "id": "3837f3a1-3825-4250-8e81-1d800f1fa15a",
   "metadata": {},
   "source": [
    "5.\tWrite a Python program to find the product of all elements in a list using a for loop"
   ]
  },
  {
   "cell_type": "code",
   "execution_count": 5,
   "id": "83ab296f-7b0f-4aa3-97b0-d1b99580cbe7",
   "metadata": {},
   "outputs": [
    {
     "name": "stdout",
     "output_type": "stream",
     "text": [
      "Multiplication of elements of list is: 360\n"
     ]
    }
   ],
   "source": [
    "mult5=1\n",
    "list5=[1,3,4,5,6]\n",
    "for i in list5:\n",
    "    mult5= mult5*i\n",
    "print(\"Multiplication of elements of list is:\",mult5)"
   ]
  },
  {
   "cell_type": "markdown",
   "id": "a5b278f2-76f3-4f16-8ade-8dd3a230ef05",
   "metadata": {},
   "source": [
    "6.\tCreate a Python program that prints all even numbers from 1 to 20 using a for loop."
   ]
  },
  {
   "cell_type": "code",
   "execution_count": 6,
   "id": "49da8d71-de9b-4243-be47-308b421d51d8",
   "metadata": {},
   "outputs": [
    {
     "name": "stdout",
     "output_type": "stream",
     "text": [
      "2 4 6 8 10 12 14 16 18 20 "
     ]
    }
   ],
   "source": [
    "for i in range(1,21):\n",
    "    if i%2==0:\n",
    "        print(i,end=' ')"
   ]
  },
  {
   "cell_type": "markdown",
   "id": "20fcb75b-b731-4ee3-8daa-b04acc12833f",
   "metadata": {},
   "source": [
    "7.\tWrite a Python program that calculates the factorial of a number using a for loop."
   ]
  },
  {
   "cell_type": "code",
   "execution_count": 7,
   "id": "b850a990-e5c4-417e-b948-83e544fe45dd",
   "metadata": {},
   "outputs": [
    {
     "name": "stdin",
     "output_type": "stream",
     "text": [
      "Enter a number whose factorial to be found: 5\n"
     ]
    },
    {
     "name": "stdout",
     "output_type": "stream",
     "text": [
      "Factorial of the number: 120\n"
     ]
    }
   ],
   "source": [
    "n= int(input(\"Enter a number whose factorial to be found:\"))\n",
    "fact =1       \n",
    "for i in range(1,n+1):\n",
    "    fact=fact*i\n",
    "print(\"Factorial of the number:\",fact)"
   ]
  },
  {
   "cell_type": "markdown",
   "id": "7dfd529f-213d-407a-bf98-9f7e928ac87a",
   "metadata": {},
   "source": [
    "8.\tHow can you iterate through the characters of a string using a for loop in Python?"
   ]
  },
  {
   "cell_type": "code",
   "execution_count": 8,
   "id": "622df72b-e0df-493d-af8c-39a65724cae1",
   "metadata": {},
   "outputs": [
    {
     "name": "stdout",
     "output_type": "stream",
     "text": [
      "m a y a n k "
     ]
    }
   ],
   "source": [
    "str8='mayank'\n",
    "for i in str8:\n",
    "    print(i,end=' ')"
   ]
  },
  {
   "cell_type": "markdown",
   "id": "86c76339-425e-4ea9-9cb0-465364e8907e",
   "metadata": {},
   "source": [
    "9.\tWrite a Python program to find the largest number in a list using a for loop."
   ]
  },
  {
   "cell_type": "code",
   "execution_count": 9,
   "id": "7de8607b-2ef8-4e75-8c7f-5cb029b09a57",
   "metadata": {},
   "outputs": [
    {
     "name": "stdout",
     "output_type": "stream",
     "text": [
      "Largest number in list is: 11\n"
     ]
    }
   ],
   "source": [
    "list9=[11,2,3,4,5]\n",
    "max_list=0\n",
    "\n",
    "for i in list9:\n",
    "    if i>max_list:\n",
    "        max_list=i\n",
    "print(\"Largest number in list is:\",max_list)"
   ]
  },
  {
   "cell_type": "markdown",
   "id": "d5dbbce2-eedf-4004-9f07-f9fe6a1c682e",
   "metadata": {},
   "source": [
    "10.\tCreate a Python program that prints the Fibonacci sequence up to a specified limit using a for loop."
   ]
  },
  {
   "cell_type": "code",
   "execution_count": 10,
   "id": "38b37258-13d2-4680-9df0-e6c94dcf4099",
   "metadata": {},
   "outputs": [
    {
     "name": "stdin",
     "output_type": "stream",
     "text": [
      "Enter the number till which fibonacci series to be found 5\n"
     ]
    },
    {
     "name": "stdout",
     "output_type": "stream",
     "text": [
      "0 1 1 2 3 "
     ]
    }
   ],
   "source": [
    "n= int(input(\"Enter the number till which fibonacci series to be found\"))\n",
    "\n",
    "a=0\n",
    "b=1\n",
    "\n",
    "print(a,end=' ')\n",
    "print(b,end=' ')\n",
    "\n",
    "for i in range(n-2):\n",
    "    new=a+b\n",
    "    a=b\n",
    "    b=new\n",
    "    print(new,end=' ')"
   ]
  },
  {
   "cell_type": "markdown",
   "id": "5136d96a-aec4-486b-863f-0a2193625332",
   "metadata": {},
   "source": [
    "11.\tWrite a Python program to count the number of vowels in a given string using a for loop."
   ]
  },
  {
   "cell_type": "code",
   "execution_count": 11,
   "id": "79d16bf8-e79a-45c2-ae7c-5e27dca6b7f8",
   "metadata": {},
   "outputs": [
    {
     "name": "stdout",
     "output_type": "stream",
     "text": [
      "Number of vowels: 6\n"
     ]
    }
   ],
   "source": [
    "str18='telephonic mayank'\n",
    "count=0\n",
    "for i in str18:\n",
    "    if i in ('a','e','i','o','u','A','E','I','O','U'):\n",
    "        count+=1\n",
    "print(\"Number of vowels:\",count)        "
   ]
  },
  {
   "cell_type": "markdown",
   "id": "d4b340f3-9a1b-45d0-9004-1151c6743bc7",
   "metadata": {},
   "source": [
    "12.\tCreate a Python program that generates a multiplication table for a given number using a for loop."
   ]
  },
  {
   "cell_type": "code",
   "execution_count": 12,
   "id": "1bb619f8-7d2a-4290-a137-9648b3ab6325",
   "metadata": {},
   "outputs": [
    {
     "name": "stdin",
     "output_type": "stream",
     "text": [
      "Enter the number whose table want to generate 5\n"
     ]
    },
    {
     "name": "stdout",
     "output_type": "stream",
     "text": [
      "5*1=5\n",
      "5*2=10\n",
      "5*3=15\n",
      "5*4=20\n",
      "5*5=25\n",
      "5*6=30\n",
      "5*7=35\n",
      "5*8=40\n",
      "5*9=45\n",
      "5*10=50\n"
     ]
    }
   ],
   "source": [
    "n12 = int(input(\"Enter the number whose table want to generate\"))\n",
    "\n",
    "for i in range(1,11):\n",
    "    print(f\"{n12}*{i}={n12*i}\")"
   ]
  },
  {
   "cell_type": "markdown",
   "id": "54afe197-6503-4041-a5f4-4409e7508b78",
   "metadata": {},
   "source": [
    "13.\tWrite a Python program to reverse a list using a for loop."
   ]
  },
  {
   "cell_type": "code",
   "execution_count": 13,
   "id": "023c3eb9-96a0-4e7d-bd1f-33cdb12592da",
   "metadata": {},
   "outputs": [
    {
     "name": "stdout",
     "output_type": "stream",
     "text": [
      "Original list [11, 12, 13, 14, 15]\n",
      "Reversed list [15, 14, 13, 12, 11]\n"
     ]
    }
   ],
   "source": [
    "list13=[11,12,13,14,15]\n",
    "rev_list=[]\n",
    "for i in range(len(list13)):\n",
    "    rev_list.append(list13[len(list13)-1-i])\n",
    "print(\"Original list\",list13)\n",
    "print(\"Reversed list\", rev_list)\n",
    "    "
   ]
  },
  {
   "cell_type": "markdown",
   "id": "0d4f9eb1-776c-408f-bf45-69def1a70917",
   "metadata": {},
   "source": [
    "14.\tWrite a Python program to find the common elements between two lists using a for loop."
   ]
  },
  {
   "cell_type": "code",
   "execution_count": 14,
   "id": "d1d8e2e8-302e-442e-8184-044496a13829",
   "metadata": {},
   "outputs": [
    {
     "name": "stdout",
     "output_type": "stream",
     "text": [
      "Common Elements [5, 6]\n"
     ]
    }
   ],
   "source": [
    "a14=[1,2,3,4,5,6]\n",
    "b14=[5,6,7,8,9,10]\n",
    "common=[]\n",
    "\n",
    "for i in a14:\n",
    "    for j in b14:\n",
    "        if i==j:\n",
    "            common.append(i)\n",
    "print(\"Common Elements\",common)"
   ]
  },
  {
   "cell_type": "markdown",
   "id": "4403d05c-7320-475c-a916-8b84d997d59e",
   "metadata": {},
   "source": [
    "15.\tExplain how to use a for loop to iterate through the keys and values of a dictionary in Python."
   ]
  },
  {
   "cell_type": "code",
   "execution_count": 15,
   "id": "3a629eea-32ba-4918-aeec-9bbcf974b711",
   "metadata": {},
   "outputs": [
    {
     "name": "stdout",
     "output_type": "stream",
     "text": [
      "1 2 3 \n",
      "\n",
      "math science sst "
     ]
    }
   ],
   "source": [
    "dic15={\"1\":\"math\",\"2\":\"science\",\"3\":\"sst\"}\n",
    "\n",
    "#for iterating through keys\n",
    "for i in dic15:\n",
    "    print(i,end=' ')\n",
    "print(\"\\n\")\n",
    "#iteration through values\n",
    "for i in dic15.values():\n",
    "    print(i,end=' ')"
   ]
  },
  {
   "cell_type": "markdown",
   "id": "fcba0a18-b1f1-4eaf-b273-6dc9ef53e8a9",
   "metadata": {},
   "source": [
    "16.\tWrite a Python program to find the GCD (Greatest Common Divisor) of two numbers using a for loop."
   ]
  },
  {
   "cell_type": "code",
   "execution_count": null,
   "id": "671d51cb-967c-49e9-90de-cba29cee5d0f",
   "metadata": {},
   "outputs": [],
   "source": [
    "\n",
    "def GCD_15(a,b):\n",
    "    if a>b:\n",
    "        temp =a\n",
    "    else:\n",
    "        temp =b\n",
    "        \n",
    "    for i in range(1,temp+1):\n",
    "        if ((a%i==0 and b%i==0)):\n",
    "            gcd = i\n",
    "    return gcd\n",
    "\n",
    "a = int(input(\"Input first number\"))\n",
    "b = int(input(\"Enter second number\"))\n",
    "\n",
    "result = GCD_15(a,b)\n",
    "\n",
    "print(\"GCD of two numbers is:\",result)"
   ]
  },
  {
   "cell_type": "markdown",
   "id": "7156782d-4440-41ec-8e8d-01d3cef23de9",
   "metadata": {},
   "source": [
    "17.\tCreate a Python program that checks if a string is a palindrome using a for loop."
   ]
  },
  {
   "cell_type": "code",
   "execution_count": null,
   "id": "7e0af99e-2dee-4ef4-8495-c9b5f5ce3cc1",
   "metadata": {},
   "outputs": [],
   "source": [
    "def checkpallind(string):\n",
    "    for i in range(0,int(len(string)/2)):\n",
    "        if (string[i]!=string[len(string)-i-1]):\n",
    "            return False\n",
    "    return True\n",
    "\n",
    "str17 = input(\"Enter a string to check for pallindrome\")\n",
    "result17 = checkpallind(str17)\n",
    "                   \n",
    "if (result17):\n",
    "    print(\"Yes it is pallindrome\")\n",
    "else:\n",
    "    print(\"It is not a pallindrome\")\n",
    "        "
   ]
  },
  {
   "cell_type": "markdown",
   "id": "269dc7ad-97f5-41fe-80c5-6f678b307578",
   "metadata": {},
   "source": [
    "18.\tWrite a Python program to remove duplicates from a list using a for loop."
   ]
  },
  {
   "cell_type": "code",
   "execution_count": null,
   "id": "509d645a-50ba-4c55-911b-6e00debbcd47",
   "metadata": {},
   "outputs": [],
   "source": [
    "list18=[11,12,14,17,18,19,20,11,15,13,4,7,7,0]\n",
    "\n",
    "new_list=[]\n",
    "\n",
    "for element in list18:\n",
    "    if element not in new_list:\n",
    "        new_list.append(element)     \n",
    "        \n",
    "print(new_list)"
   ]
  },
  {
   "cell_type": "markdown",
   "id": "d97b8d77-cb61-472a-907c-01154750ae3d",
   "metadata": {},
   "source": [
    "19.\tCreate a Python program that counts the number of words in a sentence using a for loop."
   ]
  },
  {
   "cell_type": "code",
   "execution_count": null,
   "id": "55657dcf-ca43-4454-a3b1-35543a35a66f",
   "metadata": {},
   "outputs": [],
   "source": [
    "sent19 = input(\"Enter a sentence to check number of words\")\n",
    "count = 1\n",
    "for i in sent19:\n",
    "    if i==\" \":\n",
    "        count=count+1\n",
    "print(\"Number of words in a sentence\",count)"
   ]
  },
  {
   "cell_type": "markdown",
   "id": "62b22591-d696-4ce0-b444-08054bbb1481",
   "metadata": {},
   "source": [
    "20.\tWrite a Python program to find the sum of all odd numbers from 1 to 50 using a for loop"
   ]
  },
  {
   "cell_type": "code",
   "execution_count": null,
   "id": "5a5574ef-5485-422e-88cb-4b4a12b62b2b",
   "metadata": {},
   "outputs": [],
   "source": [
    "sum_20 = 0\n",
    "\n",
    "for i in range(51):\n",
    "    if i%2!=0:\n",
    "        sum_20+=i\n",
    "print(\"Sum of all odd numbers upto 50:\",sum_20)"
   ]
  },
  {
   "cell_type": "markdown",
   "id": "4af132a7-4cd7-4bb9-86cd-a7ebc067ad16",
   "metadata": {},
   "source": [
    "21.\tWrite a Python program that checks if a given year is a leap year using a for loop."
   ]
  },
  {
   "cell_type": "code",
   "execution_count": 1,
   "id": "e8c42238-cd6d-4269-8dba-b15e74734d2f",
   "metadata": {},
   "outputs": [
    {
     "name": "stdin",
     "output_type": "stream",
     "text": [
      "Enter a year to check for leap year 2010\n"
     ]
    }
   ],
   "source": [
    "year21 = int(input(\"Enter a year to check for leap year\"))\n",
    "\n"
   ]
  },
  {
   "cell_type": "markdown",
   "id": "27808181-d4ac-4172-a0a9-e5bf22ee5c65",
   "metadata": {},
   "source": [
    "22.\tCreate a Python program that calculates the square root of a number using a for loop."
   ]
  },
  {
   "cell_type": "code",
   "execution_count": null,
   "id": "f5f10d54-687c-4565-9ed7-a191e408aa32",
   "metadata": {},
   "outputs": [],
   "source": []
  },
  {
   "cell_type": "markdown",
   "id": "628d3382-16b3-4b3b-ada4-9c56c36ea9e5",
   "metadata": {},
   "source": [
    "23.\tWrite a Python program to find the LCM (Least Common Multiple) of two numbers using a for loop."
   ]
  },
  {
   "cell_type": "code",
   "execution_count": 4,
   "id": "17be3137-f04f-45fb-9b8f-f19ad5ec3ad3",
   "metadata": {},
   "outputs": [
    {
     "name": "stdin",
     "output_type": "stream",
     "text": [
      "Input first number 6\n",
      "Enter second number 7\n"
     ]
    },
    {
     "name": "stdout",
     "output_type": "stream",
     "text": [
      "LCM of two numbers 42\n"
     ]
    }
   ],
   "source": [
    "def LCM_23(a,b):\n",
    "    greatest  = max(a,b)\n",
    "    smallest = min(a,b)\n",
    "    \n",
    "    for i in range(greatest, a*b+1 , greatest):\n",
    "        if i %smallest==0:\n",
    "            return i\n",
    "    \n",
    "a = int(input(\"Input first number\"))\n",
    "b = int(input(\"Enter second number\"))\n",
    "\n",
    "result23 = LCM_23(a,b)\n",
    "print(\"LCM of two numbers\",result23)"
   ]
  },
  {
   "cell_type": "markdown",
   "id": "d97e7a2b-a322-4780-9dad-552b5a34944e",
   "metadata": {},
   "source": [
    "If else :"
   ]
  },
  {
   "cell_type": "markdown",
   "id": "ee886a89-80fd-4e73-9a7f-7ae7a4baa515",
   "metadata": {},
   "source": [
    "1.\tWrite a Python program to check if a number is positive, negative, or zero using an if-else statement."
   ]
  },
  {
   "cell_type": "code",
   "execution_count": 5,
   "id": "e64dd8ed-4d43-4ddc-aeb0-25f4eff3a26f",
   "metadata": {},
   "outputs": [
    {
     "name": "stdin",
     "output_type": "stream",
     "text": [
      "Enter a number to check -2.50\n"
     ]
    },
    {
     "name": "stdout",
     "output_type": "stream",
     "text": [
      "Negative number\n"
     ]
    }
   ],
   "source": [
    "a1 = float(input(\"Enter a number to check\"))\n",
    "\n",
    "if a1>0:\n",
    "    print(\"Positive number\")\n",
    "elif a1<0:\n",
    "    print(\"Negative number\")\n",
    "else:\n",
    "    print(\"Number is zero\")"
   ]
  },
  {
   "cell_type": "markdown",
   "id": "41871286-cc28-4d78-ba45-979a615adb5e",
   "metadata": {},
   "source": [
    "2.\tCreate a Python program that checks if a given number is even or odd using an if-else statement."
   ]
  },
  {
   "cell_type": "code",
   "execution_count": 9,
   "id": "3dda5b1d-0677-4792-9e81-b39c50696282",
   "metadata": {},
   "outputs": [
    {
     "name": "stdin",
     "output_type": "stream",
     "text": [
      "Enter a number to check 5\n"
     ]
    },
    {
     "name": "stdout",
     "output_type": "stream",
     "text": [
      "This is an odd number\n"
     ]
    }
   ],
   "source": [
    "a2 = int(input(\"Enter a number to check\"))\n",
    "\n",
    "if a2%2==0:\n",
    "    print(\"This is an even number\")\n",
    "else:\n",
    "    print(\"This is an odd number\")"
   ]
  },
  {
   "cell_type": "markdown",
   "id": "6bffa78f-c0ed-4a17-9265-38efec749505",
   "metadata": {},
   "source": [
    "3.\tHow can you use nested if-else statements in Python, and provide an example?"
   ]
  },
  {
   "cell_type": "code",
   "execution_count": 2,
   "id": "032f9364-d07e-4768-b2f8-bbe3c53f7f34",
   "metadata": {},
   "outputs": [
    {
     "name": "stdin",
     "output_type": "stream",
     "text": [
      "Enter the first number 5\n",
      "Enter the second number 10\n",
      "Enter the third number 18\n"
     ]
    },
    {
     "name": "stdout",
     "output_type": "stream",
     "text": [
      "c is the largest\n"
     ]
    }
   ],
   "source": [
    "# example using largest of the three numbers\n",
    "\n",
    "a3 = int(input(\"Enter the first number\"))\n",
    "b3 = int(input(\"Enter the second number\"))\n",
    "c3 = int(input(\"Enter the third number\"))\n",
    "\n",
    "if a3>b3:\n",
    "    if a3>c3 :\n",
    "        print(\"a is the largest\")\n",
    "    else:\n",
    "        print(\"c is the largest\")\n",
    "else:\n",
    "    if c3>b3:\n",
    "        print(\"c is the largest\")\n",
    "    else:\n",
    "        print(\"b is the largest\")"
   ]
  },
  {
   "cell_type": "markdown",
   "id": "e4ea135c-d2f2-463b-92f0-40920ec656ec",
   "metadata": {},
   "source": [
    "4.\tWrite a Python program to determine the largest of three numbers using if-else."
   ]
  },
  {
   "cell_type": "code",
   "execution_count": 3,
   "id": "b5d31567-939d-4c19-b0b1-34e0695a170b",
   "metadata": {},
   "outputs": [
    {
     "name": "stdin",
     "output_type": "stream",
     "text": [
      "Enter the first number 5\n",
      "Enter the second number 15\n",
      "Enter the third number 25\n"
     ]
    },
    {
     "name": "stdout",
     "output_type": "stream",
     "text": [
      "c is the largest\n"
     ]
    }
   ],
   "source": [
    "\n",
    "a3 = int(input(\"Enter the first number\"))\n",
    "b3 = int(input(\"Enter the second number\"))\n",
    "c3 = int(input(\"Enter the third number\"))\n",
    "\n",
    "if a3>b3:\n",
    "    if a3>c3 :\n",
    "        print(\"a is the largest\")\n",
    "    else:\n",
    "        print(\"c is the largest\")\n",
    "else:\n",
    "    if c3>b3:\n",
    "        print(\"c is the largest\")\n",
    "    else:\n",
    "        print(\"b is the largest\")"
   ]
  },
  {
   "cell_type": "markdown",
   "id": "f2932458-9e11-4e21-b93c-9dde64ce4d61",
   "metadata": {},
   "source": [
    "5.\tWrite a Python program that calculates the absolute value of a number using if-else."
   ]
  },
  {
   "cell_type": "code",
   "execution_count": 5,
   "id": "fd02afe9-fda7-4904-896e-39d99a9830fe",
   "metadata": {},
   "outputs": [
    {
     "name": "stdin",
     "output_type": "stream",
     "text": [
      "Enter an integer -35\n"
     ]
    },
    {
     "name": "stdout",
     "output_type": "stream",
     "text": [
      "absolute value is: 35.0\n"
     ]
    }
   ],
   "source": [
    "a5 = float(input(\"Enter an integer\"))\n",
    "\n",
    "if a5<0:\n",
    "    print(\"absolute value is:\",-a5)\n",
    "else:\n",
    "    print(\"absolute value is:\",a5)"
   ]
  },
  {
   "cell_type": "markdown",
   "id": "0d0e0be9-c828-45c5-af39-fac201711748",
   "metadata": {},
   "source": [
    "6.\tCreate a Python program that checks if a given character is a vowel or consonant using if-else."
   ]
  },
  {
   "cell_type": "code",
   "execution_count": 8,
   "id": "7657fdc0-2264-4a28-b42e-d22dbb63b1b6",
   "metadata": {},
   "outputs": [
    {
     "name": "stdin",
     "output_type": "stream",
     "text": [
      "Enter a character between a to z 5\n"
     ]
    },
    {
     "name": "stdout",
     "output_type": "stream",
     "text": [
      "character is consonant\n"
     ]
    }
   ],
   "source": [
    "a6 = input(\"Enter a character between a to z :\")\n",
    "a6.lower()\n",
    "\n",
    "if a6 in ('a','e','i','o','u'):\n",
    "    print(\"character is vowel\")\n",
    "else:\n",
    "    print(\"character is consonant\")"
   ]
  },
  {
   "cell_type": "markdown",
   "id": "cf2d682d-d42a-4dc3-b4c3-6e088028c972",
   "metadata": {},
   "source": [
    "7.\tWrite a Python program to determine if a user is eligible to vote based on their age using if-else."
   ]
  },
  {
   "cell_type": "code",
   "execution_count": 9,
   "id": "a0f5ea27-1286-44df-abb5-198095fc6932",
   "metadata": {},
   "outputs": [
    {
     "name": "stdin",
     "output_type": "stream",
     "text": [
      "Enter age of user 15\n"
     ]
    },
    {
     "name": "stdout",
     "output_type": "stream",
     "text": [
      "USER IS NOT ELIGIBLE TO VOTE\n"
     ]
    }
   ],
   "source": [
    "age7 = int(input(\"Enter age of user\"))\n",
    "\n",
    "if age7>=18:\n",
    "    print(\"USER IS ELIGIBLE TO VOTE\")\n",
    "else:\n",
    "    print(\"USER IS NOT ELIGIBLE TO VOTE\")"
   ]
  },
  {
   "cell_type": "markdown",
   "id": "766ef908-8bd5-4231-8f02-0a9ee97688b4",
   "metadata": {},
   "source": [
    "8.\tCreate a Python program that calculates the discount amount based on the purchase amount using if-else."
   ]
  },
  {
   "cell_type": "code",
   "execution_count": 13,
   "id": "7e166945-06c2-4434-bb82-dd9aa04a2d67",
   "metadata": {},
   "outputs": [
    {
     "name": "stdin",
     "output_type": "stream",
     "text": [
      "Enter purchase amount of any item 250\n"
     ]
    },
    {
     "name": "stdout",
     "output_type": "stream",
     "text": [
      "Final amount paid for purchase of the item 225.0\n"
     ]
    }
   ],
   "source": [
    "purchase_amount = float(input(\"Enter purchase amount of any item\"))\n",
    "\n",
    "if purchase_amount>=1000:\n",
    "    discount=0.50\n",
    "    paid_amount= purchase_amount- (purchase_amount*discount)\n",
    "elif purchase_amount>=500 and purchase_amount<100:\n",
    "    discount=0.25\n",
    "    paid_amount=purchase_amount - (purchase_amount*discount)\n",
    "else:\n",
    "    discount=0.10\n",
    "    paid_amount=purchase_amount - (purchase_amount*discount)\n",
    "    \n",
    "print(\"Final amount paid for purchase of the item\",paid_amount)"
   ]
  },
  {
   "cell_type": "markdown",
   "id": "befd4c60-414b-4d2d-9339-b6572cfebee1",
   "metadata": {},
   "source": [
    "9.\tWrite a Python program to check if a number is within a specified range using if-else."
   ]
  },
  {
   "cell_type": "code",
   "execution_count": 14,
   "id": "0593a3e9-9f42-41e7-9466-14ce638ea1df",
   "metadata": {},
   "outputs": [
    {
     "name": "stdin",
     "output_type": "stream",
     "text": [
      "Enter a number to check the range 5\n"
     ]
    },
    {
     "name": "stdout",
     "output_type": "stream",
     "text": [
      "number lies between 0 to 10\n"
     ]
    }
   ],
   "source": [
    "a9 = int(input(\"Enter a number to check the range\"))\n",
    "\n",
    "if a9>=0 and a9<=10:\n",
    "    print(\"number lies between 0 to 10\")\n",
    "elif a9>10 and a9<=20:\n",
    "    print(\"Number lies between 11 and 20\")\n",
    "else:\n",
    "    print(\"Number greater than 20\")\n"
   ]
  },
  {
   "cell_type": "markdown",
   "id": "c0df882c-a11b-450b-ad93-f9426a969a2e",
   "metadata": {},
   "source": [
    "10.\tCreate a Python program that determines the grade of a student based on their score using if-else."
   ]
  },
  {
   "cell_type": "code",
   "execution_count": 4,
   "id": "a33cd56f-51d6-4269-b4cc-d48305a5fb30",
   "metadata": {},
   "outputs": [
    {
     "name": "stdin",
     "output_type": "stream",
     "text": [
      "Enter the overall percentage scored by student 56\n"
     ]
    },
    {
     "name": "stdout",
     "output_type": "stream",
     "text": [
      "Student has scored D grade\n"
     ]
    }
   ],
   "source": [
    "overall_percent = float(input(\"Enter the overall percentage scored by student\"))\n",
    "\n",
    "if overall_percent >90:\n",
    "    print(\"Student has scored A+ grade\")\n",
    "elif overall_percent>80 and overall_percent<=90:\n",
    "    print(\"Student has scored A grade\")\n",
    "elif overall_percent>70 and overall_percent<=80:\n",
    "    print(\"Student has scored B grade\")\n",
    "elif overall_percent>60 and overall_percent<=70:\n",
    "    print(\"Student has scored C grade\")\n",
    "elif overall_percent>50 and overall_percent<=60:\n",
    "    print(\"Student has scored D grade\")\n",
    "else:\n",
    "    print(\"Fail\")\n",
    "    "
   ]
  },
  {
   "cell_type": "markdown",
   "id": "69d05cc2-e9f0-40fe-9dcc-a921e1fe2588",
   "metadata": {},
   "source": [
    "11.\tWrite a Python program to check if a string is empty or not using if-else."
   ]
  },
  {
   "cell_type": "code",
   "execution_count": 8,
   "id": "5f9a7e49-deb9-4eb1-84ff-5915b296d729",
   "metadata": {},
   "outputs": [
    {
     "name": "stdin",
     "output_type": "stream",
     "text": [
      "Enter a string asas\n"
     ]
    },
    {
     "name": "stdout",
     "output_type": "stream",
     "text": [
      "Not an empty string\n"
     ]
    }
   ],
   "source": [
    "str11= input(\"Enter a string\")\n",
    "\n",
    "if len(str11)==0:\n",
    "    print(\"Empty string\")\n",
    "else:\n",
    "    print(\"Not an empty string\")"
   ]
  },
  {
   "cell_type": "markdown",
   "id": "e95d6f58-55c5-4897-aa57-773d64aa0769",
   "metadata": {},
   "source": [
    "12.\tCreate a Python program that identifies the type of a triangle (e.g., equilateral, isosceles, or scalene) based on input values using if-else."
   ]
  },
  {
   "cell_type": "code",
   "execution_count": 4,
   "id": "71b0f06c-bb2b-4559-b745-1f32f399a790",
   "metadata": {},
   "outputs": [
    {
     "name": "stdin",
     "output_type": "stream",
     "text": [
      "Enter first side of triangle 5\n",
      "Enter second side of triangle 6\n",
      "Enter third side of triangle 7\n"
     ]
    },
    {
     "name": "stdout",
     "output_type": "stream",
     "text": [
      "It is a scalene triangle\n"
     ]
    }
   ],
   "source": [
    "a = float(input(\"Enter first side of triangle\"))\n",
    "b = float(input(\"Enter second side of triangle\"))\n",
    "c= float(input(\"Enter third side of triangle\"))\n",
    "\n",
    "if a+b>=c and a+c>=b and c+a>=b:\n",
    "    if a==b==c:\n",
    "        print(\"It is an equilateral triangle\")\n",
    "    elif a==b or b==c or c==a:\n",
    "        print(\"It is an isoceles triangle\")\n",
    "    else:\n",
    "        print(\"It is a scalene triangle\")\n",
    "else:\n",
    "    print(\"Not a correct triangle\")"
   ]
  },
  {
   "cell_type": "markdown",
   "id": "1c4a4591-aaec-43b2-881a-faee3714e842",
   "metadata": {},
   "source": [
    "13.\tWrite a Python program to determine the day of the week based on a user-provided number using if-else."
   ]
  },
  {
   "cell_type": "code",
   "execution_count": 9,
   "id": "f045b900-49d9-4c0b-a3fd-5d9c54ce0037",
   "metadata": {},
   "outputs": [
    {
     "name": "stdin",
     "output_type": "stream",
     "text": [
      "Enter a number to determine day of the week 30\n"
     ]
    },
    {
     "name": "stdout",
     "output_type": "stream",
     "text": [
      "Tuesday\n"
     ]
    }
   ],
   "source": [
    "a13 = int(input(\"Enter a number to determine day of the week\"))\n",
    "\n",
    "if a13==0:\n",
    "    print(\"Enter valid input\")\n",
    "elif a13>7:\n",
    "    a13= a13%7\n",
    "    \n",
    "if a13 ==1:\n",
    "    print(\"Monday\")\n",
    "elif a13 ==2:\n",
    "    print(\"Tuesday\")\n",
    "if a13 ==3:\n",
    "    print(\"Wednesday\")\n",
    "if a13 ==4:\n",
    "    print(\"Thursday\")\n",
    "if a13 ==5:\n",
    "    print(\"Friday\")\n",
    "if a13 ==6:\n",
    "    print(\"Saturday\")\n",
    "if a13 ==7:\n",
    "    print(\"Sunday\")"
   ]
  },
  {
   "cell_type": "markdown",
   "id": "9ea5fe3a-87aa-456c-a5ec-3a904b21b1b3",
   "metadata": {},
   "source": [
    "14.\tCreate a Python program that checks if a given year is a leap year using both if-else and a function."
   ]
  },
  {
   "cell_type": "markdown",
   "id": "23bc12cf-532f-4534-8d2e-e4e848aa2e03",
   "metadata": {},
   "source": [
    "def checkLeap(n):\n",
    "    if (n%4==0 and n%100!=0) or (n%400==0):\n",
    "        print(\"It is leap year\")\n",
    "    else:\n",
    "        print(\"It is not a leap year\")\n",
    "    \n",
    "\n",
    "year14 = int(input(\"Enter a year to check for leap year\"))\n",
    "\n",
    "checkLeap(year14)"
   ]
  },
  {
   "cell_type": "markdown",
   "id": "755aa365-9e7f-4d0c-a3fd-39cc0faa9a7f",
   "metadata": {},
   "source": [
    "15.\tHow do you use the \"assert\" statement in Python to add debugging checks within if-else blocks?"
   ]
  },
  {
   "cell_type": "markdown",
   "id": "9b7b2f7e-418c-4352-880c-605e4b1a6d64",
   "metadata": {},
   "source": []
  },
  {
   "cell_type": "markdown",
   "id": "227552ed-aaa2-4d26-afd4-98e356292f6d",
   "metadata": {},
   "source": [
    "16.\tCreate a Python program that determines the eligibility of a person for a senior citizen discount based on age using if-else."
   ]
  },
  {
   "cell_type": "code",
   "execution_count": 16,
   "id": "df45c813-23fb-48d9-a2ab-df1d96e72b86",
   "metadata": {},
   "outputs": [
    {
     "name": "stdin",
     "output_type": "stream",
     "text": [
      "Enter age of the person 65\n"
     ]
    },
    {
     "name": "stdout",
     "output_type": "stream",
     "text": [
      "Eligible for senior citizen discount\n"
     ]
    }
   ],
   "source": [
    "age16= int(input(\"Enter age of the person\"))\n",
    "\n",
    "if age16>=60:\n",
    "    print(\"Eligible for senior citizen discount\")\n",
    "else:\n",
    "    print(\"Not eligible\")"
   ]
  },
  {
   "cell_type": "markdown",
   "id": "d5013e75-1023-487f-8ddd-2de047ad388d",
   "metadata": {},
   "source": [
    "17.\tWrite a Python program to categorize a given character as uppercase, lowercase, or neither using if-else."
   ]
  },
  {
   "cell_type": "code",
   "execution_count": 19,
   "id": "e3d66754-272c-422a-8259-fcd5d858e25e",
   "metadata": {},
   "outputs": [
    {
     "name": "stdin",
     "output_type": "stream",
     "text": [
      "Enter a character A\n"
     ]
    },
    {
     "name": "stdout",
     "output_type": "stream",
     "text": [
      "uppercase\n"
     ]
    }
   ],
   "source": [
    "a17 = input(\"Enter a character\")\n",
    "\n",
    "if a17.isalpha():\n",
    "    if a17.islower():\n",
    "        print(\"lowercase\")\n",
    "    elif a17.isupper():\n",
    "        print(\"uppercase\")\n",
    "    else:\n",
    "        print(\"neither\")\n",
    "else:\n",
    "    print(\"Not a valid character\")"
   ]
  },
  {
   "cell_type": "markdown",
   "id": "6f2c84dc-6577-47fc-b6b8-5d5b3b0a24a2",
   "metadata": {},
   "source": [
    "18.\tWrite a Python program to determine the roots of a quadratic equation using if-else."
   ]
  },
  {
   "cell_type": "code",
   "execution_count": 20,
   "id": "0ad76c96-e052-4d50-9666-b8fcf62f67b8",
   "metadata": {},
   "outputs": [
    {
     "name": "stdout",
     "output_type": "stream",
     "text": [
      "Real and Different Roots\n",
      "-2.0\n",
      "12.0\n"
     ]
    }
   ],
   "source": [
    "import math\n",
    "\n",
    "def quad_roots(a,b,c):\n",
    "    dis = b*b - 4*a*c\n",
    "    sqrt_val= math.sqrt(abs(dis))\n",
    "    \n",
    "    if dis>0:\n",
    "        print(\"Real and Different Roots\")\n",
    "        print((-b+sqrt_val)/2*a)\n",
    "        print((-b-sqrt_val)/2*a)\n",
    "    elif dis==0:\n",
    "        print(\"Real and equal Roots\")\n",
    "        print(-b/2*a)\n",
    "    else:\n",
    "        print(\"Real and complex Roots\")\n",
    "        print(- b / (2 * a), + i, sqrt_val)\n",
    "        print(- b / (2 * a), - i, sqrt_val)\n",
    "\n",
    "a17= -1\n",
    "b17= 10\n",
    "c17= 24\n",
    "\n",
    "if a17==0:\n",
    "    print(\"Enter correct details\")\n",
    "else:\n",
    "    quad_roots(a17,b17,c17) "
   ]
  },
  {
   "cell_type": "markdown",
   "id": "48e1c8d3-3170-4f2a-afc0-2cd50c61e493",
   "metadata": {},
   "source": [
    "19.\tCreate a Python program that checks if a given year is a century year or not using if-else."
   ]
  },
  {
   "cell_type": "code",
   "execution_count": 1,
   "id": "1939104e-f12f-49f1-8362-826e3db870ea",
   "metadata": {},
   "outputs": [
    {
     "name": "stdin",
     "output_type": "stream",
     "text": [
      "Enter a year to check for century year 2000\n"
     ]
    },
    {
     "name": "stdout",
     "output_type": "stream",
     "text": [
      "It is a century year\n"
     ]
    }
   ],
   "source": [
    "n19 = int(input(\"Enter a year to check for century year\"))\n",
    "\n",
    "if n19%100==0:\n",
    "    print(\"It is a century year\")\n",
    "else:\n",
    "    print(\"It is not a century year\")"
   ]
  },
  {
   "cell_type": "markdown",
   "id": "f6720874-4920-4952-acae-3341e687e0b2",
   "metadata": {},
   "source": [
    "20.\tWrite a Python program to determine if a given number is a perfect square using if-else."
   ]
  },
  {
   "cell_type": "code",
   "execution_count": 3,
   "id": "e6edbf89-a47a-4fad-9b90-64ef54d9e987",
   "metadata": {},
   "outputs": [
    {
     "name": "stdin",
     "output_type": "stream",
     "text": [
      "Enter the number which has to be checked for perfect square 40\n"
     ]
    },
    {
     "name": "stdout",
     "output_type": "stream",
     "text": [
      "It is not a perfect square\n"
     ]
    }
   ],
   "source": [
    "def isPerfectSquare(n):\n",
    "    if n<=1:\n",
    "        return True\n",
    "    left,right = 1,n \n",
    "    \n",
    "    while left<=right:\n",
    "        mid = left+ (right-left)//2\n",
    "        \n",
    "        square = mid * mid\n",
    "        \n",
    "        if square==n:\n",
    "            return True\n",
    "        elif square<n:\n",
    "            left = mid+1\n",
    "        else:\n",
    "            right = mid-1\n",
    "            \n",
    "    return False\n",
    "\n",
    "a20 = int(input(\"Enter the number which has to be checked for perfect square\"))\n",
    "\n",
    "if isPerfectSquare(a20):\n",
    "    print(\"It is a perfect square\")\n",
    "else:\n",
    "    print(\"It is not a perfect square\")"
   ]
  },
  {
   "cell_type": "markdown",
   "id": "5c9a90cb-e37b-49e0-9f38-c0416552b237",
   "metadata": {},
   "source": [
    "21.\tExplain the purpose of the \"continue\" and \"break\" statements within if-else loops."
   ]
  },
  {
   "cell_type": "markdown",
   "id": "3cb18332-773b-496b-95fb-3c9d365557cc",
   "metadata": {},
   "source": [
    "Continue is used in those cases where we have to skip some line of code within the loop and break is used where\n",
    "we have to break away from the loop when certain condition met."
   ]
  },
  {
   "cell_type": "markdown",
   "id": "d5a96aba-4f93-4077-aaa3-32a2913e9275",
   "metadata": {},
   "source": [
    "22.\tCreate a Python program that calculates the BMI (Body Mass Index) of a person based on their weight and height using if-else."
   ]
  },
  {
   "cell_type": "code",
   "execution_count": 4,
   "id": "d57c0b64-00ea-4348-9810-c7078dffe0e5",
   "metadata": {},
   "outputs": [
    {
     "name": "stdin",
     "output_type": "stream",
     "text": [
      "Enter weight of the person in kgs 45\n",
      "Enter height of the person in metre 170\n"
     ]
    },
    {
     "name": "stdout",
     "output_type": "stream",
     "text": [
      "BMI index is : 0.0015570934256055363\n",
      "Underweight\n",
      "Recommendations: Take some protein and increase body weight and mass\n"
     ]
    }
   ],
   "source": [
    "weight= float(input(\"Enter weight of the person in kgs\"))\n",
    "height= float(input(\"Enter height of the person in metre\"))\n",
    "\n",
    "BMI_index= weight/(height*height)\n",
    "print(\"BMI index is :\",BMI_index)\n",
    "\n",
    "if BMI_index <18.5:\n",
    "    print(\"Underweight\")\n",
    "    print(\"Recommendations: Take some protein and increase body weight and mass\")\n",
    "elif BMI_index >=18.5 and BMI_index<25:\n",
    "    print(\"Normal\")\n",
    "    print(\"Recommentations: Keep following the good diet and maintain proper physique\")\n",
    "elif BMI_index>=25 and BMI_index <30:\n",
    "    print(\"Overweight\")\n",
    "    print(\"Recommendations: Daily Exercises required for your body and diet should be keep in check\")\n",
    "elif BMI_index>=30:\n",
    "    print(\"Obese\")\n",
    "    print(\"Recommendations: Proper fitness routine needed to be followed and proper diet is advised to avoid further weight gain\")"
   ]
  },
  {
   "cell_type": "markdown",
   "id": "8ff3f230-61b9-4ee8-8e7b-9e40a199911a",
   "metadata": {},
   "source": [
    "23.\tHow can you use the \"filter()\" function with if-else statements to filter elements from a list?"
   ]
  },
  {
   "cell_type": "code",
   "execution_count": 9,
   "id": "2fd34f35-364c-4f2f-b09e-27e79035db4c",
   "metadata": {},
   "outputs": [
    {
     "name": "stdout",
     "output_type": "stream",
     "text": [
      "[12, 14, 16, 18, 20]\n"
     ]
    }
   ],
   "source": [
    "list23= [12,13,14,15,16,18,20,21]\n",
    "\n",
    "new_list = list(filter(lambda i :i%2==0,list23))\n",
    "print(new_list)"
   ]
  },
  {
   "cell_type": "markdown",
   "id": "ebcb727a-286b-4bf9-a704-3ec5a712f860",
   "metadata": {},
   "source": [
    "24.\tWrite a Python program to determine if a given number is prime or not using if-else."
   ]
  },
  {
   "cell_type": "code",
   "execution_count": 10,
   "id": "f22e3619-46ab-416f-bf5f-3cc0af56a494",
   "metadata": {},
   "outputs": [
    {
     "name": "stdin",
     "output_type": "stream",
     "text": [
      "Enter a given number to check for prime 15\n"
     ]
    },
    {
     "name": "stdout",
     "output_type": "stream",
     "text": [
      "Number entered is not a prime number\n"
     ]
    }
   ],
   "source": [
    "n = int(input(\"Enter a given number to check for prime\"))\n",
    "\n",
    "if n<2:\n",
    "    print(\"It is not a prime number\")\n",
    "elif n==2:\n",
    "    print(\"It is prime number\")\n",
    "else:\n",
    "    for i in range(2,n):\n",
    "        if n%i==0:\n",
    "           print(\"Number entered is not a prime number\")\n",
    "           break\n",
    "    else:\n",
    "        print(\"Number is a prime number\")"
   ]
  },
  {
   "cell_type": "markdown",
   "id": "4345633f-3696-4176-a134-84bbf52abf00",
   "metadata": {},
   "source": [
    "Map :-\n",
    "\n",
    "\n",
    "1.\tExplain the purpose of the `map()` function in Python and provide an example of how it can be used to apply a function to each element of an iterable."
   ]
  },
  {
   "cell_type": "markdown",
   "id": "64a4b07d-9859-4225-9913-f8e5f6fc199a",
   "metadata": {},
   "source": [
    "Answer: Map functions returns the map object of the results after applying the given function to each item of the iterable."
   ]
  },
  {
   "cell_type": "markdown",
   "id": "7012c59b-35a6-4176-b549-bdd51b09b221",
   "metadata": {},
   "source": [
    "2.\tWrite a Python program that uses the `map()` function to square each element of a list of numbers."
   ]
  },
  {
   "cell_type": "code",
   "execution_count": 14,
   "id": "6bb9f661-adf8-463b-a092-b880590b8bf7",
   "metadata": {},
   "outputs": [
    {
     "data": {
      "text/plain": [
       "[121, 144, 169, 196, 225, 256]"
      ]
     },
     "execution_count": 14,
     "metadata": {},
     "output_type": "execute_result"
    }
   ],
   "source": [
    "list21=[11,12,13,14,15,16]\n",
    "\n",
    "new_list21 = list(map(lambda a:a*a,list21))\n",
    "new_list21"
   ]
  },
  {
   "cell_type": "markdown",
   "id": "6234fd89-e66d-4afb-b2d8-fd156a7d72f3",
   "metadata": {},
   "source": [
    "3.\tHow does the `map()` function differ from a list comprehension in Python, and when would you choose one over the other?"
   ]
  },
  {
   "cell_type": "markdown",
   "id": "889d15a3-05dd-42b7-81ec-71c3f5bf9824",
   "metadata": {},
   "source": [
    "List comprehension returns a list, whereas the map function returns an object of Iterable.  \n",
    "\n",
    "List comprehension execution is faster than that of map function when the formula expression is huge and complex\n",
    "\n",
    "Map function is faster than list comprehension when the formula is already defined as a function earlier"
   ]
  },
  {
   "cell_type": "markdown",
   "id": "cef5b3c1-dfc5-4918-b991-79824b98766a",
   "metadata": {},
   "source": [
    "4.\tCreate a Python program that uses the `map()` function to convert a list of names to uppercase."
   ]
  },
  {
   "cell_type": "code",
   "execution_count": 15,
   "id": "6a94ffc3-1485-4699-9b09-694b3e68559b",
   "metadata": {},
   "outputs": [
    {
     "data": {
      "text/plain": [
       "['MAYANK', 'MEGHNAD', 'MEGHA', 'AAYUSH']"
      ]
     },
     "execution_count": 15,
     "metadata": {},
     "output_type": "execute_result"
    }
   ],
   "source": [
    "list4 = ['mayank','meghnad','megha','aayush']\n",
    "\n",
    "new_list4 = list(map(lambda i:i.upper(),list4))\n",
    "new_list4"
   ]
  },
  {
   "cell_type": "markdown",
   "id": "4b9af53a-b347-4cbb-8959-6c2d6d16549a",
   "metadata": {},
   "source": [
    "5.\tWrite a Python program that uses the `map()` function to calculate the length of each word in a list of strings."
   ]
  },
  {
   "cell_type": "code",
   "execution_count": 1,
   "id": "61433eb4-11a2-4d8b-b0d5-db283a17b441",
   "metadata": {},
   "outputs": [
    {
     "data": {
      "text/plain": [
       "[6, 7, 5, 6]"
      ]
     },
     "execution_count": 1,
     "metadata": {},
     "output_type": "execute_result"
    }
   ],
   "source": [
    "list5 = ['mayank','meghnad','megha','aayush']\n",
    "\n",
    "new_list5= list(map(lambda i:len(i),list5))\n",
    "new_list5"
   ]
  },
  {
   "cell_type": "markdown",
   "id": "d41999f9-d0cc-4656-a13e-a9b89a9a28c1",
   "metadata": {},
   "source": [
    "6.\tHow can you use the `map()` function to apply a custom function to elements of multiple lists simultaneously in Python?"
   ]
  },
  {
   "cell_type": "code",
   "execution_count": 2,
   "id": "5385fedb-e8a3-419c-8fdb-44c9239f2749",
   "metadata": {},
   "outputs": [
    {
     "data": {
      "text/plain": [
       "[2, 6, 12, 20]"
      ]
     },
     "execution_count": 2,
     "metadata": {},
     "output_type": "execute_result"
    }
   ],
   "source": [
    "list6=[2,3,4,5]\n",
    "list7=[1,2,3,4]\n",
    "#multiplying index to index element\n",
    "new_list6= list(map(lambda a,b:a*b,list6,list7))\n",
    "new_list6"
   ]
  },
  {
   "cell_type": "markdown",
   "id": "e8617ef0-c4af-4550-84e2-2046f1ff135a",
   "metadata": {},
   "source": [
    "7.\tCreate a Python program that uses `map()` to convert a list of temperatures from Celsius to Fahrenheit."
   ]
  },
  {
   "cell_type": "code",
   "execution_count": 4,
   "id": "f24a05aa-dbdf-43f7-9a43-67be015f906a",
   "metadata": {},
   "outputs": [
    {
     "data": {
      "text/plain": [
       "[32.0, 113.0, 158.0, 95.0, 122.0, 197.6]"
      ]
     },
     "execution_count": 4,
     "metadata": {},
     "output_type": "execute_result"
    }
   ],
   "source": [
    "list_temp_cel = [0,45,70,35,50,92]\n",
    "\n",
    "def fun(x):\n",
    "    farh = ((x*9)/5)+32\n",
    "    return farh\n",
    "\n",
    "new_list_farh = list(map(fun,list_temp_cel))\n",
    "new_list_farh"
   ]
  },
  {
   "cell_type": "markdown",
   "id": "7bc6396a-f25e-4086-886c-afabef472430",
   "metadata": {},
   "source": [
    "8.\tWrite a Python program that uses the `map()` function to round each element of a list of floating-point numbers to the nearest integer."
   ]
  },
  {
   "cell_type": "code",
   "execution_count": 7,
   "id": "64802f36-a219-4960-920f-c19c6bf72609",
   "metadata": {},
   "outputs": [
    {
     "data": {
      "text/plain": [
       "[102, 86, 93]"
      ]
     },
     "execution_count": 7,
     "metadata": {},
     "output_type": "execute_result"
    }
   ],
   "source": [
    "list8=[102.35,85.57, 92.63]\n",
    "\n",
    "new_list8= list(map(lambda a:round(a),list8))\n",
    "\n",
    "new_list8"
   ]
  },
  {
   "cell_type": "markdown",
   "id": "31e81215-1f8a-497c-92c1-84890f6409a8",
   "metadata": {},
   "source": [
    "Reduce :-\n",
    "1.What is the `reduce()` function in Python, and what module should you import to use it? Provide an example of its basic usage."
   ]
  },
  {
   "cell_type": "markdown",
   "id": "9bf90c87-1ddc-4d29-aae9-7e2c7423f364",
   "metadata": {},
   "source": [
    "The reduce(fun,seq) function is used to apply a particular function passed in its\n",
    "argument to all of the list elements mentioned in the sequence passed along.This function is defined in “functools” module."
   ]
  },
  {
   "cell_type": "code",
   "execution_count": 10,
   "id": "4eedfbb4-b67c-4c1d-95d8-83b5b95dd281",
   "metadata": {},
   "outputs": [
    {
     "data": {
      "text/plain": [
       "24"
      ]
     },
     "execution_count": 10,
     "metadata": {},
     "output_type": "execute_result"
    }
   ],
   "source": [
    "import functools\n",
    "\n",
    "listred1= [2,4,5,6,7]\n",
    "#finding summation value of all elements in the list\n",
    "list_Red = functools.reduce(lambda a,b:a+b,listred1)\n",
    "list_Red"
   ]
  },
  {
   "cell_type": "markdown",
   "id": "ef7654d9-f47e-4092-b895-ed58ac84ca61",
   "metadata": {},
   "source": [
    "2.\tWrite a Python program that uses the `reduce()` function to find the product of all elements in a list."
   ]
  },
  {
   "cell_type": "code",
   "execution_count": 11,
   "id": "33fcbb21-a6f0-45e1-97a4-2c80126d62b7",
   "metadata": {},
   "outputs": [
    {
     "data": {
      "text/plain": [
       "120"
      ]
     },
     "execution_count": 11,
     "metadata": {},
     "output_type": "execute_result"
    }
   ],
   "source": [
    "list_red2= [1,2,3,4,5]\n",
    "\n",
    "mult2 = functools.reduce(lambda a,b:a*b,list_red2)\n",
    "mult2"
   ]
  },
  {
   "cell_type": "markdown",
   "id": "ed3c86b2-268d-483f-b743-b273f0c49f53",
   "metadata": {},
   "source": [
    "3.\tCreate a Python program that uses `reduce()` to find the maximum element in a list of numbers."
   ]
  },
  {
   "cell_type": "code",
   "execution_count": 14,
   "id": "8df6df2c-b60c-4b88-8ac6-50cd58cf9a3b",
   "metadata": {},
   "outputs": [
    {
     "name": "stdout",
     "output_type": "stream",
     "text": [
      "Maximum value in the list: 71\n"
     ]
    }
   ],
   "source": [
    "list_red3 = [11,12,15,17,20,21,32,5,71,45]\n",
    "\n",
    "max_vale = functools.reduce(lambda a,b:a if a>b else b, list_red3)\n",
    "\n",
    "print(\"Maximum value in the list:\",max_vale)"
   ]
  },
  {
   "cell_type": "markdown",
   "id": "16c0ec34-e581-4f66-95cf-a8af53aa5e01",
   "metadata": {},
   "source": [
    "4.\tHow can you use the `reduce()` function to concatenate a list of strings into a single string?6.\tCreate a Python program that uses `reduce()` to find the GCD (Greatest Common Divisor) of a list of numbers."
   ]
  },
  {
   "cell_type": "code",
   "execution_count": 17,
   "id": "dc95171e-4189-4d8b-a41d-97f2c0e5aa3d",
   "metadata": {},
   "outputs": [
    {
     "data": {
      "text/plain": [
       "'my name is mayank'"
      ]
     },
     "execution_count": 17,
     "metadata": {},
     "output_type": "execute_result"
    }
   ],
   "source": [
    "list_red4 = ['my','name','is','mayank']\n",
    "\n",
    "new_stat4 = functools.reduce(lambda a,b:a+\" \"+b,list_red4)\n",
    "new_stat4"
   ]
  },
  {
   "cell_type": "markdown",
   "id": "9fca4101-31b1-43c8-831c-12d625e34af1",
   "metadata": {},
   "source": [
    "5.\tWrite a Python program that calculates the factorial of a number using the `reduce()` function."
   ]
  },
  {
   "cell_type": "code",
   "execution_count": 19,
   "id": "51c6d90c-f0c6-40a1-9413-3a29c043fcda",
   "metadata": {},
   "outputs": [
    {
     "name": "stdin",
     "output_type": "stream",
     "text": [
      "Enter a number whose factorial to be found 5\n"
     ]
    },
    {
     "name": "stdout",
     "output_type": "stream",
     "text": [
      "Factorial of the number is: 120\n"
     ]
    }
   ],
   "source": [
    "red5 = int(input(\"Enter a number whose factorial to be found\"))\n",
    "\n",
    "\n",
    "fact_Red = functools.reduce(lambda x,y:x*y,range(1,red5+1))\n",
    "\n",
    "print(\"Factorial of the number is:\",fact_Red)\n"
   ]
  },
  {
   "cell_type": "markdown",
   "id": "8162ba35-72fb-4560-b1dd-d20fea454a1a",
   "metadata": {},
   "source": [
    "6.\tCreate a Python program that uses `reduce()` to find the GCD (Greatest Common Divisor) of a list of numbers."
   ]
  },
  {
   "cell_type": "code",
   "execution_count": null,
   "id": "835b8b47-bbda-4366-812f-cc4f91ae6bc2",
   "metadata": {},
   "outputs": [],
   "source": [
    "list_red6 = [18,36,45,63]\n",
    "\n",
    "gcd_red = functools.reduce(lambda x,y: i"
   ]
  },
  {
   "cell_type": "code",
   "execution_count": null,
   "id": "28b96d8c-9042-4e29-8063-20ed7585e229",
   "metadata": {},
   "outputs": [],
   "source": []
  },
  {
   "cell_type": "markdown",
   "id": "8310fdbc-1754-4ff9-8bd1-43a5147411a6",
   "metadata": {},
   "source": [
    "7.\tWrite a Python program that uses the `reduce()` function to find the sum of the digits of a given number."
   ]
  },
  {
   "cell_type": "code",
   "execution_count": 23,
   "id": "60e5cfa8-da16-4288-b5b2-0905b9d2dbc6",
   "metadata": {},
   "outputs": [
    {
     "name": "stdin",
     "output_type": "stream",
     "text": [
      "Enter a number to find its sum of digits 5479\n"
     ]
    },
    {
     "data": {
      "text/plain": [
       "25"
      ]
     },
     "execution_count": 23,
     "metadata": {},
     "output_type": "execute_result"
    }
   ],
   "source": [
    "n7 = input(\"Enter a number to find its sum of digits\")\n",
    "\n",
    "sum_digits = functools.reduce(lambda x,y:int(x)+int(y),n7)\n",
    "sum_digits"
   ]
  },
  {
   "cell_type": "markdown",
   "id": "0835a843-1c2d-4e27-9596-81476c822102",
   "metadata": {},
   "source": [
    "Filter :-\n",
    "\n",
    "\n",
    "1.\tExplain the purpose of the `filter()` function in Python and provide an example of how it can be used to filter elements from an iterable."
   ]
  },
  {
   "cell_type": "markdown",
   "id": "8932df8d-5e95-4da6-ab12-a22b7a357dc7",
   "metadata": {},
   "source": [
    "Filer is used to remove unnecessary elements from the list."
   ]
  },
  {
   "cell_type": "markdown",
   "id": "532de501-9ca1-4977-a1c5-ba416d04eb9b",
   "metadata": {},
   "source": [
    "2.\tWrite a Python program that uses the `filter()` function to select even numbers from a list of integers."
   ]
  },
  {
   "cell_type": "code",
   "execution_count": 1,
   "id": "2333cc6c-03f7-4608-8eca-2919e305064d",
   "metadata": {},
   "outputs": [
    {
     "data": {
      "text/plain": [
       "[2, 4, 6, 8]"
      ]
     },
     "execution_count": 1,
     "metadata": {},
     "output_type": "execute_result"
    }
   ],
   "source": [
    "list_f2 = [1,2,3,4,5,6,7,8]\n",
    "\n",
    "new_list_f2 = list(filter(lambda i:i%2==0, list_f2))\n",
    "new_list_f2"
   ]
  },
  {
   "cell_type": "markdown",
   "id": "20593424-bc5f-4fe0-9e66-078c8a6fee63",
   "metadata": {},
   "source": [
    "3.\tCreate a Python program that uses the `filter()` function to select names that start with a specific letter from a list of strings."
   ]
  },
  {
   "cell_type": "markdown",
   "id": "cbbd1c9f-f839-4cd0-8728-e51a89b75536",
   "metadata": {},
   "source": [
    "list_f3 = ['mayank','anish','meghd','wyana','monday']\n",
    "\n",
    "#filter name starting with m\n",
    "\n",
    "new_list_f3 = list(filter(lambda a:a[0]=='m',list_f3))\n",
    "new_list_f3"
   ]
  },
  {
   "cell_type": "markdown",
   "id": "d040d93e-7865-4188-85d7-081363a5f42c",
   "metadata": {},
   "source": [
    "4.\tWrite a Python program that uses the `filter()` function to select prime numbers from a list of integers."
   ]
  },
  {
   "cell_type": "code",
   "execution_count": 12,
   "id": "6bc4d92f-e703-4343-b8bd-88da5087ccdb",
   "metadata": {},
   "outputs": [
    {
     "data": {
      "text/plain": [
       "[5, 7, 11, 3, 29, 17]"
      ]
     },
     "execution_count": 12,
     "metadata": {},
     "output_type": "execute_result"
    }
   ],
   "source": [
    "def checkprime(n):\n",
    "    if n<2:\n",
    "        return False\n",
    "    else:\n",
    "        for i in range(2,n):\n",
    "            if n%i==0:\n",
    "                return False\n",
    "        return True   \n",
    "list_fil4=[5,7,8,9,10,11,12,14,16,25,3,29,17,30,93]\n",
    "\n",
    "new_list_f4 = list(filter(checkprime,list_fil4))\n",
    "new_list_f4"
   ]
  },
  {
   "cell_type": "markdown",
   "id": "461408d2-1468-4e65-bef4-e60b1befbee3",
   "metadata": {},
   "source": [
    "5.\tHow can you use the `filter()` function to remove None values from a list in Python?"
   ]
  },
  {
   "cell_type": "code",
   "execution_count": 14,
   "id": "12cd8a06-05da-4308-bc55-5d0f2c5c56f7",
   "metadata": {},
   "outputs": [
    {
     "data": {
      "text/plain": [
       "['mayank', 'car']"
      ]
     },
     "execution_count": 14,
     "metadata": {},
     "output_type": "execute_result"
    }
   ],
   "source": [
    "list_f5=[None,'mayank', None, 'car']\n",
    "\n",
    "new_list_f5 = list(filter(lambda i:i!=None,list_f5))\n",
    "new_list_f5"
   ]
  },
  {
   "cell_type": "markdown",
   "id": "62e4317b-20b8-4c26-bf64-6ed064c6214b",
   "metadata": {},
   "source": [
    "6.\tCreate a Python program that uses `filter()` to select words longer than a certain length from a list of strings."
   ]
  },
  {
   "cell_type": "code",
   "execution_count": 17,
   "id": "6af4603e-0974-4850-b051-f445c8571dfb",
   "metadata": {},
   "outputs": [
    {
     "data": {
      "text/plain": [
       "['mayank', 'bike', 'register']"
      ]
     },
     "execution_count": 17,
     "metadata": {},
     "output_type": "execute_result"
    }
   ],
   "source": [
    "list_f6 =['mayank','car','bike','ant','am','register']\n",
    "\n",
    "length = 3\n",
    "\n",
    "new_listf6 = list(filter(lambda i:len(i)>length,list_f6))\n",
    "new_listf6"
   ]
  },
  {
   "cell_type": "markdown",
   "id": "68581f8d-798b-4eb9-a6ff-1b917e7665e7",
   "metadata": {},
   "source": [
    "7.\tWrite a Python program that uses the `filter()` function to select elements greater than a specified threshold from a list of values."
   ]
  },
  {
   "cell_type": "code",
   "execution_count": 19,
   "id": "a73d1934-ad34-43fb-bb78-39e145be78dc",
   "metadata": {},
   "outputs": [
    {
     "data": {
      "text/plain": [
       "[20, 25, 30, 45, 35]"
      ]
     },
     "execution_count": 19,
     "metadata": {},
     "output_type": "execute_result"
    }
   ],
   "source": [
    "list_f7 =[10,15,20,25,30,45,5,35]\n",
    "\n",
    "val7 = 16\n",
    "\n",
    "new_listf7 = list(filter(lambda i:i>val7,list_f7))\n",
    "new_listf7"
   ]
  },
  {
   "cell_type": "markdown",
   "id": "a0cbfadc-05ef-47af-be40-19d9afea22b6",
   "metadata": {},
   "source": [
    "\n",
    "Recursion:-\n",
    "\n",
    "1.\tExplain the concept of recursion in Python. How does it differ from iteration?"
   ]
  },
  {
   "cell_type": "markdown",
   "id": "fd141cd5-ecb1-4704-b527-cbb7ba12bbfa",
   "metadata": {},
   "source": [
    "difference between Recursion and Iteration is that recursion involves a function calling itself while iteration \n",
    "involves a loop repeating instructions until a certain condition is met."
   ]
  },
  {
   "cell_type": "markdown",
   "id": "046a5ceb-dd14-4580-9695-0af0926c7502",
   "metadata": {},
   "source": [
    "2.\tWrite a Python program to calculate the factorial of a number using recursion."
   ]
  },
  {
   "cell_type": "code",
   "execution_count": null,
   "id": "b2d9776b-613a-4b7d-b43f-93831238bbba",
   "metadata": {},
   "outputs": [
    {
     "name": "stdin",
     "output_type": "stream",
     "text": [
      "Enter a number whose recursion to be calculated 3\n"
     ]
    },
    {
     "name": "stdout",
     "output_type": "stream",
     "text": [
      "Recursion value is : 6\n"
     ]
    }
   ],
   "source": [
    "def recur2(n):\n",
    "    if n==0 or n==1:\n",
    "        return 1\n",
    "    else:\n",
    "        return n*recur2(n-1)\n",
    "    \n",
    "int2 = int(input(\"Enter a number whose recursion to be calculated\"))\n",
    "final_val2 = recur2(int2)\n",
    "print(\"Recursion value is :\", final_val2)"
   ]
  },
  {
   "cell_type": "markdown",
   "id": "d427fe63-6b19-4da0-a6d9-524b77335229",
   "metadata": {},
   "source": [
    "3.\tCreate a recursive Python function to find the nth Fibonacci number."
   ]
  },
  {
   "cell_type": "code",
   "execution_count": 31,
   "id": "0b959bcd-6394-4434-8294-4e97f8c09e21",
   "metadata": {},
   "outputs": [
    {
     "name": "stdin",
     "output_type": "stream",
     "text": [
      "Enter the nth fibonacci number to be found 4\n"
     ]
    },
    {
     "data": {
      "text/plain": [
       "3"
      ]
     },
     "execution_count": 31,
     "metadata": {},
     "output_type": "execute_result"
    }
   ],
   "source": [
    "def fibon(n):\n",
    "    if n<=1:\n",
    "        return n\n",
    "    else:\n",
    "        return fibon(n-1)+fibon(n-2)\n",
    "\n",
    "inp3 = int(input(\"Enter the nth fibonacci number to be found\"))\n",
    "fibon(inp3)"
   ]
  },
  {
   "cell_type": "markdown",
   "id": "802ceada-dd5c-43a8-b891-65d405287cf3",
   "metadata": {},
   "source": [
    "4.\tWrite a recursive Python function to calculate the sum of all elements in a list."
   ]
  },
  {
   "cell_type": "code",
   "execution_count": 32,
   "id": "18e6d782-2555-48c2-bc0a-84c25f64f0c5",
   "metadata": {},
   "outputs": [
    {
     "data": {
      "text/plain": [
       "55"
      ]
     },
     "execution_count": 32,
     "metadata": {},
     "output_type": "execute_result"
    }
   ],
   "source": [
    "list4 = [1,2,3,4,5,6,7,8,9,10]\n",
    "\n",
    "def sum_rec(arr,N):\n",
    "    if N<=0:\n",
    "        return 0\n",
    "    else:\n",
    "        return sum_rec(arr,N-1)+arr[N-1]\n",
    "    \n",
    "sum_rec(list4,len(list4))"
   ]
  },
  {
   "cell_type": "markdown",
   "id": "c61e4ae5-392a-448e-b5cf-af29a2a2e08f",
   "metadata": {},
   "source": [
    "5.\tHow can you prevent a recursive function from running indefinitely, causing a stack overflow error?"
   ]
  },
  {
   "cell_type": "markdown",
   "id": "e9c63d2a-60cb-4a63-bcd7-672f67cd0655",
   "metadata": {},
   "source": [
    "By Implementing a base case. A base case is a condition in which the recursive function will not call itself again. \n",
    "This is important because it ensures that the recursive function will eventually stop and not continue indefinitely,\n",
    "which can lead to stack overflow."
   ]
  },
  {
   "cell_type": "markdown",
   "id": "283f4e66-7418-45bf-b164-c411c89beed4",
   "metadata": {},
   "source": [
    "6.\tCreate a recursive Python function to find the greatest common divisor (GCD) of two numbers using the Euclidean algorithm."
   ]
  },
  {
   "cell_type": "markdown",
   "id": "1c047d5f-4f04-4c54-9360-53735aa6748a",
   "metadata": {},
   "source": [
    "def gcd_rec(a,b):\n",
    "    if b==0:\n",
    "        return a\n",
    "    else:\n",
    "        return gcd_rec(b,a%b)\n",
    "    \n",
    "a=60\n",
    "b=40\n",
    "\n",
    "GCD=gcd_rec(a,b)\n",
    "print(\"GCD of 2 numbers are:\",GCD)"
   ]
  },
  {
   "cell_type": "markdown",
   "id": "52f72e46-f346-4698-9a6f-6b6f6e2e22f7",
   "metadata": {},
   "source": [
    "7.\tWrite a recursive Python function to reverse a string."
   ]
  },
  {
   "cell_type": "code",
   "execution_count": 39,
   "id": "7a652080-8db7-4af8-802e-2dada1216e38",
   "metadata": {},
   "outputs": [
    {
     "name": "stdin",
     "output_type": "stream",
     "text": [
      "Enter a string to reverse newly\n"
     ]
    },
    {
     "data": {
      "text/plain": [
       "'ylwen'"
      ]
     },
     "execution_count": 39,
     "metadata": {},
     "output_type": "execute_result"
    }
   ],
   "source": [
    "def rev_str(str7,a):\n",
    "    if a<=0:\n",
    "        return \"\"\n",
    "    else:\n",
    "        return str7[a-1]+rev_str(str7,a-1)\n",
    "    \n",
    "    \n",
    "str_Rec = input(\"Enter a string to reverse\")\n",
    "Reversed_string = rev_str(str_Rec,len(str_Rec))\n",
    "Reversed_string"
   ]
  },
  {
   "cell_type": "markdown",
   "id": "8612eab7-7ed7-4300-b11f-ce74c991aea9",
   "metadata": {},
   "source": [
    "8.\tCreate a recursive Python function to calculate the power of a number (x^n)."
   ]
  },
  {
   "cell_type": "code",
   "execution_count": 45,
   "id": "f04dd680-968c-4eab-8061-794d2d47d6a6",
   "metadata": {},
   "outputs": [
    {
     "data": {
      "text/plain": [
       "3125"
      ]
     },
     "execution_count": 45,
     "metadata": {},
     "output_type": "execute_result"
    }
   ],
   "source": [
    "def rec_pow(x,n):\n",
    "    if n==0:\n",
    "        return 1\n",
    "    else:\n",
    "        return x*rec_pow(x,n-1)\n",
    "\n",
    "rec_pow(5,5)"
   ]
  },
  {
   "cell_type": "markdown",
   "id": "e1745747-1642-4f58-90b7-8c44c0fe9c4a",
   "metadata": {},
   "source": [
    "9.\tWrite a recursive Python function to find all permutations of a given string."
   ]
  },
  {
   "cell_type": "code",
   "execution_count": 50,
   "id": "0071ba70-0cbd-427d-b302-5b68366c56d5",
   "metadata": {},
   "outputs": [
    {
     "name": "stdout",
     "output_type": "stream",
     "text": [
      "ABC\n",
      "ACB\n",
      "BAC\n",
      "BCA\n",
      "CBA\n",
      "CAB\n"
     ]
    }
   ],
   "source": [
    "def toString(List): \n",
    "    return ''.join(List) \n",
    "  \n",
    "# Function to print permutations of string \n",
    "# This function takes three parameters: \n",
    "# 1. String \n",
    "# 2. Starting index of the string \n",
    "# 3. Ending index of the string. \n",
    "  \n",
    "  \n",
    "def permute(a, l, r): \n",
    "    if l == r: \n",
    "        print(toString(a)) \n",
    "    else: \n",
    "        for i in range(l, r): \n",
    "            a[l], a[i] = a[i], a[l] \n",
    "            permute(a, l+1, r) \n",
    "            a[l], a[i] = a[i], a[l]  # backtrack \n",
    "  \n",
    "  \n",
    "# Driver code \n",
    "string = \"ABC\"\n",
    "n = len(string) \n",
    "a = list(string) \n",
    "  \n",
    "# Function call \n",
    "permute(a, 0, n) "
   ]
  },
  {
   "cell_type": "markdown",
   "id": "e90403ad-3423-499d-b1a5-c6255273a44d",
   "metadata": {},
   "source": [
    "10.\tWrite a recursive Python function to check if a string is a palindrome."
   ]
  },
  {
   "cell_type": "code",
   "execution_count": 3,
   "id": "06fde6d5-ed15-4148-b8bb-5b38e8da8b7d",
   "metadata": {},
   "outputs": [
    {
     "name": "stdin",
     "output_type": "stream",
     "text": [
      "Enter a string to check for pallidrome: 12321\n"
     ]
    },
    {
     "name": "stdout",
     "output_type": "stream",
     "text": [
      "String is a pallindrome\n"
     ]
    }
   ],
   "source": [
    "def pal(n):\n",
    "    if len(n)<1:\n",
    "        return True\n",
    "    else:\n",
    "        if n[0]==n[-1]:\n",
    "            return pal(n[1:-1])\n",
    "        else:\n",
    "            return False\n",
    "        \n",
    "input10 = input(\"Enter a string to check for pallidrome:\")\n",
    "\n",
    "if pal(input10)==True:\n",
    "    print(\"String is a pallindrome\")\n",
    "else:\n",
    "    print(\"String is not a pallindrome\")               "
   ]
  },
  {
   "cell_type": "markdown",
   "id": "1845c5d2-8300-44ca-95d0-f07cd683acfc",
   "metadata": {},
   "source": [
    "11.\tCreate a recursive Python function to generate all possible combinations of a list of elements."
   ]
  },
  {
   "cell_type": "code",
   "execution_count": null,
   "id": "d9e2bdb7-8911-436d-9763-fcd5992a1051",
   "metadata": {},
   "outputs": [],
   "source": []
  },
  {
   "cell_type": "markdown",
   "id": "05e935d0-015f-4f3b-8665-921c12c3eb24",
   "metadata": {},
   "source": [
    "\n",
    "Basics of Functions:\n",
    "\n",
    "1.\tWhat is a function in Python, and why is it used?\n"
   ]
  },
  {
   "cell_type": "markdown",
   "id": "c19dc1bf-86bb-4c01-99fe-09575a588a0c",
   "metadata": {},
   "source": [
    "Function encompasses a set of instructions that is needed to be evaluated for a desired purpose. Insted of writing a code again\n",
    "and again , we can simply define a function and write our code within the function."
   ]
  },
  {
   "cell_type": "markdown",
   "id": "ee2b3cec-657f-4619-b350-f46f8465f262",
   "metadata": {},
   "source": [
    "2.\tHow do you define a function in Python? Provide an example."
   ]
  },
  {
   "cell_type": "markdown",
   "id": "350e8e14-704f-495c-b2e5-cdd7b714e932",
   "metadata": {},
   "source": [
    "Function definition could be done by using keyword \"def\" and then writing the function name:\n",
    "Example: Function to calculate the sum of 2 numbers\n",
    "\n",
    "def sum(a,b):\n",
    "    return a+b"
   ]
  },
  {
   "cell_type": "markdown",
   "id": "8264e2fc-42bd-4811-89f0-72eec2665d76",
   "metadata": {},
   "source": [
    "3.\tExplain the difference between a function definition and a function call."
   ]
  },
  {
   "cell_type": "markdown",
   "id": "5ab8a0b8-338a-417d-9a06-2e989f182967",
   "metadata": {},
   "source": [
    "Function definition is writing the set of code to be executed within it.\n",
    "Function call is when we want to execute that set of instructions within that function by calling it through name and required number of arguments\n",
    "\n",
    "For example:\n",
    "    ## Function Definition\n",
    "    def sum(a,b):\n",
    "        return a+b\n",
    "    ##Function calling\n",
    "    sum(2,3)"
   ]
  },
  {
   "cell_type": "markdown",
   "id": "1930dda5-66f4-4c49-871b-47a3d0dd4b56",
   "metadata": {},
   "source": [
    "4.\tWrite a Python program that defines a function to calculate the sum of two numbers and then calls the function."
   ]
  },
  {
   "cell_type": "code",
   "execution_count": 10,
   "id": "544fcb03-fff7-4f0b-8a5e-b2e65dc00137",
   "metadata": {},
   "outputs": [
    {
     "name": "stdout",
     "output_type": "stream",
     "text": [
      "Sum of 2 and 3 is: 5\n"
     ]
    }
   ],
   "source": [
    "def sum_4(a,b):\n",
    "    return a+b\n",
    "\n",
    "result4= sum_4(2,3)\n",
    "print(\"Sum of 2 and 3 is:\",result4)"
   ]
  },
  {
   "cell_type": "markdown",
   "id": "186e18da-b5d0-4c02-8386-55cf383b08ce",
   "metadata": {},
   "source": [
    "5.\tWhat is a function signature, and what information does it typically include?"
   ]
  },
  {
   "cell_type": "code",
   "execution_count": null,
   "id": "195aeae5-1004-4ab1-8678-9ec3a74788dd",
   "metadata": {},
   "outputs": [],
   "source": []
  },
  {
   "cell_type": "markdown",
   "id": "8c8ba59f-6c8e-491f-8f02-d6f6f05cb3f2",
   "metadata": {},
   "source": [
    "6.\tCreate a Python function that takes two arguments and returns their product."
   ]
  },
  {
   "cell_type": "code",
   "execution_count": 1,
   "id": "a18eafdd-a86d-4ff7-ada2-198072ed247d",
   "metadata": {},
   "outputs": [
    {
     "name": "stdout",
     "output_type": "stream",
     "text": [
      "Multiplication of 2 numbers: 28\n"
     ]
    }
   ],
   "source": [
    "def mult6(a,b):\n",
    "    return a*b\n",
    "\n",
    "result = mult6(4,7)\n",
    "print(\"Multiplication of 2 numbers:\",result)"
   ]
  },
  {
   "cell_type": "markdown",
   "id": "9b93f793-da59-4085-a583-f1ff3b77ff33",
   "metadata": {},
   "source": [
    "Function Parameters and Arguments:\n",
    "\n",
    "1.\tExplain the concepts of formal parameters and actual arguments in Python functions."
   ]
  },
  {
   "cell_type": "markdown",
   "id": "36da8fff-629e-4f92-867e-62bc03a71ea0",
   "metadata": {},
   "source": [
    "The parameter used in function definition statement which contain data type on its time of declaration is called formal parameter"
   ]
  },
  {
   "cell_type": "markdown",
   "id": "a41ee802-5780-4d6f-9970-299c04fdb848",
   "metadata": {},
   "source": [
    "When a function is called, the values (expressions) that are passed in the function call are called the arguments or actual parameters/actual arguments."
   ]
  },
  {
   "cell_type": "markdown",
   "id": "0dc5d9a8-13f5-46dc-a8e8-88b36b633588",
   "metadata": {},
   "source": [
    "2.\tWrite a Python program that defines a function with default argument values."
   ]
  },
  {
   "cell_type": "code",
   "execution_count": 3,
   "id": "d50904f9-976b-4072-b0b3-f20a14efac1e",
   "metadata": {},
   "outputs": [
    {
     "data": {
      "text/plain": [
       "15"
      ]
     },
     "execution_count": 3,
     "metadata": {},
     "output_type": "execute_result"
    }
   ],
   "source": [
    "def load(n,a=10):\n",
    "    return a+n\n",
    "\n",
    "result2 = load(5)\n",
    "result2"
   ]
  },
  {
   "cell_type": "markdown",
   "id": "d5ed8c9e-e7cb-4a4e-90cf-15cea6a62bd7",
   "metadata": {},
   "source": [
    "3.\tHow do you use keyword arguments in Python function calls? Provide an example."
   ]
  },
  {
   "cell_type": "markdown",
   "id": "b5995edc-d2d1-4c93-b4b0-e688a71fdd39",
   "metadata": {},
   "source": [
    "Parameter Names are used to pass the argument during the function call."
   ]
  },
  {
   "cell_type": "code",
   "execution_count": 5,
   "id": "99e6b670-7c41-4352-985d-c6ecc64a2719",
   "metadata": {},
   "outputs": [
    {
     "name": "stdout",
     "output_type": "stream",
     "text": [
      "Hi, I am Prince\n",
      "My age is  20\n"
     ]
    }
   ],
   "source": [
    "def nameAge(name, age):\n",
    "    print(\"Hi, I am\", name)\n",
    "    print(\"My age is \", age)\n",
    " \n",
    "nameAge(name=\"Prince\", age=20)"
   ]
  },
  {
   "cell_type": "markdown",
   "id": "8471c23e-198b-4e44-9513-c638ac655f1c",
   "metadata": {},
   "source": [
    "4.\tCreate a Python function that accepts a variable number of arguments and calculates their sum."
   ]
  },
  {
   "cell_type": "code",
   "execution_count": 2,
   "id": "b5e1ac70-60c9-4b5d-b0f6-923b38dd252e",
   "metadata": {},
   "outputs": [
    {
     "data": {
      "text/plain": [
       "39"
      ]
     },
     "execution_count": 2,
     "metadata": {},
     "output_type": "execute_result"
    }
   ],
   "source": [
    "def sum_Cal(*args):\n",
    "    s=0\n",
    "    for i in args:\n",
    "        s=s+i\n",
    "    return s\n",
    "\n",
    "result = sum_Cal(5,7,8,9,10)\n",
    "result"
   ]
  },
  {
   "cell_type": "markdown",
   "id": "16eb6940-d77f-487b-ac94-f456ebc43b7f",
   "metadata": {},
   "source": [
    "5.\tWhat is the purpose of the `*args` and `**kwargs` syntax in function parameter lists?"
   ]
  },
  {
   "cell_type": "markdown",
   "id": "dfb77701-74cd-4102-b10f-55eb71c3efd0",
   "metadata": {},
   "source": [
    "The special syntax *args in function definitions in Python is used to pass a variable number of arguments to a function.\n",
    "*args allows you to do is take in more arguments than the number of formal arguments that you previously defined. With *args, any number of extra arguments can be tacked on to your current formal parameters (including zero extra arguments).\n",
    "\n",
    "The special syntax **kwargs in function definitions in Python is used to pass a keyworded, variable-length argument list. We use the name kwargs with the double star. The reason is that the double star allows us to pass through keyword arguments (and any number of them)"
   ]
  },
  {
   "cell_type": "markdown",
   "id": "55a03ea1-fda3-4d3e-ab06-5af3a47e840a",
   "metadata": {},
   "source": [
    "Return Values and Scoping:\n",
    "\n",
    "1.\tDescribe the role of the `return` statement in Python functions and provide examples."
   ]
  },
  {
   "cell_type": "markdown",
   "id": "d3cfd4b9-ca73-4939-af8f-5a5c3974a279",
   "metadata": {},
   "source": [
    "Return statement in Python function return the value to the main code rather than printing the same value there.\n",
    "\n",
    "for example:-"
   ]
  },
  {
   "cell_type": "code",
   "execution_count": 3,
   "id": "d9f0e9b3-1d9c-4dda-b92c-c2831c28eee3",
   "metadata": {},
   "outputs": [
    {
     "data": {
      "text/plain": [
       "5"
      ]
     },
     "execution_count": 3,
     "metadata": {},
     "output_type": "execute_result"
    }
   ],
   "source": [
    "def sum_Cal2(a,b):\n",
    "    return a+b\n",
    "## here we are returning sum of a and b rather than printing the value there. and this value is returned \n",
    "## to the function call below\n",
    "\n",
    "res = sum_Cal2(2,3) ##function calling and storing in variable to get the return value\n",
    "res ##printing that variable"
   ]
  },
  {
   "cell_type": "markdown",
   "id": "70b037e7-4560-4cf5-a44d-4bcae93008ed",
   "metadata": {},
   "source": [
    "2.\tExplain the concept of variable scope in Python, including local and global variables."
   ]
  },
  {
   "cell_type": "markdown",
   "id": "53d41b3e-6c98-4d94-b352-2869e491c391",
   "metadata": {},
   "source": [
    "Local variables are those that are initialized within a function and are unique to that function. It cannot be accessed outside of the function.\n",
    "\n",
    "Global variables are the ones that are defined and declared outside any function and are not specified to any function. They can be used by any part of the program.\n"
   ]
  },
  {
   "cell_type": "markdown",
   "id": "2c4ddab9-822f-44f1-b800-00a3f20eb414",
   "metadata": {},
   "source": [
    "3.\tWrite a Python program that demonstrates the use of global variables within functions."
   ]
  },
  {
   "cell_type": "code",
   "execution_count": 4,
   "id": "9455265f-2d32-4427-8804-58575a80b8d5",
   "metadata": {},
   "outputs": [
    {
     "data": {
      "text/plain": [
       "15"
      ]
     },
     "execution_count": 4,
     "metadata": {},
     "output_type": "execute_result"
    }
   ],
   "source": [
    "glob = 5 #global variable intitalization\n",
    "\n",
    "def fun_add(b): #function definition\n",
    "    sum_new = b+glob\n",
    "    return sum_new\n",
    "\n",
    "inpt3 = 10 # input given\n",
    "result = fun_add(inpt3) #function calling and storing in variable\n",
    "result"
   ]
  },
  {
   "cell_type": "markdown",
   "id": "fbac5fff-8e81-4aa6-9c5b-45e8276915c0",
   "metadata": {},
   "source": [
    "4.\tCreate a Python function that calculates the factorial of a number and returns it."
   ]
  },
  {
   "cell_type": "code",
   "execution_count": 7,
   "id": "d4f99f0c-d2e9-4b8b-8f43-39489c61b325",
   "metadata": {},
   "outputs": [
    {
     "data": {
      "text/plain": [
       "120"
      ]
     },
     "execution_count": 7,
     "metadata": {},
     "output_type": "execute_result"
    }
   ],
   "source": [
    "def fact4(n):\n",
    "    if n<=1:\n",
    "        return 1\n",
    "    else:\n",
    "        return n*fact4(n-1)\n",
    "    \n",
    "result = fact4(5)\n",
    "result"
   ]
  },
  {
   "cell_type": "markdown",
   "id": "408b6599-c00c-4f80-bc57-7c375ad18a35",
   "metadata": {},
   "source": [
    "5.\tHow can you access variables defined outside a function from within the function?"
   ]
  },
  {
   "cell_type": "code",
   "execution_count": null,
   "id": "01a7d71e-89e3-42b0-b2f5-d7b552eaa893",
   "metadata": {},
   "outputs": [],
   "source": []
  },
  {
   "cell_type": "markdown",
   "id": "1c9a1efe-ade5-416c-89ae-d8dec17dd6c3",
   "metadata": {},
   "source": [
    "Lambda Functions and Higher-Order Functions:\n",
    "\n",
    "1.\tWhat are lambda functions in Python, and when are they typically used?\n"
   ]
  },
  {
   "cell_type": "markdown",
   "id": "115997d6-2ff0-4f22-877b-9f88a44a399d",
   "metadata": {},
   "source": [
    "Lambda function is used to evaluate single experession can take multiple arguments and can be easily used when \n",
    "less complex function is present to evaluate."
   ]
  },
  {
   "cell_type": "markdown",
   "id": "c53be166-764f-449f-8eb0-f977de485987",
   "metadata": {},
   "source": [
    "2.\tWrite a Python program that uses lambda functions to sort a list of tuples based on the second element."
   ]
  },
  {
   "cell_type": "markdown",
   "id": "fef076d6-2bce-4c9f-a596-ff3d289be62b",
   "metadata": {},
   "source": [
    "list_of_tup=[(1,2,3),(4,7,8),(12,0)]\n",
    "\n",
    "list_of_tup.sort(key = lambda item:item[1])\n",
    "list_of_tup"
   ]
  },
  {
   "cell_type": "markdown",
   "id": "b7bbd9fc-7dbe-401e-b60c-c9a1571cd651",
   "metadata": {},
   "source": [
    "3.\tExplain the concept of higher-order functions in Python, and provide an example."
   ]
  },
  {
   "cell_type": "code",
   "execution_count": 8,
   "id": "a7776560-b039-4131-831c-bc361560a452",
   "metadata": {},
   "outputs": [
    {
     "name": "stdout",
     "output_type": "stream",
     "text": [
      "[2, 34, 6, 8, 10]\n"
     ]
    }
   ],
   "source": [
    "##Example:- Filter function\n",
    "\n",
    "list3_new = [1,2,34,5,6,7,8,9,10]\n",
    "new_list3 = list(filter(lambda i: i%2==0,list3_new))\n",
    "print(new_list3)"
   ]
  },
  {
   "cell_type": "markdown",
   "id": "4bd12789-9cfa-4a31-b95b-d9302b70aecb",
   "metadata": {},
   "source": [
    "4.\tCreate a Python function that takes a list of numbers and a function as arguments, applying the function to each element in the list."
   ]
  },
  {
   "cell_type": "code",
   "execution_count": 11,
   "id": "2b31fbbd-fb21-44e7-af0a-5185962a3012",
   "metadata": {},
   "outputs": [
    {
     "name": "stdout",
     "output_type": "stream",
     "text": [
      "[2, 4, 6, 8, 10, 12, 16, 18, 20]\n"
     ]
    }
   ],
   "source": [
    "list_new4= [1,2,3,4,5,6,8,9,10]\n",
    "\n",
    "def func_new4(x):\n",
    "    return x*2\n",
    "\n",
    "def new_open(func,l):\n",
    "    new_list=list(map(func,l))\n",
    "    print(new_list)\n",
    "    \n",
    "new_open(func_new4,list_new4)"
   ]
  },
  {
   "cell_type": "markdown",
   "id": "1b0637ad-b11f-4313-a8a3-6646f1da564b",
   "metadata": {},
   "source": [
    "Built-in Functions:\n",
    "\n",
    "1.\tDescribe the role of built-in functions like `len()`, `max()`, and `min()` in Python"
   ]
  },
  {
   "cell_type": "markdown",
   "id": "1d707901-be87-468c-9462-4f2586193afc",
   "metadata": {},
   "source": [
    "Role of this functions are:\n",
    "1. len(): it takes string as a input and return the length of string\n",
    "2. max(): It returns the maximum value.\n",
    "3. min(): It returns the minimum value."
   ]
  },
  {
   "cell_type": "markdown",
   "id": "30e03db2-659c-4017-813e-e96c9d8b0997",
   "metadata": {},
   "source": [
    "2.\tWrite a Python program that uses the `map()` function to apply a function to each element of a list."
   ]
  },
  {
   "cell_type": "code",
   "execution_count": 15,
   "id": "e1b9be6a-1967-41e0-a6ca-ab47207f353f",
   "metadata": {},
   "outputs": [
    {
     "data": {
      "text/plain": [
       "[3.0, 5.0, 2.4, 2.6, 2.0, 5.4]"
      ]
     },
     "execution_count": 15,
     "metadata": {},
     "output_type": "execute_result"
    }
   ],
   "source": [
    "map_list2 = [15,25,12,13,10,27]\n",
    "\n",
    "## Return elements divided by 5\n",
    "\n",
    "new_map_2 = list(map(lambda i:float(i/5),map_list2))\n",
    "new_map_2"
   ]
  },
  {
   "cell_type": "markdown",
   "id": "1734b3a5-e471-4ffb-96f2-ce67c1595de1",
   "metadata": {},
   "source": [
    "3.\tHow does the `filter()` function work in Python, and when would you use it?"
   ]
  },
  {
   "cell_type": "markdown",
   "id": "f7bf2e89-081d-4316-8ee7-4bcec3ccfa0e",
   "metadata": {},
   "source": [
    "filter() function is used to return the specific elements which are needed or which satisfies some specific conditions."
   ]
  },
  {
   "cell_type": "markdown",
   "id": "f787d810-9766-42be-939c-6a8269760f70",
   "metadata": {},
   "source": [
    "4.\tCreate a Python program that uses the `reduce()` function to find the product of all elements in a list."
   ]
  },
  {
   "cell_type": "code",
   "execution_count": 16,
   "id": "69c1600e-1590-4b8a-9ba2-6c532eeabef5",
   "metadata": {},
   "outputs": [],
   "source": [
    "import functools"
   ]
  },
  {
   "cell_type": "code",
   "execution_count": 18,
   "id": "4b9cfa1e-50af-4791-bf3b-02f268c5a9a5",
   "metadata": {},
   "outputs": [
    {
     "data": {
      "text/plain": [
       "19800"
      ]
     },
     "execution_count": 18,
     "metadata": {},
     "output_type": "execute_result"
    }
   ],
   "source": [
    "new_list_func_4 =[10,11,12,15]\n",
    "\n",
    "result = functools.reduce(lambda a,b:a*b,new_list_func_4)\n",
    "result"
   ]
  },
  {
   "cell_type": "markdown",
   "id": "2966b589-abe6-40b0-8378-88507e011dc3",
   "metadata": {},
   "source": [
    "1.\tExplain the purpose of docstrings in Python functions and how to write them."
   ]
  },
  {
   "cell_type": "markdown",
   "id": "f0d480ad-5396-4a24-bc0e-8eca44bb1c0e",
   "metadata": {},
   "source": [
    "Docstrings are used to add details of functions of user-defined functions. It gives clarity or information \n",
    "to a user about inputs a function will be taking and the result which it will be generating.\n",
    "ocstrings are declared using ”’triple single quotes”’ or “”” triple double quotes “”” just below the class, \n",
    "method, or function declaration. All functions should have a docstring."
   ]
  },
  {
   "cell_type": "markdown",
   "id": "a1f99c85-4f20-4a64-a58f-229ef76bf59c",
   "metadata": {},
   "source": [
    "2.\tDescribe some best practices for naming functions and variables in Python, including naming conventions and guidelines."
   ]
  },
  {
   "cell_type": "markdown",
   "id": "f2073c10-7f1a-4e69-8fee-a55e6f6ebd1c",
   "metadata": {},
   "source": [
    "Methods in Python classes should be named using snake_case. This means that all words should be in lowercase and separated by underscores.\n",
    "Avoid using Python keywords and function names as variable names. For instance, don’t name your variable list, dict, str, print, etc.\n",
    "Variable names should be descriptive and meaningful to make the code more readable and understandable.\n",
    "Avoid using single-character variable names, except for common ones like i or j in loops.\n",
    "Do not start variable names with a number or special character."
   ]
  },
  {
   "cell_type": "code",
   "execution_count": null,
   "id": "ed043bb6-3b5b-44fd-a8fd-8a71929e53d3",
   "metadata": {},
   "outputs": [],
   "source": []
  }
 ],
 "metadata": {
  "kernelspec": {
   "display_name": "Python 3 (ipykernel)",
   "language": "python",
   "name": "python3"
  },
  "language_info": {
   "codemirror_mode": {
    "name": "ipython",
    "version": 3
   },
   "file_extension": ".py",
   "mimetype": "text/x-python",
   "name": "python",
   "nbconvert_exporter": "python",
   "pygments_lexer": "ipython3",
   "version": "3.10.8"
  }
 },
 "nbformat": 4,
 "nbformat_minor": 5
}
