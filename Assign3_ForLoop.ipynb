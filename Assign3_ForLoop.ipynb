{
 "cells": [
  {
   "cell_type": "markdown",
   "id": "c7bd3fb7-77f2-41e8-b263-14ec61541ff5",
   "metadata": {},
   "source": [
    "Basic Level:\n",
    "\n",
    "1. Write a Python program to print the numbers from 1 to 10 using a `for` loop.\n"
   ]
  },
  {
   "cell_type": "code",
   "execution_count": 1,
   "id": "25ec1ca9-faed-4638-89b0-6fdb4c4d0163",
   "metadata": {},
   "outputs": [
    {
     "name": "stdout",
     "output_type": "stream",
     "text": [
      "1 2 3 4 5 6 7 8 9 10 "
     ]
    }
   ],
   "source": [
    "for i in range(1,11):\n",
    "    print(i, end =' ')"
   ]
  },
  {
   "cell_type": "markdown",
   "id": "b80b33af-62c3-486e-923d-3b89597e4988",
   "metadata": {},
   "source": [
    "2. Create a program that calculates the sum of all numbers in a list using a `for` loop."
   ]
  },
  {
   "cell_type": "code",
   "execution_count": 3,
   "id": "2f5f2bee-84b3-4134-badb-7fd57b5c7765",
   "metadata": {},
   "outputs": [
    {
     "name": "stdout",
     "output_type": "stream",
     "text": [
      "Sum of the given list: 21\n"
     ]
    }
   ],
   "source": [
    "def cal_sum(list):\n",
    "    sum_list = 0\n",
    "    for i in list:\n",
    "        sum_list+=i\n",
    "    return sum_list\n",
    "\n",
    "list2 =[1,2,3,4,5,6]\n",
    "sum_of_the_list = cal_sum(list2)\n",
    "\n",
    "print(\"Sum of the given list:\",sum_of_the_list)"
   ]
  },
  {
   "cell_type": "markdown",
   "id": "d539a687-befa-468f-9e6f-0e34756ee8e9",
   "metadata": {},
   "source": [
    "3. Write a program to print the characters of a string in reverse order using a `for` loop."
   ]
  },
  {
   "cell_type": "code",
   "execution_count": 8,
   "id": "44777895-dd7c-4eab-a8a7-ca7759380269",
   "metadata": {},
   "outputs": [
    {
     "name": "stdin",
     "output_type": "stream",
     "text": [
      "Enter a string value: Hello world\n"
     ]
    },
    {
     "name": "stdout",
     "output_type": "stream",
     "text": [
      "Reversed string is: dlrow olleH \n"
     ]
    }
   ],
   "source": [
    "str3 = input(\"Enter a string value:\")\n",
    "reversed_string = \" \"\n",
    "for i in str3 :\n",
    "    reversed_string= i+reversed_string\n",
    "\n",
    "print(\"Reversed string is:\",reversed_string)"
   ]
  },
  {
   "cell_type": "markdown",
   "id": "915534cb-872a-41f3-b7b0-103dd679d406",
   "metadata": {},
   "source": [
    "4. Develop a program that finds the factorial of a given number using a `for` loop."
   ]
  },
  {
   "cell_type": "code",
   "execution_count": 13,
   "id": "72527e57-4914-4aa0-8805-4452c04b486e",
   "metadata": {},
   "outputs": [
    {
     "name": "stdin",
     "output_type": "stream",
     "text": [
      "enter an integer whose value to be find out 5\n"
     ]
    },
    {
     "name": "stdout",
     "output_type": "stream",
     "text": [
      "Value of factorial of 5 is:  120\n"
     ]
    }
   ],
   "source": [
    "def fact(n):\n",
    "    fact=1\n",
    "    if n==0 or n==1 :\n",
    "        return 1\n",
    "    else:\n",
    "        for i in range(1,int(n+1)):\n",
    "            fact= fact*i\n",
    "        return fact\n",
    "\n",
    "Number_4= int(input(\"enter an integer whose value to be find out\"))\n",
    "Factorial_of_num= fact(Number_4)\n",
    "print(\"Value of factorial of\",Number_4,\"is: \", Factorial_of_num)\n",
    "        "
   ]
  },
  {
   "cell_type": "markdown",
   "id": "64b74fa0-aa6f-433c-9a42-37684c63baa4",
   "metadata": {},
   "source": [
    "5. Create a program to print the multiplication table of a given number using a `for` loop."
   ]
  },
  {
   "cell_type": "code",
   "execution_count": 18,
   "id": "4d602925-5bee-4821-996a-7c595ad01ad8",
   "metadata": {},
   "outputs": [
    {
     "name": "stdin",
     "output_type": "stream",
     "text": [
      "Enter a number whose multiplication table to be generated  5\n"
     ]
    },
    {
     "name": "stdout",
     "output_type": "stream",
     "text": [
      "5 10 15 20 25 30 35 40 45 50 "
     ]
    }
   ],
   "source": [
    "def mult_table(n):\n",
    "    for i in range(1,11):\n",
    "        print(n*i,end=' ')\n",
    "Number_5= int(input(\"Enter a number whose multiplication table to be generated \"))\n",
    "Table=mult_table(Number_5)\n"
   ]
  },
  {
   "cell_type": "markdown",
   "id": "3fc82da0-5a90-475e-9d12-f25b52a2737e",
   "metadata": {},
   "source": [
    "6. Write a program that counts the number of even and odd numbers in a list using a `for` loop."
   ]
  },
  {
   "cell_type": "code",
   "execution_count": 22,
   "id": "b8547d29-c2f9-46ae-b474-3387b50a4c87",
   "metadata": {},
   "outputs": [
    {
     "name": "stdout",
     "output_type": "stream",
     "text": [
      "Number of odd items: 3\n",
      "Number of even items: 4\n"
     ]
    }
   ],
   "source": [
    "def count_of_oe(list):\n",
    "    count_odd = 0\n",
    "    count_even= 0\n",
    "    \n",
    "    for i in list:\n",
    "        if i%2==0:\n",
    "            count_even+=1\n",
    "        else:\n",
    "            count_odd+=1\n",
    "    return count_even,count_odd\n",
    "\n",
    "list1= [12,10,13,14,15,17,19]\n",
    "\n",
    "odd,even = count_of_oe(list1)\n",
    "\n",
    "print(\"Number of odd items:\",odd)\n",
    "print(\"Number of even items:\",even)"
   ]
  },
  {
   "cell_type": "markdown",
   "id": "2ce0e16d-6840-40d0-996f-4f39b0c12749",
   "metadata": {},
   "source": [
    "7. Develop a program that prints the squares of numbers from 1 to 5 using a `for` loop."
   ]
  },
  {
   "cell_type": "code",
   "execution_count": 27,
   "id": "3e0dcf35-9b05-4362-bc2a-ffb7f87d52bc",
   "metadata": {},
   "outputs": [
    {
     "name": "stdout",
     "output_type": "stream",
     "text": [
      "1 4 9 16 25 "
     ]
    }
   ],
   "source": [
    "for i in range(1,6):\n",
    "    print(i*i,end=' ')\n"
   ]
  },
  {
   "cell_type": "markdown",
   "id": "2cc49266-c9d6-441c-aa24-667996e89d82",
   "metadata": {},
   "source": [
    "8. Create a program to find the length of a string without using the `len()` function."
   ]
  },
  {
   "cell_type": "code",
   "execution_count": 31,
   "id": "406e53ac-bd48-405a-b21a-00f7e105e263",
   "metadata": {},
   "outputs": [
    {
     "name": "stdin",
     "output_type": "stream",
     "text": [
      "enter the string: Hello world/\n"
     ]
    },
    {
     "name": "stdout",
     "output_type": "stream",
     "text": [
      "Length of the entered string is: 12\n"
     ]
    }
   ],
   "source": [
    "def len_of_string(String):\n",
    "    count=0\n",
    "    for i in String:\n",
    "        count+=1\n",
    "    return count\n",
    "\n",
    "string8=input(\"enter the string:\")\n",
    "length8 = len_of_string(string8)\n",
    "\n",
    "print(\"Length of the entered string is:\",length8)\n",
    "        "
   ]
  },
  {
   "cell_type": "markdown",
   "id": "7556d44c-f1fd-4340-9c21-a44f631d0c99",
   "metadata": {},
   "source": [
    "9. Write a program that calculates the average of a list of numbers using a `for` loop."
   ]
  },
  {
   "cell_type": "code",
   "execution_count": 34,
   "id": "dce0c0a0-92d2-4230-b74a-a8704375d7b1",
   "metadata": {},
   "outputs": [
    {
     "name": "stdout",
     "output_type": "stream",
     "text": [
      "average of the given list: 4.0\n"
     ]
    }
   ],
   "source": [
    "def avg_num(list):\n",
    "    count=0\n",
    "    sum_num=0\n",
    "    for i in list:\n",
    "        sum_num=sum_num+i\n",
    "        count=count+1\n",
    "    return (sum_num/count)\n",
    "\n",
    "list9 = [1,2,3,4,10]\n",
    "average_of_list= avg_num(list9)\n",
    "\n",
    "print(\"average of the given list:\", average_of_list)"
   ]
  },
  {
   "cell_type": "markdown",
   "id": "fd26b197-32fe-4908-8a25-f88603f1e0f8",
   "metadata": {},
   "source": [
    "10. Develop a program that prints the first `n` Fibonacci numbers using a `for` loop."
   ]
  },
  {
   "cell_type": "code",
   "execution_count": 10,
   "id": "d44176a8-9704-4cc7-b70e-d7cc84f99ae2",
   "metadata": {},
   "outputs": [
    {
     "name": "stdin",
     "output_type": "stream",
     "text": [
      "Enter the value of n 10\n"
     ]
    },
    {
     "name": "stdout",
     "output_type": "stream",
     "text": [
      "Fibonacci series upto n is: [0, 1, 1, 2, 3, 5, 8, 13, 21, 34]\n"
     ]
    }
   ],
   "source": [
    "def fibonacci(n):\n",
    "    fib=[0,1]\n",
    "    if n<=1:\n",
    "        return fib\n",
    "    else:\n",
    "        for i in range(2,n):\n",
    "            fib.append(fib[i-2]+fib[i-1])\n",
    "    return fib\n",
    "\n",
    "Number_10 = int(input(\"Enter the value of n\"))\n",
    "print(\"Fibonacci series upto n is:\", fibonacci(Number_10))"
   ]
  },
  {
   "cell_type": "markdown",
   "id": "0668cc09-d8c0-4fd1-b6d8-e97a9785a110",
   "metadata": {},
   "source": [
    "Intermediate Level:\n",
    "\n",
    "11. Write a program to check if a given list contains any duplicates using a `for` loop.\n"
   ]
  },
  {
   "cell_type": "code",
   "execution_count": 24,
   "id": "addbc789-ece0-4b2c-b15a-b6859ece2fbc",
   "metadata": {},
   "outputs": [
    {
     "name": "stdout",
     "output_type": "stream",
     "text": [
      "List contains any duplicates: False\n"
     ]
    }
   ],
   "source": [
    "def check_dup(list):\n",
    "    dup=[]\n",
    "    for i in range(len(list)):\n",
    "        for j in range(i+1,len(list)):\n",
    "            if list[i] == list[j]:\n",
    "                return True\n",
    "    return False\n",
    "                \n",
    "list_11= [10,11,12,13,14,15]\n",
    "Status = check_dup(list_11)\n",
    "print(\"List contains any duplicates:\",Status)"
   ]
  },
  {
   "cell_type": "markdown",
   "id": "1d90c8b3-32a2-4796-91c7-e2313d934427",
   "metadata": {},
   "source": [
    "12. Create a program that prints the prime numbers in a given range using a `for` loop."
   ]
  },
  {
   "cell_type": "code",
   "execution_count": 40,
   "id": "cce7852b-5cfa-4ee3-a309-44371eba2e73",
   "metadata": {},
   "outputs": [
    {
     "name": "stdin",
     "output_type": "stream",
     "text": [
      "Enter the value upto which prime number to be printed: 10\n"
     ]
    },
    {
     "name": "stdout",
     "output_type": "stream",
     "text": [
      "2 3 5 7 "
     ]
    }
   ],
   "source": [
    "def prime_num(n):\n",
    "    if (n==0) or (n==1):\n",
    "        return False\n",
    "    for i in range(2,int(n**0.5)+1):\n",
    "        if n%i==0:\n",
    "            return False\n",
    "    return True\n",
    "\n",
    "n12 = int(input(\"Enter the value upto which prime number to be printed:\"))\n",
    "for i in range(1,n12):\n",
    "    if prime_num(i):\n",
    "        print(i, end=\" \")"
   ]
  },
  {
   "cell_type": "markdown",
   "id": "39bd6d1d-be82-4745-9eca-d6ad1c3d3fd4",
   "metadata": {},
   "source": [
    "13. Develop a program that counts the number of vowels in a string using a `for` loop."
   ]
  },
  {
   "cell_type": "code",
   "execution_count": 42,
   "id": "2bbfe79d-722c-4108-8790-044fbead0311",
   "metadata": {},
   "outputs": [
    {
     "name": "stdin",
     "output_type": "stream",
     "text": [
      "Enter a string: Kumar Mayank\n"
     ]
    },
    {
     "name": "stdout",
     "output_type": "stream",
     "text": [
      "number of vowels in the given string: 4\n"
     ]
    }
   ],
   "source": [
    "def check_vow(string):\n",
    "    count=0\n",
    "    for i in range(1,len(string)):\n",
    "        if string[i] in ['a','e','i','o','u','A','E','I','O','U']:\n",
    "            count+=1\n",
    "    return count\n",
    "\n",
    "string13= input(\"Enter a string:\")\n",
    "no_of_vowels = check_vow(string13)\n",
    "print(\"number of vowels in the given string:\",no_of_vowels)"
   ]
  },
  {
   "cell_type": "markdown",
   "id": "8043947a-d455-45f3-9f7f-1ecdf2b599a1",
   "metadata": {},
   "source": [
    "14. Write a program to find the maximum element in a 2D list using a nested `for` loop."
   ]
  },
  {
   "cell_type": "code",
   "execution_count": 63,
   "id": "4f57e7d1-b5d9-4b78-9d80-cafebd5bb302",
   "metadata": {},
   "outputs": [
    {
     "name": "stdout",
     "output_type": "stream",
     "text": [
      "Maximum element is list 6\n"
     ]
    }
   ],
   "source": [
    "list14=[[1,2,3],[4,5,6]]\n",
    "max=0\n",
    "\n",
    "for i in range(2):\n",
    "    for j in range(3):\n",
    "        if list14[i][j]>max:\n",
    "            max= list14[i][j]\n",
    "\n",
    "print(\"Maximum element is list\",max)"
   ]
  },
  {
   "cell_type": "markdown",
   "id": "a6ec7dd9-e594-4dcd-9c7c-167673dce7af",
   "metadata": {},
   "source": [
    "15. Create a program that removes all occurrences of a specific element from a list using a `for` loop."
   ]
  },
  {
   "cell_type": "code",
   "execution_count": 64,
   "id": "5941bb41-e8c7-4f1e-870d-4b44fd47ab8b",
   "metadata": {},
   "outputs": [
    {
     "name": "stdout",
     "output_type": "stream",
     "text": [
      "New list after removal: [10, 12, 13, 16, 17, 18]\n"
     ]
    }
   ],
   "source": [
    "list15= [10,12,13,14,14,16,17,18]\n",
    "elem_to_remove= 14\n",
    "new_list15=[]\n",
    "\n",
    "for i in list15:\n",
    "    if i!=elem_to_remove:\n",
    "        new_list15.append(i)\n",
    "print(\"New list after removal:\",new_list15)\n",
    "    "
   ]
  },
  {
   "cell_type": "markdown",
   "id": "b1334407-3002-4540-a2ef-cad41ed63669",
   "metadata": {},
   "source": [
    "16. Develop a program that generates a multiplication table for numbers from 1 to 5 using a nested `for` loop."
   ]
  },
  {
   "cell_type": "code",
   "execution_count": 68,
   "id": "3415de48-0fad-417c-9c9a-fda8d25814a9",
   "metadata": {},
   "outputs": [
    {
     "name": "stdout",
     "output_type": "stream",
     "text": [
      "1 2 3 4 5 6 7 8 9 10 \n",
      "2 4 6 8 10 12 14 16 18 20 \n",
      "3 6 9 12 15 18 21 24 27 30 \n",
      "4 8 12 16 20 24 28 32 36 40 \n",
      "5 10 15 20 25 30 35 40 45 50 \n"
     ]
    }
   ],
   "source": [
    "for i in range(1,6):\n",
    "    for j in range(1,11):\n",
    "        print(i*j,end=\" \")\n",
    "    print(end=\"\\n\")"
   ]
  },
  {
   "cell_type": "markdown",
   "id": "138af10f-e626-40e7-8871-d8a3452073a2",
   "metadata": {},
   "source": [
    "17. Write a program that converts a list of Fahrenheit temperatures to Celsius using a `for` loop."
   ]
  },
  {
   "cell_type": "code",
   "execution_count": 69,
   "id": "ce2190f7-90bf-4831-b900-5173469be3c8",
   "metadata": {},
   "outputs": [
    {
     "name": "stdout",
     "output_type": "stream",
     "text": [
      "New list with celcius temp: [32.111111111111114, 19.444444444444443, 33.333333333333336, 37.22222222222222]\n"
     ]
    }
   ],
   "source": [
    "list_far= [89.8, 67.0, 92, 99]\n",
    "\n",
    "list_cel = []\n",
    "\n",
    "for i in list_far:\n",
    "    list_cel.append((i-32)*5/9)\n",
    "print(\"New list with celcius temp:\",list_cel)\n",
    "    "
   ]
  },
  {
   "cell_type": "markdown",
   "id": "55404cd4-3726-422f-ac1c-04236c4ee214",
   "metadata": {},
   "source": [
    "8. Create a program to print the common elements from two lists using a `for` loop."
   ]
  },
  {
   "cell_type": "code",
   "execution_count": 72,
   "id": "817bd216-3831-41a4-8e14-c5d3c444ca8d",
   "metadata": {},
   "outputs": [
    {
     "name": "stdout",
     "output_type": "stream",
     "text": [
      "List of common elements are: [11, 12, 13, 14]\n"
     ]
    }
   ],
   "source": [
    "list81=[11,12,13,14,17,18]\n",
    "list82=[8,9,10,11,12,13,14]\n",
    "\n",
    "common_ele =[]\n",
    "\n",
    "for i in list81:\n",
    "    for j in list82:\n",
    "        if i==j:\n",
    "            common_ele.append(i)\n",
    "            \n",
    "print(\"List of common elements are:\",common_ele)"
   ]
  },
  {
   "cell_type": "markdown",
   "id": "03f4352b-56fa-42f4-abed-7df03ba2ad44",
   "metadata": {},
   "source": [
    "19. Develop a program that prints the pattern of right-angled triangles using a `for` loop. Use ‘*’ to draw the\n",
    "pattern"
   ]
  },
  {
   "cell_type": "code",
   "execution_count": 2,
   "id": "e6c8f8fb-4135-4cdd-b1c9-b20b068ee950",
   "metadata": {},
   "outputs": [
    {
     "name": "stdout",
     "output_type": "stream",
     "text": [
      "* \n",
      "* * \n",
      "* * * \n",
      "* * * * \n",
      "* * * * * \n"
     ]
    }
   ],
   "source": [
    "for i in range(1,6):\n",
    "    for j in range(1,i+1):\n",
    "        print('*',end=' ')\n",
    "    print(end=\"\\n\")"
   ]
  },
  {
   "cell_type": "markdown",
   "id": "56b48ad7-9cc7-45b1-9fce-175ed5f2c767",
   "metadata": {},
   "source": [
    "\n",
    "20. Write a program to find the greatest common divisor (GCD) of two numbers using a `for` loop."
   ]
  },
  {
   "cell_type": "code",
   "execution_count": 14,
   "id": "1466725e-fb8b-42c3-a223-361ddd4753da",
   "metadata": {},
   "outputs": [
    {
     "name": "stdin",
     "output_type": "stream",
     "text": [
      "enter First number: 10\n",
      "Enter second number: 40\n"
     ]
    },
    {
     "name": "stdout",
     "output_type": "stream",
     "text": [
      "GCD of numbers:  5\n"
     ]
    }
   ],
   "source": [
    "a20 = int(input(\"enter First number:\"))\n",
    "b20= int(input(\"Enter second number:\"))\n",
    "\n",
    "def GCD_20(a,b):\n",
    "    if a>b:\n",
    "        range_num=b\n",
    "    else:\n",
    "        range_num=a\n",
    "    for i in range(1,range_num):\n",
    "        if(a%i==0) and b%i==0 :\n",
    "            gcd=i\n",
    "    return gcd\n",
    "GCD_num = GCD_20(a20,b20)\n",
    "print(\"GCD of numbers: \",GCD_num)\n"
   ]
  },
  {
   "cell_type": "markdown",
   "id": "4dda0683-4f08-4871-b3d6-a4a424f21ae4",
   "metadata": {},
   "source": [
    "Advanced Level:\n",
    "\n",
    "21. Create a program that calculates the sum of the digits of numbers in a list using a list comprehension.\n"
   ]
  },
  {
   "cell_type": "code",
   "execution_count": 7,
   "id": "effd538e-5d78-4dc6-ada3-35ff91b7786c",
   "metadata": {},
   "outputs": [
    {
     "name": "stdout",
     "output_type": "stream",
     "text": [
      "28\n"
     ]
    }
   ],
   "source": [
    "list21= [1,2,3,4,5,6,7]\n",
    "sum_of =0\n",
    "\n",
    "_ = [sum_of:=sum_of+x for x in list21]\n",
    "\n",
    "print(sum_of)"
   ]
  },
  {
   "cell_type": "markdown",
   "id": "c502a493-c25e-4b94-a670-f5c1f6e64aee",
   "metadata": {},
   "source": [
    "22. Write a program to find the prime factors of a given number using a `for` loop and list comprehension."
   ]
  },
  {
   "cell_type": "code",
   "execution_count": null,
   "id": "f80a2a7c-867f-4dd6-a5dc-15083bf4a70f",
   "metadata": {},
   "outputs": [],
   "source": []
  },
  {
   "cell_type": "markdown",
   "id": "eac24e9c-081f-4b1a-8fdc-d6651c6a1b99",
   "metadata": {},
   "source": [
    "23. Develop a program that extracts unique elements from a list and stores them in a new list using a list\n",
    "comprehension."
   ]
  },
  {
   "cell_type": "code",
   "execution_count": 38,
   "id": "9628b2c8-6987-4b17-ae63-1c3c0df87886",
   "metadata": {},
   "outputs": [
    {
     "data": {
      "text/plain": [
       "[1, 10, 11, 12, 13, 14, 15]"
      ]
     },
     "execution_count": 38,
     "metadata": {},
     "output_type": "execute_result"
    }
   ],
   "source": [
    "list23= [1,1,1,10,11,12,13,13,14,14,15,15]\n",
    "new_list=[]\n",
    "\n",
    "unique_list=[new_list.append(x) for x in list23 if x not in new_list ]\n",
    "\n",
    "new_list"
   ]
  },
  {
   "cell_type": "markdown",
   "id": "7d7bd078-a6c6-4fed-8bfd-cd0545724e3e",
   "metadata": {},
   "source": [
    "24. Create a program that generates a list of all palindromic numbers up to a specified limit using a list\n",
    "comprehension."
   ]
  },
  {
   "cell_type": "code",
   "execution_count": 41,
   "id": "bd64fd48-b26f-43e0-af74-f5593cf25c05",
   "metadata": {},
   "outputs": [
    {
     "name": "stdin",
     "output_type": "stream",
     "text": [
      "Enter a number greater than 10 : 50\n"
     ]
    },
    {
     "data": {
      "text/plain": [
       "[11, 22, 33, 44]"
      ]
     },
     "execution_count": 41,
     "metadata": {},
     "output_type": "execute_result"
    }
   ],
   "source": [
    "n24= int(input(\"Enter a number greater than 10 :\"))\n",
    "\n",
    "list24= [x for x in range(11,n24) if str(x) == str(x)[-1::-1]]\n",
    "\n",
    "list24"
   ]
  },
  {
   "cell_type": "markdown",
   "id": "4d498009-df33-4b9d-bff7-24d4b243d3f5",
   "metadata": {},
   "source": [
    "25. Write a program to flatten a nested list using list comprehension."
   ]
  },
  {
   "cell_type": "code",
   "execution_count": 42,
   "id": "bbcd166c-d125-4040-b414-b33ad05ff802",
   "metadata": {},
   "outputs": [
    {
     "data": {
      "text/plain": [
       "[1, 2, 3, 4, 5, 6, 7, 8, 9, 10, 11, 12]"
      ]
     },
     "execution_count": 42,
     "metadata": {},
     "output_type": "execute_result"
    }
   ],
   "source": [
    "list25 = [[1,2,3,4],[5,6,7,8],[9,10,11,12]]\n",
    "\n",
    "nested_list25= [x for sublist in list25 for x in sublist]\n",
    "nested_list25"
   ]
  },
  {
   "cell_type": "markdown",
   "id": "12ab7b5c-2f22-47e5-8650-6db2fda6941d",
   "metadata": {},
   "source": [
    "26. Develop a program that computes the sum of even and odd numbers in a list separately using list\n",
    "comprehension."
   ]
  },
  {
   "cell_type": "code",
   "execution_count": 46,
   "id": "bf13030b-dc32-48ee-8543-7a7def5ce40e",
   "metadata": {},
   "outputs": [
    {
     "name": "stdout",
     "output_type": "stream",
     "text": [
      "Sum of even elements 12\n",
      "Sum of odd elements 9\n"
     ]
    }
   ],
   "source": [
    "list26= [1,2,3,4,5,6]\n",
    "sum_even=sum([i for i in list26 if i%2==0])\n",
    "sum_odd=sum([i for i in list26 if i%2!=0])\n",
    "print(\"Sum of even elements\", sum_even)\n",
    "print(\"Sum of odd elements\",sum_odd)"
   ]
  },
  {
   "cell_type": "markdown",
   "id": "d25957f8-8b45-4cbf-9d7a-ca8e466f59a3",
   "metadata": {},
   "source": [
    "27. Create a program that generates a list of squares of odd numbers between 1 and 10 using list\n",
    "comprehension."
   ]
  },
  {
   "cell_type": "code",
   "execution_count": 48,
   "id": "fb670137-5b45-4155-9600-371bf0c9a94b",
   "metadata": {},
   "outputs": [
    {
     "name": "stdout",
     "output_type": "stream",
     "text": [
      "[1, 9, 25, 49, 81]\n"
     ]
    }
   ],
   "source": [
    "list_of_Sqr=[i*i for i in range(1,11) if i%2!=0]\n",
    "print(list_of_Sqr)"
   ]
  },
  {
   "cell_type": "markdown",
   "id": "23e8609f-bbbb-4122-ba93-6611c6e274ff",
   "metadata": {},
   "source": [
    "28. Write a program that combines two lists into a dictionary using list comprehension."
   ]
  },
  {
   "cell_type": "code",
   "execution_count": 51,
   "id": "c75ceb31-20df-4a87-9139-2e6078976141",
   "metadata": {},
   "outputs": [
    {
     "data": {
      "text/plain": [
       "{1: 'mayank', 2: 'rocky', 3: 'shenoy', 4: 'roy'}"
      ]
     },
     "execution_count": 51,
     "metadata": {},
     "output_type": "execute_result"
    }
   ],
   "source": [
    "Roll_no=[1,2,3,4]\n",
    "Name=['mayank','rocky','shenoy','roy']\n",
    "\n",
    "list_dic={Roll_no[i]:Name[i] for i in range(len(Roll_no))}\n",
    "\n",
    "list_dic"
   ]
  },
  {
   "cell_type": "markdown",
   "id": "9eb7a51f-f287-4820-9c33-c75cf265fb7b",
   "metadata": {},
   "source": [
    "29. Develop a program that extracts the vowels from a string and stores them in a list using list comprehension."
   ]
  },
  {
   "cell_type": "code",
   "execution_count": 53,
   "id": "95998a4b-9b36-4784-822b-0797785334cc",
   "metadata": {},
   "outputs": [
    {
     "name": "stdin",
     "output_type": "stream",
     "text": [
      "enter a string Hello World\n"
     ]
    },
    {
     "data": {
      "text/plain": [
       "['e', 'o', 'o']"
      ]
     },
     "execution_count": 53,
     "metadata": {},
     "output_type": "execute_result"
    }
   ],
   "source": [
    "input_Str29= input(\"enter a string\")\n",
    "\n",
    "list_vowel =[i for i in input_Str29 if i in ['a','e','i','o','u','A','E','I','O','U']]\n",
    "list_vowel"
   ]
  },
  {
   "cell_type": "markdown",
   "id": "3c1ad7bd-2022-4199-bdbc-b182b57e171e",
   "metadata": {},
   "source": [
    "30. Create a rogram that removes all non-numeric characters from a list of strings using list comprehension."
   ]
  },
  {
   "cell_type": "code",
   "execution_count": 63,
   "id": "b8848b42-489a-4a18-a613-d2568bd0dc53",
   "metadata": {},
   "outputs": [
    {
     "data": {
      "text/plain": [
       "[10, 14, 16]"
      ]
     },
     "execution_count": 63,
     "metadata": {},
     "output_type": "execute_result"
    }
   ],
   "source": [
    "list30= ['string',10,14,16,'mayank',True ]\n",
    "\n",
    "list_numeric=[list30[i] for i in range(len(list30)) if type(list30[i])==int]\n",
    "\n",
    "list_numeric"
   ]
  },
  {
   "cell_type": "markdown",
   "id": "ac316293-6c79-4b77-8c18-f1410d21fcca",
   "metadata": {},
   "source": [
    "Challenge Level:\n",
    "\n",
    "31. Write a program to generate a list of prime numbers using the Sieve of Eratosthenes algorithm and list\n",
    "comprehension."
   ]
  },
  {
   "cell_type": "code",
   "execution_count": null,
   "id": "fe297a43-3966-43af-9182-712e0ed09cae",
   "metadata": {},
   "outputs": [],
   "source": []
  },
  {
   "cell_type": "markdown",
   "id": "94e19716-dd2c-46af-ba22-f4229c406efa",
   "metadata": {},
   "source": [
    "32. Create a program that generates a list of all Pythagorean triplets up to a specified limit using list\n",
    "comprehension."
   ]
  },
  {
   "cell_type": "code",
   "execution_count": null,
   "id": "fab148d0-2599-4226-a341-e82929346f43",
   "metadata": {},
   "outputs": [],
   "source": []
  },
  {
   "cell_type": "markdown",
   "id": "01f04cb4-ca2b-4c5d-a9e5-4810b5777df3",
   "metadata": {},
   "source": [
    "33. Develop a program that generates a list of all possible combinations of two lists using list comprehension."
   ]
  },
  {
   "cell_type": "code",
   "execution_count": null,
   "id": "b3e98ea4-e715-4a6f-ae0f-9b2aae5e000b",
   "metadata": {},
   "outputs": [],
   "source": []
  },
  {
   "cell_type": "markdown",
   "id": "3745fe35-794e-4bb6-b0aa-d5e2a4193d38",
   "metadata": {},
   "source": [
    "34. Write a program that calculates the mean, median, and mode of a list of numbers using list\n",
    "comprehension."
   ]
  },
  {
   "cell_type": "code",
   "execution_count": null,
   "id": "6a7d0350-019f-41de-b14c-394e18265658",
   "metadata": {},
   "outputs": [],
   "source": []
  },
  {
   "cell_type": "markdown",
   "id": "673087fa-113b-4565-921d-7a4ca46ea730",
   "metadata": {},
   "source": [
    "35. Create a program that generates Pascal's triangle up to a specified number of rows using list\n",
    "comprehension."
   ]
  },
  {
   "cell_type": "code",
   "execution_count": null,
   "id": "71fc8fcb-89b8-41e3-95ea-989471b56aab",
   "metadata": {},
   "outputs": [],
   "source": []
  },
  {
   "cell_type": "markdown",
   "id": "a2b31f92-c47c-4bd9-9353-d0c1f6a438b0",
   "metadata": {},
   "source": [
    "36. Develop a program that calculates the sum of the digits of a factorial of numbers from 1 to 5 using list\n",
    "comprehension."
   ]
  },
  {
   "cell_type": "code",
   "execution_count": null,
   "id": "7323127b-a9dc-4fbe-8f62-518a2147ce54",
   "metadata": {},
   "outputs": [],
   "source": []
  },
  {
   "cell_type": "markdown",
   "id": "f530f193-a9a2-424e-8f86-54f1770d3752",
   "metadata": {},
   "source": [
    "37. Write a program that finds the longest word in a sentence using list comprehension."
   ]
  },
  {
   "cell_type": "code",
   "execution_count": null,
   "id": "a8ee8256-c978-483d-a310-9f97b3876501",
   "metadata": {},
   "outputs": [],
   "source": []
  },
  {
   "cell_type": "markdown",
   "id": "45eb0759-6e0b-4403-84cb-8344521b75b3",
   "metadata": {},
   "source": [
    "38. Create a program that filters a list of strings to include only those with more than three vowels using list\n",
    "comprehension."
   ]
  },
  {
   "cell_type": "code",
   "execution_count": null,
   "id": "114131e1-79f9-4cc2-adf6-cab21b315d46",
   "metadata": {},
   "outputs": [],
   "source": []
  },
  {
   "cell_type": "markdown",
   "id": "7cf930a3-ff61-4b1e-b478-3bcf3aa7b054",
   "metadata": {},
   "source": [
    "39. Develop a program that calculates the sum of the digits of numbers from 1 to 1000 using list\n",
    "comprehension."
   ]
  },
  {
   "cell_type": "code",
   "execution_count": 68,
   "id": "23e4d49f-2426-4972-990a-2830b54e048d",
   "metadata": {},
   "outputs": [
    {
     "data": {
      "text/plain": [
       "500500"
      ]
     },
     "execution_count": 68,
     "metadata": {},
     "output_type": "execute_result"
    }
   ],
   "source": [
    "sum_39=0\n",
    "cal = [sum_39:=sum_39+i for i in range(1,1001)]\n",
    "cal[-1]"
   ]
  },
  {
   "cell_type": "markdown",
   "id": "be95b3f8-072a-42fe-a04c-ca1b85d1c705",
   "metadata": {},
   "source": [
    "40. Write a program that generates a list of prime palindromic numbers using list comprehension."
   ]
  },
  {
   "cell_type": "code",
   "execution_count": null,
   "id": "e33aa2ff-9156-4594-ae48-f6dba22e341e",
   "metadata": {},
   "outputs": [],
   "source": []
  }
 ],
 "metadata": {
  "kernelspec": {
   "display_name": "Python 3 (ipykernel)",
   "language": "python",
   "name": "python3"
  },
  "language_info": {
   "codemirror_mode": {
    "name": "ipython",
    "version": 3
   },
   "file_extension": ".py",
   "mimetype": "text/x-python",
   "name": "python",
   "nbconvert_exporter": "python",
   "pygments_lexer": "ipython3",
   "version": "3.10.8"
  }
 },
 "nbformat": 4,
 "nbformat_minor": 5
}
