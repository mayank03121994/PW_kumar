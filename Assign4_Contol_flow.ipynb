{
 "cells": [
  {
   "cell_type": "markdown",
   "id": "ba8cdb56-c112-442f-a3d8-6abc2a0caa5e",
   "metadata": {},
   "source": [
    "Basic If-Else Statements:\n",
    "\n",
    "1. Write a Python program to check if a given number is positive or negative."
   ]
  },
  {
   "cell_type": "code",
   "execution_count": 3,
   "id": "68ebb42d-07e2-4532-af33-3e4fc53a82a4",
   "metadata": {},
   "outputs": [
    {
     "name": "stdin",
     "output_type": "stream",
     "text": [
      "enter a number: -20\n"
     ]
    },
    {
     "name": "stdout",
     "output_type": "stream",
     "text": [
      "Given number is negative\n"
     ]
    }
   ],
   "source": [
    "n1= int(input(\"enter a number:\"))\n",
    "\n",
    "if n1==0:\n",
    "    print(\"Given Number is zero\")\n",
    "elif n1<0:\n",
    "    print(\"Given number is negative\")\n",
    "else:\n",
    "    print(\"Given number is positive\")"
   ]
  },
  {
   "cell_type": "markdown",
   "id": "1d94e841-3f1e-4dc7-97a0-9fdcfd36db29",
   "metadata": {},
   "source": [
    "2. Create a program that determines if a person is eligible to vote based on their age."
   ]
  },
  {
   "cell_type": "code",
   "execution_count": 29,
   "id": "265d64f0-fe44-4970-9117-47078b007fa8",
   "metadata": {},
   "outputs": [
    {
     "name": "stdin",
     "output_type": "stream",
     "text": [
      "Please enter the age of the person in integers 15\n"
     ]
    },
    {
     "name": "stdout",
     "output_type": "stream",
     "text": [
      "Person is not eligible to vote\n"
     ]
    }
   ],
   "source": [
    "n2= int(input(\"Please enter the age of the person in integers\"))\n",
    "\n",
    "if n2<18:\n",
    "    print(\"Person is not eligible to vote\")\n",
    "else:\n",
    "    print(\"Person is eligible to vote\")"
   ]
  },
  {
   "cell_type": "markdown",
   "id": "f70f25c9-9cff-4bc7-b1d8-33989b2afc23",
   "metadata": {},
   "source": [
    "3. Develop a program to find the maximum of two numbers using if-else statements."
   ]
  },
  {
   "cell_type": "code",
   "execution_count": 31,
   "id": "da909e0e-6a5f-4479-9120-34f80534e59f",
   "metadata": {},
   "outputs": [
    {
     "name": "stdin",
     "output_type": "stream",
     "text": [
      "Enter first number 5\n",
      "Enter second number 4\n"
     ]
    },
    {
     "name": "stdout",
     "output_type": "stream",
     "text": [
      "First number is greater\n"
     ]
    }
   ],
   "source": [
    "n31= int(input(\"Enter first number\"))\n",
    "n32= int(input(\"Enter second number\"))\n",
    "\n",
    "if n31>n32:\n",
    "    print(\"First number is greater\")\n",
    "elif n31<n32:\n",
    "    print(\"Second number is greater\")\n",
    "else:\n",
    "    print(\"Both are equal\")"
   ]
  },
  {
   "cell_type": "markdown",
   "id": "60d5da70-adb7-4879-a6d9-f1592a410c88",
   "metadata": {},
   "source": [
    "4. Write a Python script to classify a given year as a leap year or not."
   ]
  },
  {
   "cell_type": "code",
   "execution_count": 42,
   "id": "07bf6e6e-bac8-48a6-b6a0-4ac61327c0d0",
   "metadata": {},
   "outputs": [
    {
     "name": "stdin",
     "output_type": "stream",
     "text": [
      "Enter a year to check if it is a leap year 2012\n"
     ]
    },
    {
     "name": "stdout",
     "output_type": "stream",
     "text": [
      "2012  is a leap year\n"
     ]
    }
   ],
   "source": [
    "year_4 = int(input(\"Enter a year to check if it is a leap year\"))\n",
    "\n",
    "if (year_4%400==0):\n",
    "    print(year_4,\" is a leap year\")\n",
    "elif (year_4%100==0):\n",
    "    print(year_4,\" is not a leap year\")\n",
    "elif (year_4%4==0):\n",
    "    print(year_4,\" is a leap year\")\n",
    "else:\n",
    "    print(year_4,\" is not a leap year\")"
   ]
  },
  {
   "cell_type": "markdown",
   "id": "d5a3cf28-4721-4bf3-90bb-c70ef1230b9a",
   "metadata": {},
   "source": [
    "5. Create a program that checks whether a character is a vowel or a consonant."
   ]
  },
  {
   "cell_type": "code",
   "execution_count": 44,
   "id": "f6e2a88c-9af3-4d29-b37b-fd42e00657f2",
   "metadata": {},
   "outputs": [
    {
     "name": "stdin",
     "output_type": "stream",
     "text": [
      "Enter a character to check if vowel or consonant a\n"
     ]
    },
    {
     "name": "stdout",
     "output_type": "stream",
     "text": [
      "a  is a vowel\n"
     ]
    }
   ],
   "source": [
    "n5= input(\"Enter a character to check if vowel or consonant\")\n",
    "\n",
    "if n5 in ['a','e','i','o','u','A','E','I','O','U']:\n",
    "    print(n5, \" is a vowel\")\n",
    "else:\n",
    "    print(n5,\" is a consonant\")"
   ]
  },
  {
   "cell_type": "markdown",
   "id": "8df092bc-ae56-4cec-b909-6c31785a5881",
   "metadata": {},
   "source": [
    "6. Implement a program to determine whether a given number is even or odd."
   ]
  },
  {
   "cell_type": "code",
   "execution_count": 46,
   "id": "02c23a3b-06c4-4a5d-a06b-f9942b4496c2",
   "metadata": {},
   "outputs": [
    {
     "name": "stdin",
     "output_type": "stream",
     "text": [
      "Enter a number 7\n"
     ]
    },
    {
     "name": "stdout",
     "output_type": "stream",
     "text": [
      "7  is an odd number\n"
     ]
    }
   ],
   "source": [
    "n6= int(input(\"Enter a number\"))\n",
    "\n",
    "if n6%2==0:\n",
    "    print(n6, \" is an even number\")\n",
    "else:\n",
    "    print(n6, \" is an odd number\")"
   ]
  },
  {
   "cell_type": "markdown",
   "id": "00ff6544-10fa-437b-aa18-421da7c72584",
   "metadata": {},
   "source": [
    "7. Write a Python function to calculate the absolute value of a number without using the `abs()` function."
   ]
  },
  {
   "cell_type": "code",
   "execution_count": 49,
   "id": "15e969e4-06a4-440c-9cf9-57dd77e20f45",
   "metadata": {},
   "outputs": [
    {
     "name": "stdin",
     "output_type": "stream",
     "text": [
      "enter a number for absoulute value -35\n"
     ]
    },
    {
     "name": "stdout",
     "output_type": "stream",
     "text": [
      "Absolute value of  -35 is 35\n"
     ]
    }
   ],
   "source": [
    "n7= int(input(\"enter a number for absoulute value\"))\n",
    "\n",
    "if n7<0:\n",
    "    print(\"Absolute value of \",n7,\"is\", -n7)\n",
    "else:\n",
    "    print(\"Absolute value of \",n7,\"is\", n7)"
   ]
  },
  {
   "cell_type": "markdown",
   "id": "076a3ff2-b5a7-4e4d-b015-00f7d4eba38c",
   "metadata": {},
   "source": [
    "8. Develop a program that determines the largest of three given numbers using if-else statements."
   ]
  },
  {
   "cell_type": "code",
   "execution_count": 50,
   "id": "d4a620e0-62eb-4585-ae71-45903b2c49cd",
   "metadata": {},
   "outputs": [
    {
     "name": "stdin",
     "output_type": "stream",
     "text": [
      "Enter the first number 10\n",
      "Enter the second number 5\n",
      "Enter the third number 7\n"
     ]
    },
    {
     "name": "stdout",
     "output_type": "stream",
     "text": [
      "First number is the largest\n"
     ]
    }
   ],
   "source": [
    "n81= int(input(\"Enter the first number\"))\n",
    "n82= int(input(\"Enter the second number\"))\n",
    "n83= int(input(\"Enter the third number\"))\n",
    "\n",
    "if n81>n82 and n81>n83:\n",
    "    print(\"First number is the largest\")\n",
    "elif n82>n81 and n82>n81:\n",
    "    print(\"Second number is the largest\")\n",
    "if n83>n81 and n83>n82:\n",
    "    print(\"First number is the largest\")"
   ]
  },
  {
   "cell_type": "markdown",
   "id": "c9321b50-360e-431b-a5ef-414714df189a",
   "metadata": {},
   "source": [
    "9. Create a program that checks if a given string is a palindrome."
   ]
  },
  {
   "cell_type": "code",
   "execution_count": 56,
   "id": "c165c9f4-d4be-4954-86ce-e433d80f7d24",
   "metadata": {},
   "outputs": [
    {
     "name": "stdin",
     "output_type": "stream",
     "text": [
      "Enter a string to check Civic\n"
     ]
    },
    {
     "name": "stdout",
     "output_type": "stream",
     "text": [
      "It is a pallindrome\n"
     ]
    }
   ],
   "source": [
    "n9= input(\"Enter a string to check\")\n",
    "n91=n9.lower()\n",
    "\n",
    "if n91==n91[-1::-1]:\n",
    "    print(\"It is a pallindrome\")\n",
    "else:\n",
    "    print(\"It is not a pallindrome\")"
   ]
  },
  {
   "cell_type": "markdown",
   "id": "e2f5e16b-475c-4f95-a57a-0c6776cbe34d",
   "metadata": {},
   "source": [
    "10. Write a Python program to calculate the grade based on a student's score."
   ]
  },
  {
   "cell_type": "code",
   "execution_count": 61,
   "id": "709e6d36-fd4e-4acb-a8fe-aba29a761116",
   "metadata": {},
   "outputs": [
    {
     "name": "stdin",
     "output_type": "stream",
     "text": [
      "Enter marks scored by student 83\n"
     ]
    },
    {
     "name": "stdout",
     "output_type": "stream",
     "text": [
      "Student scored Grade B\n"
     ]
    }
   ],
   "source": [
    "n10=int(input(\"Enter marks scored by student\"))\n",
    "\n",
    "if n10<=100 and n10>90:\n",
    "    print(\"Student scored Grade A\")\n",
    "elif n10<=90 and n10>80:\n",
    "    print(\"Student scored Grade B\")\n",
    "elif n10<=80 and n10>70:\n",
    "    print(\"Student scored Grade C\")\n",
    "elif n10<=70 and n10>60:\n",
    "    print(\"Student scored Grade D\")\n",
    "elif n10<=60 and n10>500:\n",
    "    print(\"Student scored Grade E\")\n",
    "else:\n",
    "    print(\"Scored lower grades\")"
   ]
  },
  {
   "cell_type": "markdown",
   "id": "991e068a-127a-4bc9-a4c7-c6cbe8524539",
   "metadata": {},
   "source": [
    "Nested If-Else Statements:\n",
    "\n",
    "11. Write a program to find the largest among three numbers using nested if-else statements."
   ]
  },
  {
   "cell_type": "code",
   "execution_count": 64,
   "id": "7a3490b5-cf34-4c32-a25f-01f9dc77b307",
   "metadata": {},
   "outputs": [
    {
     "name": "stdin",
     "output_type": "stream",
     "text": [
      "Enter the first number 2\n",
      "Enter the second number 10\n",
      "Enter the third number 5\n"
     ]
    },
    {
     "name": "stdout",
     "output_type": "stream",
     "text": [
      "Second number is largest\n"
     ]
    }
   ],
   "source": [
    "n111= int(input(\"Enter the first number\"))\n",
    "n112= int(input(\"Enter the second number\"))\n",
    "n113= int(input(\"Enter the third number\"))\n",
    "\n",
    "if n111>=n112:\n",
    "    if n111>=n113:\n",
    "        print(\"First Number is largest\")\n",
    "    else:\n",
    "        print(\"Third Number is largest\")\n",
    "else:\n",
    "    if n112>=n113:\n",
    "        print(\"Second number is largest\")\n",
    "    else:\n",
    "        print(\"Third Number is largest\")"
   ]
  },
  {
   "cell_type": "markdown",
   "id": "a3affbeb-6775-4bf0-9ada-f84444aef08a",
   "metadata": {},
   "source": [
    "12. Implement a program to determine if a triangle is equilateral, isosceles, or scalene."
   ]
  },
  {
   "cell_type": "code",
   "execution_count": 71,
   "id": "15c50b14-e231-46b3-81be-a48e97a27698",
   "metadata": {},
   "outputs": [
    {
     "name": "stdin",
     "output_type": "stream",
     "text": [
      "Enter sides of the triangle using comma 3,3,3\n"
     ]
    },
    {
     "name": "stdout",
     "output_type": "stream",
     "text": [
      "Triangle is an equilateral Triangle\n"
     ]
    }
   ],
   "source": [
    "a12,b12,c12= input(\"Enter sides of the triangle using comma\").split(\",\")\n",
    "\n",
    "if a12==b12==c12:\n",
    "    print(\"Triangle is an equilateral Triangle\")\n",
    "elif a12==b12 or b12==c12 or c12==a12:\n",
    "    print(\"Triangle is an isoceles Triangle\")\n",
    "else:\n",
    "    print(\"Triangle is a scalene triangle\")"
   ]
  },
  {
   "cell_type": "markdown",
   "id": "b0a5c365-adb2-4b94-97d1-75615f1ac2a4",
   "metadata": {},
   "source": [
    "13. Develop a program that checks if a year is a leap year and also if it is a century year."
   ]
  },
  {
   "cell_type": "code",
   "execution_count": 76,
   "id": "88bb9528-1931-48b5-ae69-7ea09edfed00",
   "metadata": {},
   "outputs": [
    {
     "name": "stdin",
     "output_type": "stream",
     "text": [
      "Enter a year to check if it is a leap year 2300\n"
     ]
    },
    {
     "name": "stdout",
     "output_type": "stream",
     "text": [
      "It is not a leap year\n"
     ]
    }
   ],
   "source": [
    "a13=int(input(\"Enter a year to check if it is a leap year\"))\n",
    "\n",
    "if a13%400==0:\n",
    "    print(\"It is a leap year\")\n",
    "else:\n",
    "    if a13%100==0:\n",
    "        print(\"It is not a leap year\")\n",
    "    elif a13%4==0:\n",
    "        print(\"it is a leap year\")\n",
    "    else:\n",
    "        print(\"It is not a leap year\")"
   ]
  },
  {
   "cell_type": "markdown",
   "id": "06bb7e00-8b69-47c2-afb2-23e3754ecc8b",
   "metadata": {},
   "source": [
    "14. Write a Python script to determine if a number is positive, negative, or zero."
   ]
  },
  {
   "cell_type": "code",
   "execution_count": 80,
   "id": "90674f48-1178-4a48-a782-9d24e56df494",
   "metadata": {},
   "outputs": [
    {
     "name": "stdin",
     "output_type": "stream",
     "text": [
      "Enter a number 98\n"
     ]
    },
    {
     "name": "stdout",
     "output_type": "stream",
     "text": [
      "It is a positive number\n"
     ]
    }
   ],
   "source": [
    "a14=int(input(\"Enter a number\"))\n",
    "\n",
    "if a14>0:\n",
    "    print(\"It is a positive number\")\n",
    "elif a14<0:\n",
    "    print(\"It is a negative number\")\n",
    "else:\n",
    "    print(\"Number is zero\")"
   ]
  },
  {
   "cell_type": "markdown",
   "id": "cadcacb8-e64c-4cdb-b765-ded6e315487d",
   "metadata": {},
   "source": [
    "15. Create a program to check if a person is a teenager (between 13 and 19 years old)."
   ]
  },
  {
   "cell_type": "code",
   "execution_count": 86,
   "id": "7677fa1a-c8e5-4fb4-92f0-9e378895eda8",
   "metadata": {},
   "outputs": [
    {
     "name": "stdin",
     "output_type": "stream",
     "text": [
      "Enter age of the person 25\n"
     ]
    },
    {
     "name": "stdout",
     "output_type": "stream",
     "text": [
      "Person is an adult\n"
     ]
    }
   ],
   "source": [
    "a15=int(input(\"Enter age of the person\"))\n",
    "\n",
    "if a15<=19 and a15>=13:\n",
    "    print(\"Person is a teenager\")\n",
    "elif a15<13 :\n",
    "    print(\"Person is a child\")\n",
    "else:\n",
    "    print(\"Person is an adult\")"
   ]
  },
  {
   "cell_type": "markdown",
   "id": "80326557-4ff2-4f1d-b54f-11ba7dc4867b",
   "metadata": {},
   "source": [
    "16. Develop a program that determines the type of angle based on its measure (acute, obtuse, or right)."
   ]
  },
  {
   "cell_type": "code",
   "execution_count": 90,
   "id": "e13efc60-5442-4cc6-8382-3aac1e4d7ee2",
   "metadata": {},
   "outputs": [
    {
     "name": "stdin",
     "output_type": "stream",
     "text": [
      "Enter the value of the angle 45\n"
     ]
    },
    {
     "name": "stdout",
     "output_type": "stream",
     "text": [
      "It is an acute angle\n"
     ]
    }
   ],
   "source": [
    "a16=int(input(\"Enter the value of the angle\"))\n",
    "\n",
    "if a16<90:\n",
    "    print(\"It is an acute angle\")\n",
    "elif a16==90:\n",
    "    print(\"It is a right angle\")\n",
    "else:\n",
    "    print(\"It is an obtuse angle\")"
   ]
  },
  {
   "cell_type": "markdown",
   "id": "e1c1558f-d9c9-4885-9c6c-c3de5366aafb",
   "metadata": {},
   "source": [
    "17. Write a Python program to calculate the roots of a quadratic equation."
   ]
  },
  {
   "cell_type": "code",
   "execution_count": 19,
   "id": "72bc3ab3-a176-47c3-9e81-a0819bbed983",
   "metadata": {},
   "outputs": [
    {
     "name": "stdout",
     "output_type": "stream",
     "text": [
      "Real and Different Roots\n",
      "-2.0\n",
      "12.0\n"
     ]
    }
   ],
   "source": [
    "import math\n",
    "\n",
    "def quad_roots(a,b,c):\n",
    "    dis = b*b - 4*a*c\n",
    "    sqrt_val= math.sqrt(abs(dis))\n",
    "    \n",
    "    if dis>0:\n",
    "        print(\"Real and Different Roots\")\n",
    "        print((-b+sqrt_val)/2*a)\n",
    "        print((-b-sqrt_val)/2*a)\n",
    "    elif dis==0:\n",
    "        print(\"Real and equal Roots\")\n",
    "        print(-b/2*a)\n",
    "    else:\n",
    "        print(\"Real and complex Roots\")\n",
    "        print(- b / (2 * a), + i, sqrt_val)\n",
    "        print(- b / (2 * a), - i, sqrt_val)\n",
    "\n",
    "a17= -1\n",
    "b17= 10\n",
    "c17= 24\n",
    "\n",
    "if a17==0:\n",
    "    print(\"Enter correct details\")\n",
    "else:\n",
    "    quad_roots(a17,b17,c17)    "
   ]
  },
  {
   "cell_type": "markdown",
   "id": "578c1c0e-32e0-4e7f-ba8d-27a1d5a315ec",
   "metadata": {},
   "source": [
    "18. Implement a program to determine the day of the week based on a user-provided number (1 for Monday, 2\n",
    "for Tuesday, etc.)."
   ]
  },
  {
   "cell_type": "code",
   "execution_count": 5,
   "id": "bdb3a388-e601-427d-bc23-d9ac2610e355",
   "metadata": {},
   "outputs": [
    {
     "name": "stdin",
     "output_type": "stream",
     "text": [
      "Enter a number for deciding day of the week: 28\n"
     ]
    },
    {
     "name": "stdout",
     "output_type": "stream",
     "text": [
      "This day of the week is Sunday\n"
     ]
    }
   ],
   "source": [
    "n = int(input(\"Enter a number for deciding day of the week:\"))\n",
    "\n",
    "if n%7==1:\n",
    "    print(\"This day is monday\")\n",
    "elif n%7==2:\n",
    "    print(\"This day is Tuesday\")\n",
    "elif n%7==3:\n",
    "    print(\"This day is Wednesday\")\n",
    "elif n%7==4:\n",
    "    print(\"This day is Thursday\")\n",
    "elif n%7==5:\n",
    "    print(\"This day is Friday\")\n",
    "elif n%7==6:\n",
    "    print(\"This day is Saturday\")\n",
    "else:\n",
    "    print(\"This day of the week is Sunday\")\n"
   ]
  },
  {
   "cell_type": "markdown",
   "id": "f7383631-e35d-4d4d-9a99-d7862e704f32",
   "metadata": {},
   "source": [
    "19. Create a program that determines if a year is a leap year and also if it is evenly divisible by 400."
   ]
  },
  {
   "cell_type": "code",
   "execution_count": 14,
   "id": "ea6caf79-b26a-44de-bde5-3435e3700990",
   "metadata": {},
   "outputs": [
    {
     "name": "stdin",
     "output_type": "stream",
     "text": [
      "Enter the value of year to check 2400\n"
     ]
    },
    {
     "name": "stdout",
     "output_type": "stream",
     "text": [
      "2400  is a leap year\n"
     ]
    }
   ],
   "source": [
    "n= int(input(\"Enter the value of year to check\"))\n",
    "\n",
    "if n%100==0:\n",
    "    if n%400==0:\n",
    "        print(n,\" is a leap year\")\n",
    "    else:\n",
    "        print(n,\" is not a leap year\")\n",
    "elif n%4==0:\n",
    "    print(n,\" is a leap year\")\n",
    "else:\n",
    "    print(n,\" is not a leap year\")"
   ]
  },
  {
   "cell_type": "markdown",
   "id": "4bf57ec8-12c4-421b-9288-904334f39049",
   "metadata": {},
   "source": [
    "20. Develop a program that checks if a given number is prime or not using nested if-else statements."
   ]
  },
  {
   "cell_type": "code",
   "execution_count": 43,
   "id": "1caab736-0340-4edd-819e-fb0ec653c428",
   "metadata": {},
   "outputs": [
    {
     "name": "stdin",
     "output_type": "stream",
     "text": [
      "Enter a given number to check for prime 2\n"
     ]
    },
    {
     "name": "stdout",
     "output_type": "stream",
     "text": [
      "It is prime number\n"
     ]
    }
   ],
   "source": [
    "n = int(input(\"Enter a given number to check for prime\"))\n",
    "\n",
    "if n<2:\n",
    "    print(\"It is not a prime number\")\n",
    "elif n==2:\n",
    "    print(\"It is prime number\")\n",
    "else:\n",
    "    for i in range(2,n):\n",
    "        if n%i==0:\n",
    "           print(\"Number entered is not a prime number\")\n",
    "           break\n",
    "    else:\n",
    "        print(\"Number is a prime number\")"
   ]
  },
  {
   "cell_type": "markdown",
   "id": "160fad75-e5dd-427e-9230-b2fe171ce563",
   "metadata": {},
   "source": [
    "Elif Statements:\n",
    "\n",
    "21. Write a Python program to assign grades based on different ranges of scores using elif statements"
   ]
  },
  {
   "cell_type": "code",
   "execution_count": 45,
   "id": "e529f36d-454a-4305-8b4b-3bd1781696c7",
   "metadata": {},
   "outputs": [
    {
     "name": "stdin",
     "output_type": "stream",
     "text": [
      "Enter the marks scored by student out of 100: 75\n"
     ]
    },
    {
     "name": "stdout",
     "output_type": "stream",
     "text": [
      "Grade C\n"
     ]
    }
   ],
   "source": [
    "n=int(input(\"Enter the marks scored by student out of 100:\"))\n",
    "\n",
    "if n>90 and n<=100:\n",
    "    print(\"Grade A\")\n",
    "elif n>80 and n<=90:\n",
    "    print(\"Grade B\")\n",
    "elif n>70 and n<=80:\n",
    "    print(\"Grade C\")\n",
    "elif n>60 and n<=70:\n",
    "    print(\"Grade D\")\n",
    "elif n>50 and n<=60:\n",
    "    print(\"Grade E\")\n",
    "else:\n",
    "    print(\"Very poor score\")"
   ]
  },
  {
   "cell_type": "markdown",
   "id": "b82cb006-a8cd-42b1-acbe-3d55af18235e",
   "metadata": {},
   "source": [
    "22. Implement a program to determine the type of a triangle based on its angles."
   ]
  },
  {
   "cell_type": "code",
   "execution_count": 1,
   "id": "a2362f14-58d7-4c54-b934-cfcf512eb994",
   "metadata": {},
   "outputs": [
    {
     "name": "stdin",
     "output_type": "stream",
     "text": [
      "Enter value of  first angle of the triangle: 84\n",
      "Enter value of second angle of the triangle: 56\n",
      "Enter value of third angle of the triangle: 40\n"
     ]
    },
    {
     "name": "stdout",
     "output_type": "stream",
     "text": [
      "It is an acute angled triangle\n"
     ]
    }
   ],
   "source": [
    "a22= int(input(\"Enter value of  first angle of the triangle:\"))\n",
    "b22= int(input(\"Enter value of second angle of the triangle:\"))\n",
    "c22= int(input(\"Enter value of third angle of the triangle:\"))\n",
    "sum_new= a22+b22+c22\n",
    "if (sum_new == 180) and a22!=0 and b22!=0 and c22!=0:\n",
    "    if (a22==90) or b22==90 or c22==90:\n",
    "        print(\"It is right angled triangle\")\n",
    "    elif a22>90 or b22>90 or c22>90:\n",
    "        print(\"It is an obtuse angled triangle\")\n",
    "    elif a22<90 and b22<90 and c22<90:\n",
    "        print(\"It is an acute angled triangle\")\n",
    "else:\n",
    "    print(\"Not a valid Triangle\")"
   ]
  },
  {
   "cell_type": "markdown",
   "id": "75fb5ea0-c909-44a8-bdb4-783a43b1eaa6",
   "metadata": {},
   "source": [
    "23. Develop a program to categorize a given person's BMI into underweight, normal, overweight, or obese using\n",
    "elif statements.\n"
   ]
  },
  {
   "cell_type": "code",
   "execution_count": 7,
   "id": "fd93d10f-0b23-4b6a-84ac-e5bfaa03a897",
   "metadata": {},
   "outputs": [
    {
     "name": "stdin",
     "output_type": "stream",
     "text": [
      "Enter weight of the person in kgs 70\n",
      "Enter height of the person in metre 1.70\n"
     ]
    },
    {
     "name": "stdout",
     "output_type": "stream",
     "text": [
      "BMI index is : 24.221453287197235\n",
      "Normal\n"
     ]
    }
   ],
   "source": [
    "weight= float(input(\"Enter weight of the person in kgs\"))\n",
    "height= float(input(\"Enter height of the person in metre\"))\n",
    "\n",
    "BMI_index= weight/(height*height)\n",
    "print(\"BMI index is :\",BMI_index)\n",
    "\n",
    "if BMI_index <18.5:\n",
    "    print(\"Underweight\")\n",
    "elif BMI_index >=18.5 and BMI_index<25:\n",
    "    print(\"Normal\")\n",
    "elif BMI_index>=25 and BMI_index <30:\n",
    "    print(\"Overweight\")\n",
    "elif BMI_index>=30:\n",
    "    print(\"Obese\")"
   ]
  },
  {
   "cell_type": "markdown",
   "id": "5675989e-f653-490a-a71a-d5a2cc7b0ab5",
   "metadata": {},
   "source": [
    "24. Create a program that determines whether a given number is positive, negative, or zero using elif\n",
    "statements."
   ]
  },
  {
   "cell_type": "code",
   "execution_count": 8,
   "id": "ad02f5ef-bebf-4b22-a91a-17d217950bd7",
   "metadata": {},
   "outputs": [
    {
     "name": "stdin",
     "output_type": "stream",
     "text": [
      "Enter a number: -25\n"
     ]
    },
    {
     "name": "stdout",
     "output_type": "stream",
     "text": [
      "Negative number\n"
     ]
    }
   ],
   "source": [
    "n= int(input(\"Enter a number:\"))\n",
    "\n",
    "if n>0:\n",
    "    print(\"Positive number\")\n",
    "elif n<0:\n",
    "    print(\"Negative number\")\n",
    "else:\n",
    "    print(\"Number is zero\")"
   ]
  },
  {
   "cell_type": "markdown",
   "id": "d85df24c-596e-44a4-b163-b5c1b78ddbac",
   "metadata": {},
   "source": [
    "25. Write a Python script to determine the type of a character (uppercase, lowercase, or special) using elif\n",
    "statements."
   ]
  },
  {
   "cell_type": "code",
   "execution_count": 12,
   "id": "486d01ad-109a-46bc-96a5-6829f71525bb",
   "metadata": {},
   "outputs": [
    {
     "name": "stdin",
     "output_type": "stream",
     "text": [
      "Enter a character 1\n"
     ]
    },
    {
     "name": "stdout",
     "output_type": "stream",
     "text": [
      "Special character\n"
     ]
    }
   ],
   "source": [
    "input25= input(\"Enter a character\")\n",
    "\n",
    "if input25.isupper():\n",
    "    print(\"Uppercase character\")\n",
    "elif input25.islower():\n",
    "    print(\"Lowercase character\")\n",
    "else:\n",
    "    print(\"Special character\")"
   ]
  },
  {
   "cell_type": "markdown",
   "id": "fb695520-9084-4b4b-bcd5-3c1f6ee477fe",
   "metadata": {},
   "source": [
    "26. Implement a program to calculate the discounted price based on different purchase amounts using elif\n",
    "statements."
   ]
  },
  {
   "cell_type": "code",
   "execution_count": 16,
   "id": "8c716ac0-2364-4f37-a23c-dee8d589e344",
   "metadata": {},
   "outputs": [
    {
     "name": "stdin",
     "output_type": "stream",
     "text": [
      "Enter the price of the item: 1200\n"
     ]
    },
    {
     "name": "stdout",
     "output_type": "stream",
     "text": [
      "Original price of item: 1200.0\n",
      "Final price of item after discount: 960.0\n"
     ]
    }
   ],
   "source": [
    "n26= float(input(\"Enter the price of the item:\"))\n",
    "\n",
    "if n26>1000:\n",
    "    discount=20\n",
    "    final_price=n26-((n26*discount)/100)\n",
    "elif n26>500 and n26<=100:\n",
    "    discount=15\n",
    "    final_price=n26-((n26*discount)/100)\n",
    "else:\n",
    "    discount=5\n",
    "    final_price=n26-((n26*discount)/100)\n",
    "    \n",
    "print(\"Original price of item:\",n26)\n",
    "print(\"Final price of item after discount:\",final_price)"
   ]
  },
  {
   "cell_type": "markdown",
   "id": "d40414d6-280a-4390-8080-9aaf7aa8eae7",
   "metadata": {},
   "source": [
    "27. Develop a program to calculate the electricity bill based on different consumption slabs using elif\n",
    "statements."
   ]
  },
  {
   "cell_type": "code",
   "execution_count": 21,
   "id": "a29a9484-91dc-4a92-9dbd-ffe365e90750",
   "metadata": {},
   "outputs": [
    {
     "name": "stdin",
     "output_type": "stream",
     "text": [
      "Total number of units used 300\n"
     ]
    },
    {
     "name": "stdout",
     "output_type": "stream",
     "text": [
      "Number of units used by user: 300\n",
      "Price per unit according to usage: 4.5\n",
      "electricity bill as per usage: 5400.0\n"
     ]
    }
   ],
   "source": [
    "n27= int(input(\"Total number of units used\"))\n",
    "\n",
    "if n27>500:\n",
    "    price_per_unit=6.50\n",
    "    Bill_charged= price_per_unit*n26\n",
    "elif n27>350 and n<=500:\n",
    "    price_per_unit=5.50\n",
    "    Bill_charged= price_per_unit*n26\n",
    "elif n27>200 and n<=350:\n",
    "    price_per_unit=4.50\n",
    "    Bill_charged= price_per_unit*n26\n",
    "else:\n",
    "    price_per_unit=3.50\n",
    "    Bill_charged= price_per_unit*n26\n",
    "    \n",
    "print(\"Number of units used by user:\",n27)\n",
    "print(\"Price per unit according to usage:\",price_per_unit)\n",
    "print(\"electricity bill as per usage:\", Bill_charged)"
   ]
  },
  {
   "cell_type": "markdown",
   "id": "2feaaba1-a0ac-45f5-96af-90472963075a",
   "metadata": {},
   "source": [
    "28. Create a program to determine the type of quadrilateral based on its angles and sides using elif\n",
    "statements."
   ]
  },
  {
   "cell_type": "code",
   "execution_count": null,
   "id": "96e9565d-ed10-49a6-bc4b-53f98ee9aa7c",
   "metadata": {},
   "outputs": [],
   "source": [
    "a28,b28,c28,d28= input(\"Enter sides of quadrilateral\").split(',')\n",
    "A28,B28,C28,D28= input(\"Enter angles of quadrilateral\").split(',')\n",
    "\n",
    "if a28==b28==c28==d28 and A28==B28==C28==D28==90:\n",
    "    print(\"It is a square\")\n",
    "elif a28==c28 and b28==d28 and A28==B28==C28==D28==90:\n",
    "    print(\"it is a rectangle\")\n",
    "elif a28==b28==c28==d28 and A28==C28 and B28==D28:\n",
    "    print(\"It is a rhombus\")\n",
    "elif a28==c28 and b28==d28 and A28==C28 and B28==D28:\n",
    "    print(\"It is a parallelogram\")"
   ]
  },
  {
   "cell_type": "markdown",
   "id": "bcaa70d1-38de-4ca9-bdb7-753f3530f973",
   "metadata": {},
   "source": [
    "29. Write a Python script to determine the season based on a user-provided month using elif statements"
   ]
  },
  {
   "cell_type": "code",
   "execution_count": 1,
   "id": "07f49bd5-d30c-4d09-bd14-beac5fa05cf4",
   "metadata": {},
   "outputs": [
    {
     "name": "stdin",
     "output_type": "stream",
     "text": [
      "Enter a month to check a season january\n"
     ]
    },
    {
     "name": "stdout",
     "output_type": "stream",
     "text": [
      "Spring\n"
     ]
    }
   ],
   "source": [
    "month29=input(\"Enter a month to check a season\")\n",
    "month29.lower()\n",
    "\n",
    "if month29== 'january' or month29=='february' or month29== 'march':\n",
    "    print(\"Spring\")\n",
    "elif month29== 'april' or month29=='may' or month29== 'june':\n",
    "    print(\"Summer\")\n",
    "elif month29== 'july' or month29== 'august' or month29== 'september':\n",
    "    print(\"Autumn\")\n",
    "if month29== 'october' or month29== 'november' or month29== 'december':\n",
    "    print(\"Winter\")"
   ]
  },
  {
   "cell_type": "markdown",
   "id": "4e90977e-f486-4666-8eed-a0f4d35e6e91",
   "metadata": {},
   "source": [
    "30. Implement a program to determine the type of a year (leap or common) and month (30 or 31 days) using\n",
    "elif statements."
   ]
  },
  {
   "cell_type": "code",
   "execution_count": null,
   "id": "30ceaa53-48a2-4cfb-a3ad-157a9d369030",
   "metadata": {},
   "outputs": [],
   "source": []
  },
  {
   "cell_type": "markdown",
   "id": "97eed46b-1404-41a5-8510-b6b64829be86",
   "metadata": {},
   "source": [
    "Basic Level:\n",
    "\n",
    "1. Write a Python program that checks if a given number is positive, negative, or zero."
   ]
  },
  {
   "cell_type": "code",
   "execution_count": 2,
   "id": "1fc658e1-6b4e-4a4c-8644-67420a89609a",
   "metadata": {},
   "outputs": [
    {
     "name": "stdin",
     "output_type": "stream",
     "text": [
      "Enter a number: 5\n"
     ]
    },
    {
     "name": "stdout",
     "output_type": "stream",
     "text": [
      "Positive number\n"
     ]
    }
   ],
   "source": [
    "n= int(input(\"Enter a number:\"))\n",
    "\n",
    "if n>0:\n",
    "    print(\"Positive number\")\n",
    "elif n<0:\n",
    "    print(\"Negative number\")\n",
    "else:\n",
    "    print(\"Number is zero\")"
   ]
  },
  {
   "cell_type": "markdown",
   "id": "65e1b8a2-351f-4873-9eef-595c39814ec8",
   "metadata": {},
   "source": [
    "2. Create a program to determine if a person is eligible to vote based on their age."
   ]
  },
  {
   "cell_type": "code",
   "execution_count": 3,
   "id": "fb2fdca0-1949-4756-9dd3-c946f19a6928",
   "metadata": {},
   "outputs": [
    {
     "name": "stdin",
     "output_type": "stream",
     "text": [
      "Please enter the age of the person in integers 18\n"
     ]
    },
    {
     "name": "stdout",
     "output_type": "stream",
     "text": [
      "Person is eligible to vote\n"
     ]
    }
   ],
   "source": [
    "n2= int(input(\"Please enter the age of the person in integers\"))\n",
    "\n",
    "if n2<18:\n",
    "    print(\"Person is not eligible to vote\")\n",
    "else:\n",
    "    print(\"Person is eligible to vote\")"
   ]
  },
  {
   "cell_type": "markdown",
   "id": "3bcd2bd2-3712-43eb-83c2-3a4bc8c5f1ca",
   "metadata": {},
   "source": [
    "3. Write a program to find the maximum of two given numbers using conditional statements."
   ]
  },
  {
   "cell_type": "code",
   "execution_count": 4,
   "id": "c35bf267-7966-4987-994a-2f845ae755d4",
   "metadata": {},
   "outputs": [
    {
     "name": "stdin",
     "output_type": "stream",
     "text": [
      "Enter first number 25\n",
      "Enter second number 31\n"
     ]
    },
    {
     "name": "stdout",
     "output_type": "stream",
     "text": [
      "Second number is greater\n"
     ]
    }
   ],
   "source": [
    "n31= int(input(\"Enter first number\"))\n",
    "n32= int(input(\"Enter second number\"))\n",
    "\n",
    "if n31>n32:\n",
    "    print(\"First number is greater\")\n",
    "elif n31<n32:\n",
    "    print(\"Second number is greater\")\n",
    "else:\n",
    "    print(\"Both are equal\")"
   ]
  },
  {
   "cell_type": "markdown",
   "id": "45ac0aa9-c0b7-4c29-b173-1e672c3e11d4",
   "metadata": {},
   "source": [
    "4. Develop a program that calculates the grade of a student based on their exam score."
   ]
  },
  {
   "cell_type": "code",
   "execution_count": 5,
   "id": "1ea66266-0fd4-4fbc-b798-a3cb3c832b4a",
   "metadata": {},
   "outputs": [
    {
     "name": "stdin",
     "output_type": "stream",
     "text": [
      "Enter the marks scored by student out of 100: 50\n"
     ]
    },
    {
     "name": "stdout",
     "output_type": "stream",
     "text": [
      "Very poor score\n"
     ]
    }
   ],
   "source": [
    "n=int(input(\"Enter the marks scored by student out of 100:\"))\n",
    "\n",
    "if n>90 and n<=100:\n",
    "    print(\"Grade A\")\n",
    "elif n>80 and n<=90:\n",
    "    print(\"Grade B\")\n",
    "elif n>70 and n<=80:\n",
    "    print(\"Grade C\")\n",
    "elif n>60 and n<=70:\n",
    "    print(\"Grade D\")\n",
    "elif n>50 and n<=60:\n",
    "    print(\"Grade E\")\n",
    "else:\n",
    "    print(\"Very poor score\")"
   ]
  },
  {
   "cell_type": "markdown",
   "id": "3d1cfa43-3f4a-4b8c-a8dc-970982201d7e",
   "metadata": {},
   "source": [
    "5. Create a program that checks if a year is a leap year or not."
   ]
  },
  {
   "cell_type": "code",
   "execution_count": 6,
   "id": "91a335a1-3267-4c3a-bd2e-fdcfc2499e4a",
   "metadata": {},
   "outputs": [
    {
     "name": "stdin",
     "output_type": "stream",
     "text": [
      "Enter the value of year to check 2000\n"
     ]
    },
    {
     "name": "stdout",
     "output_type": "stream",
     "text": [
      "2000  is a leap year\n"
     ]
    }
   ],
   "source": [
    "n= int(input(\"Enter the value of year to check\"))\n",
    "\n",
    "if n%100==0:\n",
    "    if n%400==0:\n",
    "        print(n,\" is a leap year\")\n",
    "    else:\n",
    "        print(n,\" is not a leap year\")\n",
    "elif n%4==0:\n",
    "    print(n,\" is a leap year\")\n",
    "else:\n",
    "    print(n,\" is not a leap year\")"
   ]
  },
  {
   "cell_type": "markdown",
   "id": "92453cac-d05d-4f64-97f6-095dc9d4f584",
   "metadata": {},
   "source": [
    "6. Write a program to classify a triangle based on its sides' lengths."
   ]
  },
  {
   "cell_type": "code",
   "execution_count": 7,
   "id": "0c81c400-2570-4020-a649-6e0725b887dd",
   "metadata": {},
   "outputs": [
    {
     "name": "stdin",
     "output_type": "stream",
     "text": [
      "Enter sides of the triangle using comma 25,30,25\n"
     ]
    },
    {
     "name": "stdout",
     "output_type": "stream",
     "text": [
      "Triangle is an isoceles Triangle\n"
     ]
    }
   ],
   "source": [
    "a12,b12,c12= input(\"Enter sides of the triangle using comma\").split(\",\")\n",
    "\n",
    "if a12==b12==c12:\n",
    "    print(\"Triangle is an equilateral Triangle\")\n",
    "elif a12==b12 or b12==c12 or c12==a12:\n",
    "    print(\"Triangle is an isoceles Triangle\")\n",
    "else:\n",
    "    print(\"Triangle is a scalene triangle\")"
   ]
  },
  {
   "cell_type": "markdown",
   "id": "c8c0aa4d-a77a-48d5-8f5f-5bb207e5bd90",
   "metadata": {},
   "source": [
    "7. Build a program that determines the largest of three given numbers."
   ]
  },
  {
   "cell_type": "code",
   "execution_count": 8,
   "id": "36c4469c-2788-4b79-91c8-ab0f0f07369c",
   "metadata": {},
   "outputs": [
    {
     "name": "stdin",
     "output_type": "stream",
     "text": [
      "Enter the first number 10\n",
      "Enter the second number 15\n",
      "Enter the third number 23\n"
     ]
    },
    {
     "name": "stdout",
     "output_type": "stream",
     "text": [
      "Third Number is largest\n"
     ]
    }
   ],
   "source": [
    "n111= int(input(\"Enter the first number\"))\n",
    "n112= int(input(\"Enter the second number\"))\n",
    "n113= int(input(\"Enter the third number\"))\n",
    "\n",
    "if n111>=n112:\n",
    "    if n111>=n113:\n",
    "        print(\"First Number is largest\")\n",
    "    else:\n",
    "        print(\"Third Number is largest\")\n",
    "else:\n",
    "    if n112>=n113:\n",
    "        print(\"Second number is largest\")\n",
    "    else:\n",
    "        print(\"Third Number is largest\")"
   ]
  },
  {
   "cell_type": "markdown",
   "id": "e0391fb6-fee7-43e8-b739-190ba1d9f66f",
   "metadata": {},
   "source": [
    "8. Develop a program that checks whether a character is a vowel or a consonant."
   ]
  },
  {
   "cell_type": "code",
   "execution_count": 9,
   "id": "2e031a8f-35df-4b22-8284-c0013ad4c463",
   "metadata": {},
   "outputs": [
    {
     "name": "stdin",
     "output_type": "stream",
     "text": [
      "Enter a character to check if vowel or consonant v\n"
     ]
    },
    {
     "name": "stdout",
     "output_type": "stream",
     "text": [
      "v  is a consonant\n"
     ]
    }
   ],
   "source": [
    "n5= input(\"Enter a character to check if vowel or consonant\")\n",
    "\n",
    "if n5 in ['a','e','i','o','u','A','E','I','O','U']:\n",
    "    print(n5, \" is a vowel\")\n",
    "else:\n",
    "    print(n5,\" is a consonant\")"
   ]
  },
  {
   "cell_type": "markdown",
   "id": "8825b94d-0210-4e8a-a35c-4da0a5435d0e",
   "metadata": {},
   "source": [
    "9. Create a program to calculate the total cost of a shopping cart based on discounts."
   ]
  },
  {
   "cell_type": "code",
   "execution_count": 10,
   "id": "c87a0d99-19f6-4cf3-93a8-9f3673653db7",
   "metadata": {},
   "outputs": [
    {
     "name": "stdin",
     "output_type": "stream",
     "text": [
      "Enter the price of the item: 1200\n"
     ]
    },
    {
     "name": "stdout",
     "output_type": "stream",
     "text": [
      "Original price of item: 1200.0\n",
      "Final price of item after discount: 960.0\n"
     ]
    }
   ],
   "source": [
    "n26= float(input(\"Enter the price of the item:\"))\n",
    "\n",
    "if n26>1000:\n",
    "    discount=20\n",
    "    final_price=n26-((n26*discount)/100)\n",
    "elif n26>500 and n26<=100:\n",
    "    discount=15\n",
    "    final_price=n26-((n26*discount)/100)\n",
    "else:\n",
    "    discount=5\n",
    "    final_price=n26-((n26*discount)/100)\n",
    "    \n",
    "print(\"Original price of item:\",n26)\n",
    "print(\"Final price of item after discount:\",final_price)"
   ]
  },
  {
   "cell_type": "markdown",
   "id": "34c0b316-34d5-49f4-85bd-64b174fc24e0",
   "metadata": {},
   "source": [
    "10. Write a program that checks if a given number is even or odd."
   ]
  },
  {
   "cell_type": "code",
   "execution_count": 11,
   "id": "72c0da5c-1a42-4221-b695-05c203c42deb",
   "metadata": {},
   "outputs": [
    {
     "name": "stdin",
     "output_type": "stream",
     "text": [
      "Enter a number 15\n"
     ]
    },
    {
     "name": "stdout",
     "output_type": "stream",
     "text": [
      "15  is an odd number\n"
     ]
    }
   ],
   "source": [
    "n6= int(input(\"Enter a number\"))\n",
    "\n",
    "if n6%2==0:\n",
    "    print(n6, \" is an even number\")\n",
    "else:\n",
    "    print(n6, \" is an odd number\")"
   ]
  },
  {
   "cell_type": "markdown",
   "id": "9f20901b-77cc-4185-b237-edb9abbcf20f",
   "metadata": {},
   "source": [
    "Intermediate Level:\n",
    "\n",
    "11. Write a program that calculates the roots of a quadratic equation ."
   ]
  },
  {
   "cell_type": "code",
   "execution_count": 12,
   "id": "595622f2-48d3-47a9-ba99-e26e926970f9",
   "metadata": {},
   "outputs": [
    {
     "name": "stdout",
     "output_type": "stream",
     "text": [
      "Real and Different Roots\n",
      "-2.0\n",
      "12.0\n"
     ]
    }
   ],
   "source": [
    "import math\n",
    "\n",
    "def quad_roots(a,b,c):\n",
    "    dis = b*b - 4*a*c\n",
    "    sqrt_val= math.sqrt(abs(dis))\n",
    "    \n",
    "    if dis>0:\n",
    "        print(\"Real and Different Roots\")\n",
    "        print((-b+sqrt_val)/2*a)\n",
    "        print((-b-sqrt_val)/2*a)\n",
    "    elif dis==0:\n",
    "        print(\"Real and equal Roots\")\n",
    "        print(-b/2*a)\n",
    "    else:\n",
    "        print(\"Real and complex Roots\")\n",
    "        print(- b / (2 * a), + i, sqrt_val)\n",
    "        print(- b / (2 * a), - i, sqrt_val)\n",
    "\n",
    "a17= -1\n",
    "b17= 10\n",
    "c17= 24\n",
    "\n",
    "if a17==0:\n",
    "    print(\"Enter correct details\")\n",
    "else:\n",
    "    quad_roots(a17,b17,c17)    "
   ]
  },
  {
   "cell_type": "markdown",
   "id": "b17e45e0-7798-4f30-bcc3-d5c3ce31b921",
   "metadata": {},
   "source": [
    "12. Create a program that determines the day of the week based on the day number (1-7)."
   ]
  },
  {
   "cell_type": "code",
   "execution_count": 13,
   "id": "4e647a9f-4fa6-485d-99fb-e362843a94c7",
   "metadata": {},
   "outputs": [
    {
     "name": "stdin",
     "output_type": "stream",
     "text": [
      "Enter a number for deciding day of the week: 5\n"
     ]
    },
    {
     "name": "stdout",
     "output_type": "stream",
     "text": [
      "This day is Friday\n"
     ]
    }
   ],
   "source": [
    "n = int(input(\"Enter a number for deciding day of the week:\"))\n",
    "\n",
    "if n%7==1:\n",
    "    print(\"This day is monday\")\n",
    "elif n%7==2:\n",
    "    print(\"This day is Tuesday\")\n",
    "elif n%7==3:\n",
    "    print(\"This day is Wednesday\")\n",
    "elif n%7==4:\n",
    "    print(\"This day is Thursday\")\n",
    "elif n%7==5:\n",
    "    print(\"This day is Friday\")\n",
    "elif n%7==6:\n",
    "    print(\"This day is Saturday\")\n",
    "else:\n",
    "    print(\"This day of the week is Sunday\")"
   ]
  },
  {
   "cell_type": "markdown",
   "id": "cb3cd993-6ae9-4afc-a953-1ec40a8b5f5b",
   "metadata": {},
   "source": [
    "13. Develop a program that calculates the factorial of a given number using recursion."
   ]
  },
  {
   "cell_type": "code",
   "execution_count": 15,
   "id": "073db047-a027-4efa-89fe-4ab538f99f68",
   "metadata": {},
   "outputs": [
    {
     "name": "stdin",
     "output_type": "stream",
     "text": [
      "Enter a number whose factorial to be found 5\n"
     ]
    },
    {
     "data": {
      "text/plain": [
       "120"
      ]
     },
     "execution_count": 15,
     "metadata": {},
     "output_type": "execute_result"
    }
   ],
   "source": [
    "def recur_13(n):\n",
    "    if n==0:\n",
    "        return 1\n",
    "    else:\n",
    "        return n * recur_13(n-1)\n",
    "    \n",
    "n13= int(input(\"Enter a number whose factorial to be found\"))\n",
    "recur_13(n13)"
   ]
  },
  {
   "cell_type": "markdown",
   "id": "2427ac26-ba3d-4478-9365-503408a87dc7",
   "metadata": {},
   "source": [
    "14. Write a program to find the largest among three numbers without using the `max()` function."
   ]
  },
  {
   "cell_type": "code",
   "execution_count": 16,
   "id": "86a3d68e-8c01-4071-87d1-977651b3378c",
   "metadata": {},
   "outputs": [
    {
     "name": "stdin",
     "output_type": "stream",
     "text": [
      "Enter the first number 15\n",
      "Enter the second number 16\n",
      "Enter the third number 10\n"
     ]
    },
    {
     "name": "stdout",
     "output_type": "stream",
     "text": [
      "Second number is largest\n"
     ]
    }
   ],
   "source": [
    "n111= int(input(\"Enter the first number\"))\n",
    "n112= int(input(\"Enter the second number\"))\n",
    "n113= int(input(\"Enter the third number\"))\n",
    "\n",
    "if n111>=n112:\n",
    "    if n111>=n113:\n",
    "        print(\"First Number is largest\")\n",
    "    else:\n",
    "        print(\"Third Number is largest\")\n",
    "else:\n",
    "    if n112>=n113:\n",
    "        print(\"Second number is largest\")\n",
    "    else:\n",
    "        print(\"Third Number is largest\")"
   ]
  },
  {
   "cell_type": "markdown",
   "id": "ab0df0d4-a3ce-458d-9d30-be81abf5a73d",
   "metadata": {},
   "source": [
    "15. Create a program that simulates a basic ATM transaction menu."
   ]
  },
  {
   "cell_type": "code",
   "execution_count": 7,
   "id": "a80d7b7f-634d-48bc-9ccb-561c687958ed",
   "metadata": {},
   "outputs": [
    {
     "name": "stdout",
     "output_type": "stream",
     "text": [
      "Insert your card for transactions\n"
     ]
    },
    {
     "name": "stdin",
     "output_type": "stream",
     "text": [
      "Enter the Pin for futher processing 2567\n"
     ]
    },
    {
     "name": "stdout",
     "output_type": "stream",
     "text": [
      "1. Balance Enquiry\n",
      "2. Cash Withdrawl\n",
      "3. Mini Statement\n"
     ]
    },
    {
     "name": "stdin",
     "output_type": "stream",
     "text": [
      "Select and option for further processing: 2\n"
     ]
    },
    {
     "name": "stdout",
     "output_type": "stream",
     "text": [
      "Enter the amount you wish to withdrawl\n"
     ]
    }
   ],
   "source": [
    "Card_Number = 3542617943972835\n",
    "Pin_Number = 2567\n",
    "\n",
    "print(\"Insert your card for transactions\")\n",
    "\n",
    "pin_enter = int(input(\"Enter the Pin for futher processing\"))\n",
    "\n",
    "if (pin_enter == Pin_Number):\n",
    "    \n",
    "    print(\"1. Balance Enquiry\")\n",
    "    print(\"2. Cash Withdrawl\")\n",
    "    print(\"3. Mini Statement\")\n",
    "    select_option = int(input(\"Select and option for further processing:\"))\n",
    "    \n",
    "    if select_option ==1 :\n",
    "        print(\"Your Balance is Rs 5,000\")\n",
    "    elif select_option ==2:\n",
    "        print(\"Enter the amount you wish to withdrawl\")\n",
    "    elif select_option ==3:\n",
    "        print(\"Mini statement of the given account is :\")\n",
    "else:\n",
    "    print(\"Wrong Pin! Transaction Declined\")"
   ]
  },
  {
   "cell_type": "markdown",
   "id": "6a499fae-494f-4694-b8da-3cf548cbb9c5",
   "metadata": {},
   "source": [
    "16. Build a program that checks if a given string is a palindrome or not."
   ]
  },
  {
   "cell_type": "code",
   "execution_count": 8,
   "id": "035c9120-0bec-4a26-8ba4-c9eeadfff74a",
   "metadata": {},
   "outputs": [
    {
     "name": "stdin",
     "output_type": "stream",
     "text": [
      "Enter a string to check 10101\n"
     ]
    },
    {
     "name": "stdout",
     "output_type": "stream",
     "text": [
      "It is a pallindrome\n"
     ]
    }
   ],
   "source": [
    "n9= input(\"Enter a string to check\")\n",
    "n91=n9.lower()\n",
    "\n",
    "if n91==n91[-1::-1]:\n",
    "    print(\"It is a pallindrome\")\n",
    "else:\n",
    "    print(\"It is not a pallindrome\")"
   ]
  },
  {
   "cell_type": "markdown",
   "id": "96049ea3-1b87-4a3d-9113-40fea008f030",
   "metadata": {},
   "source": [
    "17. Write a program that calculates the average of a list of numbers, excluding the smallest and largest values."
   ]
  },
  {
   "cell_type": "code",
   "execution_count": 18,
   "id": "cb37cf88-4f56-41fb-92a7-06b6689ff248",
   "metadata": {},
   "outputs": [
    {
     "name": "stdout",
     "output_type": "stream",
     "text": [
      "Average of remaining numbers: 4.6\n"
     ]
    }
   ],
   "source": [
    "def avg(l):\n",
    "    total=0\n",
    "    for i in range(1,len(l)-1):\n",
    "        total=total+l[i]\n",
    "    print(\"Average of remaining numbers:\",total/(len(l)-2))\n",
    "        \n",
    "list17=[7,2,3,0,5,6,10]\n",
    "list17.sort()\n",
    "avg(list17)"
   ]
  },
  {
   "cell_type": "markdown",
   "id": "b193ed97-cb04-4a45-8ed4-61bc39458423",
   "metadata": {},
   "source": [
    "18. Develop a program that converts a given temperature from Celsius to Fahrenheit."
   ]
  },
  {
   "cell_type": "code",
   "execution_count": 20,
   "id": "262ca768-8e90-4368-90ad-bf0499350fc5",
   "metadata": {},
   "outputs": [
    {
     "name": "stdin",
     "output_type": "stream",
     "text": [
      "Enter temp to convert into Fahrenheit: 102\n"
     ]
    },
    {
     "name": "stdout",
     "output_type": "stream",
     "text": [
      "Temp in Fahrenheit: 215.6\n"
     ]
    }
   ],
   "source": [
    "cel_18 = float(input(\"Enter temp to convert into Fahrenheit:\"))\n",
    "\n",
    "far_18= ((cel_18*9)/5) +32\n",
    "\n",
    "print(\"Temp in Fahrenheit:\", far_18)"
   ]
  },
  {
   "cell_type": "markdown",
   "id": "1476d2c7-0749-4045-9be3-5d22ccb526c4",
   "metadata": {},
   "source": [
    "19. Create a program that simulates a basic calculator for addition, subtraction, multiplication, and division."
   ]
  },
  {
   "cell_type": "code",
   "execution_count": 23,
   "id": "056b1c9d-6763-4517-bd0c-29ef3f165918",
   "metadata": {},
   "outputs": [
    {
     "name": "stdin",
     "output_type": "stream",
     "text": [
      "Enter first number: 5\n",
      "Enter second number: 10\n",
      "Enter add for addition, subt for subtraction, mult for multiplication and divi for division mult\n"
     ]
    },
    {
     "name": "stdout",
     "output_type": "stream",
     "text": [
      "Multiplication of numbers are: 50\n"
     ]
    }
   ],
   "source": [
    "a19=int(input(\"Enter first number:\"))\n",
    "b19= int(input(\"Enter second number:\"))\n",
    "op19=input(\"Enter add for addition, subt for subtraction, mult for multiplication and divi for division\")\n",
    "\n",
    "if op19== 'add':\n",
    "    print(\"Sum of numbers are:\",a19+b19)\n",
    "elif op19== 'subt':\n",
    "    print(\"Subtraction of numbers are:\",a19-b19)\n",
    "if op19== 'mult':\n",
    "    print(\"Multiplication of numbers are:\",a19*b19)\n",
    "if op19== 'divi':\n",
    "    print(\"Division of numbers are:\",a19/b19)"
   ]
  },
  {
   "cell_type": "markdown",
   "id": "09f4355e-74c8-4a24-a4cd-e0497cb75793",
   "metadata": {},
   "source": [
    "20. Write a program that determines the roots of a cubic equation using the Cardano formula."
   ]
  },
  {
   "cell_type": "code",
   "execution_count": null,
   "id": "f212d776-eba9-43c3-90ac-4d24169e3f9f",
   "metadata": {},
   "outputs": [],
   "source": []
  },
  {
   "cell_type": "markdown",
   "id": "25a8ce83-4ec9-4d38-b15a-dde808a2133b",
   "metadata": {},
   "source": [
    "Advanced Level:\n",
    "\n",
    "21. Create a program that calculates the income tax based on the user's income and tax brackets."
   ]
  },
  {
   "cell_type": "code",
   "execution_count": 26,
   "id": "0baef622-e922-49b3-9550-072fac3f1f7b",
   "metadata": {},
   "outputs": [
    {
     "name": "stdin",
     "output_type": "stream",
     "text": [
      "Enter income of the Employee: 700000\n"
     ]
    },
    {
     "name": "stdout",
     "output_type": "stream",
     "text": [
      "25000.0\n"
     ]
    }
   ],
   "source": [
    "def IT_cal(n):\n",
    "    if n<=300000:\n",
    "        tax= 0\n",
    "    elif n>300000 and n<=600000:\n",
    "        tax= 0.05*(n-300000)\n",
    "    elif n>600000 and n<= 900000:\n",
    "        tax= 0.05*300000+(n-600000)*0.10\n",
    "    elif n>900000 and n<=1200000:\n",
    "        tax=0.05*300000+0.10*300000+(n-900000)*0.15\n",
    "    elif n>1200000 and n<=1500000:\n",
    "        tax=0.05*300000+0.10*300000+(300000)*0.15+ (n-1200000)*0.20\n",
    "    else:\n",
    "        tax=0.05*300000+0.10*300000+(300000)*0.15+ 300000*0.20+(n-1500000)*0.30\n",
    "    \n",
    "    return tax\n",
    "Income_21 = int(input(\"Enter income of the Employee:\"))\n",
    "\n",
    "print(IT_cal(Income_21))"
   ]
  },
  {
   "cell_type": "markdown",
   "id": "a6c94c30-9b37-45d7-8903-4a47e914d831",
   "metadata": {},
   "source": [
    "22. Write a program that simulates a rock-paper-scissors game against the computer."
   ]
  },
  {
   "cell_type": "code",
   "execution_count": 5,
   "id": "bb26246f-61fb-4d85-a6bb-bd8e6ace2070",
   "metadata": {},
   "outputs": [
    {
     "name": "stdin",
     "output_type": "stream",
     "text": [
      "Enter a choice(rock,paper,scissors): paper\n"
     ]
    },
    {
     "name": "stdout",
     "output_type": "stream",
     "text": [
      "Player:paper\n",
      "Computer:scissors\n",
      "You lose\n"
     ]
    }
   ],
   "source": [
    "import random\n",
    "\n",
    "options = (\"rock\",\"paper\",\"scissors\")\n",
    "player = None\n",
    "computer = random.choice(options)\n",
    "\n",
    "while player not in options:\n",
    "    player = input(\"Enter a choice(rock,paper,scissors):\")\n",
    "    \n",
    "print(f\"Player:{player}\")\n",
    "print(f\"Computer:{computer}\")\n",
    "\n",
    "if player == computer:\n",
    "    print(\"It is a tie\")\n",
    "elif player== \"rock\" and computer== \"scissors\":\n",
    "    print(\"You win\")\n",
    "elif player==\"paper\" and computer== \"rock\":\n",
    "    print(\"You win\")\n",
    "elif player==\"scissors\" and computer== \"paper\":\n",
    "    print(\"You win\")\n",
    "else:\n",
    "    print(\"You lose\")"
   ]
  },
  {
   "cell_type": "markdown",
   "id": "2780e410-ad7d-4dff-9e59-155444ac15a4",
   "metadata": {},
   "source": [
    "23. Develop a program that generates a random password based on user preferences (length, complexity)."
   ]
  },
  {
   "cell_type": "code",
   "execution_count": 8,
   "id": "db6492b5-42ae-4904-885e-de5a42c90bbf",
   "metadata": {},
   "outputs": [
    {
     "name": "stdin",
     "output_type": "stream",
     "text": [
      "Enter the length of password required: 5\n"
     ]
    },
    {
     "name": "stdout",
     "output_type": "stream",
     "text": [
      " choose character set of password from these: 1. Digits 2.Letters 3.Special Characters 4. Exit \n"
     ]
    },
    {
     "name": "stdin",
     "output_type": "stream",
     "text": [
      "Pick a number 2\n",
      "Pick a number 1\n",
      "Pick a number 3\n",
      "Pick a number 1\n",
      "Pick a number 4\n"
     ]
    },
    {
     "name": "stdout",
     "output_type": "stream",
     "text": [
      "The random password is:zC-,6\n"
     ]
    }
   ],
   "source": [
    "import string\n",
    "import random\n",
    "\n",
    "length = int(input(\"Enter the length of password required:\"))\n",
    "print(''' choose character set of password from these: 1. Digits 2.Letters 3.Special Characters 4. Exit ''')\n",
    "\n",
    "characterlist=\"\"\n",
    "while(True):\n",
    "    choice = int(input(\"Pick a number\"))\n",
    "    \n",
    "    if choice==1:\n",
    "        characterlist+=string.ascii_letters\n",
    "    elif choice ==2:\n",
    "        characterlist+=string.digits\n",
    "    elif choice == 3:\n",
    "        characterlist+=string.punctuation\n",
    "    elif choice ==4:\n",
    "        break\n",
    "    else:\n",
    "        print(\"Please pick a valid option!\")\n",
    "        \n",
    "password=[]\n",
    "\n",
    "for i in range(length):\n",
    "    randomchar = random.choice(characterlist)\n",
    "    password.append(randomchar)\n",
    "\n",
    "print(\"The random password is:\" + \"\".join(password))"
   ]
  },
  {
   "cell_type": "markdown",
   "id": "e944b1ba-658a-49ae-bdae-2905a95df377",
   "metadata": {},
   "source": [
    "24. Create a program that implements a simple text-based adventure game with branching scenarios."
   ]
  },
  {
   "cell_type": "code",
   "execution_count": 11,
   "id": "6af110d7-64bc-4b1d-9dc3-d85801d33b0e",
   "metadata": {},
   "outputs": [
    {
     "name": "stdin",
     "output_type": "stream",
     "text": [
      "Sohan asked mohan to bring some clothes for him.Press Y if you want him to go other wise N y\n",
      "From where mohan will buy clothes Reliance or Lifestyle reliance\n"
     ]
    },
    {
     "name": "stdout",
     "output_type": "stream",
     "text": [
      "Purchased clothes from reliance\n"
     ]
    }
   ],
   "source": [
    "a1 = input(\"Sohan asked mohan to bring some clothes for him.Press Y if you want him to go other wise N\")\n",
    "a1.lower()\n",
    "\n",
    "if a1==\"y\":\n",
    "    a2= input(\"From where mohan will buy clothes Reliance or Lifestyle\")\n",
    "    a2.lower()\n",
    "    if a2==\"reliance\":\n",
    "        print(\"Purchased clothes from reliance\")\n",
    "    elif a2==\"lifestyle\":\n",
    "        print(\"Purchased clothes from lifestyle\")\n",
    "    else:\n",
    "        print(\"Enter correct value\")\n",
    "elif a1==\"n\":\n",
    "    print(\"Mohan Not going to market\")"
   ]
  },
  {
   "cell_type": "markdown",
   "id": "0fe3b64a-0c3f-4cb0-b09c-aa44e7569ade",
   "metadata": {},
   "source": [
    "25. Build a program that solves a linear equation for x, considering different cases."
   ]
  },
  {
   "cell_type": "code",
   "execution_count": null,
   "id": "3dd1b26e-8bb3-443c-a474-61b6112b6bb9",
   "metadata": {},
   "outputs": [],
   "source": []
  },
  {
   "cell_type": "markdown",
   "id": "f6b338f4-3ea3-4aaf-a57e-88b6e59536fb",
   "metadata": {},
   "source": [
    "26. Write a program that simulates a basic quiz game with multiple-choice questions and scoring."
   ]
  },
  {
   "cell_type": "code",
   "execution_count": 14,
   "id": "01b1c23a-3493-42ee-aa97-dd9017a01b32",
   "metadata": {},
   "outputs": [
    {
     "name": "stdout",
     "output_type": "stream",
     "text": [
      "Quiz Start\n",
      "For every correct answer +10 will be rewarded\n",
      "For every wrong answer 5 will be deducted from total score\n",
      "Question 1 - What is the capital of India?\n",
      "                    1. Delhi\n",
      "                    2. Kolkata\n",
      "                    3. Mumbai\n",
      "                    4. Hyderabad\n"
     ]
    },
    {
     "name": "stdin",
     "output_type": "stream",
     "text": [
      " delhi\n"
     ]
    },
    {
     "name": "stdout",
     "output_type": "stream",
     "text": [
      "Correct Answer\n",
      "Question 2 - Where in CharMinar?\n",
      "                    1. Delhi\n",
      "                    2. Kolkata\n",
      "                    3. Mumbai\n",
      "                    4. Hyderabad\n"
     ]
    },
    {
     "name": "stdin",
     "output_type": "stream",
     "text": [
      " delhi\n"
     ]
    },
    {
     "name": "stdout",
     "output_type": "stream",
     "text": [
      "Wrong answer\n",
      "Question 3 - Who is national animal?\n",
      "                    1. Tiger\n",
      "                    2. Lion\n",
      "                    3. Cheetah\n",
      "                    4. Leopard\n"
     ]
    },
    {
     "name": "stdin",
     "output_type": "stream",
     "text": [
      " lion\n"
     ]
    },
    {
     "name": "stdout",
     "output_type": "stream",
     "text": [
      "Wrong answer\n",
      "Total Score is :  0\n"
     ]
    }
   ],
   "source": [
    "print(\"Quiz Start\")\n",
    "print(\"For every correct answer +10 will be rewarded\")\n",
    "print(\"For every wrong answer 5 will be deducted from total score\")\n",
    "\n",
    "total_score = 0\n",
    "\n",
    "print('''Question 1 - What is the capital of India?\n",
    "                    1. Delhi\n",
    "                    2. Kolkata\n",
    "                    3. Mumbai\n",
    "                    4. Hyderabad''')\n",
    "\n",
    "Answer1 = input()\n",
    "Answer1.lower()\n",
    "if Answer1== \"delhi\":\n",
    "    print(\"Correct Answer\")\n",
    "    total_score+=10\n",
    "else:\n",
    "    print(\"Wrong answer\")\n",
    "    total_score-=5\n",
    "    \n",
    "print('''Question 2 - Where in CharMinar?\n",
    "                    1. Delhi\n",
    "                    2. Kolkata\n",
    "                    3. Mumbai\n",
    "                    4. Hyderabad''')\n",
    "\n",
    "Answer2 = input()\n",
    "Answer2.lower()\n",
    "if Answer2== \"hyderabad\":\n",
    "    print(\"Correct Answer\")\n",
    "    total_score+=10\n",
    "else:\n",
    "    print(\"Wrong answer\")\n",
    "    total_score-=5\n",
    "\n",
    "print('''Question 3 - Who is national animal?\n",
    "                    1. Tiger\n",
    "                    2. Lion\n",
    "                    3. Cheetah\n",
    "                    4. Leopard''')\n",
    "\n",
    "Answer3 = input()\n",
    "Answer3.lower()\n",
    "if Answer3== \"tiger\":\n",
    "    print(\"Correct Answer\")\n",
    "    total_score+=10\n",
    "else:\n",
    "    print(\"Wrong answer\")\n",
    "    total_score-=5\n",
    "print(\"Total Score is : \",total_score)"
   ]
  },
  {
   "cell_type": "markdown",
   "id": "d8c4290f-0d5d-48ed-9cb3-5a81a16a3ca0",
   "metadata": {},
   "source": [
    "27. Develop a program that determines whether a given year is a prime number or not."
   ]
  },
  {
   "cell_type": "code",
   "execution_count": 15,
   "id": "885818e8-ff59-4253-908d-84e892d183fa",
   "metadata": {},
   "outputs": [
    {
     "name": "stdin",
     "output_type": "stream",
     "text": [
      "Enter a given number to check for prime 11\n"
     ]
    },
    {
     "name": "stdout",
     "output_type": "stream",
     "text": [
      "Number is a prime number\n"
     ]
    }
   ],
   "source": [
    "n = int(input(\"Enter a given number to check for prime\"))\n",
    "\n",
    "if n<2:\n",
    "    print(\"It is not a prime number\")\n",
    "elif n==2:\n",
    "    print(\"It is prime number\")\n",
    "else:\n",
    "    for i in range(2,n):\n",
    "        if n%i==0:\n",
    "           print(\"Number entered is not a prime number\")\n",
    "           break\n",
    "    else:\n",
    "        print(\"Number is a prime number\")"
   ]
  },
  {
   "cell_type": "markdown",
   "id": "107671bd-2c66-49fc-ac15-683d373dddf3",
   "metadata": {},
   "source": [
    "28. Create a program that sorts three numbers in ascending order using conditional statements."
   ]
  },
  {
   "cell_type": "code",
   "execution_count": 19,
   "id": "7500221c-5d09-4953-902f-57439a8dc30f",
   "metadata": {},
   "outputs": [
    {
     "name": "stdin",
     "output_type": "stream",
     "text": [
      "Enter first number 4\n",
      "Enter Second number 10\n",
      "Enter Third number 2\n"
     ]
    },
    {
     "name": "stdout",
     "output_type": "stream",
     "text": [
      "[2, 4, 10]\n"
     ]
    }
   ],
   "source": [
    "a28= int(input(\"Enter first number\"))\n",
    "b28= int(input(\"Enter Second number\"))\n",
    "c28= int(input(\"Enter Third number\"))\n",
    "sort_list=[]\n",
    "\n",
    "if a28<b28 and a28<c28:\n",
    "    sort_list.append(a28)\n",
    "    if b28<c28:\n",
    "        sort_list.append(b28)\n",
    "        sort_list.append(c28)\n",
    "    else:\n",
    "        sort_list.append(c28)\n",
    "        sort_list.append(b28)\n",
    "elif b28<a28 and b28<c28:\n",
    "    sort_list.append(b28)\n",
    "    if a28<c28:\n",
    "        sort_list.append(a28)\n",
    "        sort_list.append(c28)\n",
    "    else:\n",
    "        sort_list.append(c28)\n",
    "        sort_list.append(a28)\n",
    "else:\n",
    "    sort_list.append(c28)\n",
    "    if a28<b28:\n",
    "        sort_list.append(a28)\n",
    "        sort_list.append(b28)\n",
    "    else:\n",
    "        sort_list.append(b28)\n",
    "        sort_list.append(a28)\n",
    "print(sort_list)"
   ]
  },
  {
   "cell_type": "markdown",
   "id": "dab6bcef-792b-4c35-9b76-9ba31d8d9795",
   "metadata": {},
   "source": [
    "9. Build a program that determines the roots of a quartic equation using numerical methods."
   ]
  },
  {
   "cell_type": "code",
   "execution_count": null,
   "id": "238db612-a3da-4558-bec1-d4db3459c73f",
   "metadata": {},
   "outputs": [],
   "source": []
  },
  {
   "cell_type": "markdown",
   "id": "b8f3ed5f-2e69-4795-87eb-3876837fc61d",
   "metadata": {},
   "source": [
    "30. Write a program that calcultes the BMI (Body Mass Index) and provides health recommendations based\n",
    "on the user's input."
   ]
  },
  {
   "cell_type": "code",
   "execution_count": 20,
   "id": "4d1a70b4-50e7-4e6a-86e8-15db4c56233b",
   "metadata": {},
   "outputs": [
    {
     "name": "stdin",
     "output_type": "stream",
     "text": [
      "Enter weight of the person in kgs 170\n",
      "Enter height of the person in metre 1.3\n"
     ]
    },
    {
     "name": "stdout",
     "output_type": "stream",
     "text": [
      "BMI index is : 100.59171597633136\n",
      "Obese\n",
      "Recommendations: Proper fitness routine needed to be followed and proper diet is advised to avoid further weight gain\n"
     ]
    }
   ],
   "source": [
    "weight= float(input(\"Enter weight of the person in kgs\"))\n",
    "height= float(input(\"Enter height of the person in metre\"))\n",
    "\n",
    "BMI_index= weight/(height*height)\n",
    "print(\"BMI index is :\",BMI_index)\n",
    "\n",
    "if BMI_index <18.5:\n",
    "    print(\"Underweight\")\n",
    "    print(\"Recommendations: Take some protein and increase body weight and mass\")\n",
    "elif BMI_index >=18.5 and BMI_index<25:\n",
    "    print(\"Normal\")\n",
    "    print(\"Recommentations: Keep following the good diet and maintain proper physique\")\n",
    "elif BMI_index>=25 and BMI_index <30:\n",
    "    print(\"Overweight\")\n",
    "    print(\"Recommendations: Daily Exercises required for your body and diet should be keep in check\")\n",
    "elif BMI_index>=30:\n",
    "    print(\"Obese\")\n",
    "    print(\"Recommendations: Proper fitness routine needed to be followed and proper diet is advised to avoid further weight gain\")"
   ]
  },
  {
   "cell_type": "markdown",
   "id": "8ea54e1e-e2f1-4e50-8c92-dfb1e157034a",
   "metadata": {},
   "source": [
    "Challenge Level:\n",
    "\n",
    "31. Create a program that validates a password based on complexity rules (length, characters, etc.)."
   ]
  },
  {
   "cell_type": "code",
   "execution_count": null,
   "id": "85827d9a-873f-46b4-95a4-939c4e201088",
   "metadata": {},
   "outputs": [],
   "source": []
  },
  {
   "cell_type": "markdown",
   "id": "fea20c2e-7713-4d0b-9c28-072d7929f18d",
   "metadata": {},
   "source": [
    "32. Develop a program that performs matrix addition and subtraction based on user input."
   ]
  },
  {
   "cell_type": "code",
   "execution_count": null,
   "id": "d04faeed-339e-44ce-8baa-b6e333a2baf9",
   "metadata": {},
   "outputs": [],
   "source": []
  },
  {
   "cell_type": "markdown",
   "id": "d12171a4-0601-490d-b3a5-da2e119d8369",
   "metadata": {},
   "source": [
    "33. Write a program that calculates the greatest common divisor (GCD) of two numbers using the Euclidean\n",
    "algorithm.\n"
   ]
  },
  {
   "cell_type": "code",
   "execution_count": null,
   "id": "ef531fda-db86-4f71-b2f0-1d063ff37b88",
   "metadata": {},
   "outputs": [],
   "source": []
  },
  {
   "cell_type": "markdown",
   "id": "41dc73b4-a1b8-46e0-b1b9-aef028b8ca1c",
   "metadata": {},
   "source": [
    "34. Build a program that performs matrix multiplication using nested loops and conditional statements."
   ]
  },
  {
   "cell_type": "code",
   "execution_count": null,
   "id": "d009810c-bc7e-4484-ae7d-a77c64cf8bb6",
   "metadata": {},
   "outputs": [],
   "source": []
  },
  {
   "cell_type": "markdown",
   "id": "9c6c37da-eda8-4c96-9b0a-6722991343f8",
   "metadata": {},
   "source": [
    "35. Create a program that simulates a basic text-based tic-tac-toe game against the computer."
   ]
  },
  {
   "cell_type": "code",
   "execution_count": null,
   "id": "144a9f48-b76b-4e29-9197-d5d210b456bb",
   "metadata": {},
   "outputs": [],
   "source": []
  },
  {
   "cell_type": "markdown",
   "id": "977a30ee-879d-41ef-a726-957ae04a3752",
   "metadata": {},
   "source": [
    "36. Write a program that generates Fibonacci numbers up to a specified term using iterative methods."
   ]
  },
  {
   "cell_type": "code",
   "execution_count": null,
   "id": "a3a8d7c3-2661-4dcd-9b88-f82c7e175f90",
   "metadata": {},
   "outputs": [],
   "source": []
  },
  {
   "cell_type": "markdown",
   "id": "8389343f-7a6c-4f7f-957b-046e553db3cc",
   "metadata": {},
   "source": [
    "37. Develop a program that calculates the nth term of the Fibonacci sequence using memoization."
   ]
  },
  {
   "cell_type": "code",
   "execution_count": null,
   "id": "ea47706a-c0dc-406a-88bf-c0c559275532",
   "metadata": {},
   "outputs": [],
   "source": []
  },
  {
   "cell_type": "markdown",
   "id": "52084719-82fc-4d70-8e4e-c4c2661a384c",
   "metadata": {},
   "source": [
    "38. Create a pogram that generates a calendar for a given month and year using conditional statements."
   ]
  },
  {
   "cell_type": "code",
   "execution_count": null,
   "id": "ab8ce7b3-28c3-48d3-b041-e750475fce13",
   "metadata": {},
   "outputs": [],
   "source": []
  },
  {
   "cell_type": "markdown",
   "id": "f6ba134c-39a5-44a0-a30c-982b1428bdea",
   "metadata": {},
   "source": [
    "39. Build a program that simulates a basic text-based blackjack game against the computer."
   ]
  },
  {
   "cell_type": "code",
   "execution_count": null,
   "id": "dd7f66ec-2c0c-4aa7-a85f-6cf22fc4a431",
   "metadata": {},
   "outputs": [],
   "source": []
  },
  {
   "cell_type": "markdown",
   "id": "6d25c763-ef8e-4f41-a7e2-ff823d3b72a1",
   "metadata": {},
   "source": [
    "40. Write a program that generates the prime factors of a given number using trial division."
   ]
  },
  {
   "cell_type": "code",
   "execution_count": null,
   "id": "ed75fea5-d1c5-470e-bf38-329196acf717",
   "metadata": {},
   "outputs": [],
   "source": []
  }
 ],
 "metadata": {
  "kernelspec": {
   "display_name": "Python 3 (ipykernel)",
   "language": "python",
   "name": "python3"
  },
  "language_info": {
   "codemirror_mode": {
    "name": "ipython",
    "version": 3
   },
   "file_extension": ".py",
   "mimetype": "text/x-python",
   "name": "python",
   "nbconvert_exporter": "python",
   "pygments_lexer": "ipython3",
   "version": "3.10.8"
  }
 },
 "nbformat": 4,
 "nbformat_minor": 5
}
